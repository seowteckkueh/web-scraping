{
  "cells": [
    {
      "cell_type": "code",
      "source": [
        "# text-wrap for notebook output\n",
        "from IPython.display import HTML, display\n",
        "\n",
        "def set_css():\n",
        "  display(HTML('''\n",
        "  <style>\n",
        "    pre {\n",
        "        white-space: pre-wrap;\n",
        "    }\n",
        "  </style>\n",
        "  '''))\n",
        "get_ipython().events.register('pre_run_cell', set_css)"
      ],
      "metadata": {
        "id": "Uv59NuNpKLGQ"
      },
      "execution_count": 11,
      "outputs": []
    },
    {
      "cell_type": "markdown",
      "source": [
        "Attempting to scrap the stock listing page of Bursa Market Place (https://www.bursamarketplace.com/mkt/themarket/stock)\n",
        "\n",
        "The table doesn't show up in the response if requesting using the url above\n",
        "\n",
        "From inspect > network tab; found that website made a request to get the updated table from the URL below\n",
        "\n",
        "Example below is for results from page 3 and 4 (pagenum=)\n",
        "\n",
        "Tried getting a response using 2 libraries urllib.request, requests but getting 503 error in response. Searched github and found that the site is protected by CloudFlare.\n",
        "\n",
        "Methods tried to overcome the issue:\n",
        "1. included user-agent info in the header\n",
        "2. tried cloudscraper libary but failed; Detected a Cloudflare version 2 challenge, This feature is not available in the opensource (free) version.\n",
        "\n",
        "Going forward:\n",
        "1. try Selenium? or Scrapy?"
      ],
      "metadata": {
        "id": "QQX60c2psrpq"
      }
    },
    {
      "cell_type": "code",
      "source": [
        "https://www.bursamarketplace.com/index.php?tpl=stock_ajax&type=listing&pagenum=3&sfield=name&stype=asc&midcap=0\n",
        "https://www.bursamarketplace.com/index.php?tpl=stock_ajax&type=listing&pagenum=4&sfield=name&stype=asc&midcap=0"
      ],
      "metadata": {
        "id": "aaloOLxXdnjD"
      },
      "execution_count": null,
      "outputs": []
    },
    {
      "cell_type": "code",
      "source": [
        "# Code version 1 using urllib\n",
        "\n",
        "from urllib.request import urlopen, Request\n",
        "from urllib.error import HTTPError\n",
        "from bs4 import BeautifulSoup\n",
        "\n",
        "def get_page(url,page_num=1):\n",
        "    headers = {'User-Agent': 'Mozilla/5.0 (Windows NT 6.1) AppleWebKit/537.36 (KHTML, like Gecko) Chrome/41.0.2228.0 Safari/537.3'}\n",
        "    try:\n",
        "        req=Request (url=url, headers=headers)\n",
        "        html=urlopen(req)\n",
        "    except HTTPError as e:\n",
        "        print(e)\n",
        "        return None\n",
        "    soup=BeautifulSoup(html,'html.parser')\n",
        "    return soup"
      ],
      "metadata": {
        "id": "sF3Iv6fZsKi3"
      },
      "execution_count": 14,
      "outputs": []
    },
    {
      "cell_type": "code",
      "source": [
        "url=\"https://www.bursamarketplace.com/index.php?tpl=stock_ajax&type=listing&pagenum=1&sfield=name&stype=asc&midcap=0\""
      ],
      "metadata": {
        "id": "2i5f67o7seLb"
      },
      "execution_count": 27,
      "outputs": []
    },
    {
      "cell_type": "code",
      "source": [
        "x=get_page(url)"
      ],
      "metadata": {
        "id": "uo9YDBWRud0j"
      },
      "execution_count": 29,
      "outputs": []
    },
    {
      "cell_type": "code",
      "source": [
        "type(x)"
      ],
      "metadata": {
        "id": "30TFTRea_tCI",
        "outputId": "033bc572-439f-4979-e2b3-2109a3780cae",
        "colab": {
          "base_uri": "https://localhost:8080/"
        }
      },
      "execution_count": 30,
      "outputs": [
        {
          "output_type": "execute_result",
          "data": {
            "text/plain": [
              "bs4.BeautifulSoup"
            ]
          },
          "metadata": {},
          "execution_count": 30
        }
      ]
    },
    {
      "cell_type": "code",
      "source": [
        "# Code version 2 using request\n",
        "\n",
        "import requests\n",
        "from bs4 import BeautifulSoup\n",
        "import re\n",
        "import csv"
      ],
      "metadata": {
        "id": "bR5wU9UVzhsx"
      },
      "execution_count": 1,
      "outputs": []
    },
    {
      "cell_type": "code",
      "source": [
        "def get_page(url):\n",
        "    headers = {'User-Agent': 'Mozilla/5.0 (Windows NT 6.1) AppleWebKit/537.36 (KHTML, like Gecko) Chrome/41.0.2228.0 Safari/537.3'}\n",
        "    response=requests.get(url,headers=headers)\n",
        "\n",
        "    if not response.ok:\n",
        "        print('Server responded:', response.status_code)\n",
        "        pass\n",
        "    else:\n",
        "        soup=BeautifulSoup(response)\n",
        "        return soup\n",
        "\n"
      ],
      "metadata": {
        "id": "qvYqJia-skSz"
      },
      "execution_count": 18,
      "outputs": []
    },
    {
      "cell_type": "code",
      "source": [
        "url=\"https://www.bursamarketplace.com/index.php?tpl=stock_ajax&type=listing&pagenum=1&sfield=name&stype=asc&midcap=0\"\n",
        "get_page(url)"
      ],
      "metadata": {
        "id": "TEJFMGif_iVB",
        "outputId": "1c0ee7d0-5382-4bee-cb74-81e6fccadb3e",
        "colab": {
          "base_uri": "https://localhost:8080/"
        }
      },
      "execution_count": 19,
      "outputs": [
        {
          "output_type": "stream",
          "name": "stdout",
          "text": [
            "Server responded: 503\n"
          ]
        }
      ]
    },
    {
      "cell_type": "code",
      "source": [
        "!pip install cloudscraper"
      ],
      "metadata": {
        "id": "-b1rPs_3_j5t",
        "outputId": "d91d498b-5eef-43fb-fa7b-4cb4559414a6",
        "colab": {
          "base_uri": "https://localhost:8080/"
        }
      },
      "execution_count": 20,
      "outputs": [
        {
          "output_type": "stream",
          "name": "stdout",
          "text": [
            "Collecting cloudscraper\n",
            "  Downloading cloudscraper-1.2.58-py2.py3-none-any.whl (96 kB)\n",
            "\u001b[?25l\r\u001b[K     |███▍                            | 10 kB 24.8 MB/s eta 0:00:01\r\u001b[K     |██████▉                         | 20 kB 26.9 MB/s eta 0:00:01\r\u001b[K     |██████████▏                     | 30 kB 18.3 MB/s eta 0:00:01\r\u001b[K     |█████████████▋                  | 40 kB 15.7 MB/s eta 0:00:01\r\u001b[K     |█████████████████               | 51 kB 5.5 MB/s eta 0:00:01\r\u001b[K     |████████████████████▍           | 61 kB 6.0 MB/s eta 0:00:01\r\u001b[K     |███████████████████████▉        | 71 kB 5.5 MB/s eta 0:00:01\r\u001b[K     |███████████████████████████▎    | 81 kB 6.1 MB/s eta 0:00:01\r\u001b[K     |██████████████████████████████▋ | 92 kB 6.5 MB/s eta 0:00:01\r\u001b[K     |████████████████████████████████| 96 kB 3.0 MB/s \n",
            "\u001b[?25hCollecting requests-toolbelt>=0.9.1\n",
            "  Downloading requests_toolbelt-0.9.1-py2.py3-none-any.whl (54 kB)\n",
            "\u001b[?25l\r\u001b[K     |██████                          | 10 kB 34.0 MB/s eta 0:00:01\r\u001b[K     |████████████                    | 20 kB 34.8 MB/s eta 0:00:01\r\u001b[K     |██████████████████              | 30 kB 40.4 MB/s eta 0:00:01\r\u001b[K     |████████████████████████▏       | 40 kB 28.4 MB/s eta 0:00:01\r\u001b[K     |██████████████████████████████▏ | 51 kB 20.5 MB/s eta 0:00:01\r\u001b[K     |████████████████████████████████| 54 kB 2.1 MB/s \n",
            "\u001b[?25hRequirement already satisfied: requests>=2.9.2 in /usr/local/lib/python3.7/dist-packages (from cloudscraper) (2.23.0)\n",
            "Requirement already satisfied: pyparsing>=2.4.7 in /usr/local/lib/python3.7/dist-packages (from cloudscraper) (3.0.6)\n",
            "Requirement already satisfied: idna<3,>=2.5 in /usr/local/lib/python3.7/dist-packages (from requests>=2.9.2->cloudscraper) (2.10)\n",
            "Requirement already satisfied: chardet<4,>=3.0.2 in /usr/local/lib/python3.7/dist-packages (from requests>=2.9.2->cloudscraper) (3.0.4)\n",
            "Requirement already satisfied: urllib3!=1.25.0,!=1.25.1,<1.26,>=1.21.1 in /usr/local/lib/python3.7/dist-packages (from requests>=2.9.2->cloudscraper) (1.24.3)\n",
            "Requirement already satisfied: certifi>=2017.4.17 in /usr/local/lib/python3.7/dist-packages (from requests>=2.9.2->cloudscraper) (2021.10.8)\n",
            "Installing collected packages: requests-toolbelt, cloudscraper\n",
            "Successfully installed cloudscraper-1.2.58 requests-toolbelt-0.9.1\n"
          ]
        }
      ]
    },
    {
      "cell_type": "code",
      "source": [
        "# Code version 3 using cloudscraper\n",
        "import cloudscraper\n",
        "url=\"https://www.bursamarketplace.com/index.php?tpl=stock_ajax&type=listing&pagenum=1&sfield=name&stype=asc&midcap=0\"\n",
        "\n",
        "scraper=cloudscraper.create_scraper(browser='chrome')\n",
        "html=scraper.get(url)"
      ],
      "metadata": {
        "id": "DIsUuf-sm33g",
        "outputId": "f60430d8-4512-4468-fe3a-4755b77f8a1d",
        "colab": {
          "base_uri": "https://localhost:8080/",
          "height": 333
        }
      },
      "execution_count": 24,
      "outputs": [
        {
          "output_type": "stream",
          "name": "stderr",
          "text": [
            "ERROR:root:Internal Python error in the inspect module.\n",
            "Below is the traceback from this internal error.\n",
            "\n"
          ]
        },
        {
          "output_type": "stream",
          "name": "stdout",
          "text": [
            "Traceback (most recent call last):\n",
            "cloudscraper.exceptions.CloudflareChallengeError: Detected a Cloudflare version 2 challenge, This feature is not available in the opensource (free) version.\n",
            "\n",
            "During handling of the above exception, another exception occurred:\n",
            "\n",
            "Traceback (most recent call last):\n",
            "AttributeError: 'CloudflareChallengeError' object has no attribute '_render_traceback_'\n",
            "\n",
            "During handling of the above exception, another exception occurred:\n",
            "\n",
            "Traceback (most recent call last):\n",
            "AssertionError\n"
          ]
        },
        {
          "output_type": "error",
          "ename": "CloudflareChallengeError",
          "evalue": "ignored",
          "traceback": [
            "\u001b[0;31m---------------------------------------------------------------------------\u001b[0m"
          ]
        }
      ]
    },
    {
      "cell_type": "code",
      "source": [
        "cloudscraper.__version__"
      ],
      "metadata": {
        "id": "VapBVv45nLw9",
        "outputId": "debf58c6-2d27-4615-a191-ad3fa4be59bb",
        "colab": {
          "base_uri": "https://localhost:8080/",
          "height": 35
        }
      },
      "execution_count": 25,
      "outputs": [
        {
          "output_type": "execute_result",
          "data": {
            "application/vnd.google.colaboratory.intrinsic+json": {
              "type": "string"
            },
            "text/plain": [
              "'1.2.58'"
            ]
          },
          "metadata": {},
          "execution_count": 25
        }
      ]
    }
  ],
  "metadata": {
    "language_info": {
      "name": "python"
    },
    "orig_nbformat": 4,
    "colab": {
      "name": "template.ipynb",
      "provenance": []
    },
    "kernelspec": {
      "name": "python3",
      "display_name": "Python 3"
    }
  },
  "nbformat": 4,
  "nbformat_minor": 0
}