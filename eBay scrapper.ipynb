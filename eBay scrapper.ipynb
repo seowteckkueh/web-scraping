{
  "cells": [
    {
      "cell_type": "code",
      "source": [
        "# text-wrap for notebook output\n",
        "from IPython.display import HTML, display\n",
        "\n",
        "def set_css():\n",
        "  display(HTML('''\n",
        "  <style>\n",
        "    pre {\n",
        "        white-space: pre-wrap;\n",
        "    }\n",
        "  </style>\n",
        "  '''))\n",
        "get_ipython().events.register('pre_run_cell', set_css)"
      ],
      "metadata": {
        "id": "8RLlockM2PR0"
      },
      "execution_count": 3,
      "outputs": []
    },
    {
      "cell_type": "code",
      "execution_count": 15,
      "metadata": {
        "id": "stIsHKvdqkBM",
        "outputId": "fdb73d62-7761-4129-f9e9-bbea834464a4",
        "colab": {
          "base_uri": "https://localhost:8080/",
          "height": 51
        }
      },
      "outputs": [
        {
          "output_type": "display_data",
          "data": {
            "text/html": [
              "\n",
              "  <style>\n",
              "    pre {\n",
              "        white-space: pre-wrap;\n",
              "    }\n",
              "  </style>\n",
              "  "
            ],
            "text/plain": [
              "<IPython.core.display.HTML object>"
            ]
          },
          "metadata": {}
        },
        {
          "output_type": "stream",
          "name": "stdout",
          "text": [
            "[<h1 class=\"it-ttl\" id=\"itemTitle\" itemprop=\"name\"><span class=\"g-hdn\">Details about   </span>Harry Potter And The Sorcerer’s Stone Book Rare Great Condition</h1>]\n"
          ]
        }
      ],
      "source": [
        "\"\"\"\n",
        "TODO\n",
        "1. Make a request to the ebay.com and get a page\n",
        "2. collect data from each detail page\n",
        "3. collect all links to details pages of each product\n",
        "4. write scrapped data to a csv file\n",
        "\"\"\"\n",
        "\n",
        "import requests\n",
        "from bs4 import BeautifulSoup\n",
        "\n",
        "def get_page(url):\n",
        "    response=requests.get(url)\n",
        "\n",
        "    if not response.ok:\n",
        "        print('Server responded:', response.status_code)\n",
        "    else:\n",
        "        soup=BeautifulSoup(response.text, 'lxml') #response and lxml parser\n",
        "    return soup\n",
        "\n",
        "def get_detail_data(soup):\n",
        "    # title\n",
        "\n",
        "    # price\n",
        "\n",
        "    # item sold\n",
        "    h1=soup.find_all('h1', id='itemTitle')\n",
        "    print(h1)\n",
        "\n",
        "\n",
        "\n",
        "# manage calls from other functions and collect scrapped data\n",
        "def main():\n",
        "    url=\"https://www.ebay.com/itm/334272448607?hash=item4dd430c85f:g:~K0AAOSw5FlhzNWg\"\n",
        "    get_detail_data(get_page(url))\n",
        "# create entry point for scraper\n",
        "if __name__ == '__main__':\n",
        "    main()"
      ]
    },
    {
      "cell_type": "code",
      "execution_count": null,
      "metadata": {
        "id": "mmixGx_6qkBP"
      },
      "outputs": [],
      "source": [
        ""
      ]
    }
  ],
  "metadata": {
    "language_info": {
      "name": "python"
    },
    "orig_nbformat": 4,
    "colab": {
      "name": "template.ipynb",
      "provenance": []
    },
    "kernelspec": {
      "name": "python3",
      "display_name": "Python 3"
    }
  },
  "nbformat": 4,
  "nbformat_minor": 0
}