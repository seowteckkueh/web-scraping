{
  "cells": [
    {
      "cell_type": "markdown",
      "source": [
        "## **PART 1**\n",
        "#### Building Scrapers\n",
        "#### **CHAPTER 1**\n",
        "#### Your First Web Scraper\n",
        "\n",
        "\n",
        "*   Basics of sending GET request to web server\n",
        "*   Reading HTML output from the page\n",
        "*   Data extraction to isolate content we are looking for\n",
        "\n"
      ],
      "metadata": {
        "id": "wgOwi9sHGzDg"
      }
    },
    {
      "cell_type": "markdown",
      "source": [
        "#### Connecting"
      ],
      "metadata": {
        "id": "KHasbyPaZ966"
      }
    },
    {
      "cell_type": "code",
      "source": [
        "# text-wrap for notebook output\n",
        "from IPython.display import HTML, display\n",
        "\n",
        "def set_css():\n",
        "  display(HTML('''\n",
        "  <style>\n",
        "    pre {\n",
        "        white-space: pre-wrap;\n",
        "    }\n",
        "  </style>\n",
        "  '''))\n",
        "get_ipython().events.register('pre_run_cell', set_css)"
      ],
      "metadata": {
        "id": "xg-qwb0cY5qD"
      },
      "execution_count": 5,
      "outputs": []
    },
    {
      "cell_type": "code",
      "execution_count": 6,
      "metadata": {
        "colab": {
          "base_uri": "https://localhost:8080/",
          "height": 119
        },
        "id": "DCtzBEv9Cd_P",
        "outputId": "c2260de2-f0b6-46cd-a4ad-8953cf984d59"
      },
      "outputs": [
        {
          "output_type": "display_data",
          "data": {
            "text/html": [
              "\n",
              "  <style>\n",
              "    pre {\n",
              "        white-space: pre-wrap;\n",
              "    }\n",
              "  </style>\n",
              "  "
            ],
            "text/plain": [
              "<IPython.core.display.HTML object>"
            ]
          },
          "metadata": {}
        },
        {
          "output_type": "stream",
          "name": "stdout",
          "text": [
            "b'<html>\\n<head>\\n<title>A Useful Page</title>\\n</head>\\n<body>\\n<h1>An Interesting Title</h1>\\n<div>\\nLorem ipsum dolor sit amet, consectetur adipisicing elit, sed do eiusmod tempor incididunt ut labore et dolore magna aliqua. Ut enim ad minim veniam, quis nostrud exercitation ullamco laboris nisi ut aliquip ex ea commodo consequat. Duis aute irure dolor in reprehenderit in voluptate velit esse cillum dolore eu fugiat nulla pariatur. Excepteur sint occaecat cupidatat non proident, sunt in culpa qui officia deserunt mollit anim id est laborum.\\n</div>\\n</body>\\n</html>\\n'\n"
          ]
        }
      ],
      "source": [
        "from urllib.request import urlopen\n",
        "html=urlopen('https://pythonscraping.com/pages/page1.html')\n",
        "print(html.read())"
      ]
    },
    {
      "cell_type": "markdown",
      "source": [
        "#### An Introduction to BeautifulSoup"
      ],
      "metadata": {
        "id": "qFJQXSNkCd_R"
      }
    },
    {
      "cell_type": "markdown",
      "source": [
        "*  from request module from urllib library import urlopen\n",
        "*  Get HTML content by calling html.read()\n",
        "*  Transform HTML content to BeautifulSoup object"
      ],
      "metadata": {
        "id": "wAspotMNg8Db"
      }
    },
    {
      "cell_type": "code",
      "source": [
        "from urllib.request import urlopen\n",
        "from bs4 import BeautifulSoup\n",
        "html=urlopen(\"http://www.pythonscraping.com/pages/page1.html\")\n",
        "bsObj=BeautifulSoup(html.read())\n",
        "print(bsObj.h1)\n",
        "\n",
        "# query below also creates the same output\n",
        "'''\n",
        "bsObj.html.body.h1\n",
        "bsObj.body.h1\n",
        "bsObj.html.h1\n",
        "'''"
      ],
      "metadata": {
        "colab": {
          "base_uri": "https://localhost:8080/",
          "height": 34
        },
        "id": "ldu2ZxOnaTRy",
        "outputId": "e9d40fa5-0775-400a-826d-ebfc690e9c01"
      },
      "execution_count": 9,
      "outputs": [
        {
          "output_type": "display_data",
          "data": {
            "text/html": [
              "\n",
              "  <style>\n",
              "    pre {\n",
              "        white-space: pre-wrap;\n",
              "    }\n",
              "  </style>\n",
              "  "
            ],
            "text/plain": [
              "<IPython.core.display.HTML object>"
            ]
          },
          "metadata": {}
        },
        {
          "output_type": "stream",
          "name": "stdout",
          "text": [
            "<h1>An Interesting Title</h1>\n"
          ]
        }
      ]
    },
    {
      "cell_type": "code",
      "source": [
        "print(bsObj)"
      ],
      "metadata": {
        "colab": {
          "base_uri": "https://localhost:8080/",
          "height": 289
        },
        "id": "kQG5zLUiglG4",
        "outputId": "ee3edc4e-2283-4326-cf8d-9203c7172b4c"
      },
      "execution_count": 10,
      "outputs": [
        {
          "output_type": "display_data",
          "data": {
            "text/html": [
              "\n",
              "  <style>\n",
              "    pre {\n",
              "        white-space: pre-wrap;\n",
              "    }\n",
              "  </style>\n",
              "  "
            ],
            "text/plain": [
              "<IPython.core.display.HTML object>"
            ]
          },
          "metadata": {}
        },
        {
          "output_type": "stream",
          "name": "stdout",
          "text": [
            "<html>\n",
            "<head>\n",
            "<title>A Useful Page</title>\n",
            "</head>\n",
            "<body>\n",
            "<h1>An Interesting Title</h1>\n",
            "<div>\n",
            "Lorem ipsum dolor sit amet, consectetur adipisicing elit, sed do eiusmod tempor incididunt ut labore et dolore magna aliqua. Ut enim ad minim veniam, quis nostrud exercitation ullamco laboris nisi ut aliquip ex ea commodo consequat. Duis aute irure dolor in reprehenderit in voluptate velit esse cillum dolore eu fugiat nulla pariatur. Excepteur sint occaecat cupidatat non proident, sunt in culpa qui officia deserunt mollit anim id est laborum.\n",
            "</div>\n",
            "</body>\n",
            "</html>\n",
            "\n"
          ]
        }
      ]
    },
    {
      "cell_type": "markdown",
      "source": [
        "#### Connecting Reliably\n",
        "*  prevent code execution from stopping unexpectedly\n",
        "*  make sure page can be found\n",
        "*  server can be found"
      ],
      "metadata": {
        "id": "Dx0lxEVDhta_"
      }
    },
    {
      "cell_type": "code",
      "source": [
        "# handle page not found, print out HTTP error\n",
        "from urllib.request import urlopen\n",
        "from urllib.error import HTTPError\n",
        "try:\n",
        "    html=urlopen('http://www.pythonscraping.com/pages/NO_SUCH_PAGE.html')\n",
        "except HTTPError as e:\n",
        "    print(e)"
      ],
      "metadata": {
        "colab": {
          "base_uri": "https://localhost:8080/"
        },
        "id": "h0KzLyN_LOCP",
        "outputId": "549d3edb-946d-440c-c89c-d520a2399d07"
      },
      "execution_count": 5,
      "outputs": [
        {
          "output_type": "stream",
          "name": "stdout",
          "text": [
            "HTTP Error 404: Not Found\n"
          ]
        }
      ]
    },
    {
      "cell_type": "code",
      "source": [
        "# handle site not found\n",
        "if html is None:\n",
        "    print('URL is not found')\n",
        "else:\n",
        "    # program continues"
      ],
      "metadata": {
        "id": "D2kkQb1kLfpL"
      },
      "execution_count": null,
      "outputs": []
    },
    {
      "cell_type": "code",
      "source": [
        "# handle non existing tag\n",
        "'''\n",
        "if AttributeError is returned means nonExistingTag doesn't have this tag OR \n",
        "nonExistingTag is a None object\n",
        "''' \n",
        "try:\n",
        "    badContent=bsObj.nonExistingTag.anotherTag\n",
        "except AttributeError as e:\n",
        "    print('Tag was not found')\n",
        "else:\n",
        "    if badContent==None:\n",
        "        print('Tag was not found')\n",
        "    else:\n",
        "        print(badContent)"
      ],
      "metadata": {
        "id": "RgLLgHv3NoVT"
      },
      "execution_count": null,
      "outputs": []
    },
    {
      "cell_type": "code",
      "source": [
        "# Comprehensive query which takes in Exceptions into account\n",
        "\n",
        "from urllib.request import urlopen\n",
        "from urllib.error import HTTPError\n",
        "from bs4 import BeautifulSoup\n",
        "def getTitle(url):\n",
        "    try:\n",
        "        html=urlopen(url)\n",
        "    except HTTPError as e:\n",
        "        return None\n",
        "    try:\n",
        "        bsObj=BeautifulSoup(html.read())\n",
        "        title=bsObj.body.h1\n",
        "    except AttributeError as e:\n",
        "        return None\n",
        "    return title\n",
        "title=getTitle(\"http://www.pythonscraping.com/pages/page1.html\")\n",
        "if title == None:\n",
        "    print(\"Title could not be found\")\n",
        "else:\n",
        "    print(title)\n"
      ],
      "metadata": {
        "colab": {
          "base_uri": "https://localhost:8080/"
        },
        "id": "MnyiRITmYEim",
        "outputId": "a937e7ac-4c11-434f-c59c-25307bbc7845"
      },
      "execution_count": 28,
      "outputs": [
        {
          "output_type": "stream",
          "name": "stdout",
          "text": [
            "<h1>An Interesting Title</h1>\n"
          ]
        }
      ]
    },
    {
      "cell_type": "markdown",
      "source": [
        "#### **CHAPTER 2**\n",
        "#### Advanced HTML Parsing"
      ],
      "metadata": {
        "id": "sFGA3A4ObOwA"
      }
    },
    {
      "cell_type": "markdown",
      "source": [
        "#### Things to avoid\n",
        "*  What if targe content is buried 20 tags deep in HTML?  \n",
        "*  Avoid writing very specific which might break with the slightest change to the website  \n",
        "*  What are the options?  \n",
        "    * Look for \"print this page\" link/ mobile version of the site\n",
        "    * Look for hidden info in JavaScript file\n",
        "    * info might be available in URL itself\n",
        "    * look for alternate sources\n"
      ],
      "metadata": {
        "id": "J2hoOXaYe-7m"
      }
    },
    {
      "cell_type": "code",
      "source": [
        "from urllib.request import urlopen\n",
        "from bs4 import BeautifulSoup\n",
        "html=urlopen(\"http://www.pythonscraping.com/pages/warandpeace.html\")\n",
        "bsObj=BeautifulSoup(html)"
      ],
      "metadata": {
        "id": "ApFB3wA7kzWp"
      },
      "execution_count": 19,
      "outputs": []
    },
    {
      "cell_type": "code",
      "source": [
        "# findAll to find all the span tags with class='green'\n",
        "# get_text() to get the text portion of the tag\n",
        "nameList=bsObj.findAll(\"span\",{\"class\":\"green\"})\n",
        "for name in nameList:\n",
        "    print(name.get_text())"
      ],
      "metadata": {
        "id": "2FPtPqg2002h",
        "outputId": "ec6d3e7d-6288-4964-fb47-6a3578306f2b",
        "colab": {
          "base_uri": "https://localhost:8080/"
        }
      },
      "execution_count": 27,
      "outputs": [
        {
          "output_type": "stream",
          "name": "stdout",
          "text": [
            "Anna\n",
            "Pavlovna Scherer\n",
            "Empress Marya\n",
            "Fedorovna\n",
            "Prince Vasili Kuragin\n",
            "Anna Pavlovna\n",
            "St. Petersburg\n",
            "the prince\n",
            "Anna Pavlovna\n",
            "Anna Pavlovna\n",
            "the prince\n",
            "the prince\n",
            "the prince\n",
            "Prince Vasili\n",
            "Anna Pavlovna\n",
            "Anna Pavlovna\n",
            "the prince\n",
            "Wintzingerode\n",
            "King of Prussia\n",
            "le Vicomte de Mortemart\n",
            "Montmorencys\n",
            "Rohans\n",
            "Abbe Morio\n",
            "the Emperor\n",
            "the prince\n",
            "Prince Vasili\n",
            "Dowager Empress Marya Fedorovna\n",
            "the baron\n",
            "Anna Pavlovna\n",
            "the Empress\n",
            "the Empress\n",
            "Anna Pavlovna's\n",
            "Her Majesty\n",
            "Baron\n",
            "Funke\n",
            "The prince\n",
            "Anna\n",
            "Pavlovna\n",
            "the Empress\n",
            "The prince\n",
            "Anatole\n",
            "the prince\n",
            "The prince\n",
            "Anna\n",
            "Pavlovna\n",
            "Anna Pavlovna\n"
          ]
        }
      ]
    },
    {
      "cell_type": "markdown",
      "source": [
        "#### find () and findAll()\n",
        "*  findAll(tag, attributes, recursive, text, limit, keywords)  \n",
        "*  find(tag, attributes, recursive, text, keywords)\n",
        "*  tag: tag name\n",
        "*  attribute: attribute of the tag\n",
        "*  recursivee: boolean; True=look into chilcren and children's children, if False=look into top-level tags\n",
        "*  text: match based on text content of the tags\n",
        "*  limit: only for findAlll(); gives the first items on the page in order that they occur\n",
        "*  keyword: select tag that contains particular attribute\n",
        "* Note: attribute list is an 'or' filter whilst keyword is an 'and' filter"
      ],
      "metadata": {
        "id": "bAjkNWQx8h_0"
      }
    },
    {
      "cell_type": "code",
      "source": [
        "# use of keyword\n",
        "# this will give nonstandard use of class error because class is a protected keyword\n",
        "bsObj.findAll(class='green') \n",
        "\n",
        "# instead use underscore\n",
        "bsObj.findAll(class_='green')\n",
        "\n",
        "# alternatively\n",
        "bsObj.findAll(\"\",{\"class\":\"green\"})"
      ],
      "metadata": {
        "id": "zm6BHPzW1SKi"
      },
      "execution_count": null,
      "outputs": []
    },
    {
      "cell_type": "markdown",
      "source": [
        "#### Other BeautifulSoup Objects\n",
        "*  BeautifulSoup objects: bsObj\n",
        "*  Tag objects: retrieve through find/findAll\n",
        "*  NavigableString objects: represent text withing tags\n",
        "*  Comment object: HTML comments"
      ],
      "metadata": {
        "id": "ukraWoCSKCq1"
      }
    },
    {
      "cell_type": "markdown",
      "source": [
        "#### Navigating Trees\n",
        "* findAll find tags based on their name and attribute\n",
        "* how to find tag based on their location in the document? Use tree navigation\n",
        "\n",
        "#### Dealing with children and other descendants\n",
        "* Children: one tag below a parent\n",
        "* Decendants: any level in the tree below a parent\n",
        "* findAll() finds descendant\n",
        "* .children finds children\n"
      ],
      "metadata": {
        "id": "lBYkfAZJKeSY"
      }
    },
    {
      "cell_type": "code",
      "source": [
        "from urllib.request import urlopen\n",
        "from bs4 import BeautifulSoup\n",
        "html=urlopen(\"http://www.pythonscraping.com/pages/page3.html\")\n",
        "bsObj=BeautifulSoup(html)\n",
        "\n",
        "for child in bsObj.find(\"table\",{\"id\":\"giftList\"}).children:\n",
        "    print(child)"
      ],
      "metadata": {
        "id": "-yqZX7KhMad_",
        "outputId": "5bf73538-29a0-4e31-e0ec-3d71342ec891",
        "colab": {
          "base_uri": "https://localhost:8080/"
        }
      },
      "execution_count": 32,
      "outputs": [
        {
          "output_type": "stream",
          "name": "stdout",
          "text": [
            "\n",
            "\n",
            "<tr><th>\n",
            "Item Title\n",
            "</th><th>\n",
            "Description\n",
            "</th><th>\n",
            "Cost\n",
            "</th><th>\n",
            "Image\n",
            "</th></tr>\n",
            "\n",
            "\n",
            "<tr class=\"gift\" id=\"gift1\"><td>\n",
            "Vegetable Basket\n",
            "</td><td>\n",
            "This vegetable basket is the perfect gift for your health conscious (or overweight) friends!\n",
            "<span class=\"excitingNote\">Now with super-colorful bell peppers!</span>\n",
            "</td><td>\n",
            "$15.00\n",
            "</td><td>\n",
            "<img src=\"../img/gifts/img1.jpg\"/>\n",
            "</td></tr>\n",
            "\n",
            "\n",
            "<tr class=\"gift\" id=\"gift2\"><td>\n",
            "Russian Nesting Dolls\n",
            "</td><td>\n",
            "Hand-painted by trained monkeys, these exquisite dolls are priceless! And by \"priceless,\" we mean \"extremely expensive\"! <span class=\"excitingNote\">8 entire dolls per set! Octuple the presents!</span>\n",
            "</td><td>\n",
            "$10,000.52\n",
            "</td><td>\n",
            "<img src=\"../img/gifts/img2.jpg\"/>\n",
            "</td></tr>\n",
            "\n",
            "\n",
            "<tr class=\"gift\" id=\"gift3\"><td>\n",
            "Fish Painting\n",
            "</td><td>\n",
            "If something seems fishy about this painting, it's because it's a fish! <span class=\"excitingNote\">Also hand-painted by trained monkeys!</span>\n",
            "</td><td>\n",
            "$10,005.00\n",
            "</td><td>\n",
            "<img src=\"../img/gifts/img3.jpg\"/>\n",
            "</td></tr>\n",
            "\n",
            "\n",
            "<tr class=\"gift\" id=\"gift4\"><td>\n",
            "Dead Parrot\n",
            "</td><td>\n",
            "This is an ex-parrot! <span class=\"excitingNote\">Or maybe he's only resting?</span>\n",
            "</td><td>\n",
            "$0.50\n",
            "</td><td>\n",
            "<img src=\"../img/gifts/img4.jpg\"/>\n",
            "</td></tr>\n",
            "\n",
            "\n",
            "<tr class=\"gift\" id=\"gift5\"><td>\n",
            "Mystery Box\n",
            "</td><td>\n",
            "If you love suprises, this mystery box is for you! Do not place on light-colored surfaces. May cause oil staining. <span class=\"excitingNote\">Keep your friends guessing!</span>\n",
            "</td><td>\n",
            "$1.50\n",
            "</td><td>\n",
            "<img src=\"../img/gifts/img6.jpg\"/>\n",
            "</td></tr>\n",
            "\n",
            "\n"
          ]
        }
      ]
    },
    {
      "cell_type": "markdown",
      "source": [
        "#### Dealing with siblings\n",
        "* use next_sibling to get the next object\n",
        "* previous_sibling is the opposite of next_sibling"
      ],
      "metadata": {
        "id": "d5nz-qHbScIo"
      }
    },
    {
      "cell_type": "code",
      "source": [
        "from urllib.request import urlopen\n",
        "from bs4 import BeautifulSoup\n",
        "html=urlopen(\"http://www.pythonscraping.com/pages/page3.html\")\n",
        "bsObj=BeautifulSoup(html)\n",
        "\n",
        "for sibling in bsObj.find(\"table\",{\"id\":\"giftList\"}).tr.next_siblings:\n",
        "    print(sibling)"
      ],
      "metadata": {
        "id": "HaKphCt0TNOp",
        "outputId": "8296c3af-ea5c-4a76-f8fb-db8b025c6386",
        "colab": {
          "base_uri": "https://localhost:8080/"
        }
      },
      "execution_count": 36,
      "outputs": [
        {
          "output_type": "stream",
          "name": "stdout",
          "text": [
            "\n",
            "\n",
            "<tr class=\"gift\" id=\"gift1\"><td>\n",
            "Vegetable Basket\n",
            "</td><td>\n",
            "This vegetable basket is the perfect gift for your health conscious (or overweight) friends!\n",
            "<span class=\"excitingNote\">Now with super-colorful bell peppers!</span>\n",
            "</td><td>\n",
            "$15.00\n",
            "</td><td>\n",
            "<img src=\"../img/gifts/img1.jpg\"/>\n",
            "</td></tr>\n",
            "\n",
            "\n",
            "<tr class=\"gift\" id=\"gift2\"><td>\n",
            "Russian Nesting Dolls\n",
            "</td><td>\n",
            "Hand-painted by trained monkeys, these exquisite dolls are priceless! And by \"priceless,\" we mean \"extremely expensive\"! <span class=\"excitingNote\">8 entire dolls per set! Octuple the presents!</span>\n",
            "</td><td>\n",
            "$10,000.52\n",
            "</td><td>\n",
            "<img src=\"../img/gifts/img2.jpg\"/>\n",
            "</td></tr>\n",
            "\n",
            "\n",
            "<tr class=\"gift\" id=\"gift3\"><td>\n",
            "Fish Painting\n",
            "</td><td>\n",
            "If something seems fishy about this painting, it's because it's a fish! <span class=\"excitingNote\">Also hand-painted by trained monkeys!</span>\n",
            "</td><td>\n",
            "$10,005.00\n",
            "</td><td>\n",
            "<img src=\"../img/gifts/img3.jpg\"/>\n",
            "</td></tr>\n",
            "\n",
            "\n",
            "<tr class=\"gift\" id=\"gift4\"><td>\n",
            "Dead Parrot\n",
            "</td><td>\n",
            "This is an ex-parrot! <span class=\"excitingNote\">Or maybe he's only resting?</span>\n",
            "</td><td>\n",
            "$0.50\n",
            "</td><td>\n",
            "<img src=\"../img/gifts/img4.jpg\"/>\n",
            "</td></tr>\n",
            "\n",
            "\n",
            "<tr class=\"gift\" id=\"gift5\"><td>\n",
            "Mystery Box\n",
            "</td><td>\n",
            "If you love suprises, this mystery box is for you! Do not place on light-colored surfaces. May cause oil staining. <span class=\"excitingNote\">Keep your friends guessing!</span>\n",
            "</td><td>\n",
            "$1.50\n",
            "</td><td>\n",
            "<img src=\"../img/gifts/img6.jpg\"/>\n",
            "</td></tr>\n",
            "\n",
            "\n"
          ]
        }
      ]
    },
    {
      "cell_type": "markdown",
      "source": [
        "#### Dealing with your parents\n",
        "* parent-finding functions :\n",
        "    * .parent\n",
        "    * .parents"
      ],
      "metadata": {
        "id": "wJ9p9YS9T1t2"
      }
    },
    {
      "cell_type": "code",
      "source": [
        "from urllib.request import urlopen\n",
        "from bs4 import BeautifulSoup\n",
        "\n",
        "html=urlopen(\"http://www.pythonscraping.com/pages/page3.html\")\n",
        "bsObj=BeautifulSoup(html)\n",
        "print(bsObj.find(\"img\",{\"src\":\"../img/gifts/img1.jpg\"\n",
        "                       }).parent.previous_sibling.get_text())"
      ],
      "metadata": {
        "id": "mmTTE19CVrEi",
        "outputId": "cb0a9f24-57c1-4418-e307-993610902d6f",
        "colab": {
          "base_uri": "https://localhost:8080/"
        }
      },
      "execution_count": 40,
      "outputs": [
        {
          "output_type": "stream",
          "name": "stdout",
          "text": [
            "\n",
            "$15.00\n",
            "\n"
          ]
        }
      ]
    },
    {
      "cell_type": "markdown",
      "source": [
        "Explanation for query above:\n",
        "1. image tag where src=\"../img/gifts/img1.jpg\" is selected\n",
        "2. parent of that image tag; td\n",
        "3. previous_sibling of the parent td tag\n",
        "4. get_text() on the sibling td tag"
      ],
      "metadata": {
        "id": "pKbNMGDlWxz4"
      }
    },
    {
      "cell_type": "markdown",
      "source": [
        "![image.png](data:image/png;base64,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)"
      ],
      "metadata": {
        "id": "nQOykjUnWDVe"
      }
    },
    {
      "cell_type": "markdown",
      "source": [
        "#### Regular expression (REGEX)\n",
        "Examples below:\n",
        "* aa* : a then a* (any number of a including 0)\n",
        "* bbbb : five b's in a row\n",
        "* (cc)* : any number of pairs of c's, including 0\n",
        "* (d|): d or a space\n",
        "\n",
        "\n",
        "Identifying email address: \n",
        "* Rule 1:  \n",
        "    * First part contains at leas one of the following:\n",
        "        * uppercase letters\n",
        "        * lowercase letters\n",
        "        * numbers 0-9\n",
        "        * periods (.)\n",
        "        * plus signs (+)\n",
        "        * underscores (_)  \n",
        "\n",
        "    * REGEX: [A-Za-z0-9\\._+]+\n",
        "\n",
        "* Rule 2:\n",
        "    * contains @\n",
        "    * REGEX: @\n",
        "\n",
        "* Rule 3:\n",
        "    * contains at least one uppercase and lowercase letter\n",
        "    * REGEX: [A-Za-z]+\n",
        "* Rule 4:\n",
        "    * followed by a period (.)\n",
        "    * REGEX: \\.\n",
        "* Rule 5:\n",
        "    * Ends with:\n",
        "        * .com\n",
        "        * .org\n",
        "        * .edu\n",
        "        * .net\n",
        "    * REGEX: (com|org|edu|net)\n",
        "\n",
        "\n",
        "Concatenating all rules:\n",
        "[A-Za-z0-9\\._+\\]+@[A-Za-z]+\\.(com|org|edu|net)"
      ],
      "metadata": {
        "id": "S7RkIh7QWmkp"
      }
    },
    {
      "cell_type": "markdown",
      "source": [
        "#### Regular Expression and BeautifulSoup\n"
      ],
      "metadata": {
        "id": "1ooG79sriITC"
      }
    },
    {
      "cell_type": "code",
      "source": [
        "from urllib.request import urlopen\n",
        "from bs4 import BeautifulSoup\n",
        "import re\n",
        "\n",
        "html=urlopen(\"http://www.pythonscraping.com/pages/page3.html\")\n",
        "bsObj=BeautifulSoup(html)\n",
        "images=bsObj.findAll(\"img\",{\"src\":re.compile(\"\\.\\./img\\/gifts/img.*\\.jpg\")})\n",
        "for image in images:\n",
        "    print(image[\"src\"])"
      ],
      "metadata": {
        "id": "blqeHIXJl_xv",
        "outputId": "345c821a-506c-4378-ef70-0e182a1cab91",
        "colab": {
          "base_uri": "https://localhost:8080/"
        }
      },
      "execution_count": 43,
      "outputs": [
        {
          "output_type": "stream",
          "name": "stdout",
          "text": [
            "../img/gifts/img1.jpg\n",
            "../img/gifts/img2.jpg\n",
            "../img/gifts/img3.jpg\n",
            "../img/gifts/img4.jpg\n",
            "../img/gifts/img6.jpg\n"
          ]
        }
      ]
    },
    {
      "cell_type": "markdown",
      "source": [
        "#### Accessing Attributes\n",
        "* to get attribute of a tag: myTag.attrs\n",
        "* Example:\n",
        "to get the source location for an image\n",
        "myImgTag.attrs\n",
        "\n",
        "#### Lambda Expressions\n",
        "* BeautifulSoup allows certain types of functions to be pass as parameters into findAll function\n",
        "* Example:  \n",
        "soup.findAll(lambda tag: len(tag.attrs) == 2)\n",
        "* Explanation: \n",
        "find all tags that have 2 attributes\n",
        "\n",
        "#### Beyond Beautifulsoup\n",
        "There are other libraries other than BS: \n",
        "* lxml\n",
        "* HTML Parser\n"
      ],
      "metadata": {
        "id": "tFr-66M2rKV4"
      }
    }
  ],
  "metadata": {
    "language_info": {
      "name": "python"
    },
    "orig_nbformat": 4,
    "colab": {
      "name": "web scraping.ipynb",
      "provenance": []
    },
    "kernelspec": {
      "name": "python3",
      "display_name": "Python 3"
    }
  },
  "nbformat": 4,
  "nbformat_minor": 0
}