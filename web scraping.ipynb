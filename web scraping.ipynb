{
  "cells": [
    {
      "cell_type": "markdown",
      "source": [
        "## **PART 1**\n",
        "#### Building Scrapers\n",
        "#### **CHAPTER 1**\n",
        "#### Your First Web Scraper\n",
        "\n",
        "\n",
        "*   Basics of sending GET request to web server\n",
        "*   Reading HTML output from the page\n",
        "*   Data extraction to isolate content we are looking for\n",
        "\n"
      ],
      "metadata": {
        "id": "wgOwi9sHGzDg"
      }
    },
    {
      "cell_type": "markdown",
      "source": [
        "#### Connecting"
      ],
      "metadata": {
        "id": "KHasbyPaZ966"
      }
    },
    {
      "cell_type": "code",
      "source": [
        "# text-wrap for notebook output\n",
        "from IPython.display import HTML, display\n",
        "\n",
        "def set_css():\n",
        "  display(HTML('''\n",
        "  <style>\n",
        "    pre {\n",
        "        white-space: pre-wrap;\n",
        "    }\n",
        "  </style>\n",
        "  '''))\n",
        "get_ipython().events.register('pre_run_cell', set_css)"
      ],
      "metadata": {
        "id": "xg-qwb0cY5qD"
      },
      "execution_count": null,
      "outputs": []
    },
    {
      "cell_type": "code",
      "execution_count": null,
      "metadata": {
        "colab": {
          "base_uri": "https://localhost:8080/",
          "height": 119
        },
        "id": "DCtzBEv9Cd_P",
        "outputId": "c2260de2-f0b6-46cd-a4ad-8953cf984d59"
      },
      "outputs": [
        {
          "output_type": "display_data",
          "data": {
            "text/html": [
              "\n",
              "  <style>\n",
              "    pre {\n",
              "        white-space: pre-wrap;\n",
              "    }\n",
              "  </style>\n",
              "  "
            ],
            "text/plain": [
              "<IPython.core.display.HTML object>"
            ]
          },
          "metadata": {}
        },
        {
          "output_type": "stream",
          "name": "stdout",
          "text": [
            "b'<html>\\n<head>\\n<title>A Useful Page</title>\\n</head>\\n<body>\\n<h1>An Interesting Title</h1>\\n<div>\\nLorem ipsum dolor sit amet, consectetur adipisicing elit, sed do eiusmod tempor incididunt ut labore et dolore magna aliqua. Ut enim ad minim veniam, quis nostrud exercitation ullamco laboris nisi ut aliquip ex ea commodo consequat. Duis aute irure dolor in reprehenderit in voluptate velit esse cillum dolore eu fugiat nulla pariatur. Excepteur sint occaecat cupidatat non proident, sunt in culpa qui officia deserunt mollit anim id est laborum.\\n</div>\\n</body>\\n</html>\\n'\n"
          ]
        }
      ],
      "source": [
        "from urllib.request import urlopen\n",
        "html=urlopen('https://pythonscraping.com/pages/page1.html')\n",
        "print(html.read())"
      ]
    },
    {
      "cell_type": "markdown",
      "source": [
        "#### An Introduction to BeautifulSoup"
      ],
      "metadata": {
        "id": "qFJQXSNkCd_R"
      }
    },
    {
      "cell_type": "markdown",
      "source": [
        "*  from request module from urllib library import urlopen\n",
        "*  Get HTML content by calling html.read()\n",
        "*  Transform HTML content to BeautifulSoup object"
      ],
      "metadata": {
        "id": "wAspotMNg8Db"
      }
    },
    {
      "cell_type": "code",
      "source": [
        "from urllib.request import urlopen\n",
        "from bs4 import BeautifulSoup\n",
        "html=urlopen(\"http://www.pythonscraping.com/pages/page1.html\")\n",
        "bsObj=BeautifulSoup(html.read())\n",
        "print(bsObj.h1)\n",
        "\n",
        "# query below also creates the same output\n",
        "'''\n",
        "bsObj.html.body.h1\n",
        "bsObj.body.h1\n",
        "bsObj.html.h1\n",
        "'''"
      ],
      "metadata": {
        "colab": {
          "base_uri": "https://localhost:8080/",
          "height": 34
        },
        "id": "ldu2ZxOnaTRy",
        "outputId": "e9d40fa5-0775-400a-826d-ebfc690e9c01"
      },
      "execution_count": null,
      "outputs": [
        {
          "output_type": "display_data",
          "data": {
            "text/html": [
              "\n",
              "  <style>\n",
              "    pre {\n",
              "        white-space: pre-wrap;\n",
              "    }\n",
              "  </style>\n",
              "  "
            ],
            "text/plain": [
              "<IPython.core.display.HTML object>"
            ]
          },
          "metadata": {}
        },
        {
          "output_type": "stream",
          "name": "stdout",
          "text": [
            "<h1>An Interesting Title</h1>\n"
          ]
        }
      ]
    },
    {
      "cell_type": "code",
      "source": [
        "print(bsObj)"
      ],
      "metadata": {
        "colab": {
          "base_uri": "https://localhost:8080/",
          "height": 289
        },
        "id": "kQG5zLUiglG4",
        "outputId": "ee3edc4e-2283-4326-cf8d-9203c7172b4c"
      },
      "execution_count": null,
      "outputs": [
        {
          "output_type": "display_data",
          "data": {
            "text/html": [
              "\n",
              "  <style>\n",
              "    pre {\n",
              "        white-space: pre-wrap;\n",
              "    }\n",
              "  </style>\n",
              "  "
            ],
            "text/plain": [
              "<IPython.core.display.HTML object>"
            ]
          },
          "metadata": {}
        },
        {
          "output_type": "stream",
          "name": "stdout",
          "text": [
            "<html>\n",
            "<head>\n",
            "<title>A Useful Page</title>\n",
            "</head>\n",
            "<body>\n",
            "<h1>An Interesting Title</h1>\n",
            "<div>\n",
            "Lorem ipsum dolor sit amet, consectetur adipisicing elit, sed do eiusmod tempor incididunt ut labore et dolore magna aliqua. Ut enim ad minim veniam, quis nostrud exercitation ullamco laboris nisi ut aliquip ex ea commodo consequat. Duis aute irure dolor in reprehenderit in voluptate velit esse cillum dolore eu fugiat nulla pariatur. Excepteur sint occaecat cupidatat non proident, sunt in culpa qui officia deserunt mollit anim id est laborum.\n",
            "</div>\n",
            "</body>\n",
            "</html>\n",
            "\n"
          ]
        }
      ]
    },
    {
      "cell_type": "markdown",
      "source": [
        "#### Connecting Reliably\n",
        "*  prevent code execution from stopping unexpectedly\n",
        "*  make sure page can be found\n",
        "*  server can be found"
      ],
      "metadata": {
        "id": "Dx0lxEVDhta_"
      }
    },
    {
      "cell_type": "code",
      "source": [
        "# handle page not found, print out HTTP error\n",
        "from urllib.request import urlopen\n",
        "from urllib.error import HTTPError\n",
        "try:\n",
        "    html=urlopen('http://www.pythonscraping.com/pages/NO_SUCH_PAGE.html')\n",
        "except HTTPError as e:\n",
        "    print(e)"
      ],
      "metadata": {
        "colab": {
          "base_uri": "https://localhost:8080/"
        },
        "id": "h0KzLyN_LOCP",
        "outputId": "549d3edb-946d-440c-c89c-d520a2399d07"
      },
      "execution_count": null,
      "outputs": [
        {
          "output_type": "stream",
          "name": "stdout",
          "text": [
            "HTTP Error 404: Not Found\n"
          ]
        }
      ]
    },
    {
      "cell_type": "code",
      "source": [
        "# handle site not found\n",
        "if html is None:\n",
        "    print('URL is not found')\n",
        "else:\n",
        "    # program continues"
      ],
      "metadata": {
        "id": "D2kkQb1kLfpL"
      },
      "execution_count": null,
      "outputs": []
    },
    {
      "cell_type": "code",
      "source": [
        "# handle non existing tag\n",
        "'''\n",
        "if AttributeError is returned means nonExistingTag doesn't have this tag OR \n",
        "nonExistingTag is a None object\n",
        "''' \n",
        "try:\n",
        "    badContent=bsObj.nonExistingTag.anotherTag\n",
        "except AttributeError as e:\n",
        "    print('Tag was not found')\n",
        "else:\n",
        "    if badContent==None:\n",
        "        print('Tag was not found')\n",
        "    else:\n",
        "        print(badContent)"
      ],
      "metadata": {
        "id": "RgLLgHv3NoVT"
      },
      "execution_count": null,
      "outputs": []
    },
    {
      "cell_type": "code",
      "source": [
        "# Comprehensive query which takes in Exceptions into account\n",
        "\n",
        "from urllib.request import urlopen\n",
        "from urllib.error import HTTPError\n",
        "from bs4 import BeautifulSoup\n",
        "def getTitle(url):\n",
        "    try:\n",
        "        html=urlopen(url)\n",
        "    except HTTPError as e:\n",
        "        return None\n",
        "    try:\n",
        "        bsObj=BeautifulSoup(html.read())\n",
        "        title=bsObj.body.h1\n",
        "    except AttributeError as e:\n",
        "        return None\n",
        "    return title\n",
        "title=getTitle(\"http://www.pythonscraping.com/pages/page1.html\")\n",
        "if title == None:\n",
        "    print(\"Title could not be found\")\n",
        "else:\n",
        "    print(title)\n"
      ],
      "metadata": {
        "colab": {
          "base_uri": "https://localhost:8080/"
        },
        "id": "MnyiRITmYEim",
        "outputId": "a937e7ac-4c11-434f-c59c-25307bbc7845"
      },
      "execution_count": null,
      "outputs": [
        {
          "output_type": "stream",
          "name": "stdout",
          "text": [
            "<h1>An Interesting Title</h1>\n"
          ]
        }
      ]
    },
    {
      "cell_type": "markdown",
      "source": [
        "#### **CHAPTER 2**\n",
        "#### Advanced HTML Parsing"
      ],
      "metadata": {
        "id": "sFGA3A4ObOwA"
      }
    },
    {
      "cell_type": "markdown",
      "source": [
        "#### Things to avoid\n",
        "*  What if targe content is buried 20 tags deep in HTML?  \n",
        "*  Avoid writing very specific which might break with the slightest change to the website  \n",
        "*  What are the options?  \n",
        "    * Look for \"print this page\" link/ mobile version of the site\n",
        "    * Look for hidden info in JavaScript file\n",
        "    * info might be available in URL itself\n",
        "    * look for alternate sources\n"
      ],
      "metadata": {
        "id": "J2hoOXaYe-7m"
      }
    },
    {
      "cell_type": "code",
      "source": [
        "from urllib.request import urlopen\n",
        "from bs4 import BeautifulSoup\n",
        "html=urlopen(\"http://www.pythonscraping.com/pages/warandpeace.html\")\n",
        "bsObj=BeautifulSoup(html)"
      ],
      "metadata": {
        "id": "ApFB3wA7kzWp"
      },
      "execution_count": null,
      "outputs": []
    },
    {
      "cell_type": "code",
      "source": [
        "# findAll to find all the span tags with class='green'\n",
        "# get_text() to get the text portion of the tag\n",
        "nameList=bsObj.findAll(\"span\",{\"class\":\"green\"})\n",
        "for name in nameList:\n",
        "    print(name.get_text())"
      ],
      "metadata": {
        "colab": {
          "base_uri": "https://localhost:8080/"
        },
        "id": "2FPtPqg2002h",
        "outputId": "ec6d3e7d-6288-4964-fb47-6a3578306f2b"
      },
      "execution_count": null,
      "outputs": [
        {
          "output_type": "stream",
          "name": "stdout",
          "text": [
            "Anna\n",
            "Pavlovna Scherer\n",
            "Empress Marya\n",
            "Fedorovna\n",
            "Prince Vasili Kuragin\n",
            "Anna Pavlovna\n",
            "St. Petersburg\n",
            "the prince\n",
            "Anna Pavlovna\n",
            "Anna Pavlovna\n",
            "the prince\n",
            "the prince\n",
            "the prince\n",
            "Prince Vasili\n",
            "Anna Pavlovna\n",
            "Anna Pavlovna\n",
            "the prince\n",
            "Wintzingerode\n",
            "King of Prussia\n",
            "le Vicomte de Mortemart\n",
            "Montmorencys\n",
            "Rohans\n",
            "Abbe Morio\n",
            "the Emperor\n",
            "the prince\n",
            "Prince Vasili\n",
            "Dowager Empress Marya Fedorovna\n",
            "the baron\n",
            "Anna Pavlovna\n",
            "the Empress\n",
            "the Empress\n",
            "Anna Pavlovna's\n",
            "Her Majesty\n",
            "Baron\n",
            "Funke\n",
            "The prince\n",
            "Anna\n",
            "Pavlovna\n",
            "the Empress\n",
            "The prince\n",
            "Anatole\n",
            "the prince\n",
            "The prince\n",
            "Anna\n",
            "Pavlovna\n",
            "Anna Pavlovna\n"
          ]
        }
      ]
    },
    {
      "cell_type": "markdown",
      "source": [
        "#### find () and findAll()\n",
        "*  findAll(tag, attributes, recursive, text, limit, keywords)  \n",
        "*  find(tag, attributes, recursive, text, keywords)\n",
        "*  tag: tag name\n",
        "*  attribute: attribute of the tag\n",
        "*  recursivee: boolean; True=look into chilcren and children's children, if False=look into top-level tags\n",
        "*  text: match based on text content of the tags\n",
        "*  limit: only for findAlll(); gives the first items on the page in order that they occur\n",
        "*  keyword: select tag that contains particular attribute\n",
        "* Note: attribute list is an 'or' filter whilst keyword is an 'and' filter"
      ],
      "metadata": {
        "id": "bAjkNWQx8h_0"
      }
    },
    {
      "cell_type": "code",
      "source": [
        "# use of keyword\n",
        "# this will give nonstandard use of class error because class is a protected keyword\n",
        "bsObj.findAll(class='green') \n",
        "\n",
        "# instead use underscore\n",
        "bsObj.findAll(class_='green')\n",
        "\n",
        "# alternatively\n",
        "bsObj.findAll(\"\",{\"class\":\"green\"})"
      ],
      "metadata": {
        "id": "zm6BHPzW1SKi"
      },
      "execution_count": null,
      "outputs": []
    },
    {
      "cell_type": "markdown",
      "source": [
        "#### Other BeautifulSoup Objects\n",
        "*  BeautifulSoup objects: bsObj\n",
        "*  Tag objects: retrieve through find/findAll\n",
        "*  NavigableString objects: represent text withing tags\n",
        "*  Comment object: HTML comments"
      ],
      "metadata": {
        "id": "ukraWoCSKCq1"
      }
    },
    {
      "cell_type": "markdown",
      "source": [
        "#### Navigating Trees\n",
        "* findAll find tags based on their name and attribute\n",
        "* how to find tag based on their location in the document? Use tree navigation\n",
        "\n",
        "#### Dealing with children and other descendants\n",
        "* Children: one tag below a parent\n",
        "* Decendants: any level in the tree below a parent\n",
        "* findAll() finds descendant\n",
        "* .children finds children\n"
      ],
      "metadata": {
        "id": "lBYkfAZJKeSY"
      }
    },
    {
      "cell_type": "code",
      "source": [
        "from urllib.request import urlopen\n",
        "from bs4 import BeautifulSoup\n",
        "html=urlopen(\"http://www.pythonscraping.com/pages/page3.html\")\n",
        "bsObj=BeautifulSoup(html)\n",
        "\n",
        "for child in bsObj.find(\"table\",{\"id\":\"giftList\"}).children:\n",
        "    print(child)"
      ],
      "metadata": {
        "colab": {
          "base_uri": "https://localhost:8080/"
        },
        "id": "-yqZX7KhMad_",
        "outputId": "5bf73538-29a0-4e31-e0ec-3d71342ec891"
      },
      "execution_count": null,
      "outputs": [
        {
          "output_type": "stream",
          "name": "stdout",
          "text": [
            "\n",
            "\n",
            "<tr><th>\n",
            "Item Title\n",
            "</th><th>\n",
            "Description\n",
            "</th><th>\n",
            "Cost\n",
            "</th><th>\n",
            "Image\n",
            "</th></tr>\n",
            "\n",
            "\n",
            "<tr class=\"gift\" id=\"gift1\"><td>\n",
            "Vegetable Basket\n",
            "</td><td>\n",
            "This vegetable basket is the perfect gift for your health conscious (or overweight) friends!\n",
            "<span class=\"excitingNote\">Now with super-colorful bell peppers!</span>\n",
            "</td><td>\n",
            "$15.00\n",
            "</td><td>\n",
            "<img src=\"../img/gifts/img1.jpg\"/>\n",
            "</td></tr>\n",
            "\n",
            "\n",
            "<tr class=\"gift\" id=\"gift2\"><td>\n",
            "Russian Nesting Dolls\n",
            "</td><td>\n",
            "Hand-painted by trained monkeys, these exquisite dolls are priceless! And by \"priceless,\" we mean \"extremely expensive\"! <span class=\"excitingNote\">8 entire dolls per set! Octuple the presents!</span>\n",
            "</td><td>\n",
            "$10,000.52\n",
            "</td><td>\n",
            "<img src=\"../img/gifts/img2.jpg\"/>\n",
            "</td></tr>\n",
            "\n",
            "\n",
            "<tr class=\"gift\" id=\"gift3\"><td>\n",
            "Fish Painting\n",
            "</td><td>\n",
            "If something seems fishy about this painting, it's because it's a fish! <span class=\"excitingNote\">Also hand-painted by trained monkeys!</span>\n",
            "</td><td>\n",
            "$10,005.00\n",
            "</td><td>\n",
            "<img src=\"../img/gifts/img3.jpg\"/>\n",
            "</td></tr>\n",
            "\n",
            "\n",
            "<tr class=\"gift\" id=\"gift4\"><td>\n",
            "Dead Parrot\n",
            "</td><td>\n",
            "This is an ex-parrot! <span class=\"excitingNote\">Or maybe he's only resting?</span>\n",
            "</td><td>\n",
            "$0.50\n",
            "</td><td>\n",
            "<img src=\"../img/gifts/img4.jpg\"/>\n",
            "</td></tr>\n",
            "\n",
            "\n",
            "<tr class=\"gift\" id=\"gift5\"><td>\n",
            "Mystery Box\n",
            "</td><td>\n",
            "If you love suprises, this mystery box is for you! Do not place on light-colored surfaces. May cause oil staining. <span class=\"excitingNote\">Keep your friends guessing!</span>\n",
            "</td><td>\n",
            "$1.50\n",
            "</td><td>\n",
            "<img src=\"../img/gifts/img6.jpg\"/>\n",
            "</td></tr>\n",
            "\n",
            "\n"
          ]
        }
      ]
    },
    {
      "cell_type": "markdown",
      "source": [
        "#### Dealing with siblings\n",
        "* use next_sibling to get the next object\n",
        "* previous_sibling is the opposite of next_sibling"
      ],
      "metadata": {
        "id": "d5nz-qHbScIo"
      }
    },
    {
      "cell_type": "code",
      "source": [
        "from urllib.request import urlopen\n",
        "from bs4 import BeautifulSoup\n",
        "html=urlopen(\"http://www.pythonscraping.com/pages/page3.html\")\n",
        "bsObj=BeautifulSoup(html)\n",
        "\n",
        "for sibling in bsObj.find(\"table\",{\"id\":\"giftList\"}).tr.next_siblings:\n",
        "    print(sibling)"
      ],
      "metadata": {
        "colab": {
          "base_uri": "https://localhost:8080/"
        },
        "id": "HaKphCt0TNOp",
        "outputId": "8296c3af-ea5c-4a76-f8fb-db8b025c6386"
      },
      "execution_count": null,
      "outputs": [
        {
          "output_type": "stream",
          "name": "stdout",
          "text": [
            "\n",
            "\n",
            "<tr class=\"gift\" id=\"gift1\"><td>\n",
            "Vegetable Basket\n",
            "</td><td>\n",
            "This vegetable basket is the perfect gift for your health conscious (or overweight) friends!\n",
            "<span class=\"excitingNote\">Now with super-colorful bell peppers!</span>\n",
            "</td><td>\n",
            "$15.00\n",
            "</td><td>\n",
            "<img src=\"../img/gifts/img1.jpg\"/>\n",
            "</td></tr>\n",
            "\n",
            "\n",
            "<tr class=\"gift\" id=\"gift2\"><td>\n",
            "Russian Nesting Dolls\n",
            "</td><td>\n",
            "Hand-painted by trained monkeys, these exquisite dolls are priceless! And by \"priceless,\" we mean \"extremely expensive\"! <span class=\"excitingNote\">8 entire dolls per set! Octuple the presents!</span>\n",
            "</td><td>\n",
            "$10,000.52\n",
            "</td><td>\n",
            "<img src=\"../img/gifts/img2.jpg\"/>\n",
            "</td></tr>\n",
            "\n",
            "\n",
            "<tr class=\"gift\" id=\"gift3\"><td>\n",
            "Fish Painting\n",
            "</td><td>\n",
            "If something seems fishy about this painting, it's because it's a fish! <span class=\"excitingNote\">Also hand-painted by trained monkeys!</span>\n",
            "</td><td>\n",
            "$10,005.00\n",
            "</td><td>\n",
            "<img src=\"../img/gifts/img3.jpg\"/>\n",
            "</td></tr>\n",
            "\n",
            "\n",
            "<tr class=\"gift\" id=\"gift4\"><td>\n",
            "Dead Parrot\n",
            "</td><td>\n",
            "This is an ex-parrot! <span class=\"excitingNote\">Or maybe he's only resting?</span>\n",
            "</td><td>\n",
            "$0.50\n",
            "</td><td>\n",
            "<img src=\"../img/gifts/img4.jpg\"/>\n",
            "</td></tr>\n",
            "\n",
            "\n",
            "<tr class=\"gift\" id=\"gift5\"><td>\n",
            "Mystery Box\n",
            "</td><td>\n",
            "If you love suprises, this mystery box is for you! Do not place on light-colored surfaces. May cause oil staining. <span class=\"excitingNote\">Keep your friends guessing!</span>\n",
            "</td><td>\n",
            "$1.50\n",
            "</td><td>\n",
            "<img src=\"../img/gifts/img6.jpg\"/>\n",
            "</td></tr>\n",
            "\n",
            "\n"
          ]
        }
      ]
    },
    {
      "cell_type": "markdown",
      "source": [
        "#### Dealing with your parents\n",
        "* parent-finding functions :\n",
        "    * .parent\n",
        "    * .parents"
      ],
      "metadata": {
        "id": "wJ9p9YS9T1t2"
      }
    },
    {
      "cell_type": "code",
      "source": [
        "from urllib.request import urlopen\n",
        "from bs4 import BeautifulSoup\n",
        "\n",
        "html=urlopen(\"http://www.pythonscraping.com/pages/page3.html\")\n",
        "bsObj=BeautifulSoup(html)\n",
        "print(bsObj.find(\"img\",{\"src\":\"../img/gifts/img1.jpg\"\n",
        "                       }).parent.previous_sibling.get_text())"
      ],
      "metadata": {
        "colab": {
          "base_uri": "https://localhost:8080/"
        },
        "id": "mmTTE19CVrEi",
        "outputId": "cb0a9f24-57c1-4418-e307-993610902d6f"
      },
      "execution_count": null,
      "outputs": [
        {
          "output_type": "stream",
          "name": "stdout",
          "text": [
            "\n",
            "$15.00\n",
            "\n"
          ]
        }
      ]
    },
    {
      "cell_type": "markdown",
      "source": [
        "Explanation for query above:\n",
        "1. image tag where src=\"../img/gifts/img1.jpg\" is selected\n",
        "2. parent of that image tag; td\n",
        "3. previous_sibling of the parent td tag\n",
        "4. get_text() on the sibling td tag"
      ],
      "metadata": {
        "id": "pKbNMGDlWxz4"
      }
    },
    {
      "cell_type": "markdown",
      "source": [
        "![image.png](data:image/png;base64,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)"
      ],
      "metadata": {
        "id": "nQOykjUnWDVe"
      }
    },
    {
      "cell_type": "markdown",
      "source": [
        "#### Regular expression (REGEX)\n",
        "Examples below:\n",
        "* aa* : a then a* (any number of a including 0)\n",
        "* bbbb : five b's in a row\n",
        "* (cc)* : any number of pairs of c's, including 0\n",
        "* (d|): d or a space\n",
        "\n",
        "\n",
        "Identifying email address: \n",
        "* Rule 1:  \n",
        "    * First part contains at leas one of the following:\n",
        "        * uppercase letters\n",
        "        * lowercase letters\n",
        "        * numbers 0-9\n",
        "        * periods (.)\n",
        "        * plus signs (+)\n",
        "        * underscores (_)  \n",
        "\n",
        "    * REGEX: [A-Za-z0-9\\._+]+\n",
        "\n",
        "* Rule 2:\n",
        "    * contains @\n",
        "    * REGEX: @\n",
        "\n",
        "* Rule 3:\n",
        "    * contains at least one uppercase and lowercase letter\n",
        "    * REGEX: [A-Za-z]+\n",
        "* Rule 4:\n",
        "    * followed by a period (.)\n",
        "    * REGEX: \\.\n",
        "* Rule 5:\n",
        "    * Ends with:\n",
        "        * .com\n",
        "        * .org\n",
        "        * .edu\n",
        "        * .net\n",
        "    * REGEX: (com|org|edu|net)\n",
        "\n",
        "\n",
        "Concatenating all rules:\n",
        "[A-Za-z0-9\\._+\\]+@[A-Za-z]+\\.(com|org|edu|net)"
      ],
      "metadata": {
        "id": "S7RkIh7QWmkp"
      }
    },
    {
      "cell_type": "markdown",
      "source": [
        "#### Regular Expression and BeautifulSoup\n"
      ],
      "metadata": {
        "id": "1ooG79sriITC"
      }
    },
    {
      "cell_type": "code",
      "source": [
        "from urllib.request import urlopen\n",
        "from bs4 import BeautifulSoup\n",
        "import re\n",
        "\n",
        "html=urlopen(\"http://www.pythonscraping.com/pages/page3.html\")\n",
        "bsObj=BeautifulSoup(html)\n",
        "images=bsObj.findAll(\"img\",{\"src\":re.compile(\"\\.\\./img\\/gifts/img.*\\.jpg\")})\n",
        "for image in images:\n",
        "    print(image[\"src\"])"
      ],
      "metadata": {
        "colab": {
          "base_uri": "https://localhost:8080/"
        },
        "id": "blqeHIXJl_xv",
        "outputId": "345c821a-506c-4378-ef70-0e182a1cab91"
      },
      "execution_count": null,
      "outputs": [
        {
          "output_type": "stream",
          "name": "stdout",
          "text": [
            "../img/gifts/img1.jpg\n",
            "../img/gifts/img2.jpg\n",
            "../img/gifts/img3.jpg\n",
            "../img/gifts/img4.jpg\n",
            "../img/gifts/img6.jpg\n"
          ]
        }
      ]
    },
    {
      "cell_type": "markdown",
      "source": [
        "#### Accessing Attributes\n",
        "* to get attribute of a tag: myTag.attrs\n",
        "* Example:\n",
        "to get the source location for an image\n",
        "myImgTag.attrs\n",
        "\n",
        "#### Lambda Expressions\n",
        "* BeautifulSoup allows certain types of functions to be pass as parameters into findAll function\n",
        "* Example:  \n",
        "soup.findAll(lambda tag: len(tag.attrs) == 2)\n",
        "* Explanation: \n",
        "find all tags that have 2 attributes\n",
        "\n",
        "#### Beyond Beautifulsoup\n",
        "There are other libraries other than BS: \n",
        "* lxml\n",
        "* HTML Parser\n"
      ],
      "metadata": {
        "id": "tFr-66M2rKV4"
      }
    },
    {
      "cell_type": "markdown",
      "source": [
        "#### *CHAPTER 3*\n",
        "#### Starting to Crawl"
      ],
      "metadata": {
        "id": "Vi1gxN1nqy_-"
      }
    },
    {
      "cell_type": "code",
      "source": [
        "from urllib.request import urlopen\n",
        "from bs4 import BeautifulSoup\n",
        "\n",
        "html=urlopen(\"http://en.wikipedia.org/wiki/Kevin_Bacon\")\n",
        "bsObj=BeautifulSoup(html)\n",
        "for link in bsObj.findAll(\"a\"):\n",
        "    if 'href' in link.attrs:\n",
        "        print(link.attrs['href'])\n"
      ],
      "metadata": {
        "id": "KcpFzHD-rXVj"
      },
      "execution_count": null,
      "outputs": []
    },
    {
      "cell_type": "code",
      "source": [
        "from urllib.request import urlopen\n",
        "from bs4 import BeautifulSoup\n",
        "\n",
        "html=urlopen(\"http://en.wikipedia.org/wiki/Kevin_Bacon\")"
      ],
      "metadata": {
        "id": "fCLNNTWL9As_"
      },
      "execution_count": null,
      "outputs": []
    },
    {
      "cell_type": "code",
      "source": [
        "bsObj=BeautifulSoup(html)\n",
        "import re"
      ],
      "metadata": {
        "id": "0WQjoPTd9Ms0"
      },
      "execution_count": null,
      "outputs": []
    },
    {
      "cell_type": "code",
      "source": [
        "links=bsObj.find(\"div\",{\"id\":\"bodyContent\"}).findAll(\"a\",href=re.compile(\"^(/wiki/)((?!:).)*$\"))\n"
      ],
      "metadata": {
        "id": "0t1vRVYHcXN1"
      },
      "execution_count": null,
      "outputs": []
    },
    {
      "cell_type": "code",
      "source": [
        "for link in links:\n",
        "    if 'href' in link.attrs:\n",
        "        print(link.attrs['href'])"
      ],
      "metadata": {
        "colab": {
          "base_uri": "https://localhost:8080/"
        },
        "id": "A-qufUlOV9nF",
        "outputId": "3d280af5-924a-4e9f-be95-11c2ee2f314a"
      },
      "execution_count": null,
      "outputs": [
        {
          "output_type": "stream",
          "name": "stdout",
          "text": [
            "/wiki/Kevin_Bacon_(disambiguation)\n",
            "/wiki/Philadelphia,_Pennsylvania\n",
            "/wiki/Kyra_Sedgwick\n",
            "/wiki/Sosie_Bacon\n",
            "/wiki/Edmund_Bacon_(architect)\n",
            "/wiki/Michael_Bacon_(musician)\n",
            "/wiki/Holly_Near\n",
            "/wiki/Footloose_(1984_film)\n",
            "/wiki/JFK_(film)\n",
            "/wiki/A_Few_Good_Men\n",
            "/wiki/Apollo_13_(film)\n",
            "/wiki/Mystic_River_(film)\n",
            "/wiki/Balto_(film)\n",
            "/wiki/Sleepers\n",
            "/wiki/The_Woodsman_(2004_film)\n",
            "/wiki/Animal_House\n",
            "/wiki/Diner_(1982_film)\n",
            "/wiki/Tremors_(1990_film)\n",
            "/wiki/Crazy,_Stupid,_Love\n",
            "/wiki/Friday_the_13th_(1980_film)\n",
            "/wiki/Flatliners\n",
            "/wiki/The_River_Wild\n",
            "/wiki/Wild_Things_(film)\n",
            "/wiki/Stir_of_Echoes\n",
            "/wiki/Hollow_Man\n",
            "/wiki/Frost/Nixon_(film)\n",
            "/wiki/Black_Mass_(film)\n",
            "/wiki/Patriots_Day_(film)\n",
            "/wiki/Fox_Broadcasting_Company\n",
            "/wiki/The_Following\n",
            "/wiki/HBO\n",
            "/wiki/Taking_Chance\n",
            "/wiki/Golden_Globe_Award\n",
            "/wiki/Screen_Actors_Guild_Award\n",
            "/wiki/Primetime_Emmy_Award\n",
            "/wiki/Streaming_television\n",
            "/wiki/I_Love_Dick_(TV_series)\n",
            "/wiki/Golden_Globe_Award_for_Best_Actor_%E2%80%93_Television_Series_Musical_or_Comedy\n",
            "/wiki/The_Guardian\n",
            "/wiki/Academy_Award\n",
            "/wiki/Hollywood_Walk_of_Fame\n",
            "/wiki/Six_Degrees_of_Kevin_Bacon\n",
            "/wiki/SixDegrees.org\n",
            "/wiki/EE_Limited\n",
            "/wiki/Philadelphia\n",
            "/wiki/Edmund_Bacon_(architect)\n",
            "/wiki/Julia_R._Masterman_High_School\n",
            "/wiki/Pennsylvania_Governor%27s_School_for_the_Arts\n",
            "/wiki/Bucknell_University\n",
            "/wiki/Glory_Van_Scott\n",
            "/wiki/Kevin_Bacon_filmography\n",
            "/wiki/Circle_in_the_Square\n",
            "/wiki/Nancy_Mills\n",
            "/wiki/Cosmopolitan_(magazine)\n",
            "/wiki/Fraternities_and_sororities\n",
            "/wiki/Animal_House\n",
            "/wiki/Search_for_Tomorrow\n",
            "/wiki/Guiding_Light\n",
            "/wiki/Friday_the_13th_(1980_film)\n",
            "/wiki/Getting_Out\n",
            "/wiki/Phoenix_Theater\n",
            "/wiki/Flux\n",
            "/wiki/Second_Stage_Theatre\n",
            "/wiki/Obie_Award\n",
            "/wiki/Forty_Deuce\n",
            "/wiki/Slab_Boys\n",
            "/wiki/Sean_Penn\n",
            "/wiki/Val_Kilmer\n",
            "/wiki/Barry_Levinson\n",
            "/wiki/Diner_(1982_film)\n",
            "/wiki/Steve_Guttenberg\n",
            "/wiki/Daniel_Stern_(actor)\n",
            "/wiki/Mickey_Rourke\n",
            "/wiki/Tim_Daly\n",
            "/wiki/Ellen_Barkin\n",
            "/wiki/Footloose_(1984_film)\n",
            "/wiki/James_Dean\n",
            "/wiki/Rebel_Without_a_Cause\n",
            "/wiki/Mickey_Rooney\n",
            "/wiki/Judy_Garland\n",
            "/wiki/Typecasting_(acting)\n",
            "/wiki/John_Hughes_(filmmaker)\n",
            "/wiki/She%27s_Having_a_Baby\n",
            "/wiki/The_Big_Picture_(1989_film)\n",
            "/wiki/Tremors_(1990_film)\n",
            "/wiki/Joel_Schumacher\n",
            "/wiki/Flatliners\n",
            "/wiki/Elizabeth_Perkins\n",
            "/wiki/He_Said,_She_Said_(film)\n",
            "/wiki/The_New_York_Times\n",
            "/wiki/Oliver_Stone\n",
            "/wiki/JFK_(film)\n",
            "/wiki/A_Few_Good_Men_(film)\n",
            "/wiki/Michael_Greif\n",
            "/wiki/Golden_Globe_Award\n",
            "/wiki/The_River_Wild\n",
            "/wiki/Meryl_Streep\n",
            "/wiki/Murder_in_the_First_(film)\n",
            "/wiki/Blockbuster_(entertainment)\n",
            "/wiki/Apollo_13_(film)\n",
            "/wiki/Sleepers_(film)\n",
            "/wiki/Picture_Perfect_(1997_film)\n",
            "/wiki/Losing_Chase\n",
            "/wiki/Digging_to_China\n",
            "/wiki/Payola\n",
            "/wiki/Telling_Lies_in_America_(film)\n",
            "/wiki/Wild_Things_(film)\n",
            "/wiki/Stir_of_Echoes\n",
            "/wiki/David_Koepp\n",
            "/wiki/Cannes_Film_Festival\n",
            "/wiki/Paul_Verhoeven\n",
            "/wiki/Hollow_Man\n",
            "/wiki/Colin_Firth\n",
            "/wiki/Rachel_Blanchard\n",
            "/wiki/M%C3%A9nage_%C3%A0_trois\n",
            "/wiki/Where_the_Truth_Lies\n",
            "/wiki/Atom_Egoyan\n",
            "/wiki/MPAA\n",
            "/wiki/MPAA_film_rating_system\n",
            "/wiki/Sean_Penn\n",
            "/wiki/Tim_Robbins\n",
            "/wiki/Clint_Eastwood\n",
            "/wiki/Mystic_River_(film)\n",
            "/wiki/The_Woodsman_(2004_film)\n",
            "/wiki/HBO_Films\n",
            "/wiki/Taking_Chance\n",
            "/wiki/Michael_Strobl\n",
            "/wiki/Desert_Storm\n",
            "/wiki/Screen_Actors_Guild_Award_for_Outstanding_Performance_by_a_Male_Actor_in_a_Miniseries_or_Television_Movie\n",
            "/wiki/Toronto_Film_Festival\n",
            "/wiki/Matthew_Vaughn\n",
            "/wiki/Sebastian_Shaw_(comics)\n",
            "/wiki/Dustin_Lance_Black\n",
            "/wiki/8_(play)\n",
            "/wiki/Perry_v._Brown\n",
            "/wiki/Proposition_8\n",
            "/wiki/Charles_J._Cooper\n",
            "/wiki/Wilshire_Ebell_Theatre\n",
            "/wiki/American_Foundation_for_Equal_Rights\n",
            "/wiki/The_Following\n",
            "/wiki/Saturn_Award_for_Best_Actor_on_Television\n",
            "/wiki/Huffington_Post\n",
            "/wiki/Tremors_(1990_film)\n",
            "/wiki/EE_(telecommunications_company)\n",
            "/wiki/Six_Degrees_of_Kevin_Bacon\n",
            "/wiki/Trivia\n",
            "/wiki/Big_screen\n",
            "/wiki/Six_degrees_of_separation\n",
            "/wiki/Internet_meme\n",
            "/wiki/SixDegrees.org\n",
            "/wiki/Social_networking_service\n",
            "/wiki/Six_Degrees_of_Kevin_Bacon\n",
            "/wiki/IMDb\n",
            "/wiki/Paul_Erd%C5%91s\n",
            "/wiki/Erd%C5%91s_number\n",
            "/wiki/Paul_Erd%C5%91s\n",
            "/wiki/Erd%C5%91s_number\n",
            "/wiki/Erd%C5%91s%E2%80%93Bacon_number\n",
            "/wiki/The_Bacon_Brothers\n",
            "/wiki/Michael_Bacon_(musician)\n",
            "/wiki/Kyra_Sedgwick\n",
            "/wiki/PBS\n",
            "/wiki/Lanford_Wilson\n",
            "/wiki/Lemon_Sky\n",
            "/wiki/Pyrates\n",
            "/wiki/Murder_in_the_First_(film)\n",
            "/wiki/The_Woodsman_(2004_film)\n",
            "/wiki/Loverboy_(2005_film)\n",
            "/wiki/Sosie_Bacon\n",
            "/wiki/Upper_West_Side\n",
            "/wiki/Manhattan\n",
            "/wiki/Tracy_Pollan\n",
            "/wiki/The_Times\n",
            "/wiki/Will.i.am\n",
            "/wiki/It%27s_a_New_Day_(Will.i.am_song)\n",
            "/wiki/Barack_Obama\n",
            "/wiki/Ponzi_scheme\n",
            "/wiki/Bernie_Madoff\n",
            "/wiki/Finding_Your_Roots\n",
            "/wiki/Henry_Louis_Gates\n",
            "/wiki/Apollo_13_(film)\n",
            "/wiki/Mystic_River_(film)\n",
            "/wiki/Blockbuster_Entertainment_Awards\n",
            "/wiki/Blockbuster_Entertainment_Awards\n",
            "/wiki/Hollow_Man\n",
            "/wiki/Boston_Society_of_Film_Critics\n",
            "/wiki/Boston_Society_of_Film_Critics_Award_for_Best_Cast\n",
            "/wiki/Mystic_River_(film)\n",
            "/wiki/Bravo_Otto\n",
            "/wiki/Bravo_Otto\n",
            "/wiki/Footloose_(1984_film)\n",
            "/wiki/CableACE_Award\n",
            "/wiki/CableACE_Award\n",
            "/wiki/Losing_Chase\n",
            "/wiki/Chlotrudis_Awards\n",
            "/wiki/The_Woodsman_(2004_film)\n",
            "/wiki/Critics%27_Choice_Movie_Awards\n",
            "/wiki/Critics%27_Choice_Movie_Award_for_Best_Actor\n",
            "/wiki/Murder_in_the_First_(film)\n",
            "/wiki/Ghent_International_Film_Festival\n",
            "/wiki/Ghent_International_Film_Festival\n",
            "/wiki/The_Woodsman_(2004_film)\n",
            "/wiki/Giffoni_Film_Festival\n",
            "/wiki/Giffoni_Film_Festival\n",
            "/wiki/Digging_to_China\n",
            "/wiki/Mystic_River_(film)\n",
            "/wiki/Golden_Globe_Award\n",
            "/wiki/Golden_Globe_Award_for_Best_Supporting_Actor_%E2%80%93_Motion_Picture\n",
            "/wiki/The_River_Wild\n",
            "/wiki/Golden_Globe_Award_for_Best_Actor_%E2%80%93_Miniseries_or_Television_Film\n",
            "/wiki/Taking_Chance\n",
            "/wiki/Golden_Globe_Award_for_Best_Actor_%E2%80%93_Television_Series_Musical_or_Comedy\n",
            "/wiki/I_Love_Dick_(TV_series)\n",
            "/wiki/Independent_Spirit_Awards\n",
            "/wiki/Independent_Spirit_Award_for_Best_Male_Lead\n",
            "/wiki/The_Woodsman_(2004_film)\n",
            "/wiki/Mystic_River_(film)\n",
            "/wiki/MTV_Movie_%26_TV_Awards\n",
            "/wiki/MTV_Movie_Award_for_Best_Villain\n",
            "/wiki/Hollow_Man\n",
            "/wiki/Taking_Chance\n",
            "/wiki/The_Following\n",
            "/wiki/E!_People%27s_Choice_Awards\n",
            "/wiki/E!_People%27s_Choice_Awards\n",
            "/wiki/The_Following\n",
            "/wiki/E!_People%27s_Choice_Awards\n",
            "/wiki/The_Following\n",
            "/wiki/Primetime_Emmy_Award\n",
            "/wiki/Primetime_Emmy_Award_for_Outstanding_Lead_Actor_in_a_Limited_Series_or_Movie\n",
            "/wiki/Taking_Chance\n",
            "/wiki/Satellite_Awards\n",
            "/wiki/Satellite_Award_for_Best_Actor_%E2%80%93_Motion_Picture\n",
            "/wiki/The_Woodsman_(2004_film)\n",
            "/wiki/Satellite_Award_for_Best_Actor_%E2%80%93_Miniseries_or_Television_Film\n",
            "/wiki/Taking_Chance\n",
            "/wiki/Saturn_Award\n",
            "/wiki/Saturn_Award_for_Best_Actor_on_Television\n",
            "/wiki/The_Following\n",
            "/wiki/Saturn_Award_for_Best_Actor_on_Television\n",
            "/wiki/The_Following\n",
            "/wiki/Scream_Awards\n",
            "/wiki/Scream_Awards\n",
            "/wiki/Screen_Actors_Guild_Award\n",
            "/wiki/Screen_Actors_Guild_Award_for_Outstanding_Performance_by_a_Male_Actor_in_a_Supporting_Role\n",
            "/wiki/Murder_in_the_First_(film)\n",
            "/wiki/Screen_Actors_Guild_Award_for_Outstanding_Performance_by_a_Cast_in_a_Motion_Picture\n",
            "/wiki/Apollo_13_(film)\n",
            "/wiki/Screen_Actors_Guild_Award_for_Outstanding_Performance_by_a_Cast_in_a_Motion_Picture\n",
            "/wiki/Mystic_River_(film)\n",
            "/wiki/Screen_Actors_Guild_Award_for_Outstanding_Performance_by_a_Cast_in_a_Motion_Picture\n",
            "/wiki/Frost/Nixon_(film)\n",
            "/wiki/Screen_Actors_Guild_Award_for_Outstanding_Performance_by_a_Male_Actor_in_a_Miniseries_or_Television_Movie\n",
            "/wiki/Taking_Chance\n",
            "/wiki/Teen_Choice_Awards\n",
            "/wiki/Teen_Choice_Award_for_Choice_Movie_Villain\n",
            "/wiki/Beauty_Shop\n",
            "/wiki/Teen_Choice_Award_for_Choice_Movie_Villain\n",
            "/wiki/TV_Guide_Award\n",
            "/wiki/TV_Guide_Award\n",
            "/wiki/The_Following\n",
            "/wiki/Hollywood_Walk_of_Fame\n",
            "/wiki/Hollywood_Walk_of_Fame\n",
            "/wiki/Denver_Film_Festival\n",
            "/wiki/Phoenix_Film_Festival\n",
            "/wiki/Santa_Barbara_International_Film_Festival\n",
            "/wiki/Broadcast_Film_Critics_Association\n",
            "/wiki/Seattle_International_Film_Festival\n",
            "/wiki/List_of_actors_with_Hollywood_Walk_of_Fame_motion_picture_stars\n",
            "/wiki/The_Austin_Chronicle\n",
            "/wiki/Access_Hollywood\n",
            "/wiki/IMDb\n",
            "/wiki/Internet_Broadway_Database\n",
            "/wiki/Lortel_Archives\n",
            "/wiki/AllMovie\n",
            "/wiki/Kevin_Bacon_filmography\n",
            "/wiki/Losing_Chase\n",
            "/wiki/Loverboy_(2005_film)\n",
            "/wiki/Kyra_Sedgwick\n",
            "/wiki/Sosie_Bacon\n",
            "/wiki/Edmund_Bacon_(architect)\n",
            "/wiki/Michael_Bacon_(musician)\n",
            "/wiki/The_Bacon_Brothers\n",
            "/wiki/Six_Degrees_of_Kevin_Bacon\n",
            "/wiki/Erd%C5%91s%E2%80%93Bacon_number\n",
            "/wiki/SixDegrees.org\n",
            "/wiki/Critics%27_Choice_Movie_Award_for_Best_Actor\n",
            "/wiki/Geoffrey_Rush\n",
            "/wiki/Jack_Nicholson\n",
            "/wiki/Ian_McKellen\n",
            "/wiki/Russell_Crowe\n",
            "/wiki/Russell_Crowe\n",
            "/wiki/Russell_Crowe\n",
            "/wiki/Daniel_Day-Lewis\n",
            "/wiki/Jack_Nicholson\n",
            "/wiki/Sean_Penn\n",
            "/wiki/Jamie_Foxx\n",
            "/wiki/Philip_Seymour_Hoffman\n",
            "/wiki/Forest_Whitaker\n",
            "/wiki/Daniel_Day-Lewis\n",
            "/wiki/Sean_Penn\n",
            "/wiki/Jeff_Bridges\n",
            "/wiki/Colin_Firth\n",
            "/wiki/George_Clooney\n",
            "/wiki/Daniel_Day-Lewis\n",
            "/wiki/Matthew_McConaughey\n",
            "/wiki/Michael_Keaton\n",
            "/wiki/Leonardo_DiCaprio\n",
            "/wiki/Casey_Affleck\n",
            "/wiki/Gary_Oldman\n",
            "/wiki/Christian_Bale\n",
            "/wiki/Joaquin_Phoenix\n",
            "/wiki/Chadwick_Boseman\n",
            "/wiki/Golden_Globe_Award_for_Best_Actor_%E2%80%93_Miniseries_or_Television_Film\n",
            "/wiki/Mickey_Rooney\n",
            "/wiki/Anthony_Andrews\n",
            "/wiki/Richard_Chamberlain\n",
            "/wiki/Ted_Danson\n",
            "/wiki/Dustin_Hoffman\n",
            "/wiki/James_Woods\n",
            "/wiki/Randy_Quaid\n",
            "/wiki/Michael_Caine\n",
            "/wiki/Stacy_Keach\n",
            "/wiki/Robert_Duvall\n",
            "/wiki/James_Garner\n",
            "/wiki/Beau_Bridges\n",
            "/wiki/Robert_Duvall\n",
            "/wiki/James_Garner\n",
            "/wiki/Raul_Julia\n",
            "/wiki/Gary_Sinise\n",
            "/wiki/Alan_Rickman\n",
            "/wiki/Ving_Rhames\n",
            "/wiki/Stanley_Tucci\n",
            "/wiki/Jack_Lemmon\n",
            "/wiki/Brian_Dennehy\n",
            "/wiki/James_Franco\n",
            "/wiki/Albert_Finney\n",
            "/wiki/Al_Pacino\n",
            "/wiki/Geoffrey_Rush\n",
            "/wiki/Jonathan_Rhys_Meyers\n",
            "/wiki/Bill_Nighy\n",
            "/wiki/Jim_Broadbent\n",
            "/wiki/Paul_Giamatti\n",
            "/wiki/Al_Pacino\n",
            "/wiki/Idris_Elba\n",
            "/wiki/Kevin_Costner\n",
            "/wiki/Michael_Douglas\n",
            "/wiki/Billy_Bob_Thornton\n",
            "/wiki/Oscar_Isaac\n",
            "/wiki/Tom_Hiddleston\n",
            "/wiki/Ewan_McGregor\n",
            "/wiki/Darren_Criss\n",
            "/wiki/Russell_Crowe\n",
            "/wiki/Mark_Ruffalo\n",
            "/wiki/Saturn_Award_for_Best_Actor_on_Television\n",
            "/wiki/Kyle_Chandler\n",
            "/wiki/Steven_Weber_(actor)\n",
            "/wiki/Richard_Dean_Anderson\n",
            "/wiki/David_Boreanaz\n",
            "/wiki/Robert_Patrick\n",
            "/wiki/Ben_Browder\n",
            "/wiki/David_Boreanaz\n",
            "/wiki/David_Boreanaz\n",
            "/wiki/Ben_Browder\n",
            "/wiki/Matthew_Fox\n",
            "/wiki/Michael_C._Hall\n",
            "/wiki/Matthew_Fox\n",
            "/wiki/Edward_James_Olmos\n",
            "/wiki/Josh_Holloway\n",
            "/wiki/Stephen_Moyer\n",
            "/wiki/Bryan_Cranston\n",
            "/wiki/Bryan_Cranston\n",
            "/wiki/Mads_Mikkelsen\n",
            "/wiki/Hugh_Dancy\n",
            "/wiki/Andrew_Lincoln\n",
            "/wiki/Bruce_Campbell\n",
            "/wiki/Andrew_Lincoln\n",
            "/wiki/Kyle_MacLachlan\n",
            "/wiki/Sam_Heughan\n",
            "/wiki/Patrick_Stewart\n",
            "/wiki/Screen_Actors_Guild_Award_for_Outstanding_Performance_by_a_Male_Actor_in_a_Miniseries_or_Television_Movie\n",
            "/wiki/Raul_Julia\n",
            "/wiki/Gary_Sinise\n",
            "/wiki/Alan_Rickman\n",
            "/wiki/Gary_Sinise\n",
            "/wiki/Christopher_Reeve\n",
            "/wiki/Jack_Lemmon\n",
            "/wiki/Brian_Dennehy\n",
            "/wiki/Ben_Kingsley\n",
            "/wiki/William_H._Macy\n",
            "/wiki/Al_Pacino\n",
            "/wiki/Geoffrey_Rush\n",
            "/wiki/Paul_Newman\n",
            "/wiki/Jeremy_Irons\n",
            "/wiki/Kevin_Kline\n",
            "/wiki/Paul_Giamatti\n",
            "/wiki/Al_Pacino\n",
            "/wiki/Paul_Giamatti\n",
            "/wiki/Kevin_Costner\n",
            "/wiki/Michael_Douglas\n",
            "/wiki/Mark_Ruffalo\n",
            "/wiki/Idris_Elba\n",
            "/wiki/Bryan_Cranston\n",
            "/wiki/Alexander_Skarsg%C3%A5rd\n",
            "/wiki/Darren_Criss\n",
            "/wiki/Sam_Rockwell\n",
            "/wiki/Mark_Ruffalo\n",
            "/wiki/ISNI_(identifier)\n",
            "/wiki/VIAF_(identifier)\n",
            "/wiki/MBA_(identifier)\n",
            "/wiki/RERO_(identifier)\n",
            "/wiki/SUDOC_(identifier)\n",
            "/wiki/Trove_(identifier)\n"
          ]
        }
      ]
    },
    {
      "cell_type": "code",
      "source": [
        "from urllib.request import urlopen\n",
        "from bs4 import BeautifulSoup\n",
        "import re\n",
        "\n",
        "html=urlopen(\"http://en.wikipedia.org/wiki/Kevin_Bacon\")\n",
        "bsObj=BeautifulSoup(html)\n",
        "for link in bsObj.find(\"div\",{\"id\":\"bodyContent\"}).findAll(\"a\",\n",
        "                        href=re.compile(\"^(/wiki/)((?!:).)*$\")):\n",
        "    if 'href' in link.attrs:\n",
        "        print(link.attrs['href'])"
      ],
      "metadata": {
        "colab": {
          "base_uri": "https://localhost:8080/"
        },
        "id": "xrYS8Q6rr6Fw",
        "outputId": "03340b5c-d065-4a75-857c-8c6947927df5"
      },
      "execution_count": null,
      "outputs": [
        {
          "output_type": "stream",
          "name": "stdout",
          "text": [
            "/wiki/Kevin_Bacon_(disambiguation)\n",
            "/wiki/Philadelphia,_Pennsylvania\n",
            "/wiki/Kyra_Sedgwick\n",
            "/wiki/Sosie_Bacon\n",
            "/wiki/Edmund_Bacon_(architect)\n",
            "/wiki/Michael_Bacon_(musician)\n",
            "/wiki/Holly_Near\n",
            "/wiki/Footloose_(1984_film)\n",
            "/wiki/JFK_(film)\n",
            "/wiki/A_Few_Good_Men\n",
            "/wiki/Apollo_13_(film)\n",
            "/wiki/Mystic_River_(film)\n",
            "/wiki/Balto_(film)\n",
            "/wiki/Sleepers\n",
            "/wiki/The_Woodsman_(2004_film)\n",
            "/wiki/Animal_House\n",
            "/wiki/Diner_(1982_film)\n",
            "/wiki/Tremors_(1990_film)\n",
            "/wiki/Crazy,_Stupid,_Love\n",
            "/wiki/Friday_the_13th_(1980_film)\n",
            "/wiki/Flatliners\n",
            "/wiki/The_River_Wild\n",
            "/wiki/Wild_Things_(film)\n",
            "/wiki/Stir_of_Echoes\n",
            "/wiki/Hollow_Man\n",
            "/wiki/Frost/Nixon_(film)\n",
            "/wiki/Black_Mass_(film)\n",
            "/wiki/Patriots_Day_(film)\n",
            "/wiki/Fox_Broadcasting_Company\n",
            "/wiki/The_Following\n",
            "/wiki/HBO\n",
            "/wiki/Taking_Chance\n",
            "/wiki/Golden_Globe_Award\n",
            "/wiki/Screen_Actors_Guild_Award\n",
            "/wiki/Primetime_Emmy_Award\n",
            "/wiki/Streaming_television\n",
            "/wiki/I_Love_Dick_(TV_series)\n",
            "/wiki/Golden_Globe_Award_for_Best_Actor_%E2%80%93_Television_Series_Musical_or_Comedy\n",
            "/wiki/The_Guardian\n",
            "/wiki/Academy_Award\n",
            "/wiki/Hollywood_Walk_of_Fame\n",
            "/wiki/Six_Degrees_of_Kevin_Bacon\n",
            "/wiki/SixDegrees.org\n",
            "/wiki/EE_Limited\n",
            "/wiki/Philadelphia\n",
            "/wiki/Edmund_Bacon_(architect)\n",
            "/wiki/Julia_R._Masterman_High_School\n",
            "/wiki/Pennsylvania_Governor%27s_School_for_the_Arts\n",
            "/wiki/Bucknell_University\n",
            "/wiki/Glory_Van_Scott\n",
            "/wiki/Kevin_Bacon_filmography\n",
            "/wiki/Circle_in_the_Square\n",
            "/wiki/Nancy_Mills\n",
            "/wiki/Cosmopolitan_(magazine)\n",
            "/wiki/Fraternities_and_sororities\n",
            "/wiki/Animal_House\n",
            "/wiki/Search_for_Tomorrow\n",
            "/wiki/Guiding_Light\n",
            "/wiki/Friday_the_13th_(1980_film)\n",
            "/wiki/Getting_Out\n",
            "/wiki/Phoenix_Theater\n",
            "/wiki/Flux\n",
            "/wiki/Second_Stage_Theatre\n",
            "/wiki/Obie_Award\n",
            "/wiki/Forty_Deuce\n",
            "/wiki/Slab_Boys\n",
            "/wiki/Sean_Penn\n",
            "/wiki/Val_Kilmer\n",
            "/wiki/Barry_Levinson\n",
            "/wiki/Diner_(1982_film)\n",
            "/wiki/Steve_Guttenberg\n",
            "/wiki/Daniel_Stern_(actor)\n",
            "/wiki/Mickey_Rourke\n",
            "/wiki/Tim_Daly\n",
            "/wiki/Ellen_Barkin\n",
            "/wiki/Footloose_(1984_film)\n",
            "/wiki/James_Dean\n",
            "/wiki/Rebel_Without_a_Cause\n",
            "/wiki/Mickey_Rooney\n",
            "/wiki/Judy_Garland\n",
            "/wiki/Typecasting_(acting)\n",
            "/wiki/John_Hughes_(filmmaker)\n",
            "/wiki/She%27s_Having_a_Baby\n",
            "/wiki/The_Big_Picture_(1989_film)\n",
            "/wiki/Tremors_(1990_film)\n",
            "/wiki/Joel_Schumacher\n",
            "/wiki/Flatliners\n",
            "/wiki/Elizabeth_Perkins\n",
            "/wiki/He_Said,_She_Said_(film)\n",
            "/wiki/The_New_York_Times\n",
            "/wiki/Oliver_Stone\n",
            "/wiki/JFK_(film)\n",
            "/wiki/A_Few_Good_Men_(film)\n",
            "/wiki/Michael_Greif\n",
            "/wiki/Golden_Globe_Award\n",
            "/wiki/The_River_Wild\n",
            "/wiki/Meryl_Streep\n",
            "/wiki/Murder_in_the_First_(film)\n",
            "/wiki/Blockbuster_(entertainment)\n",
            "/wiki/Apollo_13_(film)\n",
            "/wiki/Sleepers_(film)\n",
            "/wiki/Picture_Perfect_(1997_film)\n",
            "/wiki/Losing_Chase\n",
            "/wiki/Digging_to_China\n",
            "/wiki/Payola\n",
            "/wiki/Telling_Lies_in_America_(film)\n",
            "/wiki/Wild_Things_(film)\n",
            "/wiki/Stir_of_Echoes\n",
            "/wiki/David_Koepp\n",
            "/wiki/Cannes_Film_Festival\n",
            "/wiki/Paul_Verhoeven\n",
            "/wiki/Hollow_Man\n",
            "/wiki/Colin_Firth\n",
            "/wiki/Rachel_Blanchard\n",
            "/wiki/M%C3%A9nage_%C3%A0_trois\n",
            "/wiki/Where_the_Truth_Lies\n",
            "/wiki/Atom_Egoyan\n",
            "/wiki/MPAA\n",
            "/wiki/MPAA_film_rating_system\n",
            "/wiki/Sean_Penn\n",
            "/wiki/Tim_Robbins\n",
            "/wiki/Clint_Eastwood\n",
            "/wiki/Mystic_River_(film)\n",
            "/wiki/The_Woodsman_(2004_film)\n",
            "/wiki/HBO_Films\n",
            "/wiki/Taking_Chance\n",
            "/wiki/Michael_Strobl\n",
            "/wiki/Desert_Storm\n",
            "/wiki/Screen_Actors_Guild_Award_for_Outstanding_Performance_by_a_Male_Actor_in_a_Miniseries_or_Television_Movie\n",
            "/wiki/Toronto_Film_Festival\n",
            "/wiki/Matthew_Vaughn\n",
            "/wiki/Sebastian_Shaw_(comics)\n",
            "/wiki/Dustin_Lance_Black\n",
            "/wiki/8_(play)\n",
            "/wiki/Perry_v._Brown\n",
            "/wiki/Proposition_8\n",
            "/wiki/Charles_J._Cooper\n",
            "/wiki/Wilshire_Ebell_Theatre\n",
            "/wiki/American_Foundation_for_Equal_Rights\n",
            "/wiki/The_Following\n",
            "/wiki/Saturn_Award_for_Best_Actor_on_Television\n",
            "/wiki/Huffington_Post\n",
            "/wiki/Tremors_(1990_film)\n",
            "/wiki/EE_(telecommunications_company)\n",
            "/wiki/Six_Degrees_of_Kevin_Bacon\n",
            "/wiki/Trivia\n",
            "/wiki/Big_screen\n",
            "/wiki/Six_degrees_of_separation\n",
            "/wiki/Internet_meme\n",
            "/wiki/SixDegrees.org\n",
            "/wiki/Social_networking_service\n",
            "/wiki/Six_Degrees_of_Kevin_Bacon\n",
            "/wiki/IMDb\n",
            "/wiki/Paul_Erd%C5%91s\n",
            "/wiki/Erd%C5%91s_number\n",
            "/wiki/Paul_Erd%C5%91s\n",
            "/wiki/Erd%C5%91s_number\n",
            "/wiki/Erd%C5%91s%E2%80%93Bacon_number\n",
            "/wiki/The_Bacon_Brothers\n",
            "/wiki/Michael_Bacon_(musician)\n",
            "/wiki/Kyra_Sedgwick\n",
            "/wiki/PBS\n",
            "/wiki/Lanford_Wilson\n",
            "/wiki/Lemon_Sky\n",
            "/wiki/Pyrates\n",
            "/wiki/Murder_in_the_First_(film)\n",
            "/wiki/The_Woodsman_(2004_film)\n",
            "/wiki/Loverboy_(2005_film)\n",
            "/wiki/Sosie_Bacon\n",
            "/wiki/Upper_West_Side\n",
            "/wiki/Manhattan\n",
            "/wiki/Tracy_Pollan\n",
            "/wiki/The_Times\n",
            "/wiki/Will.i.am\n",
            "/wiki/It%27s_a_New_Day_(Will.i.am_song)\n",
            "/wiki/Barack_Obama\n",
            "/wiki/Ponzi_scheme\n",
            "/wiki/Bernie_Madoff\n",
            "/wiki/Finding_Your_Roots\n",
            "/wiki/Henry_Louis_Gates\n",
            "/wiki/Apollo_13_(film)\n",
            "/wiki/Mystic_River_(film)\n",
            "/wiki/Blockbuster_Entertainment_Awards\n",
            "/wiki/Blockbuster_Entertainment_Awards\n",
            "/wiki/Hollow_Man\n",
            "/wiki/Boston_Society_of_Film_Critics\n",
            "/wiki/Boston_Society_of_Film_Critics_Award_for_Best_Cast\n",
            "/wiki/Mystic_River_(film)\n",
            "/wiki/Bravo_Otto\n",
            "/wiki/Bravo_Otto\n",
            "/wiki/Footloose_(1984_film)\n",
            "/wiki/CableACE_Award\n",
            "/wiki/CableACE_Award\n",
            "/wiki/Losing_Chase\n",
            "/wiki/Chlotrudis_Awards\n",
            "/wiki/The_Woodsman_(2004_film)\n",
            "/wiki/Critics%27_Choice_Movie_Awards\n",
            "/wiki/Critics%27_Choice_Movie_Award_for_Best_Actor\n",
            "/wiki/Murder_in_the_First_(film)\n",
            "/wiki/Ghent_International_Film_Festival\n",
            "/wiki/Ghent_International_Film_Festival\n",
            "/wiki/The_Woodsman_(2004_film)\n",
            "/wiki/Giffoni_Film_Festival\n",
            "/wiki/Giffoni_Film_Festival\n",
            "/wiki/Digging_to_China\n",
            "/wiki/Mystic_River_(film)\n",
            "/wiki/Golden_Globe_Award\n",
            "/wiki/Golden_Globe_Award_for_Best_Supporting_Actor_%E2%80%93_Motion_Picture\n",
            "/wiki/The_River_Wild\n",
            "/wiki/Golden_Globe_Award_for_Best_Actor_%E2%80%93_Miniseries_or_Television_Film\n",
            "/wiki/Taking_Chance\n",
            "/wiki/Golden_Globe_Award_for_Best_Actor_%E2%80%93_Television_Series_Musical_or_Comedy\n",
            "/wiki/I_Love_Dick_(TV_series)\n",
            "/wiki/Independent_Spirit_Awards\n",
            "/wiki/Independent_Spirit_Award_for_Best_Male_Lead\n",
            "/wiki/The_Woodsman_(2004_film)\n",
            "/wiki/Mystic_River_(film)\n",
            "/wiki/MTV_Movie_%26_TV_Awards\n",
            "/wiki/MTV_Movie_Award_for_Best_Villain\n",
            "/wiki/Hollow_Man\n",
            "/wiki/Taking_Chance\n",
            "/wiki/The_Following\n",
            "/wiki/E!_People%27s_Choice_Awards\n",
            "/wiki/E!_People%27s_Choice_Awards\n",
            "/wiki/The_Following\n",
            "/wiki/E!_People%27s_Choice_Awards\n",
            "/wiki/The_Following\n",
            "/wiki/Primetime_Emmy_Award\n",
            "/wiki/Primetime_Emmy_Award_for_Outstanding_Lead_Actor_in_a_Limited_Series_or_Movie\n",
            "/wiki/Taking_Chance\n",
            "/wiki/Satellite_Awards\n",
            "/wiki/Satellite_Award_for_Best_Actor_%E2%80%93_Motion_Picture\n",
            "/wiki/The_Woodsman_(2004_film)\n",
            "/wiki/Satellite_Award_for_Best_Actor_%E2%80%93_Miniseries_or_Television_Film\n",
            "/wiki/Taking_Chance\n",
            "/wiki/Saturn_Award\n",
            "/wiki/Saturn_Award_for_Best_Actor_on_Television\n",
            "/wiki/The_Following\n",
            "/wiki/Saturn_Award_for_Best_Actor_on_Television\n",
            "/wiki/The_Following\n",
            "/wiki/Scream_Awards\n",
            "/wiki/Scream_Awards\n",
            "/wiki/Screen_Actors_Guild_Award\n",
            "/wiki/Screen_Actors_Guild_Award_for_Outstanding_Performance_by_a_Male_Actor_in_a_Supporting_Role\n",
            "/wiki/Murder_in_the_First_(film)\n",
            "/wiki/Screen_Actors_Guild_Award_for_Outstanding_Performance_by_a_Cast_in_a_Motion_Picture\n",
            "/wiki/Apollo_13_(film)\n",
            "/wiki/Screen_Actors_Guild_Award_for_Outstanding_Performance_by_a_Cast_in_a_Motion_Picture\n",
            "/wiki/Mystic_River_(film)\n",
            "/wiki/Screen_Actors_Guild_Award_for_Outstanding_Performance_by_a_Cast_in_a_Motion_Picture\n",
            "/wiki/Frost/Nixon_(film)\n",
            "/wiki/Screen_Actors_Guild_Award_for_Outstanding_Performance_by_a_Male_Actor_in_a_Miniseries_or_Television_Movie\n",
            "/wiki/Taking_Chance\n",
            "/wiki/Teen_Choice_Awards\n",
            "/wiki/Teen_Choice_Award_for_Choice_Movie_Villain\n",
            "/wiki/Beauty_Shop\n",
            "/wiki/Teen_Choice_Award_for_Choice_Movie_Villain\n",
            "/wiki/TV_Guide_Award\n",
            "/wiki/TV_Guide_Award\n",
            "/wiki/The_Following\n",
            "/wiki/Hollywood_Walk_of_Fame\n",
            "/wiki/Hollywood_Walk_of_Fame\n",
            "/wiki/Denver_Film_Festival\n",
            "/wiki/Phoenix_Film_Festival\n",
            "/wiki/Santa_Barbara_International_Film_Festival\n",
            "/wiki/Broadcast_Film_Critics_Association\n",
            "/wiki/Seattle_International_Film_Festival\n",
            "/wiki/List_of_actors_with_Hollywood_Walk_of_Fame_motion_picture_stars\n",
            "/wiki/The_Austin_Chronicle\n",
            "/wiki/Access_Hollywood\n",
            "/wiki/IMDb\n",
            "/wiki/Internet_Broadway_Database\n",
            "/wiki/Lortel_Archives\n",
            "/wiki/AllMovie\n",
            "/wiki/Kevin_Bacon_filmography\n",
            "/wiki/Losing_Chase\n",
            "/wiki/Loverboy_(2005_film)\n",
            "/wiki/Kyra_Sedgwick\n",
            "/wiki/Sosie_Bacon\n",
            "/wiki/Edmund_Bacon_(architect)\n",
            "/wiki/Michael_Bacon_(musician)\n",
            "/wiki/The_Bacon_Brothers\n",
            "/wiki/Six_Degrees_of_Kevin_Bacon\n",
            "/wiki/Erd%C5%91s%E2%80%93Bacon_number\n",
            "/wiki/SixDegrees.org\n",
            "/wiki/Critics%27_Choice_Movie_Award_for_Best_Actor\n",
            "/wiki/Geoffrey_Rush\n",
            "/wiki/Jack_Nicholson\n",
            "/wiki/Ian_McKellen\n",
            "/wiki/Russell_Crowe\n",
            "/wiki/Russell_Crowe\n",
            "/wiki/Russell_Crowe\n",
            "/wiki/Daniel_Day-Lewis\n",
            "/wiki/Jack_Nicholson\n",
            "/wiki/Sean_Penn\n",
            "/wiki/Jamie_Foxx\n",
            "/wiki/Philip_Seymour_Hoffman\n",
            "/wiki/Forest_Whitaker\n",
            "/wiki/Daniel_Day-Lewis\n",
            "/wiki/Sean_Penn\n",
            "/wiki/Jeff_Bridges\n",
            "/wiki/Colin_Firth\n",
            "/wiki/George_Clooney\n",
            "/wiki/Daniel_Day-Lewis\n",
            "/wiki/Matthew_McConaughey\n",
            "/wiki/Michael_Keaton\n",
            "/wiki/Leonardo_DiCaprio\n",
            "/wiki/Casey_Affleck\n",
            "/wiki/Gary_Oldman\n",
            "/wiki/Christian_Bale\n",
            "/wiki/Joaquin_Phoenix\n",
            "/wiki/Chadwick_Boseman\n",
            "/wiki/Golden_Globe_Award_for_Best_Actor_%E2%80%93_Miniseries_or_Television_Film\n",
            "/wiki/Mickey_Rooney\n",
            "/wiki/Anthony_Andrews\n",
            "/wiki/Richard_Chamberlain\n",
            "/wiki/Ted_Danson\n",
            "/wiki/Dustin_Hoffman\n",
            "/wiki/James_Woods\n",
            "/wiki/Randy_Quaid\n",
            "/wiki/Michael_Caine\n",
            "/wiki/Stacy_Keach\n",
            "/wiki/Robert_Duvall\n",
            "/wiki/James_Garner\n",
            "/wiki/Beau_Bridges\n",
            "/wiki/Robert_Duvall\n",
            "/wiki/James_Garner\n",
            "/wiki/Raul_Julia\n",
            "/wiki/Gary_Sinise\n",
            "/wiki/Alan_Rickman\n",
            "/wiki/Ving_Rhames\n",
            "/wiki/Stanley_Tucci\n",
            "/wiki/Jack_Lemmon\n",
            "/wiki/Brian_Dennehy\n",
            "/wiki/James_Franco\n",
            "/wiki/Albert_Finney\n",
            "/wiki/Al_Pacino\n",
            "/wiki/Geoffrey_Rush\n",
            "/wiki/Jonathan_Rhys_Meyers\n",
            "/wiki/Bill_Nighy\n",
            "/wiki/Jim_Broadbent\n",
            "/wiki/Paul_Giamatti\n",
            "/wiki/Al_Pacino\n",
            "/wiki/Idris_Elba\n",
            "/wiki/Kevin_Costner\n",
            "/wiki/Michael_Douglas\n",
            "/wiki/Billy_Bob_Thornton\n",
            "/wiki/Oscar_Isaac\n",
            "/wiki/Tom_Hiddleston\n",
            "/wiki/Ewan_McGregor\n",
            "/wiki/Darren_Criss\n",
            "/wiki/Russell_Crowe\n",
            "/wiki/Mark_Ruffalo\n",
            "/wiki/Saturn_Award_for_Best_Actor_on_Television\n",
            "/wiki/Kyle_Chandler\n",
            "/wiki/Steven_Weber_(actor)\n",
            "/wiki/Richard_Dean_Anderson\n",
            "/wiki/David_Boreanaz\n",
            "/wiki/Robert_Patrick\n",
            "/wiki/Ben_Browder\n",
            "/wiki/David_Boreanaz\n",
            "/wiki/David_Boreanaz\n",
            "/wiki/Ben_Browder\n",
            "/wiki/Matthew_Fox\n",
            "/wiki/Michael_C._Hall\n",
            "/wiki/Matthew_Fox\n",
            "/wiki/Edward_James_Olmos\n",
            "/wiki/Josh_Holloway\n",
            "/wiki/Stephen_Moyer\n",
            "/wiki/Bryan_Cranston\n",
            "/wiki/Bryan_Cranston\n",
            "/wiki/Mads_Mikkelsen\n",
            "/wiki/Hugh_Dancy\n",
            "/wiki/Andrew_Lincoln\n",
            "/wiki/Bruce_Campbell\n",
            "/wiki/Andrew_Lincoln\n",
            "/wiki/Kyle_MacLachlan\n",
            "/wiki/Sam_Heughan\n",
            "/wiki/Patrick_Stewart\n",
            "/wiki/Screen_Actors_Guild_Award_for_Outstanding_Performance_by_a_Male_Actor_in_a_Miniseries_or_Television_Movie\n",
            "/wiki/Raul_Julia\n",
            "/wiki/Gary_Sinise\n",
            "/wiki/Alan_Rickman\n",
            "/wiki/Gary_Sinise\n",
            "/wiki/Christopher_Reeve\n",
            "/wiki/Jack_Lemmon\n",
            "/wiki/Brian_Dennehy\n",
            "/wiki/Ben_Kingsley\n",
            "/wiki/William_H._Macy\n",
            "/wiki/Al_Pacino\n",
            "/wiki/Geoffrey_Rush\n",
            "/wiki/Paul_Newman\n",
            "/wiki/Jeremy_Irons\n",
            "/wiki/Kevin_Kline\n",
            "/wiki/Paul_Giamatti\n",
            "/wiki/Al_Pacino\n",
            "/wiki/Paul_Giamatti\n",
            "/wiki/Kevin_Costner\n",
            "/wiki/Michael_Douglas\n",
            "/wiki/Mark_Ruffalo\n",
            "/wiki/Idris_Elba\n",
            "/wiki/Bryan_Cranston\n",
            "/wiki/Alexander_Skarsg%C3%A5rd\n",
            "/wiki/Darren_Criss\n",
            "/wiki/Sam_Rockwell\n",
            "/wiki/Mark_Ruffalo\n",
            "/wiki/ISNI_(identifier)\n",
            "/wiki/VIAF_(identifier)\n",
            "/wiki/MBA_(identifier)\n",
            "/wiki/RERO_(identifier)\n",
            "/wiki/SUDOC_(identifier)\n",
            "/wiki/Trove_(identifier)\n"
          ]
        }
      ]
    },
    {
      "cell_type": "code",
      "source": [
        "from urllib.request import urlopen\n",
        "from bs4 import BeautifulSoup\n",
        "import datetime\n",
        "import random\n",
        "import re\n",
        "\n",
        "random.seed(datetime.datetime.now())\n",
        "def getLinks(articleUrl):\n",
        "    html=urlopen(\"http://en.wikipedia.org\"+articleUrl)\n",
        "    bsObj=BeautifulSoup(html)\n",
        "    return bsObj.find(\"div\",{\"id\":\"bodyContent\"}).findAll(\"a\",href=re.compile(\"^(/wiki/)((?!:).)*$\"))\n",
        "links=getLinks(\"/wiki/Kevin_Bacon\")\n",
        "while len(links)>0:\n",
        "    newArticle=links[random.randint(0,len(links)-1)].attrs[\"href\"]\n",
        "    print(newArticle)\n",
        "    links=getLinks(newArticle)"
      ],
      "metadata": {
        "colab": {
          "base_uri": "https://localhost:8080/",
          "height": 1000
        },
        "id": "KtuWx0EfuBn1",
        "outputId": "478399e9-f63d-4d66-aa2b-0b0f80107b22"
      },
      "execution_count": null,
      "outputs": [
        {
          "output_type": "stream",
          "name": "stdout",
          "text": [
            "/wiki/Kevin_Bacon_(disambiguation)\n",
            "/wiki/Kevin_Bacon_(producer)\n",
            "/wiki/Sugababes\n",
            "/wiki/SoundCloud\n",
            "/wiki/Funny_or_Die\n",
            "/wiki/Jessica_Alba\n",
            "/wiki/Robert_De_Niro\n",
            "/wiki/Dave_Brubeck\n",
            "/wiki/Ron_Crotty\n",
            "/wiki/Berkeley,_California\n",
            "/wiki/Inland_Empire\n",
            "/wiki/Cajon_Pass\n",
            "/wiki/Washington,_D.C.\n",
            "/wiki/Mayor_of_the_District_of_Columbia\n",
            "/wiki/Political_party_strength_in_Washington,_D.C.\n",
            "/wiki/District_of_Columbia_Organic_Act_of_1801\n",
            "/wiki/Initiatives_and_referendums_in_the_District_of_Columbia\n",
            "/wiki/Statehood_movement_in_the_District_of_Columbia\n",
            "/wiki/United_States_Capitol\n",
            "/wiki/George_Washington_(Houdon)\n",
            "/wiki/Statue_of_William_Allen\n",
            "/wiki/Statue_of_Roger_Sherman\n",
            "/wiki/Jefferson_Memorial#Exterior\n",
            "/wiki/Statue_of_Abraham_Lincoln_(Hodgenville,_Kentucky)\n",
            "/wiki/Lincoln%27s_House_Divided_Speech\n",
            "/wiki/Columbus,_Ohio\n",
            "/wiki/Horizon_Science_Academy_Columbus_High_School\n",
            "/wiki/Ohio_State_School_for_the_Blind\n",
            "/wiki/Missouri_Academy_of_Science,_Mathematics_and_Computing\n",
            "/wiki/Pittsburg_State_Gorillas\n",
            "/wiki/Pittsburg_State_University\n",
            "/wiki/Universitas_Islam_Negeri_Alauddin_Makassar\n",
            "/wiki/Indonesia_Open_University\n",
            "/wiki/VIAF_(identifier)\n",
            "/wiki/CAE_number\n",
            "/wiki/ISO/IEC_7812\n",
            "/wiki/IEEE_754\n",
            "/wiki/Universal_Remote_Console\n",
            "/wiki/C_Sharp_(programming_language)\n",
            "/wiki/List_of_IEC_standards\n",
            "/wiki/POSIX\n",
            "/wiki/Common_Criteria\n",
            "/wiki/Prolog\n",
            "/wiki/Perfect_numbers\n",
            "/wiki/Triangular_number\n",
            "/wiki/Lauricella_hypergeometric_series\n",
            "/wiki/1/2_%E2%88%92_1/4_%2B_1/8_%E2%88%92_1/16_%2B_%E2%8B%AF\n",
            "/wiki/Square_number\n",
            "/wiki/Arithmetic_dynamics\n",
            "/wiki/L-function\n",
            "/wiki/Half-plane\n",
            "/wiki/Upper_half-plane\n",
            "/wiki/Collinear_points\n",
            "/wiki/Medial_triangle\n",
            "/wiki/Congruence_(geometry)\n",
            "/wiki/Euclidean_plane_isometry\n",
            "/wiki/Euclidean_distance\n",
            "/wiki/ISBN_(identifier)\n",
            "/wiki/Book_censorship\n",
            "/wiki/Fictional_book\n",
            "/wiki/Book_series\n",
            "/wiki/Marcel_Proust\n",
            "/wiki/Sergei_Diaghilev\n",
            "/wiki/Sergei_Rachmaninoff\n",
            "/wiki/John_Williams_(guitarist)\n",
            "/wiki/Ignacio_Fleta\n",
            "/wiki/Alirio_D%C3%ADaz\n",
            "/wiki/Office_de_Radiodiffusion_T%C3%A9l%C3%A9vision_Fran%C3%A7aise\n",
            "/wiki/France_Culture\n",
            "/wiki/Fun_Radio_(France)\n",
            "/wiki/Berkley_Books\n",
            "/wiki/Australia\n",
            "/wiki/South_Georgia_and_the_South_Sandwich_Islands\n",
            "/wiki/Colony_of_Western_Australia\n",
            "/wiki/Fran%C3%A7ois_Thijssen\n",
            "/wiki/Isaac_Titsingh\n",
            "/wiki/Triangulum_Australe\n",
            "/wiki/Declination\n",
            "/wiki/Lunar_standstill\n",
            "/wiki/Nodal_precession\n",
            "/wiki/Lunar_standstill\n",
            "/wiki/Orbit_of_the_Moon\n",
            "/wiki/Month\n",
            "/wiki/Moon\n",
            "/wiki/Iapetus_(moon)\n",
            "/wiki/Paaliaq\n",
            "/wiki/Fenrir_(moon)\n",
            "/wiki/47171_Lempo\n"
          ]
        },
        {
          "output_type": "error",
          "ename": "KeyboardInterrupt",
          "evalue": "ignored",
          "traceback": [
            "\u001b[0;31m---------------------------------------------------------------------------\u001b[0m",
            "\u001b[0;31mKeyboardInterrupt\u001b[0m                         Traceback (most recent call last)",
            "\u001b[0;32m<ipython-input-24-d2419c3d8ba4>\u001b[0m in \u001b[0;36m<module>\u001b[0;34m()\u001b[0m\n\u001b[1;32m     14\u001b[0m     \u001b[0mnewArticle\u001b[0m\u001b[0;34m=\u001b[0m\u001b[0mlinks\u001b[0m\u001b[0;34m[\u001b[0m\u001b[0mrandom\u001b[0m\u001b[0;34m.\u001b[0m\u001b[0mrandint\u001b[0m\u001b[0;34m(\u001b[0m\u001b[0;36m0\u001b[0m\u001b[0;34m,\u001b[0m\u001b[0mlen\u001b[0m\u001b[0;34m(\u001b[0m\u001b[0mlinks\u001b[0m\u001b[0;34m)\u001b[0m\u001b[0;34m-\u001b[0m\u001b[0;36m1\u001b[0m\u001b[0;34m)\u001b[0m\u001b[0;34m]\u001b[0m\u001b[0;34m.\u001b[0m\u001b[0mattrs\u001b[0m\u001b[0;34m[\u001b[0m\u001b[0;34m\"href\"\u001b[0m\u001b[0;34m]\u001b[0m\u001b[0;34m\u001b[0m\u001b[0;34m\u001b[0m\u001b[0m\n\u001b[1;32m     15\u001b[0m     \u001b[0mprint\u001b[0m\u001b[0;34m(\u001b[0m\u001b[0mnewArticle\u001b[0m\u001b[0;34m)\u001b[0m\u001b[0;34m\u001b[0m\u001b[0;34m\u001b[0m\u001b[0m\n\u001b[0;32m---> 16\u001b[0;31m     \u001b[0mlinks\u001b[0m\u001b[0;34m=\u001b[0m\u001b[0mgetLinks\u001b[0m\u001b[0;34m(\u001b[0m\u001b[0mnewArticle\u001b[0m\u001b[0;34m)\u001b[0m\u001b[0;34m\u001b[0m\u001b[0;34m\u001b[0m\u001b[0m\n\u001b[0m",
            "\u001b[0;32m<ipython-input-24-d2419c3d8ba4>\u001b[0m in \u001b[0;36mgetLinks\u001b[0;34m(articleUrl)\u001b[0m\n\u001b[1;32m      7\u001b[0m \u001b[0mrandom\u001b[0m\u001b[0;34m.\u001b[0m\u001b[0mseed\u001b[0m\u001b[0;34m(\u001b[0m\u001b[0mdatetime\u001b[0m\u001b[0;34m.\u001b[0m\u001b[0mdatetime\u001b[0m\u001b[0;34m.\u001b[0m\u001b[0mnow\u001b[0m\u001b[0;34m(\u001b[0m\u001b[0;34m)\u001b[0m\u001b[0;34m)\u001b[0m\u001b[0;34m\u001b[0m\u001b[0;34m\u001b[0m\u001b[0m\n\u001b[1;32m      8\u001b[0m \u001b[0;32mdef\u001b[0m \u001b[0mgetLinks\u001b[0m\u001b[0;34m(\u001b[0m\u001b[0marticleUrl\u001b[0m\u001b[0;34m)\u001b[0m\u001b[0;34m:\u001b[0m\u001b[0;34m\u001b[0m\u001b[0;34m\u001b[0m\u001b[0m\n\u001b[0;32m----> 9\u001b[0;31m     \u001b[0mhtml\u001b[0m\u001b[0;34m=\u001b[0m\u001b[0murlopen\u001b[0m\u001b[0;34m(\u001b[0m\u001b[0;34m\"http://en.wikipedia.org\"\u001b[0m\u001b[0;34m+\u001b[0m\u001b[0marticleUrl\u001b[0m\u001b[0;34m)\u001b[0m\u001b[0;34m\u001b[0m\u001b[0;34m\u001b[0m\u001b[0m\n\u001b[0m\u001b[1;32m     10\u001b[0m     \u001b[0mbsObj\u001b[0m\u001b[0;34m=\u001b[0m\u001b[0mBeautifulSoup\u001b[0m\u001b[0;34m(\u001b[0m\u001b[0mhtml\u001b[0m\u001b[0;34m)\u001b[0m\u001b[0;34m\u001b[0m\u001b[0;34m\u001b[0m\u001b[0m\n\u001b[1;32m     11\u001b[0m     \u001b[0;32mreturn\u001b[0m \u001b[0mbsObj\u001b[0m\u001b[0;34m.\u001b[0m\u001b[0mfind\u001b[0m\u001b[0;34m(\u001b[0m\u001b[0;34m\"div\"\u001b[0m\u001b[0;34m,\u001b[0m\u001b[0;34m{\u001b[0m\u001b[0;34m\"id\"\u001b[0m\u001b[0;34m:\u001b[0m\u001b[0;34m\"bodyContent\"\u001b[0m\u001b[0;34m}\u001b[0m\u001b[0;34m)\u001b[0m\u001b[0;34m.\u001b[0m\u001b[0mfindAll\u001b[0m\u001b[0;34m(\u001b[0m\u001b[0;34m\"a\"\u001b[0m\u001b[0;34m,\u001b[0m\u001b[0mhref\u001b[0m\u001b[0;34m=\u001b[0m\u001b[0mre\u001b[0m\u001b[0;34m.\u001b[0m\u001b[0mcompile\u001b[0m\u001b[0;34m(\u001b[0m\u001b[0;34m\"^(/wiki/)((?!:).)*$\"\u001b[0m\u001b[0;34m)\u001b[0m\u001b[0;34m)\u001b[0m\u001b[0;34m\u001b[0m\u001b[0;34m\u001b[0m\u001b[0m\n",
            "\u001b[0;32m/usr/lib/python3.7/urllib/request.py\u001b[0m in \u001b[0;36murlopen\u001b[0;34m(url, data, timeout, cafile, capath, cadefault, context)\u001b[0m\n\u001b[1;32m    220\u001b[0m     \u001b[0;32melse\u001b[0m\u001b[0;34m:\u001b[0m\u001b[0;34m\u001b[0m\u001b[0;34m\u001b[0m\u001b[0m\n\u001b[1;32m    221\u001b[0m         \u001b[0mopener\u001b[0m \u001b[0;34m=\u001b[0m \u001b[0m_opener\u001b[0m\u001b[0;34m\u001b[0m\u001b[0;34m\u001b[0m\u001b[0m\n\u001b[0;32m--> 222\u001b[0;31m     \u001b[0;32mreturn\u001b[0m \u001b[0mopener\u001b[0m\u001b[0;34m.\u001b[0m\u001b[0mopen\u001b[0m\u001b[0;34m(\u001b[0m\u001b[0murl\u001b[0m\u001b[0;34m,\u001b[0m \u001b[0mdata\u001b[0m\u001b[0;34m,\u001b[0m \u001b[0mtimeout\u001b[0m\u001b[0;34m)\u001b[0m\u001b[0;34m\u001b[0m\u001b[0;34m\u001b[0m\u001b[0m\n\u001b[0m\u001b[1;32m    223\u001b[0m \u001b[0;34m\u001b[0m\u001b[0m\n\u001b[1;32m    224\u001b[0m \u001b[0;32mdef\u001b[0m \u001b[0minstall_opener\u001b[0m\u001b[0;34m(\u001b[0m\u001b[0mopener\u001b[0m\u001b[0;34m)\u001b[0m\u001b[0;34m:\u001b[0m\u001b[0;34m\u001b[0m\u001b[0;34m\u001b[0m\u001b[0m\n",
            "\u001b[0;32m/usr/lib/python3.7/urllib/request.py\u001b[0m in \u001b[0;36mopen\u001b[0;34m(self, fullurl, data, timeout)\u001b[0m\n\u001b[1;32m    529\u001b[0m         \u001b[0;32mfor\u001b[0m \u001b[0mprocessor\u001b[0m \u001b[0;32min\u001b[0m \u001b[0mself\u001b[0m\u001b[0;34m.\u001b[0m\u001b[0mprocess_response\u001b[0m\u001b[0;34m.\u001b[0m\u001b[0mget\u001b[0m\u001b[0;34m(\u001b[0m\u001b[0mprotocol\u001b[0m\u001b[0;34m,\u001b[0m \u001b[0;34m[\u001b[0m\u001b[0;34m]\u001b[0m\u001b[0;34m)\u001b[0m\u001b[0;34m:\u001b[0m\u001b[0;34m\u001b[0m\u001b[0;34m\u001b[0m\u001b[0m\n\u001b[1;32m    530\u001b[0m             \u001b[0mmeth\u001b[0m \u001b[0;34m=\u001b[0m \u001b[0mgetattr\u001b[0m\u001b[0;34m(\u001b[0m\u001b[0mprocessor\u001b[0m\u001b[0;34m,\u001b[0m \u001b[0mmeth_name\u001b[0m\u001b[0;34m)\u001b[0m\u001b[0;34m\u001b[0m\u001b[0;34m\u001b[0m\u001b[0m\n\u001b[0;32m--> 531\u001b[0;31m             \u001b[0mresponse\u001b[0m \u001b[0;34m=\u001b[0m \u001b[0mmeth\u001b[0m\u001b[0;34m(\u001b[0m\u001b[0mreq\u001b[0m\u001b[0;34m,\u001b[0m \u001b[0mresponse\u001b[0m\u001b[0;34m)\u001b[0m\u001b[0;34m\u001b[0m\u001b[0;34m\u001b[0m\u001b[0m\n\u001b[0m\u001b[1;32m    532\u001b[0m \u001b[0;34m\u001b[0m\u001b[0m\n\u001b[1;32m    533\u001b[0m         \u001b[0;32mreturn\u001b[0m \u001b[0mresponse\u001b[0m\u001b[0;34m\u001b[0m\u001b[0;34m\u001b[0m\u001b[0m\n",
            "\u001b[0;32m/usr/lib/python3.7/urllib/request.py\u001b[0m in \u001b[0;36mhttp_response\u001b[0;34m(self, request, response)\u001b[0m\n\u001b[1;32m    639\u001b[0m         \u001b[0;32mif\u001b[0m \u001b[0;32mnot\u001b[0m \u001b[0;34m(\u001b[0m\u001b[0;36m200\u001b[0m \u001b[0;34m<=\u001b[0m \u001b[0mcode\u001b[0m \u001b[0;34m<\u001b[0m \u001b[0;36m300\u001b[0m\u001b[0;34m)\u001b[0m\u001b[0;34m:\u001b[0m\u001b[0;34m\u001b[0m\u001b[0;34m\u001b[0m\u001b[0m\n\u001b[1;32m    640\u001b[0m             response = self.parent.error(\n\u001b[0;32m--> 641\u001b[0;31m                 'http', request, response, code, msg, hdrs)\n\u001b[0m\u001b[1;32m    642\u001b[0m \u001b[0;34m\u001b[0m\u001b[0m\n\u001b[1;32m    643\u001b[0m         \u001b[0;32mreturn\u001b[0m \u001b[0mresponse\u001b[0m\u001b[0;34m\u001b[0m\u001b[0;34m\u001b[0m\u001b[0m\n",
            "\u001b[0;32m/usr/lib/python3.7/urllib/request.py\u001b[0m in \u001b[0;36merror\u001b[0;34m(self, proto, *args)\u001b[0m\n\u001b[1;32m    561\u001b[0m             \u001b[0mhttp_err\u001b[0m \u001b[0;34m=\u001b[0m \u001b[0;36m0\u001b[0m\u001b[0;34m\u001b[0m\u001b[0;34m\u001b[0m\u001b[0m\n\u001b[1;32m    562\u001b[0m         \u001b[0margs\u001b[0m \u001b[0;34m=\u001b[0m \u001b[0;34m(\u001b[0m\u001b[0mdict\u001b[0m\u001b[0;34m,\u001b[0m \u001b[0mproto\u001b[0m\u001b[0;34m,\u001b[0m \u001b[0mmeth_name\u001b[0m\u001b[0;34m)\u001b[0m \u001b[0;34m+\u001b[0m \u001b[0margs\u001b[0m\u001b[0;34m\u001b[0m\u001b[0;34m\u001b[0m\u001b[0m\n\u001b[0;32m--> 563\u001b[0;31m         \u001b[0mresult\u001b[0m \u001b[0;34m=\u001b[0m \u001b[0mself\u001b[0m\u001b[0;34m.\u001b[0m\u001b[0m_call_chain\u001b[0m\u001b[0;34m(\u001b[0m\u001b[0;34m*\u001b[0m\u001b[0margs\u001b[0m\u001b[0;34m)\u001b[0m\u001b[0;34m\u001b[0m\u001b[0;34m\u001b[0m\u001b[0m\n\u001b[0m\u001b[1;32m    564\u001b[0m         \u001b[0;32mif\u001b[0m \u001b[0mresult\u001b[0m\u001b[0;34m:\u001b[0m\u001b[0;34m\u001b[0m\u001b[0;34m\u001b[0m\u001b[0m\n\u001b[1;32m    565\u001b[0m             \u001b[0;32mreturn\u001b[0m \u001b[0mresult\u001b[0m\u001b[0;34m\u001b[0m\u001b[0;34m\u001b[0m\u001b[0m\n",
            "\u001b[0;32m/usr/lib/python3.7/urllib/request.py\u001b[0m in \u001b[0;36m_call_chain\u001b[0;34m(self, chain, kind, meth_name, *args)\u001b[0m\n\u001b[1;32m    501\u001b[0m         \u001b[0;32mfor\u001b[0m \u001b[0mhandler\u001b[0m \u001b[0;32min\u001b[0m \u001b[0mhandlers\u001b[0m\u001b[0;34m:\u001b[0m\u001b[0;34m\u001b[0m\u001b[0;34m\u001b[0m\u001b[0m\n\u001b[1;32m    502\u001b[0m             \u001b[0mfunc\u001b[0m \u001b[0;34m=\u001b[0m \u001b[0mgetattr\u001b[0m\u001b[0;34m(\u001b[0m\u001b[0mhandler\u001b[0m\u001b[0;34m,\u001b[0m \u001b[0mmeth_name\u001b[0m\u001b[0;34m)\u001b[0m\u001b[0;34m\u001b[0m\u001b[0;34m\u001b[0m\u001b[0m\n\u001b[0;32m--> 503\u001b[0;31m             \u001b[0mresult\u001b[0m \u001b[0;34m=\u001b[0m \u001b[0mfunc\u001b[0m\u001b[0;34m(\u001b[0m\u001b[0;34m*\u001b[0m\u001b[0margs\u001b[0m\u001b[0;34m)\u001b[0m\u001b[0;34m\u001b[0m\u001b[0;34m\u001b[0m\u001b[0m\n\u001b[0m\u001b[1;32m    504\u001b[0m             \u001b[0;32mif\u001b[0m \u001b[0mresult\u001b[0m \u001b[0;32mis\u001b[0m \u001b[0;32mnot\u001b[0m \u001b[0;32mNone\u001b[0m\u001b[0;34m:\u001b[0m\u001b[0;34m\u001b[0m\u001b[0;34m\u001b[0m\u001b[0m\n\u001b[1;32m    505\u001b[0m                 \u001b[0;32mreturn\u001b[0m \u001b[0mresult\u001b[0m\u001b[0;34m\u001b[0m\u001b[0;34m\u001b[0m\u001b[0m\n",
            "\u001b[0;32m/usr/lib/python3.7/urllib/request.py\u001b[0m in \u001b[0;36mhttp_error_302\u001b[0;34m(self, req, fp, code, msg, headers)\u001b[0m\n\u001b[1;32m    753\u001b[0m         \u001b[0mfp\u001b[0m\u001b[0;34m.\u001b[0m\u001b[0mclose\u001b[0m\u001b[0;34m(\u001b[0m\u001b[0;34m)\u001b[0m\u001b[0;34m\u001b[0m\u001b[0;34m\u001b[0m\u001b[0m\n\u001b[1;32m    754\u001b[0m \u001b[0;34m\u001b[0m\u001b[0m\n\u001b[0;32m--> 755\u001b[0;31m         \u001b[0;32mreturn\u001b[0m \u001b[0mself\u001b[0m\u001b[0;34m.\u001b[0m\u001b[0mparent\u001b[0m\u001b[0;34m.\u001b[0m\u001b[0mopen\u001b[0m\u001b[0;34m(\u001b[0m\u001b[0mnew\u001b[0m\u001b[0;34m,\u001b[0m \u001b[0mtimeout\u001b[0m\u001b[0;34m=\u001b[0m\u001b[0mreq\u001b[0m\u001b[0;34m.\u001b[0m\u001b[0mtimeout\u001b[0m\u001b[0;34m)\u001b[0m\u001b[0;34m\u001b[0m\u001b[0;34m\u001b[0m\u001b[0m\n\u001b[0m\u001b[1;32m    756\u001b[0m \u001b[0;34m\u001b[0m\u001b[0m\n\u001b[1;32m    757\u001b[0m     \u001b[0mhttp_error_301\u001b[0m \u001b[0;34m=\u001b[0m \u001b[0mhttp_error_303\u001b[0m \u001b[0;34m=\u001b[0m \u001b[0mhttp_error_307\u001b[0m \u001b[0;34m=\u001b[0m \u001b[0mhttp_error_302\u001b[0m\u001b[0;34m\u001b[0m\u001b[0;34m\u001b[0m\u001b[0m\n",
            "\u001b[0;32m/usr/lib/python3.7/urllib/request.py\u001b[0m in \u001b[0;36mopen\u001b[0;34m(self, fullurl, data, timeout)\u001b[0m\n\u001b[1;32m    523\u001b[0m             \u001b[0mreq\u001b[0m \u001b[0;34m=\u001b[0m \u001b[0mmeth\u001b[0m\u001b[0;34m(\u001b[0m\u001b[0mreq\u001b[0m\u001b[0;34m)\u001b[0m\u001b[0;34m\u001b[0m\u001b[0;34m\u001b[0m\u001b[0m\n\u001b[1;32m    524\u001b[0m \u001b[0;34m\u001b[0m\u001b[0m\n\u001b[0;32m--> 525\u001b[0;31m         \u001b[0mresponse\u001b[0m \u001b[0;34m=\u001b[0m \u001b[0mself\u001b[0m\u001b[0;34m.\u001b[0m\u001b[0m_open\u001b[0m\u001b[0;34m(\u001b[0m\u001b[0mreq\u001b[0m\u001b[0;34m,\u001b[0m \u001b[0mdata\u001b[0m\u001b[0;34m)\u001b[0m\u001b[0;34m\u001b[0m\u001b[0;34m\u001b[0m\u001b[0m\n\u001b[0m\u001b[1;32m    526\u001b[0m \u001b[0;34m\u001b[0m\u001b[0m\n\u001b[1;32m    527\u001b[0m         \u001b[0;31m# post-process response\u001b[0m\u001b[0;34m\u001b[0m\u001b[0;34m\u001b[0m\u001b[0;34m\u001b[0m\u001b[0m\n",
            "\u001b[0;32m/usr/lib/python3.7/urllib/request.py\u001b[0m in \u001b[0;36m_open\u001b[0;34m(self, req, data)\u001b[0m\n\u001b[1;32m    541\u001b[0m         \u001b[0mprotocol\u001b[0m \u001b[0;34m=\u001b[0m \u001b[0mreq\u001b[0m\u001b[0;34m.\u001b[0m\u001b[0mtype\u001b[0m\u001b[0;34m\u001b[0m\u001b[0;34m\u001b[0m\u001b[0m\n\u001b[1;32m    542\u001b[0m         result = self._call_chain(self.handle_open, protocol, protocol +\n\u001b[0;32m--> 543\u001b[0;31m                                   '_open', req)\n\u001b[0m\u001b[1;32m    544\u001b[0m         \u001b[0;32mif\u001b[0m \u001b[0mresult\u001b[0m\u001b[0;34m:\u001b[0m\u001b[0;34m\u001b[0m\u001b[0;34m\u001b[0m\u001b[0m\n\u001b[1;32m    545\u001b[0m             \u001b[0;32mreturn\u001b[0m \u001b[0mresult\u001b[0m\u001b[0;34m\u001b[0m\u001b[0;34m\u001b[0m\u001b[0m\n",
            "\u001b[0;32m/usr/lib/python3.7/urllib/request.py\u001b[0m in \u001b[0;36m_call_chain\u001b[0;34m(self, chain, kind, meth_name, *args)\u001b[0m\n\u001b[1;32m    501\u001b[0m         \u001b[0;32mfor\u001b[0m \u001b[0mhandler\u001b[0m \u001b[0;32min\u001b[0m \u001b[0mhandlers\u001b[0m\u001b[0;34m:\u001b[0m\u001b[0;34m\u001b[0m\u001b[0;34m\u001b[0m\u001b[0m\n\u001b[1;32m    502\u001b[0m             \u001b[0mfunc\u001b[0m \u001b[0;34m=\u001b[0m \u001b[0mgetattr\u001b[0m\u001b[0;34m(\u001b[0m\u001b[0mhandler\u001b[0m\u001b[0;34m,\u001b[0m \u001b[0mmeth_name\u001b[0m\u001b[0;34m)\u001b[0m\u001b[0;34m\u001b[0m\u001b[0;34m\u001b[0m\u001b[0m\n\u001b[0;32m--> 503\u001b[0;31m             \u001b[0mresult\u001b[0m \u001b[0;34m=\u001b[0m \u001b[0mfunc\u001b[0m\u001b[0;34m(\u001b[0m\u001b[0;34m*\u001b[0m\u001b[0margs\u001b[0m\u001b[0;34m)\u001b[0m\u001b[0;34m\u001b[0m\u001b[0;34m\u001b[0m\u001b[0m\n\u001b[0m\u001b[1;32m    504\u001b[0m             \u001b[0;32mif\u001b[0m \u001b[0mresult\u001b[0m \u001b[0;32mis\u001b[0m \u001b[0;32mnot\u001b[0m \u001b[0;32mNone\u001b[0m\u001b[0;34m:\u001b[0m\u001b[0;34m\u001b[0m\u001b[0;34m\u001b[0m\u001b[0m\n\u001b[1;32m    505\u001b[0m                 \u001b[0;32mreturn\u001b[0m \u001b[0mresult\u001b[0m\u001b[0;34m\u001b[0m\u001b[0;34m\u001b[0m\u001b[0m\n",
            "\u001b[0;32m/usr/lib/python3.7/urllib/request.py\u001b[0m in \u001b[0;36mhttps_open\u001b[0;34m(self, req)\u001b[0m\n\u001b[1;32m   1391\u001b[0m         \u001b[0;32mdef\u001b[0m \u001b[0mhttps_open\u001b[0m\u001b[0;34m(\u001b[0m\u001b[0mself\u001b[0m\u001b[0;34m,\u001b[0m \u001b[0mreq\u001b[0m\u001b[0;34m)\u001b[0m\u001b[0;34m:\u001b[0m\u001b[0;34m\u001b[0m\u001b[0;34m\u001b[0m\u001b[0m\n\u001b[1;32m   1392\u001b[0m             return self.do_open(http.client.HTTPSConnection, req,\n\u001b[0;32m-> 1393\u001b[0;31m                 context=self._context, check_hostname=self._check_hostname)\n\u001b[0m\u001b[1;32m   1394\u001b[0m \u001b[0;34m\u001b[0m\u001b[0m\n\u001b[1;32m   1395\u001b[0m         \u001b[0mhttps_request\u001b[0m \u001b[0;34m=\u001b[0m \u001b[0mAbstractHTTPHandler\u001b[0m\u001b[0;34m.\u001b[0m\u001b[0mdo_request_\u001b[0m\u001b[0;34m\u001b[0m\u001b[0;34m\u001b[0m\u001b[0m\n",
            "\u001b[0;32m/usr/lib/python3.7/urllib/request.py\u001b[0m in \u001b[0;36mdo_open\u001b[0;34m(self, http_class, req, **http_conn_args)\u001b[0m\n\u001b[1;32m   1351\u001b[0m             \u001b[0;32mexcept\u001b[0m \u001b[0mOSError\u001b[0m \u001b[0;32mas\u001b[0m \u001b[0merr\u001b[0m\u001b[0;34m:\u001b[0m \u001b[0;31m# timeout error\u001b[0m\u001b[0;34m\u001b[0m\u001b[0;34m\u001b[0m\u001b[0m\n\u001b[1;32m   1352\u001b[0m                 \u001b[0;32mraise\u001b[0m \u001b[0mURLError\u001b[0m\u001b[0;34m(\u001b[0m\u001b[0merr\u001b[0m\u001b[0;34m)\u001b[0m\u001b[0;34m\u001b[0m\u001b[0;34m\u001b[0m\u001b[0m\n\u001b[0;32m-> 1353\u001b[0;31m             \u001b[0mr\u001b[0m \u001b[0;34m=\u001b[0m \u001b[0mh\u001b[0m\u001b[0;34m.\u001b[0m\u001b[0mgetresponse\u001b[0m\u001b[0;34m(\u001b[0m\u001b[0;34m)\u001b[0m\u001b[0;34m\u001b[0m\u001b[0;34m\u001b[0m\u001b[0m\n\u001b[0m\u001b[1;32m   1354\u001b[0m         \u001b[0;32mexcept\u001b[0m\u001b[0;34m:\u001b[0m\u001b[0;34m\u001b[0m\u001b[0;34m\u001b[0m\u001b[0m\n\u001b[1;32m   1355\u001b[0m             \u001b[0mh\u001b[0m\u001b[0;34m.\u001b[0m\u001b[0mclose\u001b[0m\u001b[0;34m(\u001b[0m\u001b[0;34m)\u001b[0m\u001b[0;34m\u001b[0m\u001b[0;34m\u001b[0m\u001b[0m\n",
            "\u001b[0;32m/usr/lib/python3.7/http/client.py\u001b[0m in \u001b[0;36mgetresponse\u001b[0;34m(self)\u001b[0m\n\u001b[1;32m   1371\u001b[0m         \u001b[0;32mtry\u001b[0m\u001b[0;34m:\u001b[0m\u001b[0;34m\u001b[0m\u001b[0;34m\u001b[0m\u001b[0m\n\u001b[1;32m   1372\u001b[0m             \u001b[0;32mtry\u001b[0m\u001b[0;34m:\u001b[0m\u001b[0;34m\u001b[0m\u001b[0;34m\u001b[0m\u001b[0m\n\u001b[0;32m-> 1373\u001b[0;31m                 \u001b[0mresponse\u001b[0m\u001b[0;34m.\u001b[0m\u001b[0mbegin\u001b[0m\u001b[0;34m(\u001b[0m\u001b[0;34m)\u001b[0m\u001b[0;34m\u001b[0m\u001b[0;34m\u001b[0m\u001b[0m\n\u001b[0m\u001b[1;32m   1374\u001b[0m             \u001b[0;32mexcept\u001b[0m \u001b[0mConnectionError\u001b[0m\u001b[0;34m:\u001b[0m\u001b[0;34m\u001b[0m\u001b[0;34m\u001b[0m\u001b[0m\n\u001b[1;32m   1375\u001b[0m                 \u001b[0mself\u001b[0m\u001b[0;34m.\u001b[0m\u001b[0mclose\u001b[0m\u001b[0;34m(\u001b[0m\u001b[0;34m)\u001b[0m\u001b[0;34m\u001b[0m\u001b[0;34m\u001b[0m\u001b[0m\n",
            "\u001b[0;32m/usr/lib/python3.7/http/client.py\u001b[0m in \u001b[0;36mbegin\u001b[0;34m(self)\u001b[0m\n\u001b[1;32m    317\u001b[0m         \u001b[0;31m# read until we get a non-100 response\u001b[0m\u001b[0;34m\u001b[0m\u001b[0;34m\u001b[0m\u001b[0;34m\u001b[0m\u001b[0m\n\u001b[1;32m    318\u001b[0m         \u001b[0;32mwhile\u001b[0m \u001b[0;32mTrue\u001b[0m\u001b[0;34m:\u001b[0m\u001b[0;34m\u001b[0m\u001b[0;34m\u001b[0m\u001b[0m\n\u001b[0;32m--> 319\u001b[0;31m             \u001b[0mversion\u001b[0m\u001b[0;34m,\u001b[0m \u001b[0mstatus\u001b[0m\u001b[0;34m,\u001b[0m \u001b[0mreason\u001b[0m \u001b[0;34m=\u001b[0m \u001b[0mself\u001b[0m\u001b[0;34m.\u001b[0m\u001b[0m_read_status\u001b[0m\u001b[0;34m(\u001b[0m\u001b[0;34m)\u001b[0m\u001b[0;34m\u001b[0m\u001b[0;34m\u001b[0m\u001b[0m\n\u001b[0m\u001b[1;32m    320\u001b[0m             \u001b[0;32mif\u001b[0m \u001b[0mstatus\u001b[0m \u001b[0;34m!=\u001b[0m \u001b[0mCONTINUE\u001b[0m\u001b[0;34m:\u001b[0m\u001b[0;34m\u001b[0m\u001b[0;34m\u001b[0m\u001b[0m\n\u001b[1;32m    321\u001b[0m                 \u001b[0;32mbreak\u001b[0m\u001b[0;34m\u001b[0m\u001b[0;34m\u001b[0m\u001b[0m\n",
            "\u001b[0;32m/usr/lib/python3.7/http/client.py\u001b[0m in \u001b[0;36m_read_status\u001b[0;34m(self)\u001b[0m\n\u001b[1;32m    278\u001b[0m \u001b[0;34m\u001b[0m\u001b[0m\n\u001b[1;32m    279\u001b[0m     \u001b[0;32mdef\u001b[0m \u001b[0m_read_status\u001b[0m\u001b[0;34m(\u001b[0m\u001b[0mself\u001b[0m\u001b[0;34m)\u001b[0m\u001b[0;34m:\u001b[0m\u001b[0;34m\u001b[0m\u001b[0;34m\u001b[0m\u001b[0m\n\u001b[0;32m--> 280\u001b[0;31m         \u001b[0mline\u001b[0m \u001b[0;34m=\u001b[0m \u001b[0mstr\u001b[0m\u001b[0;34m(\u001b[0m\u001b[0mself\u001b[0m\u001b[0;34m.\u001b[0m\u001b[0mfp\u001b[0m\u001b[0;34m.\u001b[0m\u001b[0mreadline\u001b[0m\u001b[0;34m(\u001b[0m\u001b[0m_MAXLINE\u001b[0m \u001b[0;34m+\u001b[0m \u001b[0;36m1\u001b[0m\u001b[0;34m)\u001b[0m\u001b[0;34m,\u001b[0m \u001b[0;34m\"iso-8859-1\"\u001b[0m\u001b[0;34m)\u001b[0m\u001b[0;34m\u001b[0m\u001b[0;34m\u001b[0m\u001b[0m\n\u001b[0m\u001b[1;32m    281\u001b[0m         \u001b[0;32mif\u001b[0m \u001b[0mlen\u001b[0m\u001b[0;34m(\u001b[0m\u001b[0mline\u001b[0m\u001b[0;34m)\u001b[0m \u001b[0;34m>\u001b[0m \u001b[0m_MAXLINE\u001b[0m\u001b[0;34m:\u001b[0m\u001b[0;34m\u001b[0m\u001b[0;34m\u001b[0m\u001b[0m\n\u001b[1;32m    282\u001b[0m             \u001b[0;32mraise\u001b[0m \u001b[0mLineTooLong\u001b[0m\u001b[0;34m(\u001b[0m\u001b[0;34m\"status line\"\u001b[0m\u001b[0;34m)\u001b[0m\u001b[0;34m\u001b[0m\u001b[0;34m\u001b[0m\u001b[0m\n",
            "\u001b[0;32m/usr/lib/python3.7/socket.py\u001b[0m in \u001b[0;36mreadinto\u001b[0;34m(self, b)\u001b[0m\n\u001b[1;32m    587\u001b[0m         \u001b[0;32mwhile\u001b[0m \u001b[0;32mTrue\u001b[0m\u001b[0;34m:\u001b[0m\u001b[0;34m\u001b[0m\u001b[0;34m\u001b[0m\u001b[0m\n\u001b[1;32m    588\u001b[0m             \u001b[0;32mtry\u001b[0m\u001b[0;34m:\u001b[0m\u001b[0;34m\u001b[0m\u001b[0;34m\u001b[0m\u001b[0m\n\u001b[0;32m--> 589\u001b[0;31m                 \u001b[0;32mreturn\u001b[0m \u001b[0mself\u001b[0m\u001b[0;34m.\u001b[0m\u001b[0m_sock\u001b[0m\u001b[0;34m.\u001b[0m\u001b[0mrecv_into\u001b[0m\u001b[0;34m(\u001b[0m\u001b[0mb\u001b[0m\u001b[0;34m)\u001b[0m\u001b[0;34m\u001b[0m\u001b[0;34m\u001b[0m\u001b[0m\n\u001b[0m\u001b[1;32m    590\u001b[0m             \u001b[0;32mexcept\u001b[0m \u001b[0mtimeout\u001b[0m\u001b[0;34m:\u001b[0m\u001b[0;34m\u001b[0m\u001b[0;34m\u001b[0m\u001b[0m\n\u001b[1;32m    591\u001b[0m                 \u001b[0mself\u001b[0m\u001b[0;34m.\u001b[0m\u001b[0m_timeout_occurred\u001b[0m \u001b[0;34m=\u001b[0m \u001b[0;32mTrue\u001b[0m\u001b[0;34m\u001b[0m\u001b[0;34m\u001b[0m\u001b[0m\n",
            "\u001b[0;32m/usr/lib/python3.7/ssl.py\u001b[0m in \u001b[0;36mrecv_into\u001b[0;34m(self, buffer, nbytes, flags)\u001b[0m\n\u001b[1;32m   1069\u001b[0m                   \u001b[0;34m\"non-zero flags not allowed in calls to recv_into() on %s\"\u001b[0m \u001b[0;34m%\u001b[0m\u001b[0;34m\u001b[0m\u001b[0;34m\u001b[0m\u001b[0m\n\u001b[1;32m   1070\u001b[0m                   self.__class__)\n\u001b[0;32m-> 1071\u001b[0;31m             \u001b[0;32mreturn\u001b[0m \u001b[0mself\u001b[0m\u001b[0;34m.\u001b[0m\u001b[0mread\u001b[0m\u001b[0;34m(\u001b[0m\u001b[0mnbytes\u001b[0m\u001b[0;34m,\u001b[0m \u001b[0mbuffer\u001b[0m\u001b[0;34m)\u001b[0m\u001b[0;34m\u001b[0m\u001b[0;34m\u001b[0m\u001b[0m\n\u001b[0m\u001b[1;32m   1072\u001b[0m         \u001b[0;32melse\u001b[0m\u001b[0;34m:\u001b[0m\u001b[0;34m\u001b[0m\u001b[0;34m\u001b[0m\u001b[0m\n\u001b[1;32m   1073\u001b[0m             \u001b[0;32mreturn\u001b[0m \u001b[0msuper\u001b[0m\u001b[0;34m(\u001b[0m\u001b[0;34m)\u001b[0m\u001b[0;34m.\u001b[0m\u001b[0mrecv_into\u001b[0m\u001b[0;34m(\u001b[0m\u001b[0mbuffer\u001b[0m\u001b[0;34m,\u001b[0m \u001b[0mnbytes\u001b[0m\u001b[0;34m,\u001b[0m \u001b[0mflags\u001b[0m\u001b[0;34m)\u001b[0m\u001b[0;34m\u001b[0m\u001b[0;34m\u001b[0m\u001b[0m\n",
            "\u001b[0;32m/usr/lib/python3.7/ssl.py\u001b[0m in \u001b[0;36mread\u001b[0;34m(self, len, buffer)\u001b[0m\n\u001b[1;32m    927\u001b[0m         \u001b[0;32mtry\u001b[0m\u001b[0;34m:\u001b[0m\u001b[0;34m\u001b[0m\u001b[0;34m\u001b[0m\u001b[0m\n\u001b[1;32m    928\u001b[0m             \u001b[0;32mif\u001b[0m \u001b[0mbuffer\u001b[0m \u001b[0;32mis\u001b[0m \u001b[0;32mnot\u001b[0m \u001b[0;32mNone\u001b[0m\u001b[0;34m:\u001b[0m\u001b[0;34m\u001b[0m\u001b[0;34m\u001b[0m\u001b[0m\n\u001b[0;32m--> 929\u001b[0;31m                 \u001b[0;32mreturn\u001b[0m \u001b[0mself\u001b[0m\u001b[0;34m.\u001b[0m\u001b[0m_sslobj\u001b[0m\u001b[0;34m.\u001b[0m\u001b[0mread\u001b[0m\u001b[0;34m(\u001b[0m\u001b[0mlen\u001b[0m\u001b[0;34m,\u001b[0m \u001b[0mbuffer\u001b[0m\u001b[0;34m)\u001b[0m\u001b[0;34m\u001b[0m\u001b[0;34m\u001b[0m\u001b[0m\n\u001b[0m\u001b[1;32m    930\u001b[0m             \u001b[0;32melse\u001b[0m\u001b[0;34m:\u001b[0m\u001b[0;34m\u001b[0m\u001b[0;34m\u001b[0m\u001b[0m\n\u001b[1;32m    931\u001b[0m                 \u001b[0;32mreturn\u001b[0m \u001b[0mself\u001b[0m\u001b[0;34m.\u001b[0m\u001b[0m_sslobj\u001b[0m\u001b[0;34m.\u001b[0m\u001b[0mread\u001b[0m\u001b[0;34m(\u001b[0m\u001b[0mlen\u001b[0m\u001b[0;34m)\u001b[0m\u001b[0;34m\u001b[0m\u001b[0;34m\u001b[0m\u001b[0m\n",
            "\u001b[0;31mKeyboardInterrupt\u001b[0m: "
          ]
        }
      ]
    },
    {
      "cell_type": "markdown",
      "source": [
        "#### Crawling an Entire Site\n",
        "Usage:\n",
        "1. Generating a site map\n",
        "2. Gathering data\n",
        "\n",
        "How?\n",
        "1. start crawl with top-level page (home page)\n",
        "2. search for list of all internal links on that page\n",
        "3. crawl each of those links\n",
        "4. when crawling additional links are found, crawl those too\n",
        "5. avoid crawling same page twice as those links might be duplicates\n",
        "6. crawl only \"new\" links"
      ],
      "metadata": {
        "id": "rtD6kwH2yAnH"
      }
    },
    {
      "cell_type": "code",
      "source": [
        "from urllib.request import urlopen\n",
        "from bs4 import BeautifulSoup\n",
        "import re\n",
        "\n",
        "pages=set()\n",
        "def getLinks(pageUrl):\n",
        "    global pages\n",
        "    html=urlopen(\"http://en.wikipedia.org\"+pageUrl)\n",
        "    bsObj=BeautifulSoup(html)\n",
        "    for link in bsObj.findAll(\"a\",href=re.compile(\"^(/wiki/)\")):\n",
        "        if 'href' in link.attrs:\n",
        "            if link.attrs['href'] not in pages:\n",
        "                # We have encountered a new page\n",
        "                 newPage = link.attrs['href']\n",
        "                 print(newPage)\n",
        "                 pages.add(newPage)\n",
        "                 getLinks(newPage)\n",
        "getLinks(\"\")"
      ],
      "metadata": {
        "id": "-yNVu8NrkGHQ"
      },
      "execution_count": null,
      "outputs": []
    },
    {
      "cell_type": "markdown",
      "source": [
        "Explanation:\n",
        "1. getLinks(\"\") starts the function with empty URL which is the wiki front page\n",
        "2. each link in this front page is iterated through to check if its in the global set of pages\n",
        "3. If not, it is added to the list and printed to screen\n",
        "4. getLinks is then called recursively on it"
      ],
      "metadata": {
        "id": "S9nlLr9olcxM"
      }
    },
    {
      "cell_type": "markdown",
      "source": [
        "#### Collecting Data Across an Entire Site\n",
        "Lets try:\n",
        "1. *collect the title*  \n",
        "titles under 1h -> span tags\n",
        "2. *the first paragraph of the content*  \n",
        "all body text is under div#bodyContent tag.  \n",
        "to specify just the first paragraph of text, div#mv-content-text->p (select 1st paragraph tag only)\n",
        "3. *link to edit the page (if available)*  \n",
        "only occur in article page  \n",
        "li#ca-eidt tag under li#ca-edit-> span-> a\n",
        "\n"
      ],
      "metadata": {
        "id": "y1N0JmxK24Gr"
      }
    },
    {
      "cell_type": "code",
      "source": [
        "from urllib.request import urlopen\n",
        "from bs4 import BeautifulSoup\n",
        "import re\n",
        "\n",
        "pages=set()\n",
        "def getLinks(pageUrl):\n",
        "    global pages\n",
        "    html=urlopen(\"http://en.wikipedia.org\"+pageUrl)\n",
        "    bsObj=BeautifulSoup(html)\n",
        "    try:\n",
        "        print(bsObj.h1.get_text())\n",
        "        print(bsObj.find(id=\"mw-content-text\").findAll(\"p\")[0])\n",
        "        print(bsObj.find(id=\"ca-edit\").find(\"span\").find(\"a\").attrs['href'])\n",
        "    except AttributeError:\n",
        "        print(\"This page is missing something! No worries though!\")\n",
        "    \n",
        "    for link in bsObj.findAll(\"a\", href=re.compile(\"^(/wiki/)\")):\n",
        "        if link.attrs['href'] not in pages:\n",
        "            #new page encountered\n",
        "            newPage=link.attrs['href']\n",
        "            print(\"--------------\\n\"+newPage)\n",
        "            pages.add(newPage)\n",
        "            getLinks(newPage)\n",
        "getLinks(\"\")"
      ],
      "metadata": {
        "colab": {
          "base_uri": "https://localhost:8080/",
          "height": 1000
        },
        "id": "m3zTWIhs4SxL",
        "outputId": "8752d526-5a17-46f3-fd7d-73e46f904aeb"
      },
      "execution_count": null,
      "outputs": [
        {
          "output_type": "stream",
          "name": "stdout",
          "text": [
            "Main Page\n",
            "<p>The <b><a href=\"/wiki/Sega_CD\" title=\"Sega CD\">Sega CD</a></b> is a <a href=\"/wiki/CD-ROM\" title=\"CD-ROM\">CD-ROM</a> accessory for the <a href=\"/wiki/Sega_Genesis\" title=\"Sega Genesis\">Genesis</a> (also known as Mega Drive), produced by <a href=\"/wiki/Sega\" title=\"Sega\">Sega</a> as part of the <a href=\"/wiki/Fourth_generation_of_video_game_consoles\" title=\"Fourth generation of video game consoles\">fourth generation of video game consoles</a>. It was released on December 12, 1991, in Japan, in 1992 in North America, and in 1993 in Europe. It plays <a href=\"/wiki/Compact_disc\" title=\"Compact disc\">CD</a>-based games and adds hardware functionality such as a faster <a href=\"/wiki/Central_processing_unit\" title=\"Central processing unit\">central processing unit</a> and graphic enhancements such as <a href=\"/wiki/Sprite_(computer_graphics)\" title=\"Sprite (computer graphics)\">sprite</a> scaling and rotation. It also plays audio CDs and <a href=\"/wiki/CD%2BG\" title=\"CD+G\">CD+G</a> discs. The main benefit of CD technology was greater <a href=\"/wiki/Computer_data_storage\" title=\"Computer data storage\">storage</a>; CDs offered more than 320 times the space of Genesis <a href=\"/wiki/ROM_cartridge\" title=\"ROM cartridge\">cartridges</a>. Sega partnered with <a href=\"/wiki/JVC\" title=\"JVC\">JVC</a> to design the Sega CD, which was  redesigned several times by Sega and licensed third-party developers. By March 1996, Sega discontinued it to focus on the <a href=\"/wiki/Sega_Saturn\" title=\"Sega Saturn\">Sega Saturn</a>; 2.24 million units had been sold. Retrospective reception is mixed, with praise for some games and functions, but criticism for its dearth of deep games, high price and lack of support from Sega. <i>(<b><a href=\"/wiki/Sega_CD\" title=\"Sega CD\">This article</a></b> is part of a <a href=\"/wiki/Wikipedia:Featured_topics\" title=\"Wikipedia:Featured topics\">featured topic</a>: <b><a href=\"/wiki/Wikipedia:Featured_topics/Sega_video_game_consoles\" title=\"Wikipedia:Featured topics/Sega video game consoles\">Sega video game consoles</a></b>.)</i>\n",
            "</p>\n",
            "This apge is missing something! No worries though!\n",
            "--------------\n",
            "/wiki/Wikipedia\n",
            "Wikipedia\n",
            "<p class=\"mw-empty-elt\">\n",
            "</p>\n",
            "This apge is missing something! No worries though!\n",
            "--------------\n",
            "/wiki/Wikipedia:Protection_policy#semi\n",
            "Wikipedia:Protection policy\n",
            "<p class=\"mw-empty-elt\">\n",
            "</p>\n",
            "This apge is missing something! No worries though!\n",
            "--------------\n",
            "/wiki/Wikipedia:Requests_for_page_protection\n",
            "Wikipedia:Requests for page protection\n",
            "<p>This page is for requesting that a page, file or template be <b>protected</b>. Please read up on the <a href=\"/wiki/Wikipedia:Protection_policy\" title=\"Wikipedia:Protection policy\">protection policy</a>. Full protection is used to stop edit warring between multiple users or to prevent vandalism to <a href=\"/wiki/Wikipedia:High-risk_templates\" title=\"Wikipedia:High-risk templates\">high-risk templates</a>; semi-protection and pending changes are usually used only to prevent IP and new user vandalism (see the <a href=\"/wiki/Wikipedia:Rough_guide_to_semi-protection\" title=\"Wikipedia:Rough guide to semi-protection\">rough guide to semi-protection</a>); and move protection is used to stop <a href=\"/wiki/Wikipedia:Moving_a_page\" title=\"Wikipedia:Moving a page\">pagemove</a> revert wars. Extended confirmed protection is used where semi-protection has proved insufficient (see the <a href=\"/wiki/Wikipedia:Rough_guide_to_extended_confirmed_protection\" title=\"Wikipedia:Rough guide to extended confirmed protection\">rough guide to extended confirmed protection</a>)\n",
            "</p>\n",
            "This apge is missing something! No worries though!\n",
            "--------------\n",
            "/wiki/Category:Administrative_backlog\n",
            "Category:Administrative backlog\n",
            "<p>This category lists <b>backlogs</b> which require the attention of <a href=\"/wiki/Wikipedia:Administrators\" title=\"Wikipedia:Administrators\">administrators</a>.\n",
            "Backlogs which do not require the attention of administrators may be found at <a href=\"/wiki/Category:Wikipedia_backlog\" title=\"Category:Wikipedia backlog\">Category:Wikipedia backlog</a>.\n",
            "</p>\n",
            "This apge is missing something! No worries though!\n",
            "--------------\n",
            "/wiki/Help:Category\n",
            "Help:Category\n",
            "<p class=\"mw-empty-elt\">\n",
            "</p>\n",
            "This apge is missing something! No worries though!\n",
            "--------------\n",
            "/wiki/Wikipedia:Categorization\n",
            "Wikipedia:Categorization\n",
            "<p class=\"mw-empty-elt\">\n",
            "</p>\n",
            "This apge is missing something! No worries though!\n",
            "--------------\n",
            "/wiki/Wikipedia:WikiProject_Cats\n",
            "Wikipedia:WikiProject Cats\n",
            "<p>Welcome to <b>WikiProject Cats</b>, a <a class=\"mw-redirect\" href=\"/wiki/Wikiproject\" title=\"Wikiproject\">wikiproject</a> dedicated to improving to Wikipedia's articles relating to the family of mammals known as the <a href=\"/wiki/Felidae\" title=\"Felidae\">Felidae</a> and commonly referred to as \"cats\". Any editor can help contribute to this project by looking at the tasks listed here to find something in their interest or inquire on the <a href=\"/wiki/Wikipedia_talk:WikiProject_Cats\" title=\"Wikipedia talk:WikiProject Cats\">talk page</a>. Anyone seeking to join should add their name to the <a href=\"/wiki/Wikipedia:WikiProject_Cats/Participants\" title=\"Wikipedia:WikiProject Cats/Participants\">list of active participants</a>.\n",
            "</p>\n",
            "This apge is missing something! No worries though!\n",
            "--------------\n",
            "/wiki/Wikipedia:CATP\n",
            "Wikipedia:WikiProject Categories\n",
            "<p><b>WikiProject Categories</b> has been set up to help manage the categories of Wikipedia and improve them.  The goal is to categorize all articles in a way that is consistent with the guidelines at <a href=\"/wiki/Wikipedia:Categorization\" title=\"Wikipedia:Categorization\">Wikipedia:Categorization</a>.\n",
            "</p>\n",
            "This apge is missing something! No worries though!\n",
            "--------------\n",
            "/wiki/File:People_icon.svg\n",
            "File:People icon.svg\n",
            "<p><a class=\"internal\" href=\"//upload.wikimedia.org/wikipedia/commons/3/37/People_icon.svg\" title=\"People icon.svg\">Original file</a> ‎<span class=\"fileInfo\">(SVG file, nominally 100 × 100 pixels, file size: 22 KB)</span>\n",
            "</p>\n",
            "This apge is missing something! No worries though!\n",
            "--------------\n",
            "/wiki/Special:WhatLinksHere/File:People_icon.svg\n",
            "Pages that link to \"File:People icon.svg\"\n",
            "<p>The following pages link to <b id=\"specialDeleteTarget\"><a href=\"/wiki/File:People_icon.svg\" title=\"File:People icon.svg\">File:People icon.svg</a></b> <span id=\"specialDeleteLink\"></span>\n",
            "</p>\n",
            "This apge is missing something! No worries though!\n",
            "--------------\n",
            "/wiki/Help:What_links_here\n",
            "Help:What links here\n",
            "<p class=\"mw-empty-elt\">\n",
            "</p>\n",
            "This apge is missing something! No worries though!\n",
            "--------------\n",
            "/wiki/Wikipedia:Project_namespace#How-to_and_information_pages\n",
            "Wikipedia:Project namespace\n",
            "<p>Project pages are for information or discussion about Wikipedia. They should be used to allow Wikipedians to better participate in the community, and not used to excess for unrelated purposes nor to bring the project into disrepute.</p>\n",
            "This apge is missing something! No worries though!\n",
            "--------------\n",
            "/wiki/Wikipedia:Policies_and_guidelines\n",
            "Wikipedia:Policies and guidelines\n",
            "<p>Wikipedia's <b>policies and guidelines</b> are developed by the community to describe best practices, clarify principles, resolve conflicts, and otherwise further our goal of creating a free, reliable encyclopedia. There is no need to read any policy or guideline pages to start editing. The <a href=\"/wiki/Wikipedia:Five_pillars\" title=\"Wikipedia:Five pillars\">five pillars</a> are a popular summary of the most pertinent principles.\n",
            "</p>\n",
            "This apge is missing something! No worries though!\n",
            "--------------\n",
            "/wiki/Wikipedia:WikiProject_Politics\n",
            "Wikipedia:WikiProject Politics\n",
            "<p>Welcome to <b>WikiProject Politics</b>. A <a href=\"/wiki/Wikipedia:WikiProject\" title=\"Wikipedia:WikiProject\">WikiProject</a> is a group of pages in the \"Wikipedia\" <a href=\"/wiki/Wikipedia:Namespace\" title=\"Wikipedia:Namespace\">article namespace</a> that are devoted to the management of a specific topic or family of topics within Wikipedia; and, simultaneously, a <a href=\"/wiki/Wikipedia:WikiProject_Politics/Participants\" title=\"Wikipedia:WikiProject Politics/Participants\">group of editors</a> who use those pages to collaborate on encyclopedic work. It is not a place to write encyclopedia articles directly, but a resource to help coordinate and organize the writing and editing of those articles. This group focuses on articles in the broad field of <a href=\"/wiki/Politics\" title=\"Politics\">Politics</a>.  This page and its subpages contain their suggestions; it is hoped that this project will help to focus the efforts of other Wikipedians. You may sign up for the project on the <a href=\"/wiki/Wikipedia:WikiProject_Politics/Participants\" title=\"Wikipedia:WikiProject Politics/Participants\">Participants</a> list below.\n",
            "</p>\n",
            "This apge is missing something! No worries though!\n",
            "--------------\n",
            "/wiki/File:A_coloured_voting_box.svg\n",
            "File:A coloured voting box.svg\n",
            "<p><a class=\"internal\" href=\"//upload.wikimedia.org/wikipedia/en/0/01/A_coloured_voting_box.svg\" title=\"A coloured voting box.svg\">Original file</a> ‎<span class=\"fileInfo\">(SVG file, nominally 160 × 160 pixels, file size: 11 KB)</span>\n",
            "</p>\n",
            "This apge is missing something! No worries though!\n",
            "--------------\n",
            "/wiki/Wikipedia:Protection_policy#full\n",
            "Wikipedia:Protection policy\n",
            "<p class=\"mw-empty-elt\">\n",
            "</p>\n",
            "This apge is missing something! No worries though!\n",
            "--------------\n",
            "/wiki/Wikipedia:Lists_of_protected_pages\n",
            "Wikipedia:Lists of protected pages\n",
            "<p class=\"mw-empty-elt\">\n",
            "</p>\n",
            "This apge is missing something! No worries though!\n",
            "--------------\n",
            "/wiki/Wikipedia:Protection_policy\n",
            "Wikipedia:Protection policy\n",
            "<p class=\"mw-empty-elt\">\n",
            "</p>\n",
            "This apge is missing something! No worries though!\n",
            "--------------\n",
            "/wiki/Wikipedia:Perennial_proposals\n",
            "Wikipedia:Perennial proposals\n",
            "<p>This is a list of things that have frequently been proposed on Wikipedia, and have been <a class=\"mw-redirect\" href=\"/wiki/Wikipedia:Rejected_proposals\" title=\"Wikipedia:Rejected proposals\">rejected by the community</a> several times in the past. It should be noted that merely listing something on this page does not mean it will never happen, but that it has been discussed before and never met consensus.  <a class=\"mw-redirect\" href=\"/wiki/Wikipedia:Consensus_can_change\" title=\"Wikipedia:Consensus can change\">Consensus can change</a>, and some proposals that remained on this page for a long time have finally been proposed in a way that reached consensus, but you should address rebuttals raised in the past if you make a proposal along these lines.  If you feel you would still like to do one of these proposals, then raise it at the <a href=\"/wiki/Wikipedia:Village_pump\" title=\"Wikipedia:Village pump\">village pump</a>.\n",
            "</p>\n",
            "This apge is missing something! No worries though!\n",
            "--------------\n",
            "/wiki/Wikipedia:Reliable_sources/Perennial_sources\n",
            "Wikipedia:Reliable sources/Perennial sources\n",
            "<p class=\"mw-empty-elt\">\n",
            "</p>\n",
            "This apge is missing something! No worries though!\n",
            "--------------\n",
            "/wiki/Wikipedia:Reliable_sources\n",
            "Wikipedia:Reliable sources\n",
            "<p>Wikipedia articles should be based on <b>reliable, published sources</b>, making sure that <strong>all majority and significant minority views</strong> that have appeared in those sources are covered (see <a href=\"/wiki/Wikipedia:Neutral_point_of_view\" title=\"Wikipedia:Neutral point of view\">Wikipedia:Neutral point of view</a>).  If no reliable sources can be found on a topic, <a href=\"/wiki/Wikipedia:Notability\" title=\"Wikipedia:Notability\">Wikipedia should not have an article on it</a>.\n",
            "</p>\n",
            "This apge is missing something! No worries though!\n",
            "--------------\n",
            "/wiki/Wikipedia:WikiProject_Reliability\n",
            "Wikipedia:WikiProject Reliability\n",
            "<p>Hello, and welcome to <b>WikiProject Reliability</b>. This WikiProject is dedicated to improving the <a class=\"mw-redirect\" href=\"/wiki/Wikipedia:RS\" title=\"Wikipedia:RS\">reliability</a> of Wikipedia articles. We ensure that articles are supported by <a class=\"mw-redirect\" href=\"/wiki/Wikipedia:RS\" title=\"Wikipedia:RS\">reliable sources</a>, answer inquiries on the <a class=\"mw-redirect\" href=\"/wiki/Wikipedia:RSN\" title=\"Wikipedia:RSN\">reliable sources noticeboard</a>, and maintain a <a class=\"mw-redirect\" href=\"/wiki/Wikipedia:RSP\" title=\"Wikipedia:RSP\">list of frequently discussed sources</a>. This project works to achieve the goals of the <a class=\"mw-redirect\" href=\"/wiki/Wikipedia:V\" title=\"Wikipedia:V\">verifiability</a> and <a class=\"mw-redirect\" href=\"/wiki/Wikipedia:OR\" title=\"Wikipedia:OR\">no original research</a> policies. If you would like to help, please <a href=\"#Participants\">join</a> the project, participate on the <a href=\"/wiki/Wikipedia_talk:WikiProject_Reliability\" title=\"Wikipedia talk:WikiProject Reliability\">talk page</a> and see the <a href=\"#Open_tasks\">open tasks</a> below.\n",
            "</p>\n",
            "This apge is missing something! No worries though!\n",
            "--------------\n",
            "/wiki/Wikipedia:WRE\n",
            "Wikipedia:WikiProject Resource Exchange\n",
            "<p><b>Shortcuts</b>\n",
            "</p>\n",
            "This apge is missing something! No worries though!\n",
            "--------------\n",
            "/wiki/Wikipedia:WikiProject\n",
            "Wikipedia:WikiProject\n",
            "<p class=\"mw-empty-elt\">\n",
            "</p>\n",
            "This apge is missing something! No worries though!\n",
            "--------------\n",
            "/wiki/WikiProject\n",
            "WikiProject\n",
            "<p>A <b>WikiProject</b>, or <b>Wikiproject</b>, is the organization of a group of participants in a <a href=\"/wiki/Wiki\" title=\"Wiki\">wiki</a> established in order to achieve specific editing goals, or to achieve goals relating to a specific field of knowledge. WikiProjects are prevalent within the largest wiki, <a href=\"/wiki/Wikipedia\" title=\"Wikipedia\">Wikipedia</a>, and exist to varying degrees within <a class=\"mw-redirect\" href=\"/wiki/Wikimedia_project\" title=\"Wikimedia project\">sister projects</a> such as <a href=\"/wiki/Wiktionary\" title=\"Wiktionary\">Wiktionary</a>, <a href=\"/wiki/Wikiquote\" title=\"Wikiquote\">Wikiquote</a>, <a href=\"/wiki/Wikidata\" title=\"Wikidata\">Wikidata</a>, and <a href=\"/wiki/Wikisource\" title=\"Wikisource\">Wikisource</a>. They also exist in different languages, and translation of articles is a form of their collaboration. Unrelated wikis have also used the term, for example <a href=\"/wiki/OpenStreetMap\" title=\"OpenStreetMap\">OpenStreetMap</a>.<sup class=\"reference\" id=\"cite_ref-1\"><a href=\"#cite_note-1\">[1]</a></sup> During the <a href=\"/wiki/COVID-19_pandemic\" title=\"COVID-19 pandemic\">COVID-19 pandemic</a>, <a href=\"/wiki/CBS_News\" title=\"CBS News\">CBS News</a> noted the role of Wikipedia's WikiProject Medicine in maintaining the accuracy of articles related to the disease.<sup class=\"reference\" id=\"cite_ref-COVID-19_2-0\"><a href=\"#cite_note-COVID-19-2\">[2]</a></sup> Another WikiProject that has drawn attention is WikiProject Women Scientists, which was profiled by <i><a class=\"mw-redirect\" href=\"/wiki/Smithsonian_Magazine\" title=\"Smithsonian Magazine\">Smithsonian Magazine</a></i> for its efforts to improve coverage of women scientists which the profile noted had \"helped increase the number of female scientists on Wikipedia from around 1,600 to over 5,000\".<sup class=\"reference\" id=\"cite_ref-3\"><a href=\"#cite_note-3\">[3]</a></sup>\n",
            "</p>\n",
            "This apge is missing something! No worries though!\n",
            "--------------\n",
            "/wiki/Wiki\n",
            "Wiki\n",
            "<p class=\"mw-empty-elt\">\n",
            "</p>\n",
            "This apge is missing something! No worries though!\n",
            "--------------\n",
            "/wiki/File:En-Wiki2.ogg\n",
            "File:En-Wiki2.ogg\n",
            "<p><a class=\"internal\" href=\"//upload.wikimedia.org/wikipedia/commons/a/a3/En-Wiki2.ogg\" title=\"En-Wiki2.ogg\">En-Wiki2.ogg</a> ‎<span class=\"fileInfo\">(Ogg Vorbis sound file, length 15 min 36 s, 83 kbps)</span>\n",
            "</p>\n",
            "This apge is missing something! No worries though!\n",
            "--------------\n",
            "/wiki/User:Dmcdevit\n",
            "User:Dominic\n",
            "<p><br/>\n",
            "</p>\n",
            "This apge is missing something! No worries though!\n",
            "--------------\n",
            "/wiki/Wikipedia:GLAM-Wiki\n",
            "Wikipedia:GLAM\n",
            "<p><br/>\n",
            "<span style=\"font-size:larger;\">The <b>GLAM–Wiki initiative</b> (\"galleries, libraries, archives, and museums\" with Wikipedia; also including botanic gardens and zoos) helps cultural institutions share their resources with the world through collaborative projects with experienced Wikipedia editors.</span>\n",
            "</p>\n",
            "This apge is missing something! No worries though!\n",
            "--------------\n",
            "/wiki/Wikipedia:GLAM/About\n",
            "Wikipedia:GLAM/About\n",
            "<p>The GLAM–Wiki initiative (galleries, libraries, archives, museums with Wikipedia) helps cultural institutions share their resources with the world through high-impact collaboration alongside experienced Wikipedia editors. It is an unparalleled opportunity for the custodians of our cultural heritage to present their collections to new audiences.\n",
            "</p>\n",
            "This apge is missing something! No worries though!\n",
            "--------------\n",
            "/wiki/Wikipedia:GLAM\n",
            "Wikipedia:GLAM\n",
            "<p><br/>\n",
            "<span style=\"font-size:larger;\">The <b>GLAM–Wiki initiative</b> (\"galleries, libraries, archives, and museums\" with Wikipedia; also including botanic gardens and zoos) helps cultural institutions share their resources with the world through collaborative projects with experienced Wikipedia editors.</span>\n",
            "</p>\n",
            "This apge is missing something! No worries though!\n",
            "--------------\n",
            "/wiki/Wikipedia:GLAM/Contribute\n",
            "Wikipedia:GLAM/Contribute\n",
            "<p><a class=\"image\" href=\"/wiki/File:1NumberOneInCircle.png\"><img alt=\"1NumberOneInCircle.png\" data-file-height=\"500\" data-file-width=\"500\" decoding=\"async\" height=\"30\" src=\"//upload.wikimedia.org/wikipedia/commons/thumb/5/58/1NumberOneInCircle.png/30px-1NumberOneInCircle.png\" srcset=\"//upload.wikimedia.org/wikipedia/commons/thumb/5/58/1NumberOneInCircle.png/45px-1NumberOneInCircle.png 1.5x, //upload.wikimedia.org/wikipedia/commons/thumb/5/58/1NumberOneInCircle.png/60px-1NumberOneInCircle.png 2x\" width=\"30\"/></a> Consider content that has no copyright restrictions and can easily enrich Wikipedia articles:\n",
            "</p>\n",
            "This apge is missing something! No worries though!\n",
            "--------------\n",
            "/wiki/Wikipedia:GLAM/Connect\n",
            "Wikipedia:GLAM/Connect\n",
            "<p>For GLAM projects worldwide, many of which are based around partnerships with GLAM professional organisations, see <a href=\"/wiki/Wikipedia:GLAM/Projects\" title=\"Wikipedia:GLAM/Projects\">Wikipedia:GLAM/Projects</a>.\n",
            "</p>\n",
            "This apge is missing something! No worries though!\n",
            "--------------\n",
            "/wiki/Wikipedia:GLAM/Bookshelf\n",
            "Wikipedia:GLAM/Bookshelf\n",
            "<p>/ <a class=\"external text\" href=\"http://openvideoalliance.org/wiki/index.php?title=Video_for_Wikipedia_and_the_Open_Web:_A_Guide_to_Best_Practices_for_Cultural_and_Educational_Institutions\" rel=\"nofollow\">Raw text</a>\n",
            "</p>\n",
            "This apge is missing something! No worries though!\n",
            "--------------\n",
            "/wiki/Wikipedia:GLAM/Projects\n",
            "Wikipedia:GLAM/Projects\n",
            "<p>This page contains a partial list of the GLAM-Wikimedia collaboration projects; a guide to model GLAM projects, can be found at <a class=\"extiw\" href=\"https://outreach.wikimedia.org/wiki/GLAM/Model_projects\" title=\"outreach:GLAM/Model projects\">on Outreach Wiki</a> documenting successful collaborations also in Wikipedia in languages other than English, Wikimedia Commons, Wikidata and Wikisource. \n",
            "<br/>\n",
            "</p>\n",
            "This apge is missing something! No worries though!\n",
            "--------------\n",
            "/wiki/Wikipedia:GLAM/Beginner%27s_guide_to_Wikipedia\n",
            "Wikipedia:GLAM/Beginner's guide to Wikipedia\n",
            "<p><i><b>If you would like more general information on why you should contribute to Wikipedia, please see <a href=\"/wiki/Wikipedia:GLAM/Contribute\" title=\"Wikipedia:GLAM/Contribute\">GLAM:Contribute</a></b></i>\n",
            "</p>\n",
            "This apge is missing something! No worries though!\n",
            "--------------\n",
            "/wiki/Wikipedia:GLAM/Newsletter\n",
            "Wikipedia:GLAM/Newsletter\n",
            "<p>To assist with preparing the newsletter, please visit the <a class=\"extiw\" href=\"https://outreach.wikimedia.org/wiki/GLAM/Newsletter/Newsroom\" title=\"outreach:GLAM/Newsletter/Newsroom\">newsroom</a>. Past editions may be viewed <a class=\"extiw\" href=\"https://outreach.wikimedia.org/wiki/GLAM/Newsletter/Archives\" title=\"outreach:GLAM/Newsletter/Archives\">here</a>.\n",
            "</p>\n",
            "This apge is missing something! No worries though!\n",
            "--------------\n",
            "/wiki/Special:MyTalk\n",
            "User talk:104.196.57.130\n",
            "<p>This user is currently blocked.\n",
            "The latest block log entry is provided below for reference:\n",
            "</p>\n",
            "This apge is missing something! No worries though!\n",
            "--------------\n",
            "/wiki/User:SQL\n",
            "User:SQL\n",
            "<p class=\"mw-empty-elt\">\n",
            "</p>\n",
            "This apge is missing something! No worries though!\n",
            "--------------\n",
            "/wiki/Wikipedia:CheckUser\n",
            "Wikipedia:CheckUser\n",
            "<p class=\"mw-empty-elt\">\n",
            "</p>\n",
            "This apge is missing something! No worries though!\n",
            "--------------\n",
            "/wiki/Wikipedia:WikiProject_Check_Wikipedia\n",
            "Wikipedia:WikiProject Check Wikipedia\n",
            "<p>Checkwiki helps clean up syntax and other errors in the source code of Wikipedia by:\n",
            "</p>\n",
            "This apge is missing something! No worries though!\n",
            "--------------\n",
            "/wiki/Wikipedia:WikiProject_Check_Wikipedia/List_of_errors\n",
            "Wikipedia:WikiProject Check Wikipedia/List of errors\n",
            "<p>Data for the list is compiled from the following locations: <a class=\"extiw\" href=\"https://fr.wikipedia.org/wiki/Wikip%C3%A9dia:WPCleaner/Correction_syntaxique\" title=\"fr:Wikipédia:WPCleaner/Correction syntaxique\">WPCleaner</a> • <a href=\"/wiki/User:Magioladitis/AWB_and_CHECKWIKI\" title=\"User:Magioladitis/AWB and CHECKWIKI\">AutoWikiBrowser</a> • <a class=\"extiw\" href=\"https://meta.wikimedia.org/wiki/User:TMg/autoFormatter/Check_Wikipedia\" title=\"meta:User:TMg/autoFormatter/Check Wikipedia\">Auto-Formatter</a>.\n",
            "</p>\n",
            "This apge is missing something! No worries though!\n",
            "--------------\n",
            "/wiki/Wikipedia_talk:WikiProject_Check_Wikipedia\n",
            "Wikipedia talk:WikiProject Check Wikipedia\n",
            "<p class=\"mw-empty-elt\">\n",
            "</p>\n",
            "This apge is missing something! No worries though!\n",
            "--------------\n",
            "/wiki/File:Replacement_filing_cabinet.svg\n",
            "File:Replacement filing cabinet.svg\n",
            "<p><a class=\"internal\" href=\"//upload.wikimedia.org/wikipedia/en/2/2a/Replacement_filing_cabinet.svg\" title=\"Replacement filing cabinet.svg\">Original file</a> ‎<span class=\"fileInfo\">(SVG file, nominally 200 × 200 pixels, file size: 17 KB)</span>\n",
            "</p>\n",
            "This apge is missing something! No worries though!\n",
            "--------------\n",
            "/wiki/Scalable_Vector_Graphics\n"
          ]
        },
        {
          "output_type": "error",
          "ename": "KeyboardInterrupt",
          "evalue": "ignored",
          "traceback": [
            "\u001b[0;31m---------------------------------------------------------------------------\u001b[0m",
            "\u001b[0;31mKeyboardInterrupt\u001b[0m                         Traceback (most recent call last)",
            "\u001b[0;32m<ipython-input-4-9edc5f674b28>\u001b[0m in \u001b[0;36m<module>\u001b[0;34m()\u001b[0m\n\u001b[1;32m     22\u001b[0m             \u001b[0mpages\u001b[0m\u001b[0;34m.\u001b[0m\u001b[0madd\u001b[0m\u001b[0;34m(\u001b[0m\u001b[0mnewPage\u001b[0m\u001b[0;34m)\u001b[0m\u001b[0;34m\u001b[0m\u001b[0;34m\u001b[0m\u001b[0m\n\u001b[1;32m     23\u001b[0m             \u001b[0mgetLinks\u001b[0m\u001b[0;34m(\u001b[0m\u001b[0mnewPage\u001b[0m\u001b[0;34m)\u001b[0m\u001b[0;34m\u001b[0m\u001b[0;34m\u001b[0m\u001b[0m\n\u001b[0;32m---> 24\u001b[0;31m \u001b[0mgetLinks\u001b[0m\u001b[0;34m(\u001b[0m\u001b[0;34m\"\"\u001b[0m\u001b[0;34m)\u001b[0m\u001b[0;34m\u001b[0m\u001b[0;34m\u001b[0m\u001b[0m\n\u001b[0m",
            "\u001b[0;32m<ipython-input-4-9edc5f674b28>\u001b[0m in \u001b[0;36mgetLinks\u001b[0;34m(pageUrl)\u001b[0m\n\u001b[1;32m     21\u001b[0m             \u001b[0mprint\u001b[0m\u001b[0;34m(\u001b[0m\u001b[0;34m\"--------------\\n\"\u001b[0m\u001b[0;34m+\u001b[0m\u001b[0mnewPage\u001b[0m\u001b[0;34m)\u001b[0m\u001b[0;34m\u001b[0m\u001b[0;34m\u001b[0m\u001b[0m\n\u001b[1;32m     22\u001b[0m             \u001b[0mpages\u001b[0m\u001b[0;34m.\u001b[0m\u001b[0madd\u001b[0m\u001b[0;34m(\u001b[0m\u001b[0mnewPage\u001b[0m\u001b[0;34m)\u001b[0m\u001b[0;34m\u001b[0m\u001b[0;34m\u001b[0m\u001b[0m\n\u001b[0;32m---> 23\u001b[0;31m             \u001b[0mgetLinks\u001b[0m\u001b[0;34m(\u001b[0m\u001b[0mnewPage\u001b[0m\u001b[0;34m)\u001b[0m\u001b[0;34m\u001b[0m\u001b[0;34m\u001b[0m\u001b[0m\n\u001b[0m\u001b[1;32m     24\u001b[0m \u001b[0mgetLinks\u001b[0m\u001b[0;34m(\u001b[0m\u001b[0;34m\"\"\u001b[0m\u001b[0;34m)\u001b[0m\u001b[0;34m\u001b[0m\u001b[0;34m\u001b[0m\u001b[0m\n",
            "\u001b[0;32m<ipython-input-4-9edc5f674b28>\u001b[0m in \u001b[0;36mgetLinks\u001b[0;34m(pageUrl)\u001b[0m\n\u001b[1;32m     21\u001b[0m             \u001b[0mprint\u001b[0m\u001b[0;34m(\u001b[0m\u001b[0;34m\"--------------\\n\"\u001b[0m\u001b[0;34m+\u001b[0m\u001b[0mnewPage\u001b[0m\u001b[0;34m)\u001b[0m\u001b[0;34m\u001b[0m\u001b[0;34m\u001b[0m\u001b[0m\n\u001b[1;32m     22\u001b[0m             \u001b[0mpages\u001b[0m\u001b[0;34m.\u001b[0m\u001b[0madd\u001b[0m\u001b[0;34m(\u001b[0m\u001b[0mnewPage\u001b[0m\u001b[0;34m)\u001b[0m\u001b[0;34m\u001b[0m\u001b[0;34m\u001b[0m\u001b[0m\n\u001b[0;32m---> 23\u001b[0;31m             \u001b[0mgetLinks\u001b[0m\u001b[0;34m(\u001b[0m\u001b[0mnewPage\u001b[0m\u001b[0;34m)\u001b[0m\u001b[0;34m\u001b[0m\u001b[0;34m\u001b[0m\u001b[0m\n\u001b[0m\u001b[1;32m     24\u001b[0m \u001b[0mgetLinks\u001b[0m\u001b[0;34m(\u001b[0m\u001b[0;34m\"\"\u001b[0m\u001b[0;34m)\u001b[0m\u001b[0;34m\u001b[0m\u001b[0;34m\u001b[0m\u001b[0m\n",
            "\u001b[0;32m<ipython-input-4-9edc5f674b28>\u001b[0m in \u001b[0;36mgetLinks\u001b[0;34m(pageUrl)\u001b[0m\n\u001b[1;32m     21\u001b[0m             \u001b[0mprint\u001b[0m\u001b[0;34m(\u001b[0m\u001b[0;34m\"--------------\\n\"\u001b[0m\u001b[0;34m+\u001b[0m\u001b[0mnewPage\u001b[0m\u001b[0;34m)\u001b[0m\u001b[0;34m\u001b[0m\u001b[0;34m\u001b[0m\u001b[0m\n\u001b[1;32m     22\u001b[0m             \u001b[0mpages\u001b[0m\u001b[0;34m.\u001b[0m\u001b[0madd\u001b[0m\u001b[0;34m(\u001b[0m\u001b[0mnewPage\u001b[0m\u001b[0;34m)\u001b[0m\u001b[0;34m\u001b[0m\u001b[0;34m\u001b[0m\u001b[0m\n\u001b[0;32m---> 23\u001b[0;31m             \u001b[0mgetLinks\u001b[0m\u001b[0;34m(\u001b[0m\u001b[0mnewPage\u001b[0m\u001b[0;34m)\u001b[0m\u001b[0;34m\u001b[0m\u001b[0;34m\u001b[0m\u001b[0m\n\u001b[0m\u001b[1;32m     24\u001b[0m \u001b[0mgetLinks\u001b[0m\u001b[0;34m(\u001b[0m\u001b[0;34m\"\"\u001b[0m\u001b[0;34m)\u001b[0m\u001b[0;34m\u001b[0m\u001b[0;34m\u001b[0m\u001b[0m\n",
            "\u001b[0;32m<ipython-input-4-9edc5f674b28>\u001b[0m in \u001b[0;36mgetLinks\u001b[0;34m(pageUrl)\u001b[0m\n\u001b[1;32m     21\u001b[0m             \u001b[0mprint\u001b[0m\u001b[0;34m(\u001b[0m\u001b[0;34m\"--------------\\n\"\u001b[0m\u001b[0;34m+\u001b[0m\u001b[0mnewPage\u001b[0m\u001b[0;34m)\u001b[0m\u001b[0;34m\u001b[0m\u001b[0;34m\u001b[0m\u001b[0m\n\u001b[1;32m     22\u001b[0m             \u001b[0mpages\u001b[0m\u001b[0;34m.\u001b[0m\u001b[0madd\u001b[0m\u001b[0;34m(\u001b[0m\u001b[0mnewPage\u001b[0m\u001b[0;34m)\u001b[0m\u001b[0;34m\u001b[0m\u001b[0;34m\u001b[0m\u001b[0m\n\u001b[0;32m---> 23\u001b[0;31m             \u001b[0mgetLinks\u001b[0m\u001b[0;34m(\u001b[0m\u001b[0mnewPage\u001b[0m\u001b[0;34m)\u001b[0m\u001b[0;34m\u001b[0m\u001b[0;34m\u001b[0m\u001b[0m\n\u001b[0m\u001b[1;32m     24\u001b[0m \u001b[0mgetLinks\u001b[0m\u001b[0;34m(\u001b[0m\u001b[0;34m\"\"\u001b[0m\u001b[0;34m)\u001b[0m\u001b[0;34m\u001b[0m\u001b[0;34m\u001b[0m\u001b[0m\n",
            "\u001b[0;32m<ipython-input-4-9edc5f674b28>\u001b[0m in \u001b[0;36mgetLinks\u001b[0;34m(pageUrl)\u001b[0m\n\u001b[1;32m     21\u001b[0m             \u001b[0mprint\u001b[0m\u001b[0;34m(\u001b[0m\u001b[0;34m\"--------------\\n\"\u001b[0m\u001b[0;34m+\u001b[0m\u001b[0mnewPage\u001b[0m\u001b[0;34m)\u001b[0m\u001b[0;34m\u001b[0m\u001b[0;34m\u001b[0m\u001b[0m\n\u001b[1;32m     22\u001b[0m             \u001b[0mpages\u001b[0m\u001b[0;34m.\u001b[0m\u001b[0madd\u001b[0m\u001b[0;34m(\u001b[0m\u001b[0mnewPage\u001b[0m\u001b[0;34m)\u001b[0m\u001b[0;34m\u001b[0m\u001b[0;34m\u001b[0m\u001b[0m\n\u001b[0;32m---> 23\u001b[0;31m             \u001b[0mgetLinks\u001b[0m\u001b[0;34m(\u001b[0m\u001b[0mnewPage\u001b[0m\u001b[0;34m)\u001b[0m\u001b[0;34m\u001b[0m\u001b[0;34m\u001b[0m\u001b[0m\n\u001b[0m\u001b[1;32m     24\u001b[0m \u001b[0mgetLinks\u001b[0m\u001b[0;34m(\u001b[0m\u001b[0;34m\"\"\u001b[0m\u001b[0;34m)\u001b[0m\u001b[0;34m\u001b[0m\u001b[0;34m\u001b[0m\u001b[0m\n",
            "\u001b[0;32m<ipython-input-4-9edc5f674b28>\u001b[0m in \u001b[0;36mgetLinks\u001b[0;34m(pageUrl)\u001b[0m\n\u001b[1;32m     21\u001b[0m             \u001b[0mprint\u001b[0m\u001b[0;34m(\u001b[0m\u001b[0;34m\"--------------\\n\"\u001b[0m\u001b[0;34m+\u001b[0m\u001b[0mnewPage\u001b[0m\u001b[0;34m)\u001b[0m\u001b[0;34m\u001b[0m\u001b[0;34m\u001b[0m\u001b[0m\n\u001b[1;32m     22\u001b[0m             \u001b[0mpages\u001b[0m\u001b[0;34m.\u001b[0m\u001b[0madd\u001b[0m\u001b[0;34m(\u001b[0m\u001b[0mnewPage\u001b[0m\u001b[0;34m)\u001b[0m\u001b[0;34m\u001b[0m\u001b[0;34m\u001b[0m\u001b[0m\n\u001b[0;32m---> 23\u001b[0;31m             \u001b[0mgetLinks\u001b[0m\u001b[0;34m(\u001b[0m\u001b[0mnewPage\u001b[0m\u001b[0;34m)\u001b[0m\u001b[0;34m\u001b[0m\u001b[0;34m\u001b[0m\u001b[0m\n\u001b[0m\u001b[1;32m     24\u001b[0m \u001b[0mgetLinks\u001b[0m\u001b[0;34m(\u001b[0m\u001b[0;34m\"\"\u001b[0m\u001b[0;34m)\u001b[0m\u001b[0;34m\u001b[0m\u001b[0;34m\u001b[0m\u001b[0m\n",
            "\u001b[0;32m<ipython-input-4-9edc5f674b28>\u001b[0m in \u001b[0;36mgetLinks\u001b[0;34m(pageUrl)\u001b[0m\n\u001b[1;32m     21\u001b[0m             \u001b[0mprint\u001b[0m\u001b[0;34m(\u001b[0m\u001b[0;34m\"--------------\\n\"\u001b[0m\u001b[0;34m+\u001b[0m\u001b[0mnewPage\u001b[0m\u001b[0;34m)\u001b[0m\u001b[0;34m\u001b[0m\u001b[0;34m\u001b[0m\u001b[0m\n\u001b[1;32m     22\u001b[0m             \u001b[0mpages\u001b[0m\u001b[0;34m.\u001b[0m\u001b[0madd\u001b[0m\u001b[0;34m(\u001b[0m\u001b[0mnewPage\u001b[0m\u001b[0;34m)\u001b[0m\u001b[0;34m\u001b[0m\u001b[0;34m\u001b[0m\u001b[0m\n\u001b[0;32m---> 23\u001b[0;31m             \u001b[0mgetLinks\u001b[0m\u001b[0;34m(\u001b[0m\u001b[0mnewPage\u001b[0m\u001b[0;34m)\u001b[0m\u001b[0;34m\u001b[0m\u001b[0;34m\u001b[0m\u001b[0m\n\u001b[0m\u001b[1;32m     24\u001b[0m \u001b[0mgetLinks\u001b[0m\u001b[0;34m(\u001b[0m\u001b[0;34m\"\"\u001b[0m\u001b[0;34m)\u001b[0m\u001b[0;34m\u001b[0m\u001b[0;34m\u001b[0m\u001b[0m\n",
            "\u001b[0;32m<ipython-input-4-9edc5f674b28>\u001b[0m in \u001b[0;36mgetLinks\u001b[0;34m(pageUrl)\u001b[0m\n\u001b[1;32m     21\u001b[0m             \u001b[0mprint\u001b[0m\u001b[0;34m(\u001b[0m\u001b[0;34m\"--------------\\n\"\u001b[0m\u001b[0;34m+\u001b[0m\u001b[0mnewPage\u001b[0m\u001b[0;34m)\u001b[0m\u001b[0;34m\u001b[0m\u001b[0;34m\u001b[0m\u001b[0m\n\u001b[1;32m     22\u001b[0m             \u001b[0mpages\u001b[0m\u001b[0;34m.\u001b[0m\u001b[0madd\u001b[0m\u001b[0;34m(\u001b[0m\u001b[0mnewPage\u001b[0m\u001b[0;34m)\u001b[0m\u001b[0;34m\u001b[0m\u001b[0;34m\u001b[0m\u001b[0m\n\u001b[0;32m---> 23\u001b[0;31m             \u001b[0mgetLinks\u001b[0m\u001b[0;34m(\u001b[0m\u001b[0mnewPage\u001b[0m\u001b[0;34m)\u001b[0m\u001b[0;34m\u001b[0m\u001b[0;34m\u001b[0m\u001b[0m\n\u001b[0m\u001b[1;32m     24\u001b[0m \u001b[0mgetLinks\u001b[0m\u001b[0;34m(\u001b[0m\u001b[0;34m\"\"\u001b[0m\u001b[0;34m)\u001b[0m\u001b[0;34m\u001b[0m\u001b[0;34m\u001b[0m\u001b[0m\n",
            "\u001b[0;32m<ipython-input-4-9edc5f674b28>\u001b[0m in \u001b[0;36mgetLinks\u001b[0;34m(pageUrl)\u001b[0m\n\u001b[1;32m     21\u001b[0m             \u001b[0mprint\u001b[0m\u001b[0;34m(\u001b[0m\u001b[0;34m\"--------------\\n\"\u001b[0m\u001b[0;34m+\u001b[0m\u001b[0mnewPage\u001b[0m\u001b[0;34m)\u001b[0m\u001b[0;34m\u001b[0m\u001b[0;34m\u001b[0m\u001b[0m\n\u001b[1;32m     22\u001b[0m             \u001b[0mpages\u001b[0m\u001b[0;34m.\u001b[0m\u001b[0madd\u001b[0m\u001b[0;34m(\u001b[0m\u001b[0mnewPage\u001b[0m\u001b[0;34m)\u001b[0m\u001b[0;34m\u001b[0m\u001b[0;34m\u001b[0m\u001b[0m\n\u001b[0;32m---> 23\u001b[0;31m             \u001b[0mgetLinks\u001b[0m\u001b[0;34m(\u001b[0m\u001b[0mnewPage\u001b[0m\u001b[0;34m)\u001b[0m\u001b[0;34m\u001b[0m\u001b[0;34m\u001b[0m\u001b[0m\n\u001b[0m\u001b[1;32m     24\u001b[0m \u001b[0mgetLinks\u001b[0m\u001b[0;34m(\u001b[0m\u001b[0;34m\"\"\u001b[0m\u001b[0;34m)\u001b[0m\u001b[0;34m\u001b[0m\u001b[0;34m\u001b[0m\u001b[0m\n",
            "\u001b[0;32m<ipython-input-4-9edc5f674b28>\u001b[0m in \u001b[0;36mgetLinks\u001b[0;34m(pageUrl)\u001b[0m\n\u001b[1;32m     21\u001b[0m             \u001b[0mprint\u001b[0m\u001b[0;34m(\u001b[0m\u001b[0;34m\"--------------\\n\"\u001b[0m\u001b[0;34m+\u001b[0m\u001b[0mnewPage\u001b[0m\u001b[0;34m)\u001b[0m\u001b[0;34m\u001b[0m\u001b[0;34m\u001b[0m\u001b[0m\n\u001b[1;32m     22\u001b[0m             \u001b[0mpages\u001b[0m\u001b[0;34m.\u001b[0m\u001b[0madd\u001b[0m\u001b[0;34m(\u001b[0m\u001b[0mnewPage\u001b[0m\u001b[0;34m)\u001b[0m\u001b[0;34m\u001b[0m\u001b[0;34m\u001b[0m\u001b[0m\n\u001b[0;32m---> 23\u001b[0;31m             \u001b[0mgetLinks\u001b[0m\u001b[0;34m(\u001b[0m\u001b[0mnewPage\u001b[0m\u001b[0;34m)\u001b[0m\u001b[0;34m\u001b[0m\u001b[0;34m\u001b[0m\u001b[0m\n\u001b[0m\u001b[1;32m     24\u001b[0m \u001b[0mgetLinks\u001b[0m\u001b[0;34m(\u001b[0m\u001b[0;34m\"\"\u001b[0m\u001b[0;34m)\u001b[0m\u001b[0;34m\u001b[0m\u001b[0;34m\u001b[0m\u001b[0m\n",
            "\u001b[0;32m<ipython-input-4-9edc5f674b28>\u001b[0m in \u001b[0;36mgetLinks\u001b[0;34m(pageUrl)\u001b[0m\n\u001b[1;32m     21\u001b[0m             \u001b[0mprint\u001b[0m\u001b[0;34m(\u001b[0m\u001b[0;34m\"--------------\\n\"\u001b[0m\u001b[0;34m+\u001b[0m\u001b[0mnewPage\u001b[0m\u001b[0;34m)\u001b[0m\u001b[0;34m\u001b[0m\u001b[0;34m\u001b[0m\u001b[0m\n\u001b[1;32m     22\u001b[0m             \u001b[0mpages\u001b[0m\u001b[0;34m.\u001b[0m\u001b[0madd\u001b[0m\u001b[0;34m(\u001b[0m\u001b[0mnewPage\u001b[0m\u001b[0;34m)\u001b[0m\u001b[0;34m\u001b[0m\u001b[0;34m\u001b[0m\u001b[0m\n\u001b[0;32m---> 23\u001b[0;31m             \u001b[0mgetLinks\u001b[0m\u001b[0;34m(\u001b[0m\u001b[0mnewPage\u001b[0m\u001b[0;34m)\u001b[0m\u001b[0;34m\u001b[0m\u001b[0;34m\u001b[0m\u001b[0m\n\u001b[0m\u001b[1;32m     24\u001b[0m \u001b[0mgetLinks\u001b[0m\u001b[0;34m(\u001b[0m\u001b[0;34m\"\"\u001b[0m\u001b[0;34m)\u001b[0m\u001b[0;34m\u001b[0m\u001b[0;34m\u001b[0m\u001b[0m\n",
            "\u001b[0;32m<ipython-input-4-9edc5f674b28>\u001b[0m in \u001b[0;36mgetLinks\u001b[0;34m(pageUrl)\u001b[0m\n\u001b[1;32m     21\u001b[0m             \u001b[0mprint\u001b[0m\u001b[0;34m(\u001b[0m\u001b[0;34m\"--------------\\n\"\u001b[0m\u001b[0;34m+\u001b[0m\u001b[0mnewPage\u001b[0m\u001b[0;34m)\u001b[0m\u001b[0;34m\u001b[0m\u001b[0;34m\u001b[0m\u001b[0m\n\u001b[1;32m     22\u001b[0m             \u001b[0mpages\u001b[0m\u001b[0;34m.\u001b[0m\u001b[0madd\u001b[0m\u001b[0;34m(\u001b[0m\u001b[0mnewPage\u001b[0m\u001b[0;34m)\u001b[0m\u001b[0;34m\u001b[0m\u001b[0;34m\u001b[0m\u001b[0m\n\u001b[0;32m---> 23\u001b[0;31m             \u001b[0mgetLinks\u001b[0m\u001b[0;34m(\u001b[0m\u001b[0mnewPage\u001b[0m\u001b[0;34m)\u001b[0m\u001b[0;34m\u001b[0m\u001b[0;34m\u001b[0m\u001b[0m\n\u001b[0m\u001b[1;32m     24\u001b[0m \u001b[0mgetLinks\u001b[0m\u001b[0;34m(\u001b[0m\u001b[0;34m\"\"\u001b[0m\u001b[0;34m)\u001b[0m\u001b[0;34m\u001b[0m\u001b[0;34m\u001b[0m\u001b[0m\n",
            "\u001b[0;32m<ipython-input-4-9edc5f674b28>\u001b[0m in \u001b[0;36mgetLinks\u001b[0;34m(pageUrl)\u001b[0m\n\u001b[1;32m     21\u001b[0m             \u001b[0mprint\u001b[0m\u001b[0;34m(\u001b[0m\u001b[0;34m\"--------------\\n\"\u001b[0m\u001b[0;34m+\u001b[0m\u001b[0mnewPage\u001b[0m\u001b[0;34m)\u001b[0m\u001b[0;34m\u001b[0m\u001b[0;34m\u001b[0m\u001b[0m\n\u001b[1;32m     22\u001b[0m             \u001b[0mpages\u001b[0m\u001b[0;34m.\u001b[0m\u001b[0madd\u001b[0m\u001b[0;34m(\u001b[0m\u001b[0mnewPage\u001b[0m\u001b[0;34m)\u001b[0m\u001b[0;34m\u001b[0m\u001b[0;34m\u001b[0m\u001b[0m\n\u001b[0;32m---> 23\u001b[0;31m             \u001b[0mgetLinks\u001b[0m\u001b[0;34m(\u001b[0m\u001b[0mnewPage\u001b[0m\u001b[0;34m)\u001b[0m\u001b[0;34m\u001b[0m\u001b[0;34m\u001b[0m\u001b[0m\n\u001b[0m\u001b[1;32m     24\u001b[0m \u001b[0mgetLinks\u001b[0m\u001b[0;34m(\u001b[0m\u001b[0;34m\"\"\u001b[0m\u001b[0;34m)\u001b[0m\u001b[0;34m\u001b[0m\u001b[0;34m\u001b[0m\u001b[0m\n",
            "\u001b[0;32m<ipython-input-4-9edc5f674b28>\u001b[0m in \u001b[0;36mgetLinks\u001b[0;34m(pageUrl)\u001b[0m\n\u001b[1;32m     21\u001b[0m             \u001b[0mprint\u001b[0m\u001b[0;34m(\u001b[0m\u001b[0;34m\"--------------\\n\"\u001b[0m\u001b[0;34m+\u001b[0m\u001b[0mnewPage\u001b[0m\u001b[0;34m)\u001b[0m\u001b[0;34m\u001b[0m\u001b[0;34m\u001b[0m\u001b[0m\n\u001b[1;32m     22\u001b[0m             \u001b[0mpages\u001b[0m\u001b[0;34m.\u001b[0m\u001b[0madd\u001b[0m\u001b[0;34m(\u001b[0m\u001b[0mnewPage\u001b[0m\u001b[0;34m)\u001b[0m\u001b[0;34m\u001b[0m\u001b[0;34m\u001b[0m\u001b[0m\n\u001b[0;32m---> 23\u001b[0;31m             \u001b[0mgetLinks\u001b[0m\u001b[0;34m(\u001b[0m\u001b[0mnewPage\u001b[0m\u001b[0;34m)\u001b[0m\u001b[0;34m\u001b[0m\u001b[0;34m\u001b[0m\u001b[0m\n\u001b[0m\u001b[1;32m     24\u001b[0m \u001b[0mgetLinks\u001b[0m\u001b[0;34m(\u001b[0m\u001b[0;34m\"\"\u001b[0m\u001b[0;34m)\u001b[0m\u001b[0;34m\u001b[0m\u001b[0;34m\u001b[0m\u001b[0m\n",
            "\u001b[0;32m<ipython-input-4-9edc5f674b28>\u001b[0m in \u001b[0;36mgetLinks\u001b[0;34m(pageUrl)\u001b[0m\n\u001b[1;32m     21\u001b[0m             \u001b[0mprint\u001b[0m\u001b[0;34m(\u001b[0m\u001b[0;34m\"--------------\\n\"\u001b[0m\u001b[0;34m+\u001b[0m\u001b[0mnewPage\u001b[0m\u001b[0;34m)\u001b[0m\u001b[0;34m\u001b[0m\u001b[0;34m\u001b[0m\u001b[0m\n\u001b[1;32m     22\u001b[0m             \u001b[0mpages\u001b[0m\u001b[0;34m.\u001b[0m\u001b[0madd\u001b[0m\u001b[0;34m(\u001b[0m\u001b[0mnewPage\u001b[0m\u001b[0;34m)\u001b[0m\u001b[0;34m\u001b[0m\u001b[0;34m\u001b[0m\u001b[0m\n\u001b[0;32m---> 23\u001b[0;31m             \u001b[0mgetLinks\u001b[0m\u001b[0;34m(\u001b[0m\u001b[0mnewPage\u001b[0m\u001b[0;34m)\u001b[0m\u001b[0;34m\u001b[0m\u001b[0;34m\u001b[0m\u001b[0m\n\u001b[0m\u001b[1;32m     24\u001b[0m \u001b[0mgetLinks\u001b[0m\u001b[0;34m(\u001b[0m\u001b[0;34m\"\"\u001b[0m\u001b[0;34m)\u001b[0m\u001b[0;34m\u001b[0m\u001b[0;34m\u001b[0m\u001b[0m\n",
            "\u001b[0;32m<ipython-input-4-9edc5f674b28>\u001b[0m in \u001b[0;36mgetLinks\u001b[0;34m(pageUrl)\u001b[0m\n\u001b[1;32m     21\u001b[0m             \u001b[0mprint\u001b[0m\u001b[0;34m(\u001b[0m\u001b[0;34m\"--------------\\n\"\u001b[0m\u001b[0;34m+\u001b[0m\u001b[0mnewPage\u001b[0m\u001b[0;34m)\u001b[0m\u001b[0;34m\u001b[0m\u001b[0;34m\u001b[0m\u001b[0m\n\u001b[1;32m     22\u001b[0m             \u001b[0mpages\u001b[0m\u001b[0;34m.\u001b[0m\u001b[0madd\u001b[0m\u001b[0;34m(\u001b[0m\u001b[0mnewPage\u001b[0m\u001b[0;34m)\u001b[0m\u001b[0;34m\u001b[0m\u001b[0;34m\u001b[0m\u001b[0m\n\u001b[0;32m---> 23\u001b[0;31m             \u001b[0mgetLinks\u001b[0m\u001b[0;34m(\u001b[0m\u001b[0mnewPage\u001b[0m\u001b[0;34m)\u001b[0m\u001b[0;34m\u001b[0m\u001b[0;34m\u001b[0m\u001b[0m\n\u001b[0m\u001b[1;32m     24\u001b[0m \u001b[0mgetLinks\u001b[0m\u001b[0;34m(\u001b[0m\u001b[0;34m\"\"\u001b[0m\u001b[0;34m)\u001b[0m\u001b[0;34m\u001b[0m\u001b[0;34m\u001b[0m\u001b[0m\n",
            "\u001b[0;32m<ipython-input-4-9edc5f674b28>\u001b[0m in \u001b[0;36mgetLinks\u001b[0;34m(pageUrl)\u001b[0m\n\u001b[1;32m     21\u001b[0m             \u001b[0mprint\u001b[0m\u001b[0;34m(\u001b[0m\u001b[0;34m\"--------------\\n\"\u001b[0m\u001b[0;34m+\u001b[0m\u001b[0mnewPage\u001b[0m\u001b[0;34m)\u001b[0m\u001b[0;34m\u001b[0m\u001b[0;34m\u001b[0m\u001b[0m\n\u001b[1;32m     22\u001b[0m             \u001b[0mpages\u001b[0m\u001b[0;34m.\u001b[0m\u001b[0madd\u001b[0m\u001b[0;34m(\u001b[0m\u001b[0mnewPage\u001b[0m\u001b[0;34m)\u001b[0m\u001b[0;34m\u001b[0m\u001b[0;34m\u001b[0m\u001b[0m\n\u001b[0;32m---> 23\u001b[0;31m             \u001b[0mgetLinks\u001b[0m\u001b[0;34m(\u001b[0m\u001b[0mnewPage\u001b[0m\u001b[0;34m)\u001b[0m\u001b[0;34m\u001b[0m\u001b[0;34m\u001b[0m\u001b[0m\n\u001b[0m\u001b[1;32m     24\u001b[0m \u001b[0mgetLinks\u001b[0m\u001b[0;34m(\u001b[0m\u001b[0;34m\"\"\u001b[0m\u001b[0;34m)\u001b[0m\u001b[0;34m\u001b[0m\u001b[0;34m\u001b[0m\u001b[0m\n",
            "\u001b[0;32m<ipython-input-4-9edc5f674b28>\u001b[0m in \u001b[0;36mgetLinks\u001b[0;34m(pageUrl)\u001b[0m\n\u001b[1;32m     21\u001b[0m             \u001b[0mprint\u001b[0m\u001b[0;34m(\u001b[0m\u001b[0;34m\"--------------\\n\"\u001b[0m\u001b[0;34m+\u001b[0m\u001b[0mnewPage\u001b[0m\u001b[0;34m)\u001b[0m\u001b[0;34m\u001b[0m\u001b[0;34m\u001b[0m\u001b[0m\n\u001b[1;32m     22\u001b[0m             \u001b[0mpages\u001b[0m\u001b[0;34m.\u001b[0m\u001b[0madd\u001b[0m\u001b[0;34m(\u001b[0m\u001b[0mnewPage\u001b[0m\u001b[0;34m)\u001b[0m\u001b[0;34m\u001b[0m\u001b[0;34m\u001b[0m\u001b[0m\n\u001b[0;32m---> 23\u001b[0;31m             \u001b[0mgetLinks\u001b[0m\u001b[0;34m(\u001b[0m\u001b[0mnewPage\u001b[0m\u001b[0;34m)\u001b[0m\u001b[0;34m\u001b[0m\u001b[0;34m\u001b[0m\u001b[0m\n\u001b[0m\u001b[1;32m     24\u001b[0m \u001b[0mgetLinks\u001b[0m\u001b[0;34m(\u001b[0m\u001b[0;34m\"\"\u001b[0m\u001b[0;34m)\u001b[0m\u001b[0;34m\u001b[0m\u001b[0;34m\u001b[0m\u001b[0m\n",
            "\u001b[0;32m<ipython-input-4-9edc5f674b28>\u001b[0m in \u001b[0;36mgetLinks\u001b[0;34m(pageUrl)\u001b[0m\n\u001b[1;32m     21\u001b[0m             \u001b[0mprint\u001b[0m\u001b[0;34m(\u001b[0m\u001b[0;34m\"--------------\\n\"\u001b[0m\u001b[0;34m+\u001b[0m\u001b[0mnewPage\u001b[0m\u001b[0;34m)\u001b[0m\u001b[0;34m\u001b[0m\u001b[0;34m\u001b[0m\u001b[0m\n\u001b[1;32m     22\u001b[0m             \u001b[0mpages\u001b[0m\u001b[0;34m.\u001b[0m\u001b[0madd\u001b[0m\u001b[0;34m(\u001b[0m\u001b[0mnewPage\u001b[0m\u001b[0;34m)\u001b[0m\u001b[0;34m\u001b[0m\u001b[0;34m\u001b[0m\u001b[0m\n\u001b[0;32m---> 23\u001b[0;31m             \u001b[0mgetLinks\u001b[0m\u001b[0;34m(\u001b[0m\u001b[0mnewPage\u001b[0m\u001b[0;34m)\u001b[0m\u001b[0;34m\u001b[0m\u001b[0;34m\u001b[0m\u001b[0m\n\u001b[0m\u001b[1;32m     24\u001b[0m \u001b[0mgetLinks\u001b[0m\u001b[0;34m(\u001b[0m\u001b[0;34m\"\"\u001b[0m\u001b[0;34m)\u001b[0m\u001b[0;34m\u001b[0m\u001b[0;34m\u001b[0m\u001b[0m\n",
            "\u001b[0;32m<ipython-input-4-9edc5f674b28>\u001b[0m in \u001b[0;36mgetLinks\u001b[0;34m(pageUrl)\u001b[0m\n\u001b[1;32m     21\u001b[0m             \u001b[0mprint\u001b[0m\u001b[0;34m(\u001b[0m\u001b[0;34m\"--------------\\n\"\u001b[0m\u001b[0;34m+\u001b[0m\u001b[0mnewPage\u001b[0m\u001b[0;34m)\u001b[0m\u001b[0;34m\u001b[0m\u001b[0;34m\u001b[0m\u001b[0m\n\u001b[1;32m     22\u001b[0m             \u001b[0mpages\u001b[0m\u001b[0;34m.\u001b[0m\u001b[0madd\u001b[0m\u001b[0;34m(\u001b[0m\u001b[0mnewPage\u001b[0m\u001b[0;34m)\u001b[0m\u001b[0;34m\u001b[0m\u001b[0;34m\u001b[0m\u001b[0m\n\u001b[0;32m---> 23\u001b[0;31m             \u001b[0mgetLinks\u001b[0m\u001b[0;34m(\u001b[0m\u001b[0mnewPage\u001b[0m\u001b[0;34m)\u001b[0m\u001b[0;34m\u001b[0m\u001b[0;34m\u001b[0m\u001b[0m\n\u001b[0m\u001b[1;32m     24\u001b[0m \u001b[0mgetLinks\u001b[0m\u001b[0;34m(\u001b[0m\u001b[0;34m\"\"\u001b[0m\u001b[0;34m)\u001b[0m\u001b[0;34m\u001b[0m\u001b[0;34m\u001b[0m\u001b[0m\n",
            "\u001b[0;32m<ipython-input-4-9edc5f674b28>\u001b[0m in \u001b[0;36mgetLinks\u001b[0;34m(pageUrl)\u001b[0m\n\u001b[1;32m     21\u001b[0m             \u001b[0mprint\u001b[0m\u001b[0;34m(\u001b[0m\u001b[0;34m\"--------------\\n\"\u001b[0m\u001b[0;34m+\u001b[0m\u001b[0mnewPage\u001b[0m\u001b[0;34m)\u001b[0m\u001b[0;34m\u001b[0m\u001b[0;34m\u001b[0m\u001b[0m\n\u001b[1;32m     22\u001b[0m             \u001b[0mpages\u001b[0m\u001b[0;34m.\u001b[0m\u001b[0madd\u001b[0m\u001b[0;34m(\u001b[0m\u001b[0mnewPage\u001b[0m\u001b[0;34m)\u001b[0m\u001b[0;34m\u001b[0m\u001b[0;34m\u001b[0m\u001b[0m\n\u001b[0;32m---> 23\u001b[0;31m             \u001b[0mgetLinks\u001b[0m\u001b[0;34m(\u001b[0m\u001b[0mnewPage\u001b[0m\u001b[0;34m)\u001b[0m\u001b[0;34m\u001b[0m\u001b[0;34m\u001b[0m\u001b[0m\n\u001b[0m\u001b[1;32m     24\u001b[0m \u001b[0mgetLinks\u001b[0m\u001b[0;34m(\u001b[0m\u001b[0;34m\"\"\u001b[0m\u001b[0;34m)\u001b[0m\u001b[0;34m\u001b[0m\u001b[0;34m\u001b[0m\u001b[0m\n",
            "\u001b[0;32m<ipython-input-4-9edc5f674b28>\u001b[0m in \u001b[0;36mgetLinks\u001b[0;34m(pageUrl)\u001b[0m\n\u001b[1;32m     21\u001b[0m             \u001b[0mprint\u001b[0m\u001b[0;34m(\u001b[0m\u001b[0;34m\"--------------\\n\"\u001b[0m\u001b[0;34m+\u001b[0m\u001b[0mnewPage\u001b[0m\u001b[0;34m)\u001b[0m\u001b[0;34m\u001b[0m\u001b[0;34m\u001b[0m\u001b[0m\n\u001b[1;32m     22\u001b[0m             \u001b[0mpages\u001b[0m\u001b[0;34m.\u001b[0m\u001b[0madd\u001b[0m\u001b[0;34m(\u001b[0m\u001b[0mnewPage\u001b[0m\u001b[0;34m)\u001b[0m\u001b[0;34m\u001b[0m\u001b[0;34m\u001b[0m\u001b[0m\n\u001b[0;32m---> 23\u001b[0;31m             \u001b[0mgetLinks\u001b[0m\u001b[0;34m(\u001b[0m\u001b[0mnewPage\u001b[0m\u001b[0;34m)\u001b[0m\u001b[0;34m\u001b[0m\u001b[0;34m\u001b[0m\u001b[0m\n\u001b[0m\u001b[1;32m     24\u001b[0m \u001b[0mgetLinks\u001b[0m\u001b[0;34m(\u001b[0m\u001b[0;34m\"\"\u001b[0m\u001b[0;34m)\u001b[0m\u001b[0;34m\u001b[0m\u001b[0;34m\u001b[0m\u001b[0m\n",
            "\u001b[0;32m<ipython-input-4-9edc5f674b28>\u001b[0m in \u001b[0;36mgetLinks\u001b[0;34m(pageUrl)\u001b[0m\n\u001b[1;32m     21\u001b[0m             \u001b[0mprint\u001b[0m\u001b[0;34m(\u001b[0m\u001b[0;34m\"--------------\\n\"\u001b[0m\u001b[0;34m+\u001b[0m\u001b[0mnewPage\u001b[0m\u001b[0;34m)\u001b[0m\u001b[0;34m\u001b[0m\u001b[0;34m\u001b[0m\u001b[0m\n\u001b[1;32m     22\u001b[0m             \u001b[0mpages\u001b[0m\u001b[0;34m.\u001b[0m\u001b[0madd\u001b[0m\u001b[0;34m(\u001b[0m\u001b[0mnewPage\u001b[0m\u001b[0;34m)\u001b[0m\u001b[0;34m\u001b[0m\u001b[0;34m\u001b[0m\u001b[0m\n\u001b[0;32m---> 23\u001b[0;31m             \u001b[0mgetLinks\u001b[0m\u001b[0;34m(\u001b[0m\u001b[0mnewPage\u001b[0m\u001b[0;34m)\u001b[0m\u001b[0;34m\u001b[0m\u001b[0;34m\u001b[0m\u001b[0m\n\u001b[0m\u001b[1;32m     24\u001b[0m \u001b[0mgetLinks\u001b[0m\u001b[0;34m(\u001b[0m\u001b[0;34m\"\"\u001b[0m\u001b[0;34m)\u001b[0m\u001b[0;34m\u001b[0m\u001b[0;34m\u001b[0m\u001b[0m\n",
            "\u001b[0;32m<ipython-input-4-9edc5f674b28>\u001b[0m in \u001b[0;36mgetLinks\u001b[0;34m(pageUrl)\u001b[0m\n\u001b[1;32m     21\u001b[0m             \u001b[0mprint\u001b[0m\u001b[0;34m(\u001b[0m\u001b[0;34m\"--------------\\n\"\u001b[0m\u001b[0;34m+\u001b[0m\u001b[0mnewPage\u001b[0m\u001b[0;34m)\u001b[0m\u001b[0;34m\u001b[0m\u001b[0;34m\u001b[0m\u001b[0m\n\u001b[1;32m     22\u001b[0m             \u001b[0mpages\u001b[0m\u001b[0;34m.\u001b[0m\u001b[0madd\u001b[0m\u001b[0;34m(\u001b[0m\u001b[0mnewPage\u001b[0m\u001b[0;34m)\u001b[0m\u001b[0;34m\u001b[0m\u001b[0;34m\u001b[0m\u001b[0m\n\u001b[0;32m---> 23\u001b[0;31m             \u001b[0mgetLinks\u001b[0m\u001b[0;34m(\u001b[0m\u001b[0mnewPage\u001b[0m\u001b[0;34m)\u001b[0m\u001b[0;34m\u001b[0m\u001b[0;34m\u001b[0m\u001b[0m\n\u001b[0m\u001b[1;32m     24\u001b[0m \u001b[0mgetLinks\u001b[0m\u001b[0;34m(\u001b[0m\u001b[0;34m\"\"\u001b[0m\u001b[0;34m)\u001b[0m\u001b[0;34m\u001b[0m\u001b[0;34m\u001b[0m\u001b[0m\n",
            "\u001b[0;32m<ipython-input-4-9edc5f674b28>\u001b[0m in \u001b[0;36mgetLinks\u001b[0;34m(pageUrl)\u001b[0m\n\u001b[1;32m     21\u001b[0m             \u001b[0mprint\u001b[0m\u001b[0;34m(\u001b[0m\u001b[0;34m\"--------------\\n\"\u001b[0m\u001b[0;34m+\u001b[0m\u001b[0mnewPage\u001b[0m\u001b[0;34m)\u001b[0m\u001b[0;34m\u001b[0m\u001b[0;34m\u001b[0m\u001b[0m\n\u001b[1;32m     22\u001b[0m             \u001b[0mpages\u001b[0m\u001b[0;34m.\u001b[0m\u001b[0madd\u001b[0m\u001b[0;34m(\u001b[0m\u001b[0mnewPage\u001b[0m\u001b[0;34m)\u001b[0m\u001b[0;34m\u001b[0m\u001b[0;34m\u001b[0m\u001b[0m\n\u001b[0;32m---> 23\u001b[0;31m             \u001b[0mgetLinks\u001b[0m\u001b[0;34m(\u001b[0m\u001b[0mnewPage\u001b[0m\u001b[0;34m)\u001b[0m\u001b[0;34m\u001b[0m\u001b[0;34m\u001b[0m\u001b[0m\n\u001b[0m\u001b[1;32m     24\u001b[0m \u001b[0mgetLinks\u001b[0m\u001b[0;34m(\u001b[0m\u001b[0;34m\"\"\u001b[0m\u001b[0;34m)\u001b[0m\u001b[0;34m\u001b[0m\u001b[0;34m\u001b[0m\u001b[0m\n",
            "\u001b[0;32m<ipython-input-4-9edc5f674b28>\u001b[0m in \u001b[0;36mgetLinks\u001b[0;34m(pageUrl)\u001b[0m\n\u001b[1;32m     21\u001b[0m             \u001b[0mprint\u001b[0m\u001b[0;34m(\u001b[0m\u001b[0;34m\"--------------\\n\"\u001b[0m\u001b[0;34m+\u001b[0m\u001b[0mnewPage\u001b[0m\u001b[0;34m)\u001b[0m\u001b[0;34m\u001b[0m\u001b[0;34m\u001b[0m\u001b[0m\n\u001b[1;32m     22\u001b[0m             \u001b[0mpages\u001b[0m\u001b[0;34m.\u001b[0m\u001b[0madd\u001b[0m\u001b[0;34m(\u001b[0m\u001b[0mnewPage\u001b[0m\u001b[0;34m)\u001b[0m\u001b[0;34m\u001b[0m\u001b[0;34m\u001b[0m\u001b[0m\n\u001b[0;32m---> 23\u001b[0;31m             \u001b[0mgetLinks\u001b[0m\u001b[0;34m(\u001b[0m\u001b[0mnewPage\u001b[0m\u001b[0;34m)\u001b[0m\u001b[0;34m\u001b[0m\u001b[0;34m\u001b[0m\u001b[0m\n\u001b[0m\u001b[1;32m     24\u001b[0m \u001b[0mgetLinks\u001b[0m\u001b[0;34m(\u001b[0m\u001b[0;34m\"\"\u001b[0m\u001b[0;34m)\u001b[0m\u001b[0;34m\u001b[0m\u001b[0;34m\u001b[0m\u001b[0m\n",
            "\u001b[0;32m<ipython-input-4-9edc5f674b28>\u001b[0m in \u001b[0;36mgetLinks\u001b[0;34m(pageUrl)\u001b[0m\n\u001b[1;32m     21\u001b[0m             \u001b[0mprint\u001b[0m\u001b[0;34m(\u001b[0m\u001b[0;34m\"--------------\\n\"\u001b[0m\u001b[0;34m+\u001b[0m\u001b[0mnewPage\u001b[0m\u001b[0;34m)\u001b[0m\u001b[0;34m\u001b[0m\u001b[0;34m\u001b[0m\u001b[0m\n\u001b[1;32m     22\u001b[0m             \u001b[0mpages\u001b[0m\u001b[0;34m.\u001b[0m\u001b[0madd\u001b[0m\u001b[0;34m(\u001b[0m\u001b[0mnewPage\u001b[0m\u001b[0;34m)\u001b[0m\u001b[0;34m\u001b[0m\u001b[0;34m\u001b[0m\u001b[0m\n\u001b[0;32m---> 23\u001b[0;31m             \u001b[0mgetLinks\u001b[0m\u001b[0;34m(\u001b[0m\u001b[0mnewPage\u001b[0m\u001b[0;34m)\u001b[0m\u001b[0;34m\u001b[0m\u001b[0;34m\u001b[0m\u001b[0m\n\u001b[0m\u001b[1;32m     24\u001b[0m \u001b[0mgetLinks\u001b[0m\u001b[0;34m(\u001b[0m\u001b[0;34m\"\"\u001b[0m\u001b[0;34m)\u001b[0m\u001b[0;34m\u001b[0m\u001b[0;34m\u001b[0m\u001b[0m\n",
            "\u001b[0;32m<ipython-input-4-9edc5f674b28>\u001b[0m in \u001b[0;36mgetLinks\u001b[0;34m(pageUrl)\u001b[0m\n\u001b[1;32m     21\u001b[0m             \u001b[0mprint\u001b[0m\u001b[0;34m(\u001b[0m\u001b[0;34m\"--------------\\n\"\u001b[0m\u001b[0;34m+\u001b[0m\u001b[0mnewPage\u001b[0m\u001b[0;34m)\u001b[0m\u001b[0;34m\u001b[0m\u001b[0;34m\u001b[0m\u001b[0m\n\u001b[1;32m     22\u001b[0m             \u001b[0mpages\u001b[0m\u001b[0;34m.\u001b[0m\u001b[0madd\u001b[0m\u001b[0;34m(\u001b[0m\u001b[0mnewPage\u001b[0m\u001b[0;34m)\u001b[0m\u001b[0;34m\u001b[0m\u001b[0;34m\u001b[0m\u001b[0m\n\u001b[0;32m---> 23\u001b[0;31m             \u001b[0mgetLinks\u001b[0m\u001b[0;34m(\u001b[0m\u001b[0mnewPage\u001b[0m\u001b[0;34m)\u001b[0m\u001b[0;34m\u001b[0m\u001b[0;34m\u001b[0m\u001b[0m\n\u001b[0m\u001b[1;32m     24\u001b[0m \u001b[0mgetLinks\u001b[0m\u001b[0;34m(\u001b[0m\u001b[0;34m\"\"\u001b[0m\u001b[0;34m)\u001b[0m\u001b[0;34m\u001b[0m\u001b[0;34m\u001b[0m\u001b[0m\n",
            "\u001b[0;32m<ipython-input-4-9edc5f674b28>\u001b[0m in \u001b[0;36mgetLinks\u001b[0;34m(pageUrl)\u001b[0m\n\u001b[1;32m     21\u001b[0m             \u001b[0mprint\u001b[0m\u001b[0;34m(\u001b[0m\u001b[0;34m\"--------------\\n\"\u001b[0m\u001b[0;34m+\u001b[0m\u001b[0mnewPage\u001b[0m\u001b[0;34m)\u001b[0m\u001b[0;34m\u001b[0m\u001b[0;34m\u001b[0m\u001b[0m\n\u001b[1;32m     22\u001b[0m             \u001b[0mpages\u001b[0m\u001b[0;34m.\u001b[0m\u001b[0madd\u001b[0m\u001b[0;34m(\u001b[0m\u001b[0mnewPage\u001b[0m\u001b[0;34m)\u001b[0m\u001b[0;34m\u001b[0m\u001b[0;34m\u001b[0m\u001b[0m\n\u001b[0;32m---> 23\u001b[0;31m             \u001b[0mgetLinks\u001b[0m\u001b[0;34m(\u001b[0m\u001b[0mnewPage\u001b[0m\u001b[0;34m)\u001b[0m\u001b[0;34m\u001b[0m\u001b[0;34m\u001b[0m\u001b[0m\n\u001b[0m\u001b[1;32m     24\u001b[0m \u001b[0mgetLinks\u001b[0m\u001b[0;34m(\u001b[0m\u001b[0;34m\"\"\u001b[0m\u001b[0;34m)\u001b[0m\u001b[0;34m\u001b[0m\u001b[0;34m\u001b[0m\u001b[0m\n",
            "\u001b[0;32m<ipython-input-4-9edc5f674b28>\u001b[0m in \u001b[0;36mgetLinks\u001b[0;34m(pageUrl)\u001b[0m\n\u001b[1;32m     21\u001b[0m             \u001b[0mprint\u001b[0m\u001b[0;34m(\u001b[0m\u001b[0;34m\"--------------\\n\"\u001b[0m\u001b[0;34m+\u001b[0m\u001b[0mnewPage\u001b[0m\u001b[0;34m)\u001b[0m\u001b[0;34m\u001b[0m\u001b[0;34m\u001b[0m\u001b[0m\n\u001b[1;32m     22\u001b[0m             \u001b[0mpages\u001b[0m\u001b[0;34m.\u001b[0m\u001b[0madd\u001b[0m\u001b[0;34m(\u001b[0m\u001b[0mnewPage\u001b[0m\u001b[0;34m)\u001b[0m\u001b[0;34m\u001b[0m\u001b[0;34m\u001b[0m\u001b[0m\n\u001b[0;32m---> 23\u001b[0;31m             \u001b[0mgetLinks\u001b[0m\u001b[0;34m(\u001b[0m\u001b[0mnewPage\u001b[0m\u001b[0;34m)\u001b[0m\u001b[0;34m\u001b[0m\u001b[0;34m\u001b[0m\u001b[0m\n\u001b[0m\u001b[1;32m     24\u001b[0m \u001b[0mgetLinks\u001b[0m\u001b[0;34m(\u001b[0m\u001b[0;34m\"\"\u001b[0m\u001b[0;34m)\u001b[0m\u001b[0;34m\u001b[0m\u001b[0;34m\u001b[0m\u001b[0m\n",
            "\u001b[0;32m<ipython-input-4-9edc5f674b28>\u001b[0m in \u001b[0;36mgetLinks\u001b[0;34m(pageUrl)\u001b[0m\n\u001b[1;32m     21\u001b[0m             \u001b[0mprint\u001b[0m\u001b[0;34m(\u001b[0m\u001b[0;34m\"--------------\\n\"\u001b[0m\u001b[0;34m+\u001b[0m\u001b[0mnewPage\u001b[0m\u001b[0;34m)\u001b[0m\u001b[0;34m\u001b[0m\u001b[0;34m\u001b[0m\u001b[0m\n\u001b[1;32m     22\u001b[0m             \u001b[0mpages\u001b[0m\u001b[0;34m.\u001b[0m\u001b[0madd\u001b[0m\u001b[0;34m(\u001b[0m\u001b[0mnewPage\u001b[0m\u001b[0;34m)\u001b[0m\u001b[0;34m\u001b[0m\u001b[0;34m\u001b[0m\u001b[0m\n\u001b[0;32m---> 23\u001b[0;31m             \u001b[0mgetLinks\u001b[0m\u001b[0;34m(\u001b[0m\u001b[0mnewPage\u001b[0m\u001b[0;34m)\u001b[0m\u001b[0;34m\u001b[0m\u001b[0;34m\u001b[0m\u001b[0m\n\u001b[0m\u001b[1;32m     24\u001b[0m \u001b[0mgetLinks\u001b[0m\u001b[0;34m(\u001b[0m\u001b[0;34m\"\"\u001b[0m\u001b[0;34m)\u001b[0m\u001b[0;34m\u001b[0m\u001b[0;34m\u001b[0m\u001b[0m\n",
            "\u001b[0;32m<ipython-input-4-9edc5f674b28>\u001b[0m in \u001b[0;36mgetLinks\u001b[0;34m(pageUrl)\u001b[0m\n\u001b[1;32m     21\u001b[0m             \u001b[0mprint\u001b[0m\u001b[0;34m(\u001b[0m\u001b[0;34m\"--------------\\n\"\u001b[0m\u001b[0;34m+\u001b[0m\u001b[0mnewPage\u001b[0m\u001b[0;34m)\u001b[0m\u001b[0;34m\u001b[0m\u001b[0;34m\u001b[0m\u001b[0m\n\u001b[1;32m     22\u001b[0m             \u001b[0mpages\u001b[0m\u001b[0;34m.\u001b[0m\u001b[0madd\u001b[0m\u001b[0;34m(\u001b[0m\u001b[0mnewPage\u001b[0m\u001b[0;34m)\u001b[0m\u001b[0;34m\u001b[0m\u001b[0;34m\u001b[0m\u001b[0m\n\u001b[0;32m---> 23\u001b[0;31m             \u001b[0mgetLinks\u001b[0m\u001b[0;34m(\u001b[0m\u001b[0mnewPage\u001b[0m\u001b[0;34m)\u001b[0m\u001b[0;34m\u001b[0m\u001b[0;34m\u001b[0m\u001b[0m\n\u001b[0m\u001b[1;32m     24\u001b[0m \u001b[0mgetLinks\u001b[0m\u001b[0;34m(\u001b[0m\u001b[0;34m\"\"\u001b[0m\u001b[0;34m)\u001b[0m\u001b[0;34m\u001b[0m\u001b[0;34m\u001b[0m\u001b[0m\n",
            "\u001b[0;32m<ipython-input-4-9edc5f674b28>\u001b[0m in \u001b[0;36mgetLinks\u001b[0;34m(pageUrl)\u001b[0m\n\u001b[1;32m     21\u001b[0m             \u001b[0mprint\u001b[0m\u001b[0;34m(\u001b[0m\u001b[0;34m\"--------------\\n\"\u001b[0m\u001b[0;34m+\u001b[0m\u001b[0mnewPage\u001b[0m\u001b[0;34m)\u001b[0m\u001b[0;34m\u001b[0m\u001b[0;34m\u001b[0m\u001b[0m\n\u001b[1;32m     22\u001b[0m             \u001b[0mpages\u001b[0m\u001b[0;34m.\u001b[0m\u001b[0madd\u001b[0m\u001b[0;34m(\u001b[0m\u001b[0mnewPage\u001b[0m\u001b[0;34m)\u001b[0m\u001b[0;34m\u001b[0m\u001b[0;34m\u001b[0m\u001b[0m\n\u001b[0;32m---> 23\u001b[0;31m             \u001b[0mgetLinks\u001b[0m\u001b[0;34m(\u001b[0m\u001b[0mnewPage\u001b[0m\u001b[0;34m)\u001b[0m\u001b[0;34m\u001b[0m\u001b[0;34m\u001b[0m\u001b[0m\n\u001b[0m\u001b[1;32m     24\u001b[0m \u001b[0mgetLinks\u001b[0m\u001b[0;34m(\u001b[0m\u001b[0;34m\"\"\u001b[0m\u001b[0;34m)\u001b[0m\u001b[0;34m\u001b[0m\u001b[0;34m\u001b[0m\u001b[0m\n",
            "\u001b[0;32m<ipython-input-4-9edc5f674b28>\u001b[0m in \u001b[0;36mgetLinks\u001b[0;34m(pageUrl)\u001b[0m\n\u001b[1;32m     21\u001b[0m             \u001b[0mprint\u001b[0m\u001b[0;34m(\u001b[0m\u001b[0;34m\"--------------\\n\"\u001b[0m\u001b[0;34m+\u001b[0m\u001b[0mnewPage\u001b[0m\u001b[0;34m)\u001b[0m\u001b[0;34m\u001b[0m\u001b[0;34m\u001b[0m\u001b[0m\n\u001b[1;32m     22\u001b[0m             \u001b[0mpages\u001b[0m\u001b[0;34m.\u001b[0m\u001b[0madd\u001b[0m\u001b[0;34m(\u001b[0m\u001b[0mnewPage\u001b[0m\u001b[0;34m)\u001b[0m\u001b[0;34m\u001b[0m\u001b[0;34m\u001b[0m\u001b[0m\n\u001b[0;32m---> 23\u001b[0;31m             \u001b[0mgetLinks\u001b[0m\u001b[0;34m(\u001b[0m\u001b[0mnewPage\u001b[0m\u001b[0;34m)\u001b[0m\u001b[0;34m\u001b[0m\u001b[0;34m\u001b[0m\u001b[0m\n\u001b[0m\u001b[1;32m     24\u001b[0m \u001b[0mgetLinks\u001b[0m\u001b[0;34m(\u001b[0m\u001b[0;34m\"\"\u001b[0m\u001b[0;34m)\u001b[0m\u001b[0;34m\u001b[0m\u001b[0;34m\u001b[0m\u001b[0m\n",
            "\u001b[0;32m<ipython-input-4-9edc5f674b28>\u001b[0m in \u001b[0;36mgetLinks\u001b[0;34m(pageUrl)\u001b[0m\n\u001b[1;32m     21\u001b[0m             \u001b[0mprint\u001b[0m\u001b[0;34m(\u001b[0m\u001b[0;34m\"--------------\\n\"\u001b[0m\u001b[0;34m+\u001b[0m\u001b[0mnewPage\u001b[0m\u001b[0;34m)\u001b[0m\u001b[0;34m\u001b[0m\u001b[0;34m\u001b[0m\u001b[0m\n\u001b[1;32m     22\u001b[0m             \u001b[0mpages\u001b[0m\u001b[0;34m.\u001b[0m\u001b[0madd\u001b[0m\u001b[0;34m(\u001b[0m\u001b[0mnewPage\u001b[0m\u001b[0;34m)\u001b[0m\u001b[0;34m\u001b[0m\u001b[0;34m\u001b[0m\u001b[0m\n\u001b[0;32m---> 23\u001b[0;31m             \u001b[0mgetLinks\u001b[0m\u001b[0;34m(\u001b[0m\u001b[0mnewPage\u001b[0m\u001b[0;34m)\u001b[0m\u001b[0;34m\u001b[0m\u001b[0;34m\u001b[0m\u001b[0m\n\u001b[0m\u001b[1;32m     24\u001b[0m \u001b[0mgetLinks\u001b[0m\u001b[0;34m(\u001b[0m\u001b[0;34m\"\"\u001b[0m\u001b[0;34m)\u001b[0m\u001b[0;34m\u001b[0m\u001b[0;34m\u001b[0m\u001b[0m\n",
            "\u001b[0;32m<ipython-input-4-9edc5f674b28>\u001b[0m in \u001b[0;36mgetLinks\u001b[0;34m(pageUrl)\u001b[0m\n\u001b[1;32m     21\u001b[0m             \u001b[0mprint\u001b[0m\u001b[0;34m(\u001b[0m\u001b[0;34m\"--------------\\n\"\u001b[0m\u001b[0;34m+\u001b[0m\u001b[0mnewPage\u001b[0m\u001b[0;34m)\u001b[0m\u001b[0;34m\u001b[0m\u001b[0;34m\u001b[0m\u001b[0m\n\u001b[1;32m     22\u001b[0m             \u001b[0mpages\u001b[0m\u001b[0;34m.\u001b[0m\u001b[0madd\u001b[0m\u001b[0;34m(\u001b[0m\u001b[0mnewPage\u001b[0m\u001b[0;34m)\u001b[0m\u001b[0;34m\u001b[0m\u001b[0;34m\u001b[0m\u001b[0m\n\u001b[0;32m---> 23\u001b[0;31m             \u001b[0mgetLinks\u001b[0m\u001b[0;34m(\u001b[0m\u001b[0mnewPage\u001b[0m\u001b[0;34m)\u001b[0m\u001b[0;34m\u001b[0m\u001b[0;34m\u001b[0m\u001b[0m\n\u001b[0m\u001b[1;32m     24\u001b[0m \u001b[0mgetLinks\u001b[0m\u001b[0;34m(\u001b[0m\u001b[0;34m\"\"\u001b[0m\u001b[0;34m)\u001b[0m\u001b[0;34m\u001b[0m\u001b[0;34m\u001b[0m\u001b[0m\n",
            "\u001b[0;32m<ipython-input-4-9edc5f674b28>\u001b[0m in \u001b[0;36mgetLinks\u001b[0;34m(pageUrl)\u001b[0m\n\u001b[1;32m     21\u001b[0m             \u001b[0mprint\u001b[0m\u001b[0;34m(\u001b[0m\u001b[0;34m\"--------------\\n\"\u001b[0m\u001b[0;34m+\u001b[0m\u001b[0mnewPage\u001b[0m\u001b[0;34m)\u001b[0m\u001b[0;34m\u001b[0m\u001b[0;34m\u001b[0m\u001b[0m\n\u001b[1;32m     22\u001b[0m             \u001b[0mpages\u001b[0m\u001b[0;34m.\u001b[0m\u001b[0madd\u001b[0m\u001b[0;34m(\u001b[0m\u001b[0mnewPage\u001b[0m\u001b[0;34m)\u001b[0m\u001b[0;34m\u001b[0m\u001b[0;34m\u001b[0m\u001b[0m\n\u001b[0;32m---> 23\u001b[0;31m             \u001b[0mgetLinks\u001b[0m\u001b[0;34m(\u001b[0m\u001b[0mnewPage\u001b[0m\u001b[0;34m)\u001b[0m\u001b[0;34m\u001b[0m\u001b[0;34m\u001b[0m\u001b[0m\n\u001b[0m\u001b[1;32m     24\u001b[0m \u001b[0mgetLinks\u001b[0m\u001b[0;34m(\u001b[0m\u001b[0;34m\"\"\u001b[0m\u001b[0;34m)\u001b[0m\u001b[0;34m\u001b[0m\u001b[0;34m\u001b[0m\u001b[0m\n",
            "\u001b[0;32m<ipython-input-4-9edc5f674b28>\u001b[0m in \u001b[0;36mgetLinks\u001b[0;34m(pageUrl)\u001b[0m\n\u001b[1;32m     21\u001b[0m             \u001b[0mprint\u001b[0m\u001b[0;34m(\u001b[0m\u001b[0;34m\"--------------\\n\"\u001b[0m\u001b[0;34m+\u001b[0m\u001b[0mnewPage\u001b[0m\u001b[0;34m)\u001b[0m\u001b[0;34m\u001b[0m\u001b[0;34m\u001b[0m\u001b[0m\n\u001b[1;32m     22\u001b[0m             \u001b[0mpages\u001b[0m\u001b[0;34m.\u001b[0m\u001b[0madd\u001b[0m\u001b[0;34m(\u001b[0m\u001b[0mnewPage\u001b[0m\u001b[0;34m)\u001b[0m\u001b[0;34m\u001b[0m\u001b[0;34m\u001b[0m\u001b[0m\n\u001b[0;32m---> 23\u001b[0;31m             \u001b[0mgetLinks\u001b[0m\u001b[0;34m(\u001b[0m\u001b[0mnewPage\u001b[0m\u001b[0;34m)\u001b[0m\u001b[0;34m\u001b[0m\u001b[0;34m\u001b[0m\u001b[0m\n\u001b[0m\u001b[1;32m     24\u001b[0m \u001b[0mgetLinks\u001b[0m\u001b[0;34m(\u001b[0m\u001b[0;34m\"\"\u001b[0m\u001b[0;34m)\u001b[0m\u001b[0;34m\u001b[0m\u001b[0;34m\u001b[0m\u001b[0m\n",
            "\u001b[0;32m<ipython-input-4-9edc5f674b28>\u001b[0m in \u001b[0;36mgetLinks\u001b[0;34m(pageUrl)\u001b[0m\n\u001b[1;32m     21\u001b[0m             \u001b[0mprint\u001b[0m\u001b[0;34m(\u001b[0m\u001b[0;34m\"--------------\\n\"\u001b[0m\u001b[0;34m+\u001b[0m\u001b[0mnewPage\u001b[0m\u001b[0;34m)\u001b[0m\u001b[0;34m\u001b[0m\u001b[0;34m\u001b[0m\u001b[0m\n\u001b[1;32m     22\u001b[0m             \u001b[0mpages\u001b[0m\u001b[0;34m.\u001b[0m\u001b[0madd\u001b[0m\u001b[0;34m(\u001b[0m\u001b[0mnewPage\u001b[0m\u001b[0;34m)\u001b[0m\u001b[0;34m\u001b[0m\u001b[0;34m\u001b[0m\u001b[0m\n\u001b[0;32m---> 23\u001b[0;31m             \u001b[0mgetLinks\u001b[0m\u001b[0;34m(\u001b[0m\u001b[0mnewPage\u001b[0m\u001b[0;34m)\u001b[0m\u001b[0;34m\u001b[0m\u001b[0;34m\u001b[0m\u001b[0m\n\u001b[0m\u001b[1;32m     24\u001b[0m \u001b[0mgetLinks\u001b[0m\u001b[0;34m(\u001b[0m\u001b[0;34m\"\"\u001b[0m\u001b[0;34m)\u001b[0m\u001b[0;34m\u001b[0m\u001b[0;34m\u001b[0m\u001b[0m\n",
            "\u001b[0;32m<ipython-input-4-9edc5f674b28>\u001b[0m in \u001b[0;36mgetLinks\u001b[0;34m(pageUrl)\u001b[0m\n\u001b[1;32m     21\u001b[0m             \u001b[0mprint\u001b[0m\u001b[0;34m(\u001b[0m\u001b[0;34m\"--------------\\n\"\u001b[0m\u001b[0;34m+\u001b[0m\u001b[0mnewPage\u001b[0m\u001b[0;34m)\u001b[0m\u001b[0;34m\u001b[0m\u001b[0;34m\u001b[0m\u001b[0m\n\u001b[1;32m     22\u001b[0m             \u001b[0mpages\u001b[0m\u001b[0;34m.\u001b[0m\u001b[0madd\u001b[0m\u001b[0;34m(\u001b[0m\u001b[0mnewPage\u001b[0m\u001b[0;34m)\u001b[0m\u001b[0;34m\u001b[0m\u001b[0;34m\u001b[0m\u001b[0m\n\u001b[0;32m---> 23\u001b[0;31m             \u001b[0mgetLinks\u001b[0m\u001b[0;34m(\u001b[0m\u001b[0mnewPage\u001b[0m\u001b[0;34m)\u001b[0m\u001b[0;34m\u001b[0m\u001b[0;34m\u001b[0m\u001b[0m\n\u001b[0m\u001b[1;32m     24\u001b[0m \u001b[0mgetLinks\u001b[0m\u001b[0;34m(\u001b[0m\u001b[0;34m\"\"\u001b[0m\u001b[0;34m)\u001b[0m\u001b[0;34m\u001b[0m\u001b[0;34m\u001b[0m\u001b[0m\n",
            "\u001b[0;32m<ipython-input-4-9edc5f674b28>\u001b[0m in \u001b[0;36mgetLinks\u001b[0;34m(pageUrl)\u001b[0m\n\u001b[1;32m     21\u001b[0m             \u001b[0mprint\u001b[0m\u001b[0;34m(\u001b[0m\u001b[0;34m\"--------------\\n\"\u001b[0m\u001b[0;34m+\u001b[0m\u001b[0mnewPage\u001b[0m\u001b[0;34m)\u001b[0m\u001b[0;34m\u001b[0m\u001b[0;34m\u001b[0m\u001b[0m\n\u001b[1;32m     22\u001b[0m             \u001b[0mpages\u001b[0m\u001b[0;34m.\u001b[0m\u001b[0madd\u001b[0m\u001b[0;34m(\u001b[0m\u001b[0mnewPage\u001b[0m\u001b[0;34m)\u001b[0m\u001b[0;34m\u001b[0m\u001b[0;34m\u001b[0m\u001b[0m\n\u001b[0;32m---> 23\u001b[0;31m             \u001b[0mgetLinks\u001b[0m\u001b[0;34m(\u001b[0m\u001b[0mnewPage\u001b[0m\u001b[0;34m)\u001b[0m\u001b[0;34m\u001b[0m\u001b[0;34m\u001b[0m\u001b[0m\n\u001b[0m\u001b[1;32m     24\u001b[0m \u001b[0mgetLinks\u001b[0m\u001b[0;34m(\u001b[0m\u001b[0;34m\"\"\u001b[0m\u001b[0;34m)\u001b[0m\u001b[0;34m\u001b[0m\u001b[0;34m\u001b[0m\u001b[0m\n",
            "\u001b[0;32m<ipython-input-4-9edc5f674b28>\u001b[0m in \u001b[0;36mgetLinks\u001b[0;34m(pageUrl)\u001b[0m\n\u001b[1;32m     21\u001b[0m             \u001b[0mprint\u001b[0m\u001b[0;34m(\u001b[0m\u001b[0;34m\"--------------\\n\"\u001b[0m\u001b[0;34m+\u001b[0m\u001b[0mnewPage\u001b[0m\u001b[0;34m)\u001b[0m\u001b[0;34m\u001b[0m\u001b[0;34m\u001b[0m\u001b[0m\n\u001b[1;32m     22\u001b[0m             \u001b[0mpages\u001b[0m\u001b[0;34m.\u001b[0m\u001b[0madd\u001b[0m\u001b[0;34m(\u001b[0m\u001b[0mnewPage\u001b[0m\u001b[0;34m)\u001b[0m\u001b[0;34m\u001b[0m\u001b[0;34m\u001b[0m\u001b[0m\n\u001b[0;32m---> 23\u001b[0;31m             \u001b[0mgetLinks\u001b[0m\u001b[0;34m(\u001b[0m\u001b[0mnewPage\u001b[0m\u001b[0;34m)\u001b[0m\u001b[0;34m\u001b[0m\u001b[0;34m\u001b[0m\u001b[0m\n\u001b[0m\u001b[1;32m     24\u001b[0m \u001b[0mgetLinks\u001b[0m\u001b[0;34m(\u001b[0m\u001b[0;34m\"\"\u001b[0m\u001b[0;34m)\u001b[0m\u001b[0;34m\u001b[0m\u001b[0;34m\u001b[0m\u001b[0m\n",
            "\u001b[0;32m<ipython-input-4-9edc5f674b28>\u001b[0m in \u001b[0;36mgetLinks\u001b[0;34m(pageUrl)\u001b[0m\n\u001b[1;32m     21\u001b[0m             \u001b[0mprint\u001b[0m\u001b[0;34m(\u001b[0m\u001b[0;34m\"--------------\\n\"\u001b[0m\u001b[0;34m+\u001b[0m\u001b[0mnewPage\u001b[0m\u001b[0;34m)\u001b[0m\u001b[0;34m\u001b[0m\u001b[0;34m\u001b[0m\u001b[0m\n\u001b[1;32m     22\u001b[0m             \u001b[0mpages\u001b[0m\u001b[0;34m.\u001b[0m\u001b[0madd\u001b[0m\u001b[0;34m(\u001b[0m\u001b[0mnewPage\u001b[0m\u001b[0;34m)\u001b[0m\u001b[0;34m\u001b[0m\u001b[0;34m\u001b[0m\u001b[0m\n\u001b[0;32m---> 23\u001b[0;31m             \u001b[0mgetLinks\u001b[0m\u001b[0;34m(\u001b[0m\u001b[0mnewPage\u001b[0m\u001b[0;34m)\u001b[0m\u001b[0;34m\u001b[0m\u001b[0;34m\u001b[0m\u001b[0m\n\u001b[0m\u001b[1;32m     24\u001b[0m \u001b[0mgetLinks\u001b[0m\u001b[0;34m(\u001b[0m\u001b[0;34m\"\"\u001b[0m\u001b[0;34m)\u001b[0m\u001b[0;34m\u001b[0m\u001b[0;34m\u001b[0m\u001b[0m\n",
            "\u001b[0;32m<ipython-input-4-9edc5f674b28>\u001b[0m in \u001b[0;36mgetLinks\u001b[0;34m(pageUrl)\u001b[0m\n\u001b[1;32m     21\u001b[0m             \u001b[0mprint\u001b[0m\u001b[0;34m(\u001b[0m\u001b[0;34m\"--------------\\n\"\u001b[0m\u001b[0;34m+\u001b[0m\u001b[0mnewPage\u001b[0m\u001b[0;34m)\u001b[0m\u001b[0;34m\u001b[0m\u001b[0;34m\u001b[0m\u001b[0m\n\u001b[1;32m     22\u001b[0m             \u001b[0mpages\u001b[0m\u001b[0;34m.\u001b[0m\u001b[0madd\u001b[0m\u001b[0;34m(\u001b[0m\u001b[0mnewPage\u001b[0m\u001b[0;34m)\u001b[0m\u001b[0;34m\u001b[0m\u001b[0;34m\u001b[0m\u001b[0m\n\u001b[0;32m---> 23\u001b[0;31m             \u001b[0mgetLinks\u001b[0m\u001b[0;34m(\u001b[0m\u001b[0mnewPage\u001b[0m\u001b[0;34m)\u001b[0m\u001b[0;34m\u001b[0m\u001b[0;34m\u001b[0m\u001b[0m\n\u001b[0m\u001b[1;32m     24\u001b[0m \u001b[0mgetLinks\u001b[0m\u001b[0;34m(\u001b[0m\u001b[0;34m\"\"\u001b[0m\u001b[0;34m)\u001b[0m\u001b[0;34m\u001b[0m\u001b[0;34m\u001b[0m\u001b[0m\n",
            "\u001b[0;32m<ipython-input-4-9edc5f674b28>\u001b[0m in \u001b[0;36mgetLinks\u001b[0;34m(pageUrl)\u001b[0m\n\u001b[1;32m     21\u001b[0m             \u001b[0mprint\u001b[0m\u001b[0;34m(\u001b[0m\u001b[0;34m\"--------------\\n\"\u001b[0m\u001b[0;34m+\u001b[0m\u001b[0mnewPage\u001b[0m\u001b[0;34m)\u001b[0m\u001b[0;34m\u001b[0m\u001b[0;34m\u001b[0m\u001b[0m\n\u001b[1;32m     22\u001b[0m             \u001b[0mpages\u001b[0m\u001b[0;34m.\u001b[0m\u001b[0madd\u001b[0m\u001b[0;34m(\u001b[0m\u001b[0mnewPage\u001b[0m\u001b[0;34m)\u001b[0m\u001b[0;34m\u001b[0m\u001b[0;34m\u001b[0m\u001b[0m\n\u001b[0;32m---> 23\u001b[0;31m             \u001b[0mgetLinks\u001b[0m\u001b[0;34m(\u001b[0m\u001b[0mnewPage\u001b[0m\u001b[0;34m)\u001b[0m\u001b[0;34m\u001b[0m\u001b[0;34m\u001b[0m\u001b[0m\n\u001b[0m\u001b[1;32m     24\u001b[0m \u001b[0mgetLinks\u001b[0m\u001b[0;34m(\u001b[0m\u001b[0;34m\"\"\u001b[0m\u001b[0;34m)\u001b[0m\u001b[0;34m\u001b[0m\u001b[0;34m\u001b[0m\u001b[0m\n",
            "\u001b[0;32m<ipython-input-4-9edc5f674b28>\u001b[0m in \u001b[0;36mgetLinks\u001b[0;34m(pageUrl)\u001b[0m\n\u001b[1;32m      6\u001b[0m \u001b[0;32mdef\u001b[0m \u001b[0mgetLinks\u001b[0m\u001b[0;34m(\u001b[0m\u001b[0mpageUrl\u001b[0m\u001b[0;34m)\u001b[0m\u001b[0;34m:\u001b[0m\u001b[0;34m\u001b[0m\u001b[0;34m\u001b[0m\u001b[0m\n\u001b[1;32m      7\u001b[0m     \u001b[0;32mglobal\u001b[0m \u001b[0mpages\u001b[0m\u001b[0;34m\u001b[0m\u001b[0;34m\u001b[0m\u001b[0m\n\u001b[0;32m----> 8\u001b[0;31m     \u001b[0mhtml\u001b[0m\u001b[0;34m=\u001b[0m\u001b[0murlopen\u001b[0m\u001b[0;34m(\u001b[0m\u001b[0;34m\"http://en.wikipedia.org\"\u001b[0m\u001b[0;34m+\u001b[0m\u001b[0mpageUrl\u001b[0m\u001b[0;34m)\u001b[0m\u001b[0;34m\u001b[0m\u001b[0;34m\u001b[0m\u001b[0m\n\u001b[0m\u001b[1;32m      9\u001b[0m     \u001b[0mbsObj\u001b[0m\u001b[0;34m=\u001b[0m\u001b[0mBeautifulSoup\u001b[0m\u001b[0;34m(\u001b[0m\u001b[0mhtml\u001b[0m\u001b[0;34m)\u001b[0m\u001b[0;34m\u001b[0m\u001b[0;34m\u001b[0m\u001b[0m\n\u001b[1;32m     10\u001b[0m     \u001b[0;32mtry\u001b[0m\u001b[0;34m:\u001b[0m\u001b[0;34m\u001b[0m\u001b[0;34m\u001b[0m\u001b[0m\n",
            "\u001b[0;32m/usr/lib/python3.7/urllib/request.py\u001b[0m in \u001b[0;36murlopen\u001b[0;34m(url, data, timeout, cafile, capath, cadefault, context)\u001b[0m\n\u001b[1;32m    220\u001b[0m     \u001b[0;32melse\u001b[0m\u001b[0;34m:\u001b[0m\u001b[0;34m\u001b[0m\u001b[0;34m\u001b[0m\u001b[0m\n\u001b[1;32m    221\u001b[0m         \u001b[0mopener\u001b[0m \u001b[0;34m=\u001b[0m \u001b[0m_opener\u001b[0m\u001b[0;34m\u001b[0m\u001b[0;34m\u001b[0m\u001b[0m\n\u001b[0;32m--> 222\u001b[0;31m     \u001b[0;32mreturn\u001b[0m \u001b[0mopener\u001b[0m\u001b[0;34m.\u001b[0m\u001b[0mopen\u001b[0m\u001b[0;34m(\u001b[0m\u001b[0murl\u001b[0m\u001b[0;34m,\u001b[0m \u001b[0mdata\u001b[0m\u001b[0;34m,\u001b[0m \u001b[0mtimeout\u001b[0m\u001b[0;34m)\u001b[0m\u001b[0;34m\u001b[0m\u001b[0;34m\u001b[0m\u001b[0m\n\u001b[0m\u001b[1;32m    223\u001b[0m \u001b[0;34m\u001b[0m\u001b[0m\n\u001b[1;32m    224\u001b[0m \u001b[0;32mdef\u001b[0m \u001b[0minstall_opener\u001b[0m\u001b[0;34m(\u001b[0m\u001b[0mopener\u001b[0m\u001b[0;34m)\u001b[0m\u001b[0;34m:\u001b[0m\u001b[0;34m\u001b[0m\u001b[0;34m\u001b[0m\u001b[0m\n",
            "\u001b[0;32m/usr/lib/python3.7/urllib/request.py\u001b[0m in \u001b[0;36mopen\u001b[0;34m(self, fullurl, data, timeout)\u001b[0m\n\u001b[1;32m    523\u001b[0m             \u001b[0mreq\u001b[0m \u001b[0;34m=\u001b[0m \u001b[0mmeth\u001b[0m\u001b[0;34m(\u001b[0m\u001b[0mreq\u001b[0m\u001b[0;34m)\u001b[0m\u001b[0;34m\u001b[0m\u001b[0;34m\u001b[0m\u001b[0m\n\u001b[1;32m    524\u001b[0m \u001b[0;34m\u001b[0m\u001b[0m\n\u001b[0;32m--> 525\u001b[0;31m         \u001b[0mresponse\u001b[0m \u001b[0;34m=\u001b[0m \u001b[0mself\u001b[0m\u001b[0;34m.\u001b[0m\u001b[0m_open\u001b[0m\u001b[0;34m(\u001b[0m\u001b[0mreq\u001b[0m\u001b[0;34m,\u001b[0m \u001b[0mdata\u001b[0m\u001b[0;34m)\u001b[0m\u001b[0;34m\u001b[0m\u001b[0;34m\u001b[0m\u001b[0m\n\u001b[0m\u001b[1;32m    526\u001b[0m \u001b[0;34m\u001b[0m\u001b[0m\n\u001b[1;32m    527\u001b[0m         \u001b[0;31m# post-process response\u001b[0m\u001b[0;34m\u001b[0m\u001b[0;34m\u001b[0m\u001b[0;34m\u001b[0m\u001b[0m\n",
            "\u001b[0;32m/usr/lib/python3.7/urllib/request.py\u001b[0m in \u001b[0;36m_open\u001b[0;34m(self, req, data)\u001b[0m\n\u001b[1;32m    541\u001b[0m         \u001b[0mprotocol\u001b[0m \u001b[0;34m=\u001b[0m \u001b[0mreq\u001b[0m\u001b[0;34m.\u001b[0m\u001b[0mtype\u001b[0m\u001b[0;34m\u001b[0m\u001b[0;34m\u001b[0m\u001b[0m\n\u001b[1;32m    542\u001b[0m         result = self._call_chain(self.handle_open, protocol, protocol +\n\u001b[0;32m--> 543\u001b[0;31m                                   '_open', req)\n\u001b[0m\u001b[1;32m    544\u001b[0m         \u001b[0;32mif\u001b[0m \u001b[0mresult\u001b[0m\u001b[0;34m:\u001b[0m\u001b[0;34m\u001b[0m\u001b[0;34m\u001b[0m\u001b[0m\n\u001b[1;32m    545\u001b[0m             \u001b[0;32mreturn\u001b[0m \u001b[0mresult\u001b[0m\u001b[0;34m\u001b[0m\u001b[0;34m\u001b[0m\u001b[0m\n",
            "\u001b[0;32m/usr/lib/python3.7/urllib/request.py\u001b[0m in \u001b[0;36m_call_chain\u001b[0;34m(self, chain, kind, meth_name, *args)\u001b[0m\n\u001b[1;32m    501\u001b[0m         \u001b[0;32mfor\u001b[0m \u001b[0mhandler\u001b[0m \u001b[0;32min\u001b[0m \u001b[0mhandlers\u001b[0m\u001b[0;34m:\u001b[0m\u001b[0;34m\u001b[0m\u001b[0;34m\u001b[0m\u001b[0m\n\u001b[1;32m    502\u001b[0m             \u001b[0mfunc\u001b[0m \u001b[0;34m=\u001b[0m \u001b[0mgetattr\u001b[0m\u001b[0;34m(\u001b[0m\u001b[0mhandler\u001b[0m\u001b[0;34m,\u001b[0m \u001b[0mmeth_name\u001b[0m\u001b[0;34m)\u001b[0m\u001b[0;34m\u001b[0m\u001b[0;34m\u001b[0m\u001b[0m\n\u001b[0;32m--> 503\u001b[0;31m             \u001b[0mresult\u001b[0m \u001b[0;34m=\u001b[0m \u001b[0mfunc\u001b[0m\u001b[0;34m(\u001b[0m\u001b[0;34m*\u001b[0m\u001b[0margs\u001b[0m\u001b[0;34m)\u001b[0m\u001b[0;34m\u001b[0m\u001b[0;34m\u001b[0m\u001b[0m\n\u001b[0m\u001b[1;32m    504\u001b[0m             \u001b[0;32mif\u001b[0m \u001b[0mresult\u001b[0m \u001b[0;32mis\u001b[0m \u001b[0;32mnot\u001b[0m \u001b[0;32mNone\u001b[0m\u001b[0;34m:\u001b[0m\u001b[0;34m\u001b[0m\u001b[0;34m\u001b[0m\u001b[0m\n\u001b[1;32m    505\u001b[0m                 \u001b[0;32mreturn\u001b[0m \u001b[0mresult\u001b[0m\u001b[0;34m\u001b[0m\u001b[0;34m\u001b[0m\u001b[0m\n",
            "\u001b[0;32m/usr/lib/python3.7/urllib/request.py\u001b[0m in \u001b[0;36mhttp_open\u001b[0;34m(self, req)\u001b[0m\n\u001b[1;32m   1376\u001b[0m \u001b[0;34m\u001b[0m\u001b[0m\n\u001b[1;32m   1377\u001b[0m     \u001b[0;32mdef\u001b[0m \u001b[0mhttp_open\u001b[0m\u001b[0;34m(\u001b[0m\u001b[0mself\u001b[0m\u001b[0;34m,\u001b[0m \u001b[0mreq\u001b[0m\u001b[0;34m)\u001b[0m\u001b[0;34m:\u001b[0m\u001b[0;34m\u001b[0m\u001b[0;34m\u001b[0m\u001b[0m\n\u001b[0;32m-> 1378\u001b[0;31m         \u001b[0;32mreturn\u001b[0m \u001b[0mself\u001b[0m\u001b[0;34m.\u001b[0m\u001b[0mdo_open\u001b[0m\u001b[0;34m(\u001b[0m\u001b[0mhttp\u001b[0m\u001b[0;34m.\u001b[0m\u001b[0mclient\u001b[0m\u001b[0;34m.\u001b[0m\u001b[0mHTTPConnection\u001b[0m\u001b[0;34m,\u001b[0m \u001b[0mreq\u001b[0m\u001b[0;34m)\u001b[0m\u001b[0;34m\u001b[0m\u001b[0;34m\u001b[0m\u001b[0m\n\u001b[0m\u001b[1;32m   1379\u001b[0m \u001b[0;34m\u001b[0m\u001b[0m\n\u001b[1;32m   1380\u001b[0m     \u001b[0mhttp_request\u001b[0m \u001b[0;34m=\u001b[0m \u001b[0mAbstractHTTPHandler\u001b[0m\u001b[0;34m.\u001b[0m\u001b[0mdo_request_\u001b[0m\u001b[0;34m\u001b[0m\u001b[0;34m\u001b[0m\u001b[0m\n",
            "\u001b[0;32m/usr/lib/python3.7/urllib/request.py\u001b[0m in \u001b[0;36mdo_open\u001b[0;34m(self, http_class, req, **http_conn_args)\u001b[0m\n\u001b[1;32m   1351\u001b[0m             \u001b[0;32mexcept\u001b[0m \u001b[0mOSError\u001b[0m \u001b[0;32mas\u001b[0m \u001b[0merr\u001b[0m\u001b[0;34m:\u001b[0m \u001b[0;31m# timeout error\u001b[0m\u001b[0;34m\u001b[0m\u001b[0;34m\u001b[0m\u001b[0m\n\u001b[1;32m   1352\u001b[0m                 \u001b[0;32mraise\u001b[0m \u001b[0mURLError\u001b[0m\u001b[0;34m(\u001b[0m\u001b[0merr\u001b[0m\u001b[0;34m)\u001b[0m\u001b[0;34m\u001b[0m\u001b[0;34m\u001b[0m\u001b[0m\n\u001b[0;32m-> 1353\u001b[0;31m             \u001b[0mr\u001b[0m \u001b[0;34m=\u001b[0m \u001b[0mh\u001b[0m\u001b[0;34m.\u001b[0m\u001b[0mgetresponse\u001b[0m\u001b[0;34m(\u001b[0m\u001b[0;34m)\u001b[0m\u001b[0;34m\u001b[0m\u001b[0;34m\u001b[0m\u001b[0m\n\u001b[0m\u001b[1;32m   1354\u001b[0m         \u001b[0;32mexcept\u001b[0m\u001b[0;34m:\u001b[0m\u001b[0;34m\u001b[0m\u001b[0;34m\u001b[0m\u001b[0m\n\u001b[1;32m   1355\u001b[0m             \u001b[0mh\u001b[0m\u001b[0;34m.\u001b[0m\u001b[0mclose\u001b[0m\u001b[0;34m(\u001b[0m\u001b[0;34m)\u001b[0m\u001b[0;34m\u001b[0m\u001b[0;34m\u001b[0m\u001b[0m\n",
            "\u001b[0;32m/usr/lib/python3.7/http/client.py\u001b[0m in \u001b[0;36mgetresponse\u001b[0;34m(self)\u001b[0m\n\u001b[1;32m   1371\u001b[0m         \u001b[0;32mtry\u001b[0m\u001b[0;34m:\u001b[0m\u001b[0;34m\u001b[0m\u001b[0;34m\u001b[0m\u001b[0m\n\u001b[1;32m   1372\u001b[0m             \u001b[0;32mtry\u001b[0m\u001b[0;34m:\u001b[0m\u001b[0;34m\u001b[0m\u001b[0;34m\u001b[0m\u001b[0m\n\u001b[0;32m-> 1373\u001b[0;31m                 \u001b[0mresponse\u001b[0m\u001b[0;34m.\u001b[0m\u001b[0mbegin\u001b[0m\u001b[0;34m(\u001b[0m\u001b[0;34m)\u001b[0m\u001b[0;34m\u001b[0m\u001b[0;34m\u001b[0m\u001b[0m\n\u001b[0m\u001b[1;32m   1374\u001b[0m             \u001b[0;32mexcept\u001b[0m \u001b[0mConnectionError\u001b[0m\u001b[0;34m:\u001b[0m\u001b[0;34m\u001b[0m\u001b[0;34m\u001b[0m\u001b[0m\n\u001b[1;32m   1375\u001b[0m                 \u001b[0mself\u001b[0m\u001b[0;34m.\u001b[0m\u001b[0mclose\u001b[0m\u001b[0;34m(\u001b[0m\u001b[0;34m)\u001b[0m\u001b[0;34m\u001b[0m\u001b[0;34m\u001b[0m\u001b[0m\n",
            "\u001b[0;32m/usr/lib/python3.7/http/client.py\u001b[0m in \u001b[0;36mbegin\u001b[0;34m(self)\u001b[0m\n\u001b[1;32m    317\u001b[0m         \u001b[0;31m# read until we get a non-100 response\u001b[0m\u001b[0;34m\u001b[0m\u001b[0;34m\u001b[0m\u001b[0;34m\u001b[0m\u001b[0m\n\u001b[1;32m    318\u001b[0m         \u001b[0;32mwhile\u001b[0m \u001b[0;32mTrue\u001b[0m\u001b[0;34m:\u001b[0m\u001b[0;34m\u001b[0m\u001b[0;34m\u001b[0m\u001b[0m\n\u001b[0;32m--> 319\u001b[0;31m             \u001b[0mversion\u001b[0m\u001b[0;34m,\u001b[0m \u001b[0mstatus\u001b[0m\u001b[0;34m,\u001b[0m \u001b[0mreason\u001b[0m \u001b[0;34m=\u001b[0m \u001b[0mself\u001b[0m\u001b[0;34m.\u001b[0m\u001b[0m_read_status\u001b[0m\u001b[0;34m(\u001b[0m\u001b[0;34m)\u001b[0m\u001b[0;34m\u001b[0m\u001b[0;34m\u001b[0m\u001b[0m\n\u001b[0m\u001b[1;32m    320\u001b[0m             \u001b[0;32mif\u001b[0m \u001b[0mstatus\u001b[0m \u001b[0;34m!=\u001b[0m \u001b[0mCONTINUE\u001b[0m\u001b[0;34m:\u001b[0m\u001b[0;34m\u001b[0m\u001b[0;34m\u001b[0m\u001b[0m\n\u001b[1;32m    321\u001b[0m                 \u001b[0;32mbreak\u001b[0m\u001b[0;34m\u001b[0m\u001b[0;34m\u001b[0m\u001b[0m\n",
            "\u001b[0;32m/usr/lib/python3.7/http/client.py\u001b[0m in \u001b[0;36m_read_status\u001b[0;34m(self)\u001b[0m\n\u001b[1;32m    278\u001b[0m \u001b[0;34m\u001b[0m\u001b[0m\n\u001b[1;32m    279\u001b[0m     \u001b[0;32mdef\u001b[0m \u001b[0m_read_status\u001b[0m\u001b[0;34m(\u001b[0m\u001b[0mself\u001b[0m\u001b[0;34m)\u001b[0m\u001b[0;34m:\u001b[0m\u001b[0;34m\u001b[0m\u001b[0;34m\u001b[0m\u001b[0m\n\u001b[0;32m--> 280\u001b[0;31m         \u001b[0mline\u001b[0m \u001b[0;34m=\u001b[0m \u001b[0mstr\u001b[0m\u001b[0;34m(\u001b[0m\u001b[0mself\u001b[0m\u001b[0;34m.\u001b[0m\u001b[0mfp\u001b[0m\u001b[0;34m.\u001b[0m\u001b[0mreadline\u001b[0m\u001b[0;34m(\u001b[0m\u001b[0m_MAXLINE\u001b[0m \u001b[0;34m+\u001b[0m \u001b[0;36m1\u001b[0m\u001b[0;34m)\u001b[0m\u001b[0;34m,\u001b[0m \u001b[0;34m\"iso-8859-1\"\u001b[0m\u001b[0;34m)\u001b[0m\u001b[0;34m\u001b[0m\u001b[0;34m\u001b[0m\u001b[0m\n\u001b[0m\u001b[1;32m    281\u001b[0m         \u001b[0;32mif\u001b[0m \u001b[0mlen\u001b[0m\u001b[0;34m(\u001b[0m\u001b[0mline\u001b[0m\u001b[0;34m)\u001b[0m \u001b[0;34m>\u001b[0m \u001b[0m_MAXLINE\u001b[0m\u001b[0;34m:\u001b[0m\u001b[0;34m\u001b[0m\u001b[0;34m\u001b[0m\u001b[0m\n\u001b[1;32m    282\u001b[0m             \u001b[0;32mraise\u001b[0m \u001b[0mLineTooLong\u001b[0m\u001b[0;34m(\u001b[0m\u001b[0;34m\"status line\"\u001b[0m\u001b[0;34m)\u001b[0m\u001b[0;34m\u001b[0m\u001b[0;34m\u001b[0m\u001b[0m\n",
            "\u001b[0;32m/usr/lib/python3.7/socket.py\u001b[0m in \u001b[0;36mreadinto\u001b[0;34m(self, b)\u001b[0m\n\u001b[1;32m    587\u001b[0m         \u001b[0;32mwhile\u001b[0m \u001b[0;32mTrue\u001b[0m\u001b[0;34m:\u001b[0m\u001b[0;34m\u001b[0m\u001b[0;34m\u001b[0m\u001b[0m\n\u001b[1;32m    588\u001b[0m             \u001b[0;32mtry\u001b[0m\u001b[0;34m:\u001b[0m\u001b[0;34m\u001b[0m\u001b[0;34m\u001b[0m\u001b[0m\n\u001b[0;32m--> 589\u001b[0;31m                 \u001b[0;32mreturn\u001b[0m \u001b[0mself\u001b[0m\u001b[0;34m.\u001b[0m\u001b[0m_sock\u001b[0m\u001b[0;34m.\u001b[0m\u001b[0mrecv_into\u001b[0m\u001b[0;34m(\u001b[0m\u001b[0mb\u001b[0m\u001b[0;34m)\u001b[0m\u001b[0;34m\u001b[0m\u001b[0;34m\u001b[0m\u001b[0m\n\u001b[0m\u001b[1;32m    590\u001b[0m             \u001b[0;32mexcept\u001b[0m \u001b[0mtimeout\u001b[0m\u001b[0;34m:\u001b[0m\u001b[0;34m\u001b[0m\u001b[0;34m\u001b[0m\u001b[0m\n\u001b[1;32m    591\u001b[0m                 \u001b[0mself\u001b[0m\u001b[0;34m.\u001b[0m\u001b[0m_timeout_occurred\u001b[0m \u001b[0;34m=\u001b[0m \u001b[0;32mTrue\u001b[0m\u001b[0;34m\u001b[0m\u001b[0;34m\u001b[0m\u001b[0m\n",
            "\u001b[0;31mKeyboardInterrupt\u001b[0m: "
          ]
        }
      ]
    },
    {
      "cell_type": "markdown",
      "source": [
        "#### Crawling Across the Internet\n",
        "Questions to ask before start crawling\n",
        "1. What is the interested data? can it be found in predeined website or discover new websites?\n",
        "2. when crawwler reach a website, does it immediately follow next outbound link or drill down on current website?\n",
        "3. anything you dont want? non-english content?\n",
        "4. how to protect yourself from webmaster legally"
      ],
      "metadata": {
        "id": "T4zTfReo5yOd"
      }
    },
    {
      "cell_type": "code",
      "source": [
        "from urllib.request import urlopen\n",
        "from bs4 import BeautifulSoup\n",
        "import re\n",
        "import datetime\n",
        "import random\n",
        "\n",
        "pages=set()\n",
        "random.seed(datetime.datetime.now())\n",
        "\n",
        "def getInternalLinks(bsObj,includeUrl):\n",
        "    internalLinks=[]\n",
        "    for link in bsObj.findAll(\"a\",href=re.compile(\"^(/|.*\"+includeUrl+\")\")):\n",
        "        if link.attrs['href'] is not None:\n",
        "            if link.attrs['href'] not in internalLinks:\n",
        "                internalLinks.append(link.attrs['href'])\n",
        "    return internalLinks\n",
        "\n",
        "def getExternalLinks(bsObj, excludeUrl):\n",
        "    externalLinks=[]\n",
        "    for link in bsObj.findAll(\"a\",\n",
        "                        href=re.compile(\"^(http|www)((?!\"+excludeUrl+\").)*$\")):\n",
        "        if link.attrs['href'] is not None:\n",
        "            if link.attrs['href'] not in externalLinks:\n",
        "                externalLinks.append(link.attrs['href'])\n",
        "    return externalLinks\n",
        "\n",
        "def splitAddress(address):\n",
        "    addressParts = address.replace(\"http://\",\"\").split(\"/\")\n",
        "    return addressParts\n",
        "\n",
        "def getRandomExternalLink(startingPage):\n",
        "    html=urlopen(startingPage)\n",
        "    bsObj=BeautifulSoup(html)\n",
        "    externalLinks=getExternalLinks(bsObj, splitAddress(startingPage)[0])\n",
        "    if len(externalLinks)==0:\n",
        "        internalLinks=getInternalLinks(startingPage)\n",
        "        return getNextExternalLink(internalLinks[random.randint(0,\n",
        "                                   len(internalLinks)-1)])\n",
        "    else:\n",
        "        return externalLinks[random.randint(0,len(externalLinks)-1)]\n",
        "\n",
        "def followExternalOnly(startingSite):\n",
        "    externalLink=getRandomExternalLink(\"http://oreilly.com\")\n",
        "    print(\"Random external link is: \"+externalLink)\n",
        "    followExternalOnly(externalLink)\n",
        "\n",
        "followExternalOnly(\"http://oreilly.com\")\n",
        "\n"
      ],
      "metadata": {
        "id": "trzFPBFK_oW1"
      },
      "execution_count": null,
      "outputs": []
    },
    {
      "cell_type": "markdown",
      "source": [
        "![image.png](data:image/png;base64,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)\n"
      ],
      "metadata": {
        "id": "NKMo4-3AImXA"
      }
    },
    {
      "cell_type": "code",
      "source": [
        "# collects a list of all external URLs found on the site\n",
        "allExtLinks=set()\n",
        "allIntLinks=set()\n",
        "def getAllExternalLinks(siteUrl):\n",
        "    html=urlopen(siteUrl)\n",
        "    bsObj=BeautifulSoup(html)\n",
        "    internalLinks=getInternalLinks(bsObj,splitAddress(siteUrl)[0])\n",
        "    externalLinks=getExternalLinks(bsObj,splitAddress(siteUrl)[0])\n",
        "    for link in externalLinks:\n",
        "        if link not in allExtLinks:\n",
        "            allExtLinks.add(link)\n",
        "            print(link)\n",
        "    for link in internalLinks:\n",
        "        if link not in allIntLinks:\n",
        "            print(\"About to get link: \"+link)\n",
        "            allIntLinks.add(link)\n",
        "            getAllExternalLinks(link)\n",
        "getAllExternalLinks(\"http://oreilly.com\")"
      ],
      "metadata": {
        "id": "3X3siUqyaRNw"
      },
      "execution_count": null,
      "outputs": []
    },
    {
      "cell_type": "markdown",
      "source": [
        "![image.png](data:image/png;base64,iVBORw0KGgoAAAANSUhEUgAAAm0AAAFlCAYAAAC5sN9OAAAgAElEQVR4AeydBZhVVff/pUEaaRAkpEtSBaUVURADaQRMygSlQQw6pFvpLsGgxEBCEQkTwe5+fX2Nv+/7W//ns3CPZ8aZ4c7cOvfOus9znztz7ol9vnvfvT9n7bXXOkfsZQqYAqaAKWAKmAKmgCngewXO8X0JrYCmgClgCpgCpoApYAqYAmLQZo3AFDAFTAFTwBQwBUyBGFDAoC0GKsmKaAqYAqaAKWAKmAKmgEGbtQFTwBQwBUwBU8AUMAViQAGDthioJCuiKWAKmAKmgClgCpgCaYa2EydOyInjx+1tGlgbsDZgbcDagLUBawPWBkLYBk6fOpUqmaYJ2jhZ2yuvlPZtr7a3aWBtwNqAtQFrA9YGrA1YGwhRG2h3VVu5vHGT0EJbi6bNUj2hfWkKmAKmgClgCpgCpoApkDYF/t//+39SqXyFVA9Ks6XNoC1VPe1LU8AUMAVMAVPAFDAF0qyAQVuaJbMDTAFTwBQwBUwBU8AUiLwCBm2R19yuaAqYAqaAKWAKmAKmQJoVMGhLs2R2gClgCpgCpoApYAqYApFXwKAt8prbFU0BU8AUMAVMAVPAFEizAgZtaZbMDjAFTAFTwBQwBUwBUyDyChi0RV5zu6IpYAqYAqaAKWAKmAJpVsCgLc2S2QGmgCmQERX4v//7P0npnRH1sHs2BUyByCtg0BZ5ze2KpoApECMKeCHtf//7n6T0dvvFyG1ZMU0BUyBGFTBoi9GKs2KbAqZAeBUAxByk/fe//5U///xT6DD/+OMPffM32/jO7WfwFt46sbObAhldAYO2jN4C7P5NAVMgkQIOvAAxgIxO8tdff5Vjx47JN998I//+97/1/csvv+j233//XfdJCm+JTmr/mAKmgCkQAgUM2kIgop3CFDAFYl8BL6wBbFjRALKPPvpIevbsKbly5ZL69evLrl275Msvv1SA+/777+Vf//qX/Oc//9F96VAdvLnzxb4ydgemgCngFwUM2vxSE1YOU8AUiJoCDrAcrDEFinVt+fLlUqZMGTnnnHOkdLmKkiVLVoW3AQMGyPHjxxXovvjiC/nuu+/k559/1mM4FuDzTplG7cbswqaAKRBXChi0xVV12s2YAqZAWhUA2NxUqLOuvf3229KhQwfJnDmz5C1QUPqPmSobj3wu45c/LRdUqq4QV7FiRVm4cKGwL9a4r776Sn744Qdh2jTplCnXsJcpYAqYAsEqYNAWrIJ2vClgCsSkAslZ13766SeZO3euFCtWTDJnziKNWlwlc7cflKfe/DbhvfrAael4+72SK3ceyZ49u3Tq1En27t0rJ0+elE8//VS+/fZbnTLFUue1urnrxaRYVmhTwBTwhQIGbb6ohvgshBuk7DPl+F7R0iY+W1xgd+U0d9Y1OsHffvtNFxpcccUVkilTJsl/XhG5b/wc2fTGFwmw5gU3/p68eqdUqlVPrW5MoU6fPl1OnDghp0+fFqZMsbqxaIFzcw3zdfu7flwd2Kf1DX+3CvsrEAUM2gJRyfZJswJJO2Pn32OfKcf6ioQ23npJc6XG+AHee0drpkKxhAFXEydOlDx58kjmLFmkebub5Mm9b6YIa15423z0S+l570jJnTe/wtvVV18tO3bskHfeeUc++eQTXayA9Y6FCl6rG9d35YlxWdNcfHfffEaizds1zt7neOuEv+3lXwUM2vxbNzFZMm9HjGWBN4Ojvf2jgbP4ZCRwSNounXXtxRdflEsvvVStayXLVpDhM5YLIOYFs7P9vfXENzJ76ytSt3ELPU/x4sVl7Nix8sYbb6jV7fPPPxdWmWZkq5uDAgdQ1jf4pz9wfbOrE1dHBm/+HIIN2vxZLzFZKjcwOlCjceGQjW+Pe2NxsHfkNXD68+mc5OmsMwK4JW2XWLzwOxs+fLha17Jlzy5Xdeoly158O02wlhTmWKjQd+QkyVewkC5gaN68uTz99NNqdfv4448TWd2oA6d/vNeBF9joG1y/wLSxa5fWJ0S+T3CauzqgPvhtUD/UU7y3y5gcZEW0fiqVr5Bq8c9J9dskX54+dUpaNG2WZKv9G+8KuIGRgYipIWJZMU30zDPP6MC1bds2sXf0NNi+fbu8//77OhWYNK5YvHbOycECAxPtsk6dOmd80SpWkYcXbgwK1pLC28IdR+SS1tfIOedkkoIFC8qQIUPkyJEjcurUKXFWNxceJCMMkK5vQPuXXnpJdu7cKc8995z2DbRL6xei1y+gPX01IWuYxscaDMR5p/KpP3v5RwH6DIM2/9RHTJbEDY48nf34448a14pQCfb2lwYdO3ZUPysCw7rpOq/FJ546ZwcKzurLfbKys3///rriM0euc6XjbffI2lc/DCmwOYBjinXw5EVSpEQpnTKtW7eurFu3Tt566y358MMPNTwIvxUXHoSHnXi0bnjrYenSpZIlSxbrF3zWN1Ina9eulc8++yyRNRhw87bJmByc4rDQBm1xWKmRviXXMTPwkOanUKFCUvbCqnLbkEft7QMNug0cKjnPzS2sjCQgLBY3OmjADWhwnXM8QBv34NojAw4dHPe4ceNGqVq1qlrXqtSpLxNXPiv4ojnICtfnkj3HpMW1nSRrtmySN29eISjvgQMHNDwIdYCFA8unm5pKOmUa6d9yqK9HXbh6mDJliurfrttt1i/4oF+gf252zY1aJ6x8Jt7gBx98oA8UWN2wuLn2GA99Q6jbdrTOZ9AWLeXj6LpukKQxEWAUaCO+VbgGQjvv3zHDAtFi6QtvSYHzikjTpk3lhRdekMOHD8t7772nqZjonAGGWO+caYOuHQIJ3A/WNaYjSUGVLVs2yZ4zp/S8Z6Sse+3jiLbNLce/llFzVkvh4qV0gKxRo4asWrUqRasbvyOvhSNWB0xXJ9wLdTFp0iS9//HLtkVU/0B+Ixl1n3vHzdY6efjhh+WVV17RhzoswS7Hbjw90MXLkGvQFi81GcX7oHOmY+YHziCJH49BW9rAKpyDhoO2iy++WDZt2iR79uxRHys6Zyw9WKJiGdocHOCb59ohvjlMx5UoUUIHpTqXNJPZT70SEetacnWJVW/NoQ/lmm63SbbsORQie/XqJfv27fuH1c35FDlwcz6HUfyJp+vS1Atlp21xTxMmTDBo8wRpTq6dRHqbg7bBgwcL/oW0R6bwsQLzQAdsu3aYrkZgB4VcAYO2kEua8U7ooA2LDX5DBm3+ATYGAQdt9erVkyeffFK2bt2qT9VY277++mt1PqYjiDU4SApr3AODDIPOddddJ1mzZpW8+QtJ/9FTZP3hT3xh3dly/Ct57MmnpFyVGurrRiosMjAQlJepKfwNU0uFxT3HystBG/XCSsXx48cbtPkU2vD1XL16tS4SYdEMadlwn/BOkcZKu4v3chq0xXsNh/n+XMfM0xjQRkBRgzZ/Qlvt2rVl9uzZ6nRM2iXghsj9rGTEShor0OaFNWfJofz4hgFARYsWVSDC2jvv6UNRs66lZjVZc+gDTYXFgghSYd10001CzLh3331Xf0MppcJydRQL8Ob6BgYZrLnjxo0zaPMptN1yyy2yZMkSXcl76NAhXelMGwS2Y9kKH+bhLyqnN2iLiuzxc1HXMTtoIx6VQZs/oa1mzZqaamnlypWye/dute4wnQ3sxAq0eYGNNkcHhnXt9ddfl1atWikUFCxSTO6fOE82H0tbkNzUICtc301bt1uq1Gmo5S5VqpRMnjw5blJhub6BOmK62qDNX/0CbdpNj958880yb9482bx5s+zfv1+n7A3a/DlOG7T5s15iplSuY2YAxZRu0Oa/jtlNj+IAzwq+ZcuW6TQIK0ljCdocsNHWePoHNBlYgIF8+fJJ1qzZpHn7TvLE8yd8aV1LCfw2HvlMbr5vlOQtUEhDYlx11VUaS85Z3XAKx78Iqwf3zL2jgdPDr52F6xsctD322GNmafOppa179+4yZ84c2bBhg/q14TpBuzNLm/9+XQZt/quTmCqR65gdtOELEUpL24bXP5XlL78rqw+cCtlATAytsQs36CpCnMP5e+uJr33h85TcwD5t3R5Z8NzhdJfPQVv16tXVkoODPgFmgTYcjv1uaXNwwtQg7YxOi6n4l19+WZo0aaJToSXOLyfDZixNcwqq5PSO1rZZW16WOpc0lUyZMkvSVFhMY3tj66EBWoRiupTpcayV7sXftIlgX65vMGjz34Oca+PO0ga0zZo1S9avX2/QFmzDD/PxBm1hFjjeT+865nBA24hZK6R81ZqSJ39BKVGmnKzcdzJVcMHJ23VGqX3iT3TOOefI3O0HZPqG5/XvYKbSWBlIWIfUrhnMdxdd2kx63DU83edPCdqOHTvme2jzti9nXWPF67BhwyRXrlySJUtWadu5t6x4+d106xNM3YT62M3HvpK+oyZJ3gIFFUabNWuWKBUWC0ec1Q24Sgpv6elvbr31Vhk6dGjCoY8++qh069Yt4f/0/uHqzqDNoC29bciO+6cCBm3/1MS2pEEB1zGHGtqI5VSgcFEZOv1J2fTGF7L20Iey5VjKUDZgzFQNFBnIIBpKaFux7z2pXu8SmbJmV9igISNCG+3K27aYFsS6Rlo0fPOA7nKVq8tjT25NkwV26Qtvy7DHl8raVz9KqK97x82Rex6dmfB/IG0otX3WHPxAru8zQOY/82q6zslDwOJdb0jjK9pL5sxZdOr3gQcekNdee00dxF1QXixkaOKdMnWWtzT8hFXTChUqqHsDAwIpvrZs2ZKWUyS7r6s/gzaDtmQbiG1MlwIGbemSzQ5yCriOOZTQBpw1bNZG0wwlF7We7+c/c0inDLce/1rWvfqRXN31Vqnd6DJZuOP1RHC36Y3PZdHOIzJz80sJQVUDgTau++TeE8KUFdOpWOIW7TiiAMmAvfyld2TV/lMyde0uyX9eERk+Y1mCJZDyzNj0oqx65X0dtCnDE88fV/Ck3ISfWLr3TQH4pq7dnRCOgmuStHzGxhf0/A4MMhK0eWENAMG6hkXJpaDCupYzV27peNu9svrA6TRDEQndAaFxS/8O8Nrmppul9fXd0nwuVz9JP6nDwsVLyoTlTwd1Th5WBk9aqEF5SQlHyBZ8jlj1ixsCVjdSYeF3lJzVDS0DeWG5I1sEU+Zka6hVq5au9uQ3Tb5U3tQFL+rj5MmT+mbwSO3l+gaDNoO21NqJfZc2BQza0qaX7Z1EAdcxhxLaVh88LXnyFRBW1iUdEJmG7DZwiFSrd7GULl9JBk9aIOOWPqXTp/kLFZb6l7dONJiPmb9OGjS7UqrXv0QtYljsAoG2odOXSsXqteXCGhfJjeSoPPShlKlQWQZNmi/rXv1YKlSrJUzfNm/XUYOlVr2oofQbNUVBDHisf3krjcWFUzzgV7pcJfVXatC0tTy0YL2UKFNey1OwcFFp3v4mhUL892pffLlc2rqdFC11vkxc+Yzef0aBNteWAATaE50Ti1sICFylShW1rlEfpKBK2i4C+R8obnFtZ63TXveNTjiHX6HN3dOTz5/QBRaZMmeWPHnyyMCBA+XVV19NSEfGdLGzuqEZYIWGvAMFN6ZH77zzTp0mHTt2rB7HAg98BqtVqyYrVqzQbYMGDdJtbdu2VXBM0h0k+tfVp0GbQVuihmH/BKWAQVtQ8tnBrmMOJbQt2vG6DtCA0qajX+o0E1NNpB+a89R+Oa9YCQUzUgOVr1pL/ck63Xm/NGx2ZcJA7AY897nxyOe6Oo9jzgZt6w5/rBA4efUOtbYVLFxMVyRipQH+Rsw842uHBQ4LWqGiJWTKmp167ZvuuE+AAK57WZsOcssDDyu0Zc6SRa7vPUDvB2gjFygwN33DXsmbv4BaCF1Z+WzZoYu0uq6rnifeoY025G1HzrpGxgZ8q7Ay5cqTV3rdN0o2vvF5inXs1S+5v7F4khP3lgcfkYs9ada80IZla+aml6TX/aNlxcvvKYRTh+RppD1y3llb9+n3Pe4eJvOePphQHrbfeOvdcv+EeQmWtrsfnSmPb3xB92HKk0C/qU3zJ1dutgGcD81fJyXLltffBhDLKuA333xTE9ATlDeYBPRY784//3whsf3p06cVCEuWLKkZM3bu3CnE+CMGY7ly5eSdd94JqONzdWrQZtAWUIOxnQJSwKAtIJlsp5QUcB1zKKFt9tZXdGBa/9rHGs2/Us266pg9Zt46GfDQNKlcu75OPz6yeLNauYCnlKCNwW7Bs6/J3Y/MUB+5ux6ecVZom7putxQuUUrGL98uMze/LFjDgDL8oJj2urDmRTJ48kIdiJNCW/V6F0v3u4brce173KHgBZzlOjePLHj2zApQoI08lFgUcaDPkTOXzN66T8/HKlmmWi9q3FythgzY8QxtSYEN/yysRmRuKFOmjDrjk4JqxuaX0uS7lhz8MN1dtFQZmbTqOSl+/gUJU91eaGP1Jr5yNRs01mn1epe1ks59B0njK9pJ+553aB2NnrtGBk2cL9f2vFPhnpAdTImygvXKjj2l3uWtJXv2HDo9euWNPeXqrrfocQAbVt/kyhbINtoyi3Hadb9d20zOnDmFVFgvvfSS5pLF1+1sQXlT+h0zEJCb9tprr1UrJ/o3aNBAWKzC+XPkyKGZGoA6rG1Mx57t5foGgzaDtrO1Ffs+cAUM2gLXyvZMRgHXMYcS2vAXYyoIXzQGMwarCypV06TbDKCFihaXJldem/BmxV1K0EYYiLIXVpPudw1VC10g0MagjN/UJa2uTrjGnL/yVra+rpsmX2eQpmxJoQ0oqFKnQcJxWGiAtrz5C8oTe47rMUBbkRKlFR690MYqz4rV66iljsGdqV6uEY/QlhTW6IhwqseKc/3112u8MqbI+42eIkwbBwI1Z9sHGK7bpIX6C5YsU15mP7Vfz5sU2upc2kwteixyKF3uQoU7oJ3peG86LPwSs2fPKbO27JN7H5utVjxWMM/dflDy5C+g0PbAlEVSoVptbcNXdeolfQY9FPS94CJA2S6oVF2h9sILL5T58+drUF6sk+lNhdWjRw+deuVnTgJxwo6QqcG9AbU33nhDKleuLF27dtWp62S6hIRNrm+IJrQ9vnGvLmYidZh38cnZ2krS75fsPqYLWNJjJXXnwt0DS2xSa/G09Xvk2pv7aruYs+2AjJq7Oug24q55tk8L+ZHQXGPmD4O2mKkqfxbUdcyhhDYG6fMrVNaBkE7HC223DX1MISZpiI2UoK3UBRVl0KQFCecIBNomrHhaipUuKyv/WkjgOr71r30iJcqW04GcKTC2J4U2/OBYjeiO4TNQaOt4+73S+Mr2Ot3bpd8DcQttXmBjKtRZ14gTVbhwYbWyXtyyrVpIvToG+/d1vQfINd1ul+UvvStYb2kXnDMptHUfOEy33z70MSl+flnpdOcgXehSqEhxWbLnmKw5eFq63zVMajZsIkx7s3KYQZfAvpzPuxCB+Hq0pSf3vinlKtfQhSfB3oc7HneBm+64X61u5FkFrl544QW1urFww1ndvEF5nZ8bdZD05YU20oE1b95crW5J9+O85cuX13RoSb/z/u/6hmhCGxZtLLX1LmspJctW0IVDTr+0fN465FFtJ0A5Lg3EjkzL8ew77PEntQxe8NftM5bpAyV/3zZ0nNBnpfXc6d3foM3bYmPjb4O22KgnX5USB2WSW3sH31BCG5BGhHj8j1gN6oU2As16rVaus8KSVqvhZf/o7IgyP3L2SmEKi/RGgUAb05bnFS0hLGJw5+eTQZyFBwPHTleLGBa+pS++pR0ulg/2YcqMUA2sanXHBgptV950s7Ts0Fnvl2m2WLS0Ma1GDk3gIOkraXtxvms41bds2VKtRoWLlVSY2nz0iwT9nI7BfAL5NepfqhZbPouWPF+YvuacSaGt590jdHv3gUOlQtVaMmTaEn2z8AR/SKygV3XurSuSc+fNr9DWtnMfaX1Ddz3OC20M8lVq19c2WPKCCkI4kGDuI+mx/DamrX9eF7UQBoVUWJMmTdLAyfimOasbaaSwZNLh81tNDt680Ebg5UKFCiVabOAgjM8OHTrIzJkzk1axpkHavn27XsftH21oI2wQ9c+DELDO7zapjqn9j8aXXXWdPPrEFl31XaTk+TrFntoxyX0XCLTxwFetXqM0lS+5awW6zaDtH03Y9xsM2nxfRf4rIJH1ixQpIhMnTlTnZwaAUEIbHQ5WhCZtOqiVgpWiufPl18wFdLhXdeqtKwABm973j1HIAZqYTmPgXO+ZTgOiylepIU3bXi+ly18odz0yUwferNmynwmuu3Gv8HfS4Lp9R06U88tXkis73izXdLtNVr5yUleMPvrEZp1eK1G2vDy8eKMeB1wBmGMXrpeFOw7rdNjFLa+WFtd2kilrd+n0GX5xbnqUDAz4PwEATI/mzptP8ON7ePEmBUDArVrdi6Vh8zZ6b/UvayU33zMy3R15JIPr9uvXT4PeksuQsBQM3LzcAE5bcdY1Vj3yAFCgQAHJ8lcKqsW7juo9BzroBLofIMWUNP6NHHPv+LnqG8l0V0rQdt/4uRrc2WvVZSUnGQuwnOFf5qCt570j1Q+Rc7MPDwgu5MdNt9+ri2QubX1NWO6Na2K94UGH3wBWN1Z3EsLDmwqLLAesxnVx3agLB2/UUe/eveWee+7R+mI7q1Txa7v99ttl/PjxQlYGrHl9+vTRWHlMxSZ9kTs1W7ZsCnVHjx7VfsEP0IZGi3e+IVhLCf/D/6zs7j3oIbl96DjNuMI2HgpHzFwu9zw6S6cysayuOnBKmrc7s8Kb6W0WxTDVnfShjofDm26/T1iwtPbQmTiAPLw9OHWxhqhhQQvWPuqKdjd0+hN6DRbGsLiK69PmWOzE35F4G7QlbcH+/9+gzf915LsSAm081fMmn+XGjRtDDm10WAyWrMgDcrBWseDAbScOGqE+lr7wpg6E7IszP+EgvE/Sm45+oVNS+MctfO51nbqiwyQ+GtOwdKD8zdN00k6Sqa1Hl2zRgV73W7dby8R+rBp0EIZlzj2F8x1x2ogDRgy39Ye5xqfy+Ia9wupFvsfaQvkpB/c0ff3zCX5brJIlS8PKfe8pVFKueU8f0if8pOUL9P9IQ5trG0x1AmVMzwFtgL2zrpGUunHjxtqGipUqo4sv0CPQe0rrfrQLoM0BGNkwWACy7rVPUoQ2VnsymDofIyCb2HvZsmcXptCpcwCO6dHJq3YowM3c8pL0HzNFsmbLlgBt7EfmhtuHjQ/b/Tk9gP/alzQ9o2uxYkL4DqxmWN2Arh9++EFjsCUX1w3rOStE3Qtw41gspxxL/bHKdN++fXoet5/3E2hz9Z87d265//77dZoWS99jUcg9yvQoljb0wZeMBzcNrnzoQ7WAduk3WFdq84BI++s7YqL6rF7dpY/UuvhyqXd5K/1tEpORc+C7CBhzHKvLne583j5snAJfldoNdLEI20bPWyP5Cp4nrCoveUHFBGjDb5btuHUwHWrQ5m1F9ndqChi0paaOfZesAl5ocx10q1at5JVXXtHwA6HMPertFO3v9D19RwvaXNsg2v7atWt1eg7rGjHBsmfPrhbOq7vcohbH5KA5lPX9wOSFOnXtzglY123cQh8KmFrv2u8BHYDb3NRL7hr7uP5NmUbNWaULSy6sWVc63zlI4Z5p8vLVaskVN3SXRi2u0pAeDPhYffHFvLZnX2l85bXq+8T1sMrlyHVuUPljXbkD+QRMyRBS4LwiClDA8VNPPZVgdaMOgCjADYj2WtuS/cGnYaMX2lz9FytWTKZPny6jRo3S8pDtJJD7CMU+XmjjfCxowr0BqxiwxEMdD2dYRnk4AtqoQx7oAH1iP3r911h8cl6xkqlOj97z2Cy1vHMOwhABeLSlfqMmJUAbU+wsqtLto6cYtKWhjWX0XQ3aMnoL+Ov+CbPAUzXJxMeMGSPDhw9P8e2cxV2n7D4J/Nm5c2fhCZvBLBSdrp0jfaDm1c1BG/WG71i7du2kS5cuQs7Ju+66S0M4DBkyRPN5ktMztbo/23dE7XftwfuZJUsWadGihaZIYnu5KjXUihlovljv/aTnbyyazlLL8QyWWD65PgM3b7aThSDpVDkx/lh56Kx07Ec4Gv5353DnZFr/7+1n/BoZxGs1bBLx3wMwQqBmrHw8SFHnBNClzrGAkRqLegeig6131y5oX956d39nypRJ8ubNG1VowwJPgGymK2++d1SCzyj1RVaTR5ZsVmgjgDP1SXy9PPnyq3We/3mnBm3sz7QpfpCsOgb2zq9QSYbPXK7HOp82rHYA47AZy85s9yxE4CHh4hZtdbu7Zjg/bXo09gDAoC326ixkJWbKCr+jBx98UJfxM7DSyfKJX0xKb9cRJ/eJBYVgqAZtwcNWqDprB23UF3VD/Z6tjlOq+7Nt5/zJtQt3bQZvVlwCMknhKFT366fzMEVerFRZzYIR6XIBpkzLYxlC/3DWu2sXqdW/axdu0U4k9PBa2gglxBT5pJXPqvXLxcxDJ6Bt9NzV6YY2AJksJwRTxqcNaON3V/z8cgnT6w7a8GMlTuDIOav+AW2AY7NrOhq0hWyUi78TGbTFX50GdEfff/+9Oh1jFaMzZQqrb9++smbNGk1MTaT1lN7s6zpg98lgjAWHhN5pnR7Fx4uONNBOfPHuozL7qVcC3j/Q855tP5zZyQvqtbic7Rg/fO+gjXojMCq+RQsWLND0UHv27JGDBw9q/C0srSdOnEix3lNqD97tWFpdm/B+kgqJtjVhwgRtH3zHFCJ+Y37QKFxl6HjbPXLnyIkRv0fC03QbOFQzb/DbJHAuq0oXL16sPqgsUsA3jST0LBgIRd3TDmhf3np3f5NtAUsr/0drenTErJXCyk+soQTbZiUp9c4iI6aS8TNlejQ9lrY7ho+XqnXPrPocMv0JhTZy41ap01B9HLkOU/RuIUKlWvWk3+jJen1i+TmftnC1w5TOa5a2gIZLX+1k0Oar6gh/YbCu0VkTkJOnYqazWEiAjwvfBfLy+rQxIJDiZtu2bcLqNCx3aYN2OXAAACAASURBVIU2VtnlyHmudmBYBnrcNTzVQa7rgCGppqxKqYNKz3YAzU2r3f3ITO3omS5Lz7midYyDNuoNnyOmwBm0iXZPFH3qjRWFofBtYvWoG6j5LFGiRMIq419++UW++eYbdWxv1qyZtj+csQnDQkiWaOkTzusy3br1xN/hX8J5Lc7NasWJK57RKTp+m6zyZhqcGHirV6/Wej98+LAmgacu+N0zCLi6D7QPSKmfSOrTlj9/frXkf/zxx1FbiHDH8AkajJjV4A6g5z1zSLOe0PdgHatYo44AumeDNjKWFC9dVvqPmaoLjlx9suoTIOOBsm2XWxTamELHb616vUt0URGrhx20EX6EfMUsPGK7gzYWXbXveWfEfgsGbSm1ZP9uN2jzb92EvGR0yCTfpiPFwvboo49qp53WCzlow8GYTvqnn34KavUoHSdhN+gAmaJgJZfrDJP77NL/78CzyX0fqm10uqQxmrpuj5YHuKhYrbYYtKXcYhy0kfYI/ynCQgAEdDRAG07wbMPCgz8VfnY8PBA2hRWdTFWFqv685+FhwMVf824P1d+Um/aS3PkIDcKKxTHz1ibKqJDcvsFsw1fqut79JWeuc9W1oWHDhjJ48GCFZjImsBhk165dcuTIEY2zCLRRJ+GANtwkyGyB9Y0HgmitHq1cq75OD/PJAgQg2mkMaFW9qJEG3nW/8cGTFmhMNvYhOwHZTVbsey/hGOqZBSdMbz4weVHCdlYWN73mRgU0DfTdvI2se/VjzZF8Satr1HpHyA/aOQsUsO6RmxhYZHutRmdiTGIBTC7epCtzqD8N2lLuy/z6jUGbX2smDOXasmWLsFiAoJlMi6X3qfqiiy6SO+64Q600nINBOZg4bV5oA4iIWE/nxAo/3nSaTKO5Ad0LbQyUDIp8R4eMb0lyUMX3xM8idIfr+Ji+oAMlXhPWKLfdfS7a+bqGcXBJ5h20kSmBlWZuP/e5ZM/xZIOnuvtYvf/UP6YD+W7hc4cThSnhfPi9sOqQqRyXqJztDARpnVKMtKWNSPqE9KBtuPbBKkVihBFygmj9b7/9tu6zfPlyDf2BVYiYZ7cOeSRhUYDTNRSfDLBYSEJxruTOQXvAkkNbwtpFPDiXNglYYODGv6rp1TeEfHqdtv3I4k2aZgvrJta17t27y8iRIzXkClY2dMYa/vLLL2vYDkJ74CJBOBYvtAXb7fAQR//w7LPPJqxM5fzRgrbk6sq2/e1va9AWbIuP/PEGbZHXPCpXJGcg05ZYNg4cOJBuYKPwTHU44HODcqigjekBltnTsXYd8KDUvvhyDVZLbCQcfNnuoI0pNb6/9cFHFNbI20kgWkIueDtmfOZ4wuVptkzFyhrwlu8va3OdNGrRVnM4kiuSnKDe41pe21lX3rEajKdroI2Bl+kOykgeQaa+gEWSeBMQFwdkEpJ7z0OMJq5fvmpNjfF06wOPKGSyX/X6lwpJ5ivXqpfwRI9VhvyqrDyr0eBSua5Xfz0fA3OFarV06uuGW+7SlY/e66T0dyShDRigU3Evb/sgxASrlLHwYG1jehaIACawCGG5BTqYNiL2WUr3k57t4Ya2NYc+lDtHTNDVpAuePSwFCheVudsO6D0AcYAVwZgJLZHcA0J67oljOBdBplncgXWrSZMm6lfGCnB82EhHtWLFCg35QeJ3+gHisX399ddaF2RJCGXYD6bbqWderu4N2v6GpPTWc7iOM2hzPVXsfBq0xU5dpbukPOXWr19fI9UzPRrKl+uYQwVtgBOARidFfKPipS+QZS++Jbc++KiUq1xdVxw6aHtw2hOaTgprWa/7x6hj+xmLW2Kfs36jJmsKI5b8kzMSgOL8pJuq2fAytWS16XizJnn3do7kmCRlFvGa2A605clfUAPrErCzUJFiagkDpsiIQDkIJXB52xt0f3cunNGZTsFCNnjSQilYuJjmNcVXDqvg2lc/lOJlysmgifPVEkicKKwzWNtKlCmnEIpvXZmKVeSh+et0oCY9F1Ydd43UPiMJbUnbFu3DtRE6GyABHzqgAXBj4QMPEfjY4SRPvD9WIubKnUf9gbxWxtTu8WzfAW0E8SXoMXVEsGWO2fD6ZzJy1krpPWiMWquIt0awY0Iv0JYIyEq9LHvhLbWG8lDRZ/BYIXOD95pnnNtn6rQXUfNznptbuvZ/QKZ64JPVgvg0sa/32PT8zcrbIdOe0HaFlbJ06dKaqWDEiBHqO/b444+rnuvWrVOrFzEUWWwAsH311Vfq0oDlkzrht0sdhfrlrXeztPkT3AzaQt3qw38+g7bwaxzVK9Bxkm4KC8Z9992nHXQoC+Q65nBBG5YzBjUGyyIlSun0I9BG/kgCnpIVge9J4M7KMByMGWy9AyE+chzDNqxbTMMxOANtzop125BHpWqdhomOSw7anE8bGRHQlH1I9H751TfIkt3HNAZU6fKVEp0HaHMhUICE7DlyauBVykk2hREE+ixXUcGTFWw4JXMuyovfC5ZDpn1Z4QZQAH+EFwg0dEI0oY22RhvhTRuhwwEWsLiReBzLHKmWcI7fu3evbN26VeOGlSx5JkxFhWq11bE+aZ166zeQv4E2dG969Y1Ss0FjTRXEOYGxrv0flP6jp0i+goU1DAM5RoErLLlkvTg3T17NhNBv9BS11t542z1qGfUCJVPvWGtJkdTznhEaTLfjbffKpJVnrK5Ad90mLaTHXWeS0QdS5uT2ocxPPn9c7yNz5jPWNaajsVQ+9NBDal2bM2eOTofiDvH888+r/+A777yjFnKsnC6dlQM2twghlP2Cq3fnz2jQZtAW6vaVUc9n0BbnNf/5559L8eLFNaQHCwZC/Qo3tDVoeoXCS1JoI8I8gynprRjcCHKKE3b+8wpreiHvgFetbiMhvx/bCBWSPWdODXwJtF3fZ6BuDwbamra9QROQX3Rpc+FNUnnv9YG2S1perdsYvIEv0tsAkCQRJ3E5ljishaTNIln9mgOndf/L216v0EYqJMpds2ETvQbXCXQKMdrQRptLCm5Y3BjI8XEjRRJplrC64QuH1W3lypXSvn17tbqRl7Rdj9vFpRLyahvo30Ab1kmsoYRtUUvlnuMJ9QQMtezQRa64sYdOU+fMnVvIO0m6ocq166tFlLoav2y7+qQBdRNX/B2mxgttTI+yKtZNj1LGhxdtlLIXVknW5zHQe6DtDHhoWkKmA0K4sNgD3zXCuMyYMSPBuvbcc89phhKsa2hLP4APG5qjvQM2Vy+h7hdcnRu0+RPWXJszS1s4Wn54z2nQFl59o352VohiEZo3b15Yp0DCZWlLCdrwHyPRNwOts8Iw/dnr/tHqO+ZdcEDi9R53j9ABmoTQuXLn1WmvUEEbqZiIhO7K4TpE9+mFNqZESTgNsOGPx1Qbx9Vs2FihjWCsQBuR1zneQdvjG/dqsmtixbnzBvrpB2jjh+AAn4EcPypWFWJ1w/KD1Y0FCljdXn/9dXnhhRfU1+3hhx/W8DS0YaLIA1HpCcrr9Wmbt/2g+iQ6q+z45du1/gBnVgBuOvqlxtwi3hYhG2649S5deIIfY6c77tM6Y9oe666rg7NBW8sOnbV+3f5p/WQlY4OmV0qmzJl1MdFVV12lq2/JLYrzP79vQJd0VVgssVxiXcOSiXWNBzYWHSSXLJ56CcfL1TeDjFna/AlvBm3haPnhPadBW3j1jerZeaKuWrWqOngzHRWOl+uYIw1t+KWRTJ6pTlbuYYUAfh7f+KJarfAHcwMj019MT/J935ETdSEB350d2j6Q/IXOpLdhf7d6FD807/QogzeLBtyq1aTwBrQxzYeVh9AC+Owt2X1UfdTuHT9XFzKUr1JDB/VV+9/XqO0EAsWfqnyVmmpp49gC5xWVsX8tluAaSa/j7jfpp1+gjfZHe/G2GTogHNcJPYHV7csvv1S/K6xuBP3duXOnwkinTp0kZ86cGhqGnJ/Aa6D3jx4pQRsWXCxoI2YulxbtOym0sf9Nt98n1/ceIDw0jFmwTqat263+jFhD8TfkTYwtp/XZoK3eZS3l3vFzEvZ3x53tk0UuLLQBGPFdq1y5sgbBJo/nuHHj1Lq2ZMkSWb9+vVoosVQ66xoWzOSsa246lHoI58vVs0GbP4GNtmfQFs5fQHjObdAWHl19cVacj7NlyyYDBw4MW3lcxxwNaAPU8PlqdV1XXVmKxatGg8ZyTdfbEg3ohOIoXa6iWuZw8megpsM6G7RhFcMPiTyZY+avSxHa8G1iZSpTlu173Cn3jks8OANt+QsW1oDAJcqWl24Dhmj58IXD/43ys+AAIKBcTNUyhYolDouOWw1L4M8S55dTP7yru94asEO7n6DNNUTajbftOKub83VjFeLJkyd1tSOrHp9++mm1KLkYgVgjccTHN/Fs4MP3KUEbPm7X9xmg52CaGksb+49duF793oBt0h+x6IMVvbO3Jp+J42zQxvGEmAmkrG4fpnFpz1gZydt57bXXal5YrI9TpkwRYq+tWrVKLZIvvviixl9777331GKJ5dL5rqEtv89IwZq3jm161L/ARjszaHOtNXY+Ddpip67SXNLx48fr0zk+QuF6eQdeprrSkxGBkBzEaqMTwdLkUlot2vWGzNqy76/tp2Ty6p06NYYjvtsOkDClyMD6kFpE9vwjzhcWmVWvvK+wxqo/Z6GZ/dR+WbjjdT0/gyoJn92A6T4ZaFlJyEIAnNanb3herXpMv+Lf5KbqsIg89sQWXd1J4Ex3PJ9AG0mgsdZMXbs7IVQHScq5byyGWG1cWYDROX+VDbDEUsh5CB2BVZEE1HO27U+4D++1kvvbj9BGe0wKbnRGWIexuv3444+6ypEVpm+99ZYcOnRIA8NiUerTp49CDEF5G1/ZXhbuOJxI7+Q0SAnaWl/fVWOnAd7V6l2SAG2rD36gfmm1L2mqOtNm6lzSTDr06qcLFKhjLzB6oY3FC6wQpt1gLQX+AfWHF286azkpO/HduvR/UFegco9kHCHJ++jRozUNGHHXnnzySc1kgiWS1bcEsUUrLJVoh4Ze37VIA5urX4M2g7ZwjT0Z9bwGbXFc8zfeeKOcd9556tcSrtsMBbQlN8jG0zavT1sg9wUAAgkE3sUCN3T6EwEN9imd26/Q5tqktw15fd2wupFBwWt1I64b+W1nzpwpdevW1WwKWCVJRbTx9ZRTYY2YuUJXfKIRgW8J0bJgx2FdlMCKYKyaTLteedPNCVqzeIT4fE5XFrEAbsTUY7qdBwz3HRqXrlBJYRuYw+qLVZTAzExtX9S4RUIKJXdM0k9gnfAyWPfOyZRJg2B37NhRhg0bJo888ohMnTpVc8aSjmr79u2CBZLsBilZ19DSa2Fzekfq09Urg4z5tPkT3szSFqlfQ+iuY9AWOi19dyamksgxSucdrpfrmIOZHk06eMXb/2mFNqw5F7dsK5VqXiT1L79CSJETjCZ+hzbaJu3I25Zos87XDcuRi+uG1e3VV1/VjB7kzO3bt6+mZTvnnEwaf2/+M6+lWastx79Si1ggGgPT1Iez1qZ0DN9jMXP7OX/HlPYH0Ak/kyNnrjNpverXl3vuuUcIkjthwgSZPXu25owlzuLu3bvV8ogWWNeIu+asa2iWFNbQNRovV58Gbf4ENtqiQVs0fhnBXdOgLTj9fH00GRBatGgR1jK6jtmgLeWOmelfpmdTGrCTbseC88iSzRrzC6BI+n1a/48FaHON1LUnptVoU3RQLq4bTvWErjh16pRmU9i3b58Q2oKgvI0bN1bYIaht70EPJUpXlla9Irk/1jUCSmNRxXeNrBA9e/YUguRiXZs2bZosXLhQ84ZiYcTSePToUXn//fdVCyyRyfmuuelQp2s0Pl1dGrSl3DdEsq0ldy2Dtmj8MoK7pkFbcPr5+mgGAaZIw/lyHbNBm3875liCNtoqbcrbruiknNWN0BVY3UilRkgLEs8TQBYLFMGjiUmI1Q3/tClrdyVYupIbsKK9jXphOjZb9uwJKajuv/9+DZJLQGysa8uWLZPNmzerZRELIzlb8RtNal1DI36DDtbQL9ovV4cGbf7tGwzaov0rSfv1DdrSrlnMHAG04RMTzpfrmA3a/Nsxxxq0ufbq2pazurEKEud6/KOSs7qRpNylwsqSJYs68hNnzRuzL9qgxvWJJ0gaNOLC8Rsl+0Pv3r3VukZcxenTp8uiRYtkzZo16r/nta7h34d1DX8/LJDJxV1z+kX709WfQZt/+waDtmj/StJ+fYO2tGsWM0cYtPm3s4wkPKQEbcTzAgKYXmPwd1YavzVwN/jzYIC/FmUlUCxWNwLHeq1uBJYlwOzw4cM1Hye/AXLWknM0kpqndC1WL5ObloUGxJ1r2bKlPPjgg0KQXBK8e1NQ7dmzR/33nHUNC6MLkovlkc7bb9Y1b9tx9WbQ5t9+yKDN22Jj42+Dttiop3SV0qDNv51lSoN6OLZ7oY34Xky5ESoiVqCNxg8AOAgAVOi4vFY3lwqLe3KpsJYvXy4dOnTQqUfyjrbrfrus3Jc4HEs49E7unKwIHvjQNClUpJha10hBdfvttyekoPImeHcpqI4dO6b+ey4FFda1aIfxSEtH5OrLoM2//ZAX2piO37Bhg+AryopkHoh4OOJBya8PdGlpj/Gyr0FbvNRkMvcRaWhjQMHqwQKI+k2v0OCv61772D6jrAEx5oioX6NGDQ0bAcw4aAMI/G5p8zZtBwIMIs7q5lJhMciQCosBh1RYBJwlNAZWrIoVKyoslS5/oYyZv1anKJODq1BvY/Xo3KcPCanUyGiQO3duIQWVs665FFQrVqxIlIKKdF4ppaDyWte82vjtb1dXSaGNwMXWL/ijXySXLeNEjx49ZO7cuRr7j6DsBm1++zX9XR6Dtr+1iLu/ogltJHQvUaa8vX2gQbFSZXRlZa1atTS+GXG+mHojICsWKiw4fp4eTfrDBAYcECS1unlTYXF/pMLatWuX+od17txZcuTIIZmzZJXW13fTgMyhhjTv+Qiqe+uDD0veAgV1YKxSpYr069dPvCmonnjiCbVuEAA7aQoq7iVpgndn8eD+/f5ydZQU2s4rVtL6BR/0C/TPxDhknMCnklXKW7du1d8Mq5PJqmGWNv/9ygza/FcnIStRNKANa0e3bt2kTp06atkhVyJTQeXKlZOyZctKmTJlYuZduPCZfI+lS5eOmTKnpO8FF1wg5O+kY2alJc7tWHNYhRhr0OZ+IA4KADev1Y37YcBxQXkJQOtSYRGgFosjVq9CRYrLA1MWa8YCL2yF4u/p65+Xqhc10gExf/78ct1112mQXFJQUYakKaiwDGLdcNY1rJ/eBO9e61osABt15OqHQYYMDazybdiwofDwUK1aNY0hWb58eaFtptRubXv4+0tieWKNxgLPYp7Dhw9r/l8W+2DFtulR1+P449OgzR/1EJZSRALaKDidM4MKztEMNlhvcJ7GN2Lbtm3aGcybN0/w22HAYkrI729CLtSrV08HXSDU7+VNrXxoTgYBF+8Lqw7hI06fPq1+KwyodATOihOWxhimk9L2HBw4eHPhQZJLhUVg2nXr1mkqrHz58kmWrFml8ZXXJqQQCxbYSIfVpf8Dcm6efMIKVlJQkfsX6xpp5bwpqLAAuhRUH3zwgaagwrrmhxRUoaguVy8M+gAoEEAwYCAaSy8pyUh2jybEo8PfMrV2bN+Ftt9Eb1Yqs/iFtGhbtmyRF154QU6cOKEPD/x+cHlxDwyhaBN2juAVMGgLXkPfniGS0MaAT2NiOgdrG4PQG2+8keBXRAe9cuVKBbilS5dqdHc/f5I6KGvWrAptxP7C38PP5U2pbCw64AmaKVEsbAAboEA0fSxRQEI8PE07QHDgxnQvAw5WN5cKiykf2iRWRhLQA7JYhPmd4PN3z6MzE3LJphXe8F2bsnrnmRRU55wjBQoU0HA7rGL1WtdcCqqzJXh31o1YBGnXITqgdg90rHzFhxILr8slCygQ2gSfPtpqSu3Ytoe+z0Rv+mQeYlhxjSUUKxu/E2eB5wGI+qMu7eUPBQza/FEPYSlFpKGNgQYA4AmNxNUucj1+RQxSPF1jXcAJ3s9vIs9XrVpVB3M05I2jrp/LnFLZ0BvrEh0ylk86ZYCNAK1MIQLZ8dQxe0GB9si9YeXxhgfBCkxQXsKDELi2f//+mueTer7o0uYya+vLaQoPsmr/Kbm2552SNVt2BX2mAAmSSwoqFyQX6OBaZ0tBRYfsLBvxMFByD9wPEI0FEYBmCpjAyEwJ4/ROPaBLLPQNKf3OYnG76xuwruFPyQPNyZMnFax5mON3Q3uM5QeHsAysUT6pQVuUKyCcl48ktHk7Z37s/Oh5WmM1KR0BAyVmd0IyEMrAz28GW3yeHLDxiV8SU71+LndKZUNznPIZKAFpVlhiDWUqG2uUs+rEAyTwe+I+eDPYAAx0cl6rG9YerAmkgwJk8eNZsGCBNGnSRKc0c+fLL30Gj9UVjqlZ3DQF1fx1UqpcRY27Rgoq4B7rmktB5YLkYtlzCd75PbggudQBDzpAjbce4qkuqAfuzVsH3D/WeKxutM1Y6BdS+n3F8nZ05yEOf0qmrnFtYRrb+zBn0BbOUTrt5zZoS7tmMXNEpKHNdc7OusGARAdAUFA6AwZLOms/vwGbUqVKJQI2B284k/u57KmVDe2xfmJdA6iZNgQW6ADiybLjfpxJwQ1oAIx4oMAS7FJhOasblkgsYaTCKlq0qNZ/9fqXyrR1e5JNhbXsxbelTceeki1bdsmWLZvmPk3Nuoa12e8J3p12ofxMDp4BAuqAtsiDHX1Dam3Xvgtvn4n+/B6wgmKRxiJKHx6PDxGhbNvROpdBW7SUj8B1IwVt7laSdtD88AEDOgE6akCBNzDn1/egQYOSBTa0zJw5s/qE+bXsKZXL6U4dUBfUieuU4xHYXHt0n0nbJRYftOCBggHLTeMzRURgW8JwtGrVSus7e85c0qnv/QmpsLae+FoenLpEipY6X9sJK4v79OmTYgoqLHkuwTvwwTVTAmbKGY8v7svVgYNn6gCA9vYLfu8bUvp9xer2pP0C9UG/wMONt1+I13YZq781g7ZYrbkAyh0NaHOds7O60cB40xH4/c3gyjSos6wl99m4cWN9GvX7vaRUPuqCgdN1yhll6iNpu0Qf4JUBl6li/KyYqsPPCh8fHLNHjhypYWpoB2UvrCoNml4pdRu3kMyZs0iuXLkU7IYMGZKQgorFKjjUE+sKPy385rDc4j8YaymoAuhe0rQL+rs6oO3RBmOlX0jptxRP210/7axrrl+gzuzlLwWoq0rlK6RaqHNS/TbJl6dPnZIWTZsl2Wr/RkOBSEMb9+g6Z9dB8+OPlTcrqW6++eaEd4MGDRTg2rZtm7CNIJRMc8XKPaVWTldX0Wib0bimu180ARzo/JzVjSljpo/xs8L3khW2rLRlhR3T4kyB8nvC15HYg4TxILbVhAkTZMaMGRq6ghXS3hRUhFTBkpeSdY1yUKaM8vLqn1q7tO+i22e6espIbTOWfoMGbbFUW2ksazSgzVtE748/Fv8mjhEaMm0Wi+VPrczeespof6OLAwM3XcfUEFY3/KySpsJiEQHT5kyPY2klphjxrYgvRuy7VatWJUpBhXWNBThusYebdvJaOF3dZDTt3f26+7fPMxZIP+ng6sg+/amAQZs/6yUkpYo2tIXkJqJ4Ei+0RbEYdukwKOAGSeDNa3XD58+FrMHqhlWVmGJkMCBuX8eOHRXSsMquXbtWp0IJnYBlDgsdxzjrGv5aWPLoZDPadHQYqsxOaQqYAiLan9j0aJw2BYO24CrWoC04/WLhaOAtqdXN+bphdWPxAOFBADSmSHv16qXxBokrhu8bsEZ8K0ImeEOpYF3D58l8hGKhFVgZTYHYUcAsbbFTV2kuqUFbmiVLdIBBWyI54vaf5KxurKLD6kYIBBYREHAZaCMQL7GtXHwrYq4xFUroCix0HMOxXuuaO3/cCmg3ZgqYAhFTwKAtYlJH/kIGbcFpbtAWnH6xdrSDKyxvztfNLVTAqpY9e3b1bXNxw1i4gN8aixiYCsVC57WuufPFmg5WXlPAFPCvAgZt/q2boEtm0BachAZtwekXi0c70Eo6ZcpiFKCNnLQuLhdxrlzcOy+scaw7TyxqYGU2BUwB/ypg0Obfugm6ZAZtwUlo0BacfrF8tIMuAIxFBCxGANqI3cb0p3s7WHMLDdxxsXzvVnZTwBTwrwIGbf6tm6BLZtAWnIQGbcHpFw9HOwgjUC7QNnr0aIU4B2lY3Uh6DryxLx0qixOAOnuZAqaAKRBqBQzaQq2oj85n0BZcZRi0BadfvBwNjDloGzNmTMLUJ9tJFp4jRw61xHG/5G8k+C5hP+xlCpgCpkCoFTBoC7WiPjqfQVtwlWHQFpx+8XT04cOH1dL20EMPJbotVpECbQMGDNDtQFulSpUM2hKpZP+YAqZAqBQwaAuVkj48j0FbcJVi0BacfvF0dGrQVqtWLalXr56uJE0KbZ9//rlmTdi5c6da6OJJE7sXU8AUiLwCBm2R1zxiVzRoC05qg7bg9Iuno1ODtrp160qPHj1kwYIFOj3qLG2EBOFvrHP169fX1FfxpIndiylgCkReAYO2yGsesSsatAUntUFbcPrF09GpQVudOnU0UTx5Scmi4KBt8uTJcs0112jGhaeeekqqVaumIULiSRe7F1PAFIisAgZtkdU7olczaAtOboO24PSLp6PPBm3ff/+9NGrUSPbu3ZsAbd26dZOhQ4eqDGRNyJUrl2B9s5cpYAqYAulVwKAtvcrFwHEGbcFVkkFbcPrF09FngzayIUyfPl3uvfdeqV69ui5EaN++vYwaNUplYDVppkyZNJdpPOli92IKmAKRVcCgLbJ6R/RqBm3ByW3QFpx+8XR0INBGSisWJZQtW1ahjTyl/fr1UxlYZVqsWDHBImcvU8AUMAXSq4BBW3qVi4HjDNqCqySDtuD0i6ejA4E2sif0HThUUAAAIABJREFU7NlTihYtqtC2adMmqVGjhiaTf+SRR6RDhw6a0zSedLF7MQVMgcgqYNAWWb0jejWDtuDkNmgLTr94OjolaHvrrbekRYsWmiye+8WnDWvbV199pZkTiN/GQoXmzZvL6dOn40kSuxdTwBSIggIGbVEQPVKXNGgLTmmDtuD0i6ejU4I2siK4BPHcb3L/u5RX8aSH3YspYApERwGDtujoHpGrGrQFJ7NBW3D6xdPRKUFbPN2j3YspYAr4XwGDNv/XUbpLaNCWbun0QIO24PSLp6MN2uKpNu1eTIHYVcCgLXbr7qwlN2g7q0Sp7mDQlqo8GepLg7YMVd12s6aAbxUwaPNt1QRfMIO24DQ0aAtOv3g62qAtnmrT7sUUiF0FDNpit+7OWnKDtrNKlOoOBm2pypOhvjRoy1DVbTdrCvhWAYM231ZN8AUzaAtOQ4O24PSL5aM/+eQTWbt2bcJ73LhxkiVLFunYsWPCNr4/cOCArhiN5Xu1spsCpkDsKGDQFjt1leaSGrSlWbJEBxi0JZIjQ/3z3XffSenSpYXfUErvbNmyyY4dOwzaMlTLsJs1BaKrgEFbdPUP69UN2oKT16AtOP1i/egFCxZovtCUoO2GG27QALqxfp9WflPAFIgdBQzaYqeu0lxSg7Y0S5boAIO2RHJkuH/+85//SMOGDZO1tOXPn1/IJ2ovU8AUMAUiqYBBWyTVjvC1DNqCE9ygLTj9kh5NtoBYe5OWimnQpNa2oUOHxty9pKZ90rqy/00BU8CfChi0+bNeQlIqg7bgZDRoC04/jvaCAumeYu39xx9/SNeuXRNBW9myZeXbb7+NuXtJTXtXT8HXuJ3BFDAFwqmAQVs41Y3yuQ3agqsAg7bg9AMEHCiQf/PPP/8UOpxYe588eVJy586t4JYpUybB1y3W7iGl8lInLjcqdWXwFlybt6NNgXArwG+5UvkKqV7mnFS/TfLl6VOnpEXTZkm22r/RUMCgLTjVDdrSr58DNoCATgaL1a+//ir4if3yyy/y73//W98///yzxML7wQcfVGirX7++/PjjjzFR5uR0dbrzST1QJ9QNdeTgjbqzlylgCvhTAYM2f9ZLSEpl0BacjAZt6dPPC2z79++XMWPGyOjRo2XkyJEyfPhwfeMTxnvYsGEx8e7Xr59kz55d2rdvHxPlTUlXp/u8efPk66+/lh9++EH+9a9/JcCbgVv62rwdZQpESgGDtkgpHYXrGLQFJ7pBW/r0A9qcha1du3ZqocqaLZvY2x8aZMqUWQoXLiyvvvqqEEQYePvpp5/UCuosbmZtS1/bt6NMgXArYNAWboWjeH6DtuDEN2hLn34O2n7//Xdp06aNZM2eQ6as2Wlvn2hQt0lLIWTJM888IydOnJAPPvhAvvrqKwW33377TX0P8W+zlylgCvhPAYM2/9VJyEpk0BaclAZtadfPTY3i4I6/1JVXXinZc+aSp9781t4+0aDZNR0lb968smLFCnn55Zc13txHH32kK2LxOWRQcIsS0t4C7AhTwBQIpwIGbeFUN8rnNmgLrgIM2tKun4M2Ohac3Q3a/AerQFuePHlk1qxZsn37ds2f+u6778qXX36pCyxYmGDQlva2b0eYApFQwKAtEipH6RoGbcEJb9CWdv0ctDHws3rxiiuuMEubTyxsztoJtBHCZMKECULS++eff16tbZ9++qlOkTKtjU8idWkvU8AU8JcCBm3+qo+QlsagLTg5DdrSrp8X2liVaNDmT0vbueeeq6t6ly5dKs8995wcOXJEPv74Yw1n4oU2A7e0/wbsCFMgnAoYtIVT3Sif26AtuAqYNm2arnx88cUXgztRBjraC22sSGzdurVZ2nxoaQPaRowYIYsWLdIp0tdee00+/PBDDQFi0JaBfrB2qzGngEFbzFVZ4AU2aAtcq+T2XLVqlULb8uXLk/vatiWjgIM2Bn6DNv9Z2ZgiZXoUaCOWG9kdtm3bpuE/WEVK3DZWkLrpUbO0JdPIbZMpEEUFDNqiKH64L23QFpzCTBmhIdHw7RWYAgZt/gQ158/mhTYC7Rq0BdaubS9TwC8KGLT5pSbCUA6DtuBExVJEENLGjRtrGITgzpYxjjZoM2jLGC3d7tIUiI4CBm3R0T0iVzVoC05mpog6dOigK+1IGm6vsytg0GbQdvZWYnuYAqZAehUwaEuvcjFwnEFb8JVEAFJ0HDt2bPAnywBnMGgzaMsAzdxu0RSImgIGbVGTPvwXNmgLXmMixJcqVUpKly4t33zzTfAnjPMzGLQZtMV5E7fbMwWiqoBBW1TlD+/FDdpCoy/x2jJlyiQPPPBAaE4Yx2cxaDNoi+PmbbdmCkRdAYO2qFdB+Apg0BYabQkSW7t2bcmePbum/AFM7JW8ApGEtq0nvpGNb3wuW098nSivqW4/wvZvEm33rqAMx99bj3/9V3nSdt0tx7+WTXofaTsuvffgQn7Y6tHk27BtNQX8rIBBm59rJ8iyGbQFKaDn8Jdeekly5colFSpUEOJZ2St5BUINbTfeercMn7k8Wfh64vkTUq3uxTJn2/5E36/cd1IuqFxdFjx3OGE7YDR17S5Z/9rHCdvSCz0pHTdj04tSqVY9WX3wgzRdY+KKZ6RWo8v0uOUvvyuztuwL6PhxS7dJl76DZeORzwLa35XboC35tmtbTYFYUMCgLRZqKZ1lNGhLp3DJHAaMkGCbadJGjRrJJ598ksxetimU0AZ8Zc2WXRo1b5MslCza+YYULFxMHt/4QqLvl7/0jmTLkSMRzLGtaMky8uiSzbL56Jdyz6OzZOaWlxIdB9SMnrtaxi7c8I/tDni8n5zn3nFz5PGNL+r+k1fvlDz5C8iq/acCOt6d6+FFG6VoyfP1uK4DHpT6l7eWLce++sc5Nrz+qfS6b5Ss2v++fse1S5W7UNYf/vQf+7pzJ/dp0Ga/U1MgdhUwaIvdujtryQ3azipRmnb43//+J4MGDZLMmTNL9erVNck2kGKvvxUIJbSNmrNKajRorFazda99lAAmTHsCTIt2HPkHtG06+oUkB21MXS7c8bpseuMLWXvoQylWqoyMnrcm4ZwObupc0lR63j0i0XasdO577+e6Vz+SEueXk5GzVur3DtpWvvK+UA7vvvzNeZI7lxfaVh84LUtfeCvhWO8xT+59U1cyP7HnuH4/bMYyqVCtdsK+Sa+X0v8GbX+3V/vLFIg1BQzaYq3G0lBeg7Y0iBXgrn/++aeG/8iaNasULFhQI8qzzV5nFAgltN10x33S854RUrr8hTJz899WsQFjp0mVOg2kw839JH+hIgmWtoF/bb/p9vska7ZsiSxtG17/TK64obswpdi+x52SPUdOqVCtlnQbOCQBevqOnCR58xeUkmXK676bj36hYFe3SQtpds2NCn1eELquVz/Nq1q+Sk3p0v8BcdDWtf8DUrl2fRk4dnqCX92sLS9Lg6ZXSKMWbWX+M68mXJPzeaFt1NzVck232xRKp6zZqcdc1Li53mOTNh0U2qrXv1TuHz9XDNrsV2cKZDwFDNriuM4N2sJTuYDJ1q1bNRQIGjNd+tRTT2nOxvBcMXbOGipoY3qw9sVN5aGF66Vek1Zy72OzFXSmrN0l+QsVlgenLpG2nftItuw5FGimrd8j+c8rIoMnLZSru96qcOP1dVv/2idyfvlKetzC516XwsVKyr3jZsvKfe8lANTqA6fUR+6GPneptWvO9gNSpERpmbJ2t3Tt/6DUubRZomnLRTuPSNES58vdD8+QFfveU2ijPfS4e7gMGDNVcuTMJStfOanTnqUuqCiPPrFFIRR488KfF9r6j5kqlWrWFcqCX96QaUuE62DVYxqY809ds0vWHPzAoC12fhZWUlMgZAoYtIVMSv+dyKAtfHUCnHz22Wdy6623St68eSVLlixSrVo1TcK9Z88e/Y5Vp7/++muGehPX7pdffpEff/xRvvzyS2nRooVao7yQEsjfwE6hIsUFv7ZOd94v13S7VUGn64Ah0rDZlfr33O0HJV/B8xRmug0cqtuZOgVy8IVLCdoCnR69Y9g4BUfKC8CdV7REosUNyU2P5sqdR1a8/J5CVe58+RTkmIYtU7GKlnne04ckf8HCOk3rdEgO2pjiLVm2vIKZWwX7j+nRmculYo2LEgGgO2dqnzY9Gr5+wc5sCoRbAYO2cCscxfMbtIVffODt+PHjcvfdd0vRokXV3w3d8+XLJxUrVpQaNWpkyDc+f0Bsnjx50gVtU9fuljz58svwGcukQ69+UrF6HYWTZu06yrU979S/vQsRmre/Sdr3uEO3J+fT5rW0BQptTFO2vq6rnhPnfyx8TFk6IEoO2txCBK6Rt0BBmbDiGenzwFjJk6+A1GzQWKd1c+fNr3537jzJQRu+d3cMH69QOnjyQp1mTQptjz25VadP3XkC/TRoC3+/YFcwBcKlgEFbuJT1wXkN2iJbCb///rvs3btXHnvsMenYsaNcdtllOnXK9GlGeTds2FB4N2jQQOrVq6fwmj1nrgTQCRQsABamBwn50bZLH4UenPRbXttZ2v0FZ15oa9Whi7TrfltIoQ045HqUmWnUAucVEWDS3UPA0DboIalR/1JZ9uLb+gYqvQsSUoI29hn2+FKFP3zxkkIbfnL4z7nyBPpp0BbZfsGuZgqEUgGDtlCq6bNzGbRFt0JYoPDHH39kqDfg+ttvv8nPP/8s3377rbRs2TJdlrbL214vfQaNUSBZc+gDcT5h3e8aJjjmAyhACwsH8PXCj4ztrBJlCjJLkoUIyVnaRs1d9Q/gqXNJM+lx1zDd3m/UJKlWt5FauYjBVrh4KXErN7m+g7YRf8WRcwsRCPnhtbSNmb9Oj9109Mt/XI/zpARtDsKaXn2DdOn/YAK0Ldl9TM8D1FEGt1+gnwZt0e0X7OqmQDAKGLQFo57PjzVo83kFxWHxQrEQgWCxLBpg+s+ByMUt20qv+0croBUoXFT6jZosrW/oJviQAW2sLi1QuIjcMWKCtLqum64OTcmnDdipXKuetLqui8x/9rWEa3CtKzv2VKvY9PXPq29c8dIXyKBJ86XNTTdLi2s7KRS6MjGFWb3eJdLi2s4y75lDCatHk0Lb6oOnpeyFVeXG2+6Rqet265SpOwefyUEbCxGGTHtCJq16TspWqirDZy7TMCLcL/57WO0GTZwvNRs2kbVpBDeDtjj84dktZRgFDNriuKoN2uK4cn16a6GANhYhdO47KCGILGAzcvZKDYjL3zj2t+zQRUbMWqkhO5b8Fbds9Nw10ur6bjJi1grNFOCNd7bpyOfSfeBQAcY4B1kImrfvpGDE/+694NnXpM1NvaTP4LE6hQk0XXljT7XkJZfpYPLqHYI/3QNTFinkXd9ngGDVI8TI9bcMTFi4sHjXUbmuV3/BJw/Yctfjc862A9L5zkF63ITlT0vv+8cIU8FMfTI9e9/4uUL4ERYkDJn+hABdlGvyquek4+33JlrU4D1vSn8btPn0x2PFMgUCUMCgLQCRYnUXg7ZYrbnYLXcooC0l2LDtf8NlMFoYtMXu78tKbgoYtMVxGzBoi+PK9emtGbSFBqyCgbKzHWvQ5tMfjxXLFAhAAYO2AESK1V0M2mK15mK33AZtBm2x23qt5KaA/xUwaPN/HaW7hAZt6ZbODkynAgZtBm3pbDp2mClgCgSggEFbACLF6i4GbbFac7FbboM2g7bYbb1WclPA/woYtPm/jtJdQoO2dEtnB6ZTAYM2g7Z0Nh07zBQwBQJQwKAtAJFidReDtlitudgtt0GbQVvstl4ruSngfwUM2vxfR+kuoUFbuqWzA9OpgEGbQVs6m44dZgqYAgEoYNAWgEixuotBW6zWXOyW26DNoC12W6+V3BTwvwIGbf6vo3SX0KAt3dLZgelUwKDNoC2dTccOMwVMgQAUMGgLQKRY3cWgLVZrLnbLbdBm0Ba7rddKbgr4XwGDNv/XUbpLaNCWbunswHQqYNBm0JbOpmOHmQKmQAAKGLQFIFKs7mLQFqs1F7vlNmgzaIvd1mslNwX8r4BBm//rKN0lNGhLt3R2YDoVMGgzaEtn07HDTAFTIAAFDNoCEClWdzFoi9Wai91yG7QZtMVu67WSmwL+V8Cgzf91lO4SGrSlWzo7MJ0KGLTFDrQNGzZMFi5cKNu2bZNXX31VPvzwQ/nhhx/kt99+k//+979CXfK2lylgCvhHAYM2/9RFyEti0BZySe2EZ1HAQdsff/whP/30k7Ru3VqyZc8hs7bus7dPNGjQ9Ao599xzZcSIEbJ48WJ5+umn5fDhwwnQ9vvvvxu0naWd29emQLQUMGiLlvIRuK5BWwREtkskUsALbf/617+kTZs2QjvMkjWrvX2iQaZMmSRPnjzy8MMPy7Jly2THjh1y5MgR+fjjj+XHH38Ug7ZETdr+MQV8pYBBm6+qI7SFMWgLrZ52trMr4IW2n3/+Wafe+vbtKzfffLN07NhR2rVrJ1dccYW0bNlSmjVrJk2bNrV3BDVA8xYtWki3bt1k/vz5sm7dOtm7d6+cOHFCPvvsM7WOeqHt7DVue5gCpkAkFTBoi6TaEb6WQVuEBbfLqQ/U//73P6Fj+eWXX+Sbb76RU6dO6fTbrl27ZMOGDfLkk0/KvHnzZNasWTJjxgx5/PHH7R0BDdAazefOnStLliyRtWvXyrPPPiuHDh2S9957T7766iv597//LUxtU4fmz2Y/aFPAfwoYtPmvTkJWIoO2kElpJwpQAWdp+/PPP+XXX39Vx3YsOO+8847CwfPPPy/bt2+XTZs2yfr169XSAzzYOzIaYFnbuHGjPPXUUwJE79+/X9566y355JNP5LvvvpP//Oc/CtwGbQE2eNvNFIiwAgZtERY8kpczaIuk2nYtpwDgxupDptmw3Hz77bcKBVhzjh49qvC2b98+eemll+TFF1+0dwQ1QHO0P3jwoPqxvf322/LRRx+pRRQfROoM4Aba7GUKmAL+U8CgzX91ErISGbSFTEo7URoUcNY2OhfCR+DbhhXn888/V0B4//33dToO6xvQYO/IaYDm7777rpw8eVJXi2IFBaoBNiyj1JkL95GGKrddTQFTIEIKGLRFSOhoXMagLRqq2zWBNmdtc+CGfxshQL7//nuFhK+//lp9qPCjsndkNUB7fA2pC1aLYg0F2PBlc1Y26s9epoAp4D8FDNr8VychK5FBW8iktBOlUQFnbcNqAwgABFjdgAP8poA4e0dPA+qAuqBOqBtnYTNftjQ2dNvdFIiwAgZtERY8kpczaIuk2natpAo4cAMEgDcHcHQ69o6+BsA0b+qFOjJgS9qC7X9TwH8KGLT5r05CViKDtpBJaSdKpwKAm/ft4MA+z0CSH3Tw1k86q9kOMwVMgQgpYNAWIaGjcRmDtmiobtdMSQEvHNjfiWE22nqkVGe23RQwBfylgEGbv+ojpKUxaAupnHYyU8AUMAVMAVMgqgoYtEVV/vBe3KAtvPra2U0BU8AUMAVMgUgqYNAWSbUjfC2DtggLbpczBUwBU8AUMAXCqIBBWxjFjfapDdqiXQN2fVPAFDAFTAFTIHQKGLSFTkvfncmgzXdVYgUyBUwBU8AUMAXSrYBBW7ql8/+BBm3+ryMroSlgCpgCpoApEKgCBm2BKhWD+xm0xWClWZFNAVPAFDAFTIEUFDBoS0GYeNhs0BYPtWj3YAqYAqaAKWAKnFHAoC2OW4JBWxxXrt2aKWAKmAKmQIZTwKAtjqvcoC2OK9duzRQwBUwBUyDDKWDQFsdVbtAWx5Vrt2YKmAKmgCmQ4RQwaIvjKjdoi+PKtVszBUwBU8AUyHAKGLTFcZUbtMVx5dqtmQKmgClgCmQ4BQza4rjKDdriuHLt1kwBU8AUMAUynAIGbXFc5QZtcVy5dmumgClgCpgCGU4Bg7Y4rnKDtjiuXLs1U8AUMAVMgQyngEFbHFe5QVscV67dmilgCpgCpkCGU8CgLY6r3KAtjivXbs0UMAVMAVMgwylg0BbHVW7QFseVa7cWFQX+7//+T7zvqBTCLmoKmAIZVgGDtjiueoO2OK5cu7WIKeCFtP/973/ifXu/i1iB7EKmgCmQYRUwaIvjqjdoi+PKtVuLiAJAmYO0//73v/Lnn38merONN/uwr71MAVPAFAinAgZt4VQ3yuc2aItyBdjlY1IBr/UMGAPU6Ch///13+e233+TXX3/VN3+zje/Yx4GbOz4mb94KbQqYAr5WwKDN19UTXOEM2oLTz47OeAo44ALAsKDRQQJnBw8elC5dusiiRYvku+++kx9++EF+/PFH+fnnn+U///mP7sO+XqubWd4yXvuxOzYFwq2AQVu4FY7i+Q3aoii+XTqmFEgKa1jO/vjjD/nqq69k+PDhkiNHDuH3lDlzZrnqqqvkpZdeko8//li++OIL+fbbb+Wnn35SeMPyxrEGbzFV/VZYUyBmFDBoi5mqSntBDdrSrpkdkfEUANiwrHmta1jPdu7cKRdddJHCWtkLq8oDUxbJpa3bSeYsWaRw4cIyZswYOX78uHz44YcKb99//71a3rDMea1ubto04ylrd2wKmAKhVsCgLdSK+uh8Bm0+qgwrii8VcMCGZcxZ17755hsZMGCA5MyZU7Jlzy7X9R4gaw99KE+9+a1sPval3D9hrhQ4r6hkypRJLr74YtmyZYu88847ann7+uuvE1ndvPBm06W+bAJWKFMgphQwaIup6kpbYQ3a0qaX7Z1xFEg6HUpHyAKDjRs3Srly5dS6VqVOA5myZpdsPfGNAhvQ5t7LXnxbWl3fTbJkyapwB+Th9/b+++/LZ599pn5v+LtxTqZZbbo047Qtu1NTIJwKGLSFU90onzua0OYGRftMHIzVT3pEuXlG5fJOfzcVinUNPzSmOLt16ybZs2eX3PnyS897Rsi61z5OgDQHa95PrG4jZ6+UkmXLq9WtRo0asmzZMnnzzTf1fPjDsVjhl19+SVhlavAmiYITu/qwT3/1E1H5cdpFA1LAoC0gmWJzp2hAm+t8nY+Q+2Swsnf0NXD1waerKz7j/eXu1d0/bRELGEC1YsUKKVu2rIJXzYZN5PENe1OFNS+48ffyl96Ra7reKlmzZZNcuXLJLbfcIvv27ZOTJ0+q1Y2FCv/6178SrG6AoiuHK1e868/9uXt1986n9QnR7xOoA2+d8Lerq4zQLmPtHg3aYq3G0lDeSEOb+6G7zpjBiQbG4OjeWDXsHXkNnP58Uifejpp6i+dXcu2SNshUZvv27XVFaN78BeXOERNk89Ev0wRsDuCYQh23dJtcUKmaTq1WqFBB5s2bp1a3Dz74QL788ksNE5JRrW7J1YG3TfK39QvR7xfos13f4OosnvuGWLw3g7ZYrLUAyxxJaHM/cH7w/PDphFlFxyCFbw+WBsIi8GbKyN6R08DpTh1ktLhitEtnRXAPEbS9mTNnSpEiRSRz5izSqMVVsuDZ19IFaw7a3Oeagx9IpzsHSa7ceSRr1qzSuXNn2bNnj7z77rvyySefaHgQ6oHVqfxGKJMrH2WNx5erA/oGBhzgjPv/97//nahfsL4hcn0Cv4Gk/QJ9NT6Y1I+DN9evx2O7jNV7MmiL1ZoLoNyRgjb3w2bwoTO+/fbbpUWLFtK8eXNp1qyZNG3a1N4+0GDatGnC6kZCU3in67xP1gE0q5jYxdsmHSzwEHH06FFp3bq1WtcKFSku942fI5ve+CIkwObAbeuJr2Xy6h3CQoZzzskkZcqUkalTp8qxY8cEqxux3agDoIUB0mv5dOWOCZEDKCT34yzvR44ckSuuuML6Bh/0Bd4+mTqhblg1DczRLl3Ymnh/oAigCftuF4M231VJ6AoUaWhjcMR/p1ChQpI1W3bJX6iwvX2gQd4ChdRfq02bNupnRVBYnOR50ubJmk6AzpkBNh5eDny4J2f15V4nTJgg+fLlU2BrevUN8sSe4yGFNQdt7nPD659Jr/tGq9WN8CDt2rXT2G8uPAiDJOXyWt3iDaAdtNHGpkyZolPHufPmt37BB/0C/TMWYcaJuXPnyunTpxOtfHYWt3jqG+KhfzNoi4daTOEeIgltboDEkgO0NWh2pWw6+oW9faDB4t3HdJDE+klYihMnTqjFB2hgupTOGViIdWjzwprXuvbyyy9LgwZYvc6REmXKy4hZK2TL8a/DCmwO3PB1m/PUfql/eWu9PkF5x44dq5aNU6dOyeeff55gdXPWDS+4xUOdcD9MBU+ePFk1eHTJZusXfNAv0D/f9cgMrRMeaF5//XWNN/jpp59qm2S6NN4e6FIYKmNqs0FbTFVX2gobSWhzHTNTPwULFlQ/ITdw2eff8b2iocXSF96SAucVkcaNG8uzzz6rKxsBN3ysyKGJtc35VsUqJFBuHhzcwwOQ4FJQ5c6dW7LnyClXdeoty19+NyKwlrSeNx75TPqNmiQFChdVSx9uA1u3bk0Iyuu1unktHLFs5XB1QtsCSCdOnKiAMH7ZtqjUQdI6sf+/lXvHzdY6GTFihOzevVtee+01tcazcAYXCvdARzu0lz8UMGjzRz2EpRSRhjZ+4AQWNWiLLqQlHYwctGFtWrVqlTzzzDNy6NAhwdIDLMTyEzVg4ODAa13D+d+loCpTsYqMXbgh2SC5SbUK9//zn3lVLml1jfq6YZEeMmSIvPHGGzo15XzdsH7Gg9XN1QvQxoPB+PHjDdo8AZrD3dYCOb+DtrvvvlsDSz///PPqe+ke6GiHzvIblkHKTppmBQza0ixZ7BwQaWjjB86P3aDNn9BWp04dmT9/vnbOJDzHt4onaiABy1SsWXUcFDCoAAY8NAA+/fr1kyxZskiOXOfKDX0GyvrDn/jKssPU7OBJC6Vw8VIKMfXq1ZO1a9fKW2+9JR999JFaCHEIB6ad1c0NnA5SY6EXcvXDIMO9jBs3zqDNp9DG4rGlS5fK008/rdY2Fsx89913iazwsdDmMkIZDdriuJYjAW2uY2ZQAdpwcjdo8yfgmSUkAAAgAElEQVS01axZU2bMmKHWNixRRO7Hp4ppkFiCNtfmgEzanYMCUlBdeOGFck6mTFL1okYyadVzwkrOQCwO0diHhRCtr+8qWbNmkzx58mi+0/379581FVaswLWrJ+qHFYmPPfaYQZtPoa1Xr16yYMECzaN74MABbYMsKmORDA9EsdLm4ng4T7g1g7YEKeLvj0hDG1MgBm3+AjZgxE2PkmaJ0BPLly/XVYzHjx+PKWgDAhwIeK1rWHe7d++uKahYDacpqF79yLew5gXELce/klFzV0vx8y9ISIVF/bhUWCzs8Vrd6LBjxerm6sqgzX99gmuDbnq0R48eMmfOHLXCv/LKK/Lee++p64RBm/+4wKDNf3USshJFA9qY3jFLm786aQdt1atX1xV85MfcuXOnAG34IMaCpc0LbDz5YxlkQOFeSpcurRacOpc0lZmbX4oJWHODpvtcue+ktO9xh1rdcuTIIX369BEGT1JhsZqPqSqmsXkw4t6d9cPPFhCDNn/1A66teT8dtPHQM3v2bNmwYYMuVDJoC9kwHPITGbSFXFL/nDAeoI2k3YMnL9QB7eZ7RwoR572dTnr/Xr3/lNRqdLkseO6w4Bxet0kLWbHvZMK5txz7SuY+fVA2H/sqYVt6rxXMcZ37DZbbho4LqgxJoQ3flR07dsQEtHlhzWtde/vtt+Waa65R37X8BQtL31GTZOORz4PSKZh6CsWx+LqNX75dyletqRBKKiwGUlb6ktA+XKmwaA/kSnUvFqksXLjQ/ZvuT4O22IK2WbNmyfr16w3a0t3iI3OgQVtkdI7KVWId2lYfOK3x3irXqic97xkp3QYMkVUHTqU4MM/Ztl/GzFub4vfegXXFy++qo/qsLS/LjE0vSp58BXQa0e0DyBExf/bWV1I8H3kqAUoShrvjQv15edvr5dqefYM6f0rQRoR+P1va3KCPNclZ1whGC8gUK1ZMMmc5k4Jq3jOHAtYHMALuiJ/m6mrV/lOyav/7Cf+77en9ZMoTzdMLkbTxTnfeL7nOzaNTvp06dRJW9blUWKz49Wa0CNbqhq8ZUfHRm9eNN94oo0aNCrrPcvVn06P+hTevpc2gLegmH5ETGLRFROboXCTWoQ3fpMq16su6AP2T2nbuI606dAlo8D0btBF4csqanakmENdz5Mwls7buC+ia6YGAjAhtDPZuwHcLDVjkgsWpVatW6vtFNHdSUKU1wfvDizZJpZp1Zb4n12ibm26W1td3C1kdLnvxbSlcvKRMWP50UOecsmaX8MDC7/j8888X0pChAZHrWSVLjD1vyiEHbw6+Au11gMGSJUtqwGV86CpWrKg+TYEen9J+rg4N2gzaUmojtj3tChi0pV2zmDki1qGtZNnyaslKDnamb9grLa7tLO263S5MdT68aKOUuqCilDi/nFzT7Tbd5o6bunaXXHljT2nSpoNGw2f72aANK1/7HnfKvKcP6RvLR9+Rk6RB0yv0HEAdPkgu4figifN1gB45e6U0vqKd9B40RqO+rz30oVzd5RYZPW+NXNe7vzy+8QXpcfdw6T3oIQ1A/PDiTWr1Wf/aJ2pdIYZXt4FDhOMoZ0aCtqSw5qxr+HMRLiJXrlySJWtWad7uJgGMvNYyV9dn++x4271CWq/7J8xLACq/Qhv3QjujLZH6id8zU8LPPfechmthAUZyQXnTulABSybnnT59ujzxxBPSoUMHheb3339fbr31VrnjjjsUEun4yN3au3dvYbUh4Jjay6DNv7DmfidmaUutBfvzO4M2f9ZLSEoVy9AGVOU8N48Ck+tg3CfTkWUvrCrDZy6X5u07yXW9+usgfmnrdgpV0zc8nygJ+Kwt+9Rqdv/4uVKwcFFZuOP1s0Ib01vnFSspE1c8IxNWPC05cuZS6ALeipY8X683fuk2yZY9h4Ll4l1HZcKKZ6RclRoyaeWzUrFabXlgyiJZ8fJ7emy5yjXkjhETZNSc1ZI9Z07p0m+wXN97gJ6LOGIbDn8iAB9WO+6tzwMPZyhoSwpsdExY14gn16hRI7Wulbqggtb55mNfJgCXaxOBfOKnyGIFrGrXdL014RxeaMNnctMbn8vKfe+pFQ8wXPXK+zp96iCRKVYWDpBdgb/dtZkWfXLvCVm0840ESxvTrm6aFADj/7SGIeG6M7e8LPUuO2NlZGr4oYce0lRYWN1CkQpr3bp1cvnll8t1112nsbpY8EBcP4Ix33fffbo6l1hrBCwG7PCB4//UXgZtBm2ptQ/7Ln0KGLSlT7eYOCqWoQ14yZu/oCzZfUxWHzglDKy8sVTd89hsXUSw9fjXMm7pNnXc3vD6p5La9CgDH9OsTKuNnrs6zdCGzxsD8vIX39FyTV27+8w5PNOjbbv0kRtuuVsH8T6DHlJLINBGPQyZ9oRuB9oKFi6mg7f7buGOwwkDP9N9WPgubX2Nbot3S5sX1ry+a1jXhg0bJqSgypotu6agQi8HSOn5XP/ax1K4WEkZ9vhSubDmRQmWOi+0oXfX/g9K0VJlZOFzr8t9E+ZK5dr1FcYfWbxJr99v1GSpc2kzuaBydbWO0raoNyCcumWBS76ChXR6tOk1N8qdIybocQ8tWCd1m7RMBHppuQ/gD2tvvoLnJaTC2r59u7Aog1A7TG2mloAerVN6ff/993LBBRdI3bp1dZUqq4tr166t4EzmDECRa5QtW1aIJRfIy6DNoC2QdmL7pE0Bg7a06RVTe8cytOFzxJTQop1HBCB7cMpiHUhHzFyuFi+sXZde0U4tJ0VKlhacyVOCNqbSrrqpl1Sp00CyZs0qnONs06NJLW3Anjqsv/K+Qtvk1Tv/AW3V6l0iFarV0nJVrF5bLrq0uVraqAesewzQQFvx0hfo9CdWHb6b99cq1YFjp0v1eherha9R8za6fzxDmxvUgTWv7xorW4kphzYXVKoujyzerFqkBXCS23faut1SsXodmbv9oFo4V+w7k4fUC21Y4rCwMp1NvVBXtEGmU6vVbSRY01jRzAPD9PXPS5YsWdXqOnHls9ouFjz7mjBVnjVbNoW2m+8dJY2aX6Xl79r/gUQWvuTKGMi2RTuOSJM212oQ4Xz58sngwYPl8OHDmpbMWd2SS4WFzqmBGwse+vbtq33clClTpHjx4roooX379loXhFgh7Rb+dVhAz/Zy9csgkxGC67J4aW2A/reB1HMk9rHp0bO1Yv99b9DmvzoJWYliGdo2vP6Z5MqdV8YtfSphwC5ftZYCV7vut8vFLdvK7K379I3fGVNfyUEb01f4obECEz8xpkfDBW04jXfuOzihXIt3vhEwtDGVen75yoLV7fpbBkq8Q5sb0F0YD2KPEY+MFFTEKSNI7g233CXrXv04of6DHcRuG/qYWj9J3l72wmry2BNb9dxJoc2t1r1/4jy5sMZFsnTvmwpgBMB1Ced5EADASZXFgoHudw+X+k2v0POdAf4SegwwV6xUWX3woB06i2uw98JUKyuXi5QorVPH9evX11RYWN2Ilei1ugWaCosAqwMHDtT+Bx/CJk2aaGot0mvxBvqoJ7JqFClSRLel1lm5Oo4ktD0wZbFUvaihVKndQLB8A9HBap3a8d6pbuqCQMlJ979zxET9XSfdHsj/TInf/fCMf5wzkGMD2cegLbUW7M/vDNr8WS8hKVUsQxsdDk75bW7qlTCd5KCt78iJUqNBYwU1b8cEtLW8tnOiDm7pC2/KeUWL68AKwIUD2vA3ohwsjOjQq1+i6/89BZq6pc0tquA8N952d8xCG+BFp5LSi4HcDebOuoZv1KZNm6Ry5cqaSJ3pSHwJnQ+Zt46D+bvp1TdItboXqw8klto+g8dqXSWFtp53j9Dt3e8aqosWaje6XNtbtXoXayiPB6cuFtoiCyLwaQTarurUS1rf0F2P864eXXPwtJQqV1HDyhQrXUaW7DmWqH0Ecz8cq6mwbuiuCzTy5s2r0HXw4MFkU2FRL26RQnJWNy+0bd68Wa2dWNeSvqi/q666SlezJv2OxQn4IvJy9RxJaOs2cKhQT3O3HZCru96qU9gr9gU3rZ5SHd31yIz/3955QElVZWt4AEFylBwFRFAkiCSVIEgWVAQEkaSSBVFByUlEsoBkEJCcEUFUFLOigKDojI45g44zjj7nzbict/Zb38ZT3i66G7or3Vu9a627qurWDef8+9xz/tpRq2+43wsXK65+qe67e0f7TqCU+56Rd/4IMt9l5JyMHGukLXwE+/+7kTb/yyjTLQw6aZuz+RldNPEVYtIrWa6iaskeffa4FCleUu6atlAwFZEEl4mKRZbEpORdcxMXpiwc2G8bNUXun7dacp2fO2qaNrQd+Bf1vXeSOqbzL5si4A+ueVxNcGtfeO+cNW3dB41U36nFT7wuVS6pHVjSduedd+qCTpQhi7b35RZxr3aNPHFkY8dsnTtvPs3HhzncyS9a70TnVqhaXe64f5pqyNre3FeuatNJiWFapO32+x6Q2o2apWjLtiOfS8EiF6gGmAAFfB0hbTf2u1PwX6O9XtLG9ybtbtDFvVqterLzePQTAPNnBHMuzwfPPJUvKIWVVgF6L3nzyshL2vCNK1u2rGrVSOyLBg8C98orr2iVBu6xd+9er3j185w5c+TKK6+UF154IWGkjUTZ4A7WPEt3Tnk4JEP+CJxNBgQGMV7Cx54LKHH7W3fpJW269g4d50jbljcJZvk2tN8d731n7HiDWPiNcR8+9mtecaXcM2NputfyXjejn420nTGEfb/DSJvvRZT5BgadtDHBztv2nLS8oYdqSNBs4GfExITZqUm7GzWiDjMR+zBjsa/1Tb1STJrT1+6RBte0lVuHjVWTG1oc/Mmatr9JiPrEZ6lFp5tTJFglyq91l976j52kvdfeeIv6q2x983PVqGGS5Z7kCsMPatLSLUoAMHNiBmt8bQeBdHIfggpYyDl+3raD0v7mfuIWBn5b+/y7GqHYrvttgjaIRQaNAcdDHO6a9oh+5ntmNsx1LCiujJWriBCL5LqYNxl3OXPmVK0PmjdeXsLGpIPP1dq1a6V06dJ6fN2rrpFFe16LunbN4YW8ChYtFsr59+Dqx+WCkmU1gCAt0vbQur0aBbrxtT8qZfCHgf6tffE9lVuu3HmUtN0zY5lq1AhIoJRW3vwF1DzK/Yc/sED95G7oE1mSZNeXtN7xueQe/DHJlSuXpuXA94ySRMiBAuDeUlhO6+aI24IFC2TVqlUheZETDiLXtm1bWbZsmZbSGjBggKYHeeSRR1LVqELawAcS3q1bN00IjEk1Xj5tPDeOtIFT59uG6TPF54W7X5bqdRpoUAkRxOEECQLWrEMXKV+5mgYsOe0YkcKNWrSTqjXrqMZ1zfMn5N5ZyzXYhIATglq4Ps9Y45YdpHiZ8uqLyXPH/qo168qwBxYIgTD4xjKPkbj7soZXC24gHDNxySYpVqK0lKtcTX1hmavYb6Qt8+tfsp5ppC1ZJSuik2fXrl1j2kPvYkyaAPxprPZo5sgVk3QstkSQNhZuNpK2khSWRRuSwAJOMlec21nYWcSIiAxfQKONw+h5q1WT6a5L2hgqDqx69rhGJbvkuhBwZx6lTQ1btJN6V7dUDR3kC20L2pvmHbvKtZ1vUXLmglJI1dK0/Y3SqGUHXcBdcl0c1Mkvd67VOlwbM/NOoMT0tU8oMcmWLZtcdNFFsnTp0lAprFOnTqWIMA0nbpFOFo60OfkzF0yYMEHnBSovsH/Gur0xGefgFU7a+o+ergEk/Ebkbu+7J2ogSfkqFwtmbi/GjAFS9kDKcLVo2KKt/omgEgtkjPGA3HGBgJy3vLGHjgHS9XAdSFvHnv3VhF7uwotk6OR5up9r8kcM0vanbNmEyHL+fHI8xJA/dhzP+Fr8xGtSpHgpjWDmmkbaIh2RyXe+kbbkk2moR0yQRtpiQ4S8k73fPzvSVq1aNRk/frySqI0bN2rR+CNHjqjp69NPP9WUDiRsRSuT2a137966MLtF273Xq1dPzWkQiBIlSugxBFtAaOKBH4vh7I1Ph+7Foot2dN3L7wvJl+duPqC/Ydr2li7DTDZu4XoZOmmuppuhrWhG73rwEVmw4wWZunKHXoP9qw+ekOEPLNSFl/1EKLOfexe+oERIqxKP/kIEyCmI1g1y3L17d82/RhH6Y8eOqcxJ5REtubvxwvhyMve+Qx5btWoVd9I2YMxDGjWOyRJXBuc6QcJriJlXFpA2TJ7sQ46Vql2ipO3Seo1l2JT5up8o4gurX6afUzOPEuTE+WjQu/QfoZ9TkLY//UnbgPmUyhxDJ8/VKGTkRIAM5xJ1TtoZPtdu1FQIruBzLDYzj4aWy8B8MNIWGFFlvKFMmkbaYjPZxWICjdU1HWnzLqIJ/Zwtm2oViPiNVZ/9cl38p0jPgc9iItqEe0HREqdN0AmV+e+aV9qAu0KssAjXtHUfPFJ9F0nzAmlzfxIgtLhMeNsBaSOghH1e0oaf6pj5a3X/5GVb1CzKMamRNhJk85uStjtO52wMJ21EvXtJG0nCi5UsHWrLFU2uDZE2qrjwB8Dbzmh+NtKW8XU10WcYaUu0BGJ4fyZII21G2hxpK1asmGa9b9OmjXTu3Fn9lfr3769pNoYPHy4jRozQ7e6775bMbrVq1UpV05IjRw5NIXHJJZfo7+SxQ6sV7owdzQXJD9ciBQzRsE7rFs824avZ/LoumkuOyFKKwjMf4Kd2++23y6BBg4TAkbvuuisqsmfMUFUhNXKIqZaccvzmTeMTbTy8pA2f2CuattKycWuef1dJ25K9h5QA4et2TaduKchQWqQNs/fI2Sv02HEL10npChfq52iRNp6DfAULhSpleEkbhM7leIw2VlzPSFsMF+AYXdpIW4yA9cNlg0LaqH7gEpDyD3Tjax+lmEzDJytMFD0Gj0r3mPBzovF96oodQo64s0WGReNe0byGI23xDETwLtxVqlQRgh8ocE49S4IVcJQ/P08erd9Knddo9tdP15q96Wn1kYpnm4hqZjEuWqKU5nCrXr26TJ48WbZs2aIm8bfeekuLzlO3FF9DFgGXAsQFJWR2/gr3aWMcEGwya9YsNc3zPV4+bWCPlpH5Zfc7p5RsjV24Tk2edRo31yAfr1zSIm3Nr+sqnW+7U8coJJzawpxHOiL82tw18FHLjKZtzcF3NJE49ZQJULrw4ktDmjYIm6tD7O4TzXcjbZkd6Yk7z0hb4rCP+Z2DQtpw2KZUEZMRkZKlK1QOTYSpTVA9ht6n/6BT+y2a+zDf4ShM+Squi8mEmqLhof/RvGcsrpUo0oZmBbIAWWOiIR8bEYz4UZGSAjLBGCWPGSkrop2XzYsl/kLeKFDvb8n0GfMfDvTgSgmwjh07ColylyxZIps3b44raSNJMsl68ZOMZ/RosVJlNF8jJcsIcnHyxS+R0mPdBt6j6V9cRLf7PS3SBvkjrx8BCWUqVdHIdc65c/LDGkjj8v1llrRRXYPghtLlLwwFseDTRuBD2UpVpeew0aE+uLZG691IW8yX4ajfwEhb1CH1zwWDSNpIhDln0x8O46lNTvEibSRGLVi4aGiSNtJ29rHttGg9evQQ8nuhwWFjoiHPFzUuqWF54sQJefbZZzUtRd68eSXHeTnl2ht7aORdajKPdB/Ro6RyiPQ6aZ1PXVuNLk0lD9uY+Ws0KhEzaawiSFngqfhA3jhMkTVq1FDCNHXqVA08Wb16tSYwJn8aqV6I8qa+K0Qa2URT04YpvH379nL8+HH57bff9PrxIm2kWxk4bqb+wUJL5f0jgCmeP4ho6lNLuEtAysPbD+oY4dypK7br+VyDtD93P7REfeLcNfnzhrnURaFOWLRRyM3IGJm14SlN/cJnfNJWPH1UI07JFUmQCG2hli37OYbAmGmrd2uwS90rT2sBuc+U5dtk5e/HpDX2ItlvpO3sc5rfjjDS5jeJRLE9QSRtTI5dfnfgRfty35yVaioglxY5spigHGljUhs1Z4XcO2Op7Dr+jSahJLdaeDJK/skyIV53yx0yYOxDsuPo6eStkDDu0fHWgZrPiTxX3gmQf7hkvMeRfNTsFboQVL64pl6DygsuEo12PLL7FS2b0/eeSZpSwHsdTCZjHl4jtw4fK2269dG8cPxOdvzuQ0ZJmy69tLyR8+8iRxzagE69Bgp53yhwzvHUNSRdAGYZTD7ee6T3OZ6aNvJ8HTx4UNN7MJRdShgWbzLlk7T15MmTaialXuZzzz2npAJfN8hGybIVtM8sYun1KaO/3TdnlZQqVzGq1/S2QeuZlq2gWlnM++173K6Jnzlm2f43dayQgLdMxSpCgl7vuZF8ZuxhVqvVsIlWkyhUqJCmUxkzZoxMmzZNsUUm27dvVy3bm2++qXnbqFzw448/Cml6vKQt0ulnx44dQjUFUrs42XP9eJG2SLBM5Ll/PPsfS5mKlWXC4k1RGyPp9ctIW6QjPv7nG2mLP+Zxu2MQSduUFdtVW8BE02PIKE2V0HvEeMEHhbJWuv938+jq597RJJULdr6o0V1EaT209gnNU+WdqCgUfkGpcqrlYHHjevx+VetOUqr8hTJ44mwhb9PNA+9JMVFiGiWXF7meiPiC5EHiiDyjkDuaE6ID+XfNRDtmwVohSWy/kZNTXKdr/xHazh5D7pP6zdtIrYZN1cSKo/jo+WuUpBDZRjJe2kWiX/rLdfIVLKx1U9lPmgLI66DxMzV5J9UevP1M63M8SVv44HYLt8vR5rRtVEIg6SspRyB527Ztk9tuu01y584t2bPn0CTJlGhKq08Z3R9r0gZ5wh+Jdq146qg6vVNKydtOzGxECSIP7/7MfiYxK4731GnlWa9du7YGFkycOFFmzJghJMAlgTElwiDHhw8flvfff1/TuaDxRMsGuXK52sJlF+l3J3sjbekHQzF28JkjBQkpPsjNhuY0s+MiI+cZaYt0lMf/fCNt8cc8bndMBtJGjiQmNbRVJcqWVy0WmjYKKaNVg0Dxe68R47USgfvH6p24ruvZXyhbxD4ckUuVq6SfIW1ordjf556Jcln9q1NMlJhHCxQqksI8WqHKxZokc+HulyRnrlxC/qeB42ZIw5bttB1Ee5F13Xt/SBtkkcSnFJHPkeO8FBFhtJ8SR3eMnq4VGopcUFJzgLG/XpOWStpw1i9YuJiaSnCqZvF3mj7vvVL7nEjSxmB3izfaNoqXQxbwc0PbQ2AC5rpXX31V9u/fr75Xl19+uWrd8hcqIsOmzj9r2aHU+hy+D9JG3Vlknjd/wZATOjnXKPROwlxkRGJVcrARGLP7nZOC9vXCi2tqWTJMWWTbL1f5IkGj6h1rYMx+crLVatBEsufIIZVJqjr5dAklHaN3jZPLr2qR4rzwdp7Ld66FmY/r84wTFUz1gXHjxql2bd68ebJixQr1YXvyySe19BSmSrD+5ptv1ESNDFwheWcajfbE5ORupO3spA1NLWZb0qFgNTiXcRCNY4y0RXvUx/56Rtpij3HC7pAMpI2SUExO+IUUL11W/UEgbSXLVtQ6n86HBLMqzsKdeg+SbYdTaqDIct/v9+LgFHc/P3ce2fLmZ7qAE/rP9fuPflBqhJGt1EibC0Qgozn4ckzbrn3Usbn1TbcqcSxRtkKKSRfSRkZ17kNwA35yhPmjmelz90Sp3biZ5MlfQPreO1kLpRcrWUZrmXI8Gr3rew+WuVufVY0KKRxwmMZ3afLybSnuw/GpbX4gbW4Bd8QNjRum0u+++079q6htiSYIrRumvKFDh0rRokVV60bahoyYg1PDANJGsAuL4ogHF2ntWjSVRALjkI6fEcXkcTbnXhC7rYc/k4W7XtQoTORGdQS0rsufOqLlrXh394L85S9UWP2YFux8Scn+vC3PhhLqrn/lAz1n9sanQue4czPyvvHVvwq1eBnDJM2tX7++pusg4GPmzJmyaNEijdRFu4bPIOZQapDiX0g1BEyiYB9O2JBPtF9O5kbaUn8uMyL3WB1rpC3aoz721zPSFnuME3aHZCZtaJooBE+0KZoHJrVFj78ilS6+RM2Ibh/7L2twldx23wOnj9nzquTKnVs1KGhdokHaqCVIzVNqmrKR0NQ7yYaTNko3TV21Q7WEaNLQ4FxyeUMlbQ89tlfrVG7+3b/OkTb2k1UfHzx3n3AfPO89vZ8TTdp4AFjA3SLuTKX4uOHrhEM8GiA0QRSapyg5WjfqXTZu3FiyZ88uaN1uHzU105G7kLbipcupXDBbIgNHutCAQrqubN1Rml3XVbW5aHXnbDmg5YdIcErZK5Ksot0kEhXN6PhFG0Jy9pK21Myjve+eoDVrvdo5r4zO9pnzHly9W4MpeK6pKtGzZ8+Qdo1SYStXrgxp16g5inbtww8/FEzRYJxW3dFYEDYncxeEYj5t/iRuRtoStjxn+sZG2jINnf9PTGbShvZl5KzlGoLvTcGBX1iJMhV0kXULIcXer/+9WPeUFdt08eW3aJE2rU14bYcQeXT3de+QNsy5fN/8xieSI2dO1cjgR+dK1Fx6RWMlbTitY8Zb8sTrejyFqtG0YbbLV6BgpiLJ/EDa3NPiyBvELTWtG5GlaN3wdXv++efl8ccfl3vvvVeKFy+umk3IbTgpdjin9+71aVu27w0lbWBN0AdkrUad+qotbXZdF5Vj0w43aTQmWs0hkylh9YLkzptPql5aR2rUbSCYyTGFu3uejbRR93L4tIWh49155/KOJhBtLibXnDlzSpMmTWTkyJGaToX8Z4sXL5Z169ZpAACaSjSWYEiEqNOuOXMoE77zYYsVWfPK2kibP8maG3dG2txoDc67kbbgyCrDLU120oaJk0LLaNuWP3VYVjx1RE1fLKzbf48QZXLCH65U+Uqy7Mk3pVmHLkIUH/vPRtq2Hf1SAwzwd2Nx96b88JpHF+56WTVBmHAJLoBguUmRd0hbgcJFZerK7XLzwHs1gAHTHD5UkMm5Ww4IfmyYR/FXwxmZbO0Tl25WMxukDc1h3cbNpf3N/croA+AAACAASURBVNTvDXMwx3rvk9ZnP5E2BrEjbizoEAgmIad1w0EeX7dPPvlE04K8/vrr8vTTT8uaNWu0diUmwdx58qmWEn/CtPocvj8t0kaZI8yemEmJ1oW0cS6+dGg5q9epL5jU8VUrVqK0kFEfszYbPm/uPmcjbbff94DMWL8vdLw7L713rj/64TVq9v/Tn7JJ+fLlpV+/fpqkluLr8+fPFyJDt27dKk899ZRQVxT/QK/vGto1sAVjSLLzX4s1YXNyNtJmpC3DC5edkC4CRtrShSfYPwaFtLEo1r2qhS5o+G41bNFeP4+Yvki6DrhbP8/b+pw0bX+jmq50/+/FmHEap0oBaT5wEqfmX7jfEBni77h/mjqBQ5IgYCyWJLAcOnmefiaXVsee/fWzW0ghStwLU9io2Stl0rKt0q5bX13gSdcBuSJ9A6YrTGXkV0Kj5vI2uetA2vCXa9LuBmnQvG2oIDl5odDAEBFKcel7Zi7T+0M+8V1jP31yJJMghladb9X7duhxxzlHmPmNtLmnCuLgiBuEgkhG5+tGtn6Ssn7wwQdCahDyi+3Zs0fNgWXLllWt20U162pJpHMxOaZF2hpf20FJNbLGJ9GRtsVPvK4Z9CnqDaGDZONHSZF5J1fve2qkzRWe59r8fq7RvlyX9DZk4ke7lidPHmnRooWMGjVKpkyZIrNnz5alS5fKhg0bVBOJRhLNJJGhaCrxE8Rf0Ou7Fi/tmpMt706+LDJmHvUneTNNm3fEBuOzkbZgyClTrQwKafMufsn42evTltH+1WnUTIMkMnqe93i/kjYGdXpaNxdh6tW6PfPMM0pWOnXqJCRxJQULGjICCbx9Dv+cFmmDzJM7bcCYh1Qb60gbRLBkuYrqh+auhcaVCNE7pzysAQne8kJe0oYGkEz2aOqICtx+5AtN0UJ6DnettN65L39EMJHz/FauXFmoD0saDyobLFy4UEiUS4oUNJBE3aJd+/jjj1VDiaYSguS0a16yFg/tmneiMtLmT6LmHXtG2rwjNhifjbQFQ06ZaqWRNn9MmhklbWgK5255VkbNWSmFihbXAAvvRJvRz34mbQxsL3FD8+a0biR+/emnnwSt21dffaV53aib+dJLL8nevXuVxFStWlXJDcRr4pJNmlYlNXzQXuIDyW+kTxkxfbH6F6JFQzNKNQMiRfF5dOeTjX7h7pdD34kgfXD145rnD19EAhLcsWjRIFuuVBbXIjJ40eOvqiZ2zILH1Dzvjk/tHdMrvpokGc6fP7+0a9dOSJJLVYO5c+dqYMbGjRvliSeeUM0jGkg0kWgkwQis0K6hsQTDRBI2J1czj/pjDkptvLHPSFumltaEnmSkLaHwx/bmRtr8MWFS0WDw+FmhBT6tCdTtJ3lu7YZN1ecOPzgqOrjfMvPud9LmngIveQv3dfNq3d577z05dOiQZviHxHTv3l1NiOTNu7bzLfLYC++lGRSSGfxifQ6JVO8YPU0T8roSVIMGDZIJEyak0K6RCgVNI35+lAFDA4n/X1raNQhTvLVrTpa8m6bNH/NPeuPXSJt3xAbjs5G2YMgpU6000ub/STO9CTVavwWFtLlB7hb71LRuFJxH60Yqi2PHjgmpLfbt26d+XhdffLFq3SiFdf/DqyNOYhst/NO6Dr5upBCp1eBqbXfBggW1wPvYsWNVuzZnzpyQdg3N4osvvihoGqkk4bRr+K6hkYxH3jUnn3N9d3JkkTGfNn/ORUbaznU0++c4I23+kUXUW2KkzZ8TZVqLeKz2B4208SCw4LtF32ndXDUFEsSSyoKEsSSOJYEsiWSpe3n77beraZFoS6KDKfwdK1wjuS4JoAmEIUku2rU6derIXXfdJZMmTQolySVidufOnapRRLOIhvHTTz/V2q1oHtPyXYv6RJLJCzr5GWnz7zxkpC2TgzuBpxlpSyD4sb61kTb/TpaRLPgZPTeIpM09G27hd1o3Jiyc7EllQcJYEseS4sJp3SjbRFUASmGRlBefwGEPLEjhf5ZR/KJ5PIEGpP6gsgbPJyWounbtGkqS6y1BhQYR/z36hnYNDSOaRnzX0K453zWwcaZQ8PLLy8nOSJt/5yEjbX55Ws69HUbazh2rwB1ppM2/k2U0icDZrpUWacMvCtIDCYAAuIXfbwOdxd8RALRuONmnpXUjsSzF0V0prMKFC0u27Nm1huviva8nzNcNUygVLKjAgXaNyNcGDRqcoV1zBd7RHL7xxhuqXXMlqNCupZUk109kzY0fJzMjbf6dh7ykjSTNaKuJSOZPAsEtBLbwvPl1bnBjLSu9G2lLYmkngrSRJ6pIkSKasPRsZMJ+j89k7khbzZo1BU3O+vXr1eQGaaN8lN9Jm3tEw8kbkxcap3CtG6WwWHhIOEtppyuvvFJNkHkLFJR+I6dEpQB9Rsbunne/k6mrdmpqEZ7JkiVLyq233qpJcqdNmyauBNWWLVvEW+A9kSWoHOaRvBtpi8/znZGxGH6sI229evWSJUuWqDmeJM1G2iIZ+bE910hbbPFN6NXjTdowWznSdmH1mpq4luS1tiUWA4hKnnz55bLLLtMs+kRcosl59913A0XaeJjCiZvTurmkvCSWZQySaNYl5aUUFolpS5UqJX/Klk2q120glDsLX8Bi8X3tC+9Jm669Jcd550muXLlCJahcklwWSkg0bQwvQeWS5Drtmh/SeGRkQkuLtHW+7U6bE3wyL1Lij3WiT58+snz5ci2FRnQyfxgwxZumLSMjPj7HGmmLD84JuUsiSBvmNpexnvvb5h8M6tevr5n0MR0SiUh9ypMnT6qmys/m0dQeHi95g8wwkfGnAed8VwqLhLNoE9EckCoDx/6WLVtq/c68+QtoSbFthz+PCXmjCseY+Ws1QS/PQLly5aRv376axsOVoHr00UdDJajQDKIhDC9BhSaRvjnC5vqdGiZ+2+clbRDPZcuWqcbT5gT/zAnIgkCYoUOH6vOBHyWBPaSTwWeU8cfYM/Oof54uI23+kUXUW8IDiZNzrF9Mzvga4WdEZB8lh1asWCGkLCAajoLfQ4YM0czut912m7BRQ9HvGz5HYNi5c2fftzUtLMGaiMqBAwfKjBkztLA46SPcv2m0ORAdJoIgTsyOGDhfN8in07q5Ulho3UiVAVElMe348eOlTJkyKtsql9SWGev2RpW4UXuWElT40qFdS60EFdo1ynK5ElSuwLvTrtEHl8aDvgVZNiz69AdT/ObNmzVQhOoOJA4mYpacdHfccUdg5oW0nrUg7XfzMLgPHz5cCTU1bNHAHz9+XD7//HPBh5I/Qm78xXodseufGwJG2s4Np0AeFW/SxoKJfxHpGFCv4xR+4MABdW5dt26dFrdGBU/dRL9v1HcsWrSoLuwNGzZUfw+/tzm19qHdAHNKH2EWhShAXtDqMDGjlWJBDSpp48F02ieIDQsMfXGBCiw8aBNJleFNygt5uOGGG5RUnZczp1zXs79seu10TdrMmkl3vX1SS1wVKHx63FCtAbJMCSq0awsWLFA5eJPkhpeg4vlhoaQPbrEMImFzcqHtkDb6hCzIL4dZ/pVXXtGqFsgBDSh/8hirqY1h2xeb+ZJ5AZ9Pgl8oi4YPKKll+JMDwSYHIM+RG4eBXASTsNFG2pJQqK5L8SRtTM4MJswgEAEmZ7QHEDc0b0wIaDnw3dm9e7fs2rXL1xvaNfBjO++88zTZqd/bnFr7wBrM0a5hImSxJIUEpBoyQxCC9980BCioL6d1c0TBad3oo0vKi4M1/SeVBqYgAgEgV5iIyl14kZbC2v3OqQxr3igOX795G9WuuRJUo0ePDiXJhXhQ4J1nANKcVgkqp12jD2yOkAZRJq7tLPruDx2aRExvkFVMwmh2CL7gz0QQ5oXUnrEg7gNrNnDfv3+/+lO6XID8meN5QQOP3JBfkOeFID476bXZSFt66AT8t3iTNv5Rs+igLeChh7ixSDJBs0jhK8HEgGnOzxtRfPny5QuRNnCsVauWLvR+bndqbQNvUkdAniErJKNl0eSfNJqPoGvZwh9RRxQgPCw2THBO64bp3qt1c0l5N23aJD169Phd65ZLcM5e//IH55QeZNfxb4Si8067VqNGDRk8eHCowPsjjzyimiSnXUMe3hJUyCCtJLnJsFDSB2SBHPCP8sqAP3WY4hibjNEgzA2pPWNB3efmhiNHjqjmnTq2EDZXx5Y/c+bPFj7DJP67kbbEyyBmLYgnaWNydoskDzvEDY0bplKSgjIZQBZwDvfzhgaKQt1g591I1IqJy89tT69tmAeJqoSsoe2ALHijEp1WJ2aDMc4X9pI3Fh40BpAGr9YNWUNkXSksUm9ccsklKvdiJcvIqDkrJT2t2/ztz8ulVzTW4wsVKiTXX3+9Jsl94IEHtMA75icIYVAKvMdCRI60OW0bfxIwu/GnjrHImCQPXRDmhvSer6D+Bu7gzx9s6tgSfMAzwrPitGzJNjfEYpzH85pG2uKJdpzvFS/SRre8k7PTbjBBQ974dw1JgMQxKfh5o2wQBM1L2Nzn0qVL6+Li5/an1TawRwYsmGh23KTs/SeNDJPp5SVu7g+FV+vmSmHh64bWjaS8+PYQuFGgQAHJniOHXNXmelnx9NEU5tItb34qPYbcp2lUSJJbt25dGTZsmAbdEOzhtGskKsX8h0YDP67wElS0hWeFtrmFMdlk4J0bHHnmTx1jEHIQlHkhrecqGfYjA+Zo5MEfOeQTPi6TaV4Iel+MtAVdgum0P56kjWZ4iRsTtCNvLE5MBGyQBb9umAVcxKgjauHv5PuCjPq1D2m1y+GPLPgHHT4pJyNZcI+Gd1w6jQ848YeCRdcVoMdUh88fPlYLFy5UMgaBL1ysuAYYzNqwXx5YtUuqXlrntDauWDHp1q2bUODdaddwqMe5PrwEFZoMtEteLQbPiJewufYm2zv4e2XgyFtQ5oW0nqlk2e+dG5gXssq4DOpzZqQtqJI7h3bHm7TRJO8EjfaARSkoG4lOw0la+Hc0MPiFBaVPqbUTuXg1O8gsK7zCiQOkAc0CWgZMxpjwXfAMqTjQupK/CtOndxygXaPKwsiRI4UkubNmzdI0Fo899pgG16Cxy0gJqqyAfdDnhtSeo2TcFz43ZJWxGaR+GmkLkrQy2NZEkDaa6Iib991NBn5+x1yGCctt48aN08Waxdvt4x0NjZ/7kVbbvPLwfs7gsAr04fTb4cOii9YRTQPmOkzI+Fnhn+SiG59++mlN09GoUSMdC5jIMYWSZ4y0MJhCXZJcovDQ1LkkuSSaRpPHeEErw73QYrj705as9vKOO/fZ4WHvp/9MJQIHJwvve1Ybm0Hpr5G2oEgqE+1MFGlLraneySAon+fOnasLNdFhQWlzeu1MTS5ZcZ/DiMUR4gaRQuvmnOQxk3tLYZGiY/78+VrknWCDVatWaX4r8othCiXQAM0cUZAuSS5/ANDguWAPJlruxT3d/bMi9qn12eFh76fNyInAITW52D5/ImCkzZ9yiUqr/ETaotKhOF/ES9rifGu7XRwQcIujI29MhuFaN6LrCCLA9JkzZ07p2bOnkjTyW+H7hikUUu+S5KKpc9o1rhUegcc97WUIGAKGQGYRMNKWWeQCcJ6RtsiEZKQtMvyCcjZEyhE3r9aNoAGCBwhUIEExpG3AgAHqr4bPGvmtyLlGLkICDdDQEZ2Lxg7NnTl0B2UEWDsNgeAgYKQtOLLKcEuNtGUYshQnGGlLAUdSf0lL6+YCFdCoUUd0xIgRoVx95LeC0Lm8d8mcJDephW+dMwQChICRtgAJK6NNNdKWUcRSHm+kLSUeWeGb07o5zRsTJEEElFyCtN1///2qfUMDR+BCannvvL5rWQEz66MhYAjEDwEjbfHDOu53MtIWGeRG2iLDL6hnh2vdMHNiDoW0jR8/Xs2fLlcfZlAXFeola1zDXoaAIWAIRBsBI23RRtRH1zPSFpkwjLRFhl/Qz/aSNyJDIW2TJk3SxMRMnJC5cL81d07Q+27tNwQMAX8iYKTNn3KJSquMtEUGo5G2yPBLlrMhYgQdQNomT54cyrOGCZUi21TRIGqUF2k+qF1LUIK9DAFDwBCINgJG2qKNqI+uZ6QtMmEYaYsMv2Q6++jRo0raqIDg1aYRPUqpK5Ls8iLdR7Vq1bT4djL13/piCBgC/kDASJs/5BCTVhhpiwxWI22R4ZdMZ3tJm7dfkLZy5cpJ06ZN1bctNdLGPnK22csQMAQMgUgRMNIWKYI+Pt9IW2TCMdIWGX7JdHZ6pK1hw4ZyzTXXCJUTvKQNf7chQ4bI1VdfLfXr1xcK0tvLEDAEDIFIEDDSFgl6Pj/XSFtkAjLSFhl+yXR2eqStTp06snDhQunbt28K0kbVhFq1amlakJkzZ0rbtm01cCGZcLG+GAKGQHwRMNIWX7zjejcjbZHBbaQtMvyS6eyzkTYS7eLL9tFHH4V82tCyUVye15///GcpVqyY5nhLJlysL4aAIRBfBIy0xRfvuN7NSFtkcBtpiwy/ZDr7bKSNvG2DBw/WwvI1atTQQIROnTrJxIkTFYZvv/1WeB6//vrrZILF+mIIGAJxRsBIW5wBj+ftjLRFhraRtsjwS6azz0baqJpALrcWLVqENG233nqrVlAABzRx+fLlk1OnTiUTLNYXQ8AQiDMCRtriDHg8b2ekLTK0jbRFhl8ynX0upI2KCAQdlCpVSjVts2bN0pxt5HOj4Dz+bWjk7GUIGAKGQGYRMNKWWeQCcJ6RtsiEZKQtMvyS6exzIW3kb1u+fLmUKFFCSRtaNUylI0eOlHr16smGDRs0x1sy4WJ9MQQMgfgiYKQtvnjH9W5G2iKD20hbZPgl09lpkTYKxh84cCAUFUpFhH379mmRefr/5ZdfKlmjdimkzl6GgCFgCESCgJG2SNDz+blG2iITkJG2yPBLprPTIm3J1EfriyFgCPgfASNt/pdRpltopC3T0OmJRtoiwy+ZzjbSlkzStL4YAsFFwEhbcGV31pYbaTsrROkeYKQtXXiy1I9G2rKUuK2zhoBvETDS5lvRRN4wI22RYWikLTL8kulsI23JJE3riyEQXASMtAVXdmdtuZG2s0KU7gFG2tKFJ0v9aKQtS4nbOmsI+BYBI22+FU3kDTPSFhmGRtoiwy/IZ//666/y008/hbaXXnpJcubMKWPHjg3t43fyrllUaJAlbW03BIKFgJG2YMkrQ6010pYhuM442EjbGZBkmR3Hjx+XqlWrSsWKFXUrXbq0lqEqVKhQaF+lSpW0ULyRtiwzLKyjhkDCETDSlnARxK4BRtoiw9ZIW2T4Bf3srl27KlHjOUptK1eunBWAD7qQrf2GQMAQMNIWMIFlpLlG2jKC1pnHGmk7E5OstOeDDz6QokWLpkrYsmXLJmvWrMlKcFhfDQFDwAcIGGnzgRBi1QQjbZEha6QtMvzSOxuTYhC2SZMmpUrarrrqqpA/WxD6kVob05OP/WYIGAL+RMBImz/lEpVWGWmLDEYjbZHhx9mpkQX2UUQ9CNt3330nVapUSUHcsmfPLi+//HIg2p8exqnJJnKJ2xUMAUMglggYaYslugm+tpG2yARgpC0y/Bwp8BKH//73vxK0bePGjSlIW69evYTo0qD1I632Ovk4eUUmdTvbEDAEYomAkbZYopvgaxtpi0wA8+bN08UarYq9MoaAIwAQAsjCb7/9pkTnP//5j/z73//W7X//93+1sLrf3//nf/5HMIfyPBUuXFj+/Oc/B6LdaeHq8EcWkE8WAUfokBeys5chYAj4EwEjbf6US1RaZaQtMhjXr1+vC/XmzZsju1AWO9tL2CAOf/vb3wQz47fffitfffWVfPnll/L5558Hatu6davmaRs6dGig2p0Wzsjin//8p/z888/qmweBc+TNiFsWe2Ctu4FCwEhboMSVscYaacsYXuFHHz58WEnbhAkTwn+y7+kgAGlj4Ue7ds8992gEJlGYRYoUCfRGxGiBAgUC3Qcng/r168uHH34op06dkr///e+CNhENHAuCkbZ0Brf9ZAgkGAEjbQkWQCxvb6QtMnR//PFHNYc1a9ZMzUeRXS3rnA1pw9yG6a1du3aSLXt2adSyvW0+weCCUmV0XB88eFCJG9rPH374QYkbMoNsQ9zsZQgYAv5DwEib/2QStRYZaYsMSohH+/btpWDBgvLZZ59FdrEscrZXy4bmpm3btpIrdx554r2/2eYTDJpf11XH9M6dO+XIkSNCPrqvv/5a/vGPf6ivnmnbssjDat0MJAJG2gIptnNrtJG2c8MpvaNWrlypJlKCEux1dgQcaWNi+eWXX6RNmzZG2nxC1hxxhrRh5l21apU8++yzcvToUfn444/V7xAzKdo2M5GefazbEYZAIhAw0pYI1ON0TyNtkQONs3bx4sW1DiWf7ZU+Ao60sfDj5N66dWsjbT4kbfny5RP+iOzatUtzzhER+80338hPP/0kBCUYaUt/nNuvhkCiEDDSlijk43BfI23RAXnKlCmCE/qDDz4YnQsm8VW8pA0CYKTNf2ZhNG2QtmnTpsmGDRvkwIED8vbbb2tUL36ckDZcA5Alm70MAUPAPwgYafOPLKLeEiNt0YH0+++/V01b3rx55cSJE9G5aJJexUva0Ey2atXKNG0+1LQxlomKXr16tezfv19NpPht4tdmpC1JH07rVlIgYKQtKcSYeieMtKWOS2b27t27V3LlyiV16tQRSJy9UkfAkTYWfiNt/tOy4deGpg3SNm7cOMFnc9++fRqQ4EgbASSmaUt9fNteQyDRCBhpS7QEYnh/I23RAxcfH8ykYEpEJLmt7HUmArEmbY+f+E5WPHVUth3+/Ixo1OX7D6e63zngx/J9+9EvZem+N85oUyzvmdlrO9I2duxYWbFihfCHhJyEn376qWrajLSdOa5tjyHgFwSMtPlFEjFoh5G26ILKw9KvXz/1b7v66qvliy++MJ+fMIijQdqatr9ROvbsnyoB2vrmZ1K+SjWZsnzbGb8XL1NeJi/bGtoPwRsxfZEs2fu67tvz7vfy+DunQr9nlvSkdt7sTU9LvgIFY3Lt1O4Xvo9+0b/w/al9d6RtzJgxRtrCxq99NQT8joCRNr9LKIL2GWmLALw0TkULQSkjAhMqVKigpiVLRPoHWJGStu1HvpQixUtKucrVZNfb355BQiBtJctVkElLt5zxW6GiF8jEJZtC+3e89ZVcflULGT1/re7rPniU3Dd3Vej31AhNZvfN2rBfzsuZMybXPlubVj/3jlx+dUvZ/fbJc7q/kbY/xqt9MgSChoCRtqBJLAPtNdKWAbAycCgZ4zErURIoe/bs0qlTJzl06JBlkRdRzSMkNrM+bTPXPym1GzWVShdfKkv2HgqRELRIa194Vza88tcUpI39j73wnuw89rWEkzbIzpY3PhXI2/YjX0iVS2tL33snCcQvLSKExmqtXu+b0DGYPne89bVsPvSJbHjlg9B+rgFRWvP8CZmxbt8ZpI3fuBfvG1/7UM/j+o+9+F5I4wcx3Xr4c9l1/FtZ+/y7gnbQ27ZNr38sW8LaS59cOziee/Oss2/nsT/a7b2O97ORtgw87HaoIeAzBIy0+Uwg0WyOkbZoopnyWmiUyG3VsWNHOf/88yV37txCuavFixfrfqLwIHdZ7RWppu32+x6QG/sOlSuaXiv3z1t9muic+E5uGXq/lChTXgldgSJFVdMGYdP9ZStI/WatJXfefCk0bRCVK1t1lAFjZ0jvu8bp7yXLVZSWN3RPQYwcodlx7Gtp1KKd1GrYRC6sXlPmbjmgx3UfNFKu6dhNLqp5uVxQqqxMWLxR928+9LHUveoaKVupirY3XNM2a/1+qd24mTTrcJNcd0t/Wf/y+9KwRTupXqe+NLuuixLNB1fvlnpNWmr7S5QtLx163K7Ebc+J72To5Hlyce0r5MLql8mM9U/qPe9+aIliULl6TbmhzxB57MU/S80rrlTSVr12fRm74LFU++b6yLuRtqz2VFp/kwkBI23JJM2wvhhpCwMkBl8hZi+++KJ06dJF8uTJo4vneeedJxUrVpQGDRrINddcIzfddFOW2Tp37ixsN9xwgxLaEiVKnHPKD0hYk3Y3yD0PLZGbbh8m1/cZrH5ai/e8JgUKFZHZm56RcQvXyXk5cylpY3/hC0rIjHV7Zfwj63W/1zwKQYGA9bl7ohKZarXqycBxM9IlNWjE0F5de+MtSra4xvW9B0mZSlVk5TNvSefbhilp2v3OKek/ZrpUvbSOato63jrgDE3b9DV7dF+7m/vJqgPHtD+deg9SzVrFi2rI1FU71DfvT9myKdmcueFJyZu/gMzf/rws3XtISpatoFq/wRNmq5mXtqBlQzu3+InXJMd558nKZ47Jgh0v6Lgz82gMHnC7pCHgMwSMtPlMINFsjpG2aKJ59mudOnVKNm3aJEOGDJGmTZvKxRdfLOXKlZOiRYtmuQ3TceHChQUCe661RzFDlqpwoZpFx8xfK5dc3lBJ25CJcwQt0mnS8olq3PBpGzJprlxc6wrdD9EqWKTYGZq2jJI2rgMhat+9n0DyHGmDTPJ59MNrpGylqmpyRUPW5+4Juh/iGK5pg7RBNtccPKH9KF2hsmrCNr76oVzTqZv0Gj5WSVuBwkXVhIrp9NJ6jVUzSJ9pO8c+9NgT2mfMvLQBYjllxTbJkz+/TF+7x0jb2R9NO8IQSBoEjLQljSjP7AiFztH02Cv+CKCB+9e//qWlnMgyn1U2zMKkQ4HAEl3bvHnzcyZtaLLQHl3X8w5p3rGr5Do/t/p6dR1wtzRq2V4JizcQodvAe9XcCJFhS82nLSOkjTQizTp0UZNmrQZXpyBtmDjDSVuFi2rIXdMe0f2pBSJA2oqXLicbXv2rkrbsOXJI5eqXySWXN1IN3R2jH1TSRrt3v3M6iABzbpc77lKNHiSUY6vXaaAm0M1vfCJjF66TyjUuU00g+Bhpi/+zbXc0BBKJgJG2RKIfyBKU7AAAEI9JREFU43vXqFFDqlWrliV9q2IMrV0+DQQi8WkbNWelkhlMnGMWrJViJcvInM0HpM89E0PmQS9p63vvZKl75TVKmqJB2oZNXSAX16on245+qWZUr6YtNdJWvW4DGTxh1jmTtrz5C8rM9ftD7aXNpC5xpA3zcP1mbaT3iPHS887R0qhlhxTHYpItckEJNQ2jlSxYpKiRtjTGoe02BJIVASNtySpZEfWzwkyFxsNehkA8EIiEtJGb7abbhytRwUxZ7+qWcsfo6TJx6WZNA0KEKNq4/AULK3FhP8EJ+HkRwZknX/50zaOQrDvun6bX33X8G/WPI1IU8sR2Y7875ao2nfRzr7vGnVXT1qZrb9V4QbYIEEjNPOrVtNVu1EyjV939HGnjvE2vf6T9KFOxsgY6TFq2VUqUrSCQM3c8kbO4PKx8+qgQBHF+nrxK2h7Z/bLu33H0tPnUHZ/WuwUixONJsHsYArFBwEhbbHD1xVXnzZunk/nOnTt90R5rRPIjkFnShj8X/mn4sjmygbapafvOmvKiRp36Ur95a2l0bQcpVqK0krZtR77QSMwrmrZSM+kFpcumS9oIFih7YVW5b84qgejkyVdAiZK73+Tl21ST1WPofapxO5umbf72g4I/Wvvut6n/WZ78BUJt55pe8yjf0apBxLoPHild+4/QIAP2EVjR4Jq22geiRXce/0boGz5z9I2IWpIE73n3O40mxYTa6qZblbxiHt302kfabrCC0Ln+pPVupC35n0PrYfIiYKQteWUrx44d01QUPXv2TOJeWtf8hEBmSRv5xQguQOPkyMaqA8flgVW7NJpz3cvvK3FZuOslJUNOQ7bupb/I3dMXS/h+dw2Ik6uIQJ61ux9aLNNW75ahk+ap3xxaMncs2r0Z6/cJZtpl+9+UqSt36L3n73hBqHjAcasPviOTlm3RPGucy325P20d98j60LU4lhQfExZvCuVO4/glT7yuqTxIzYEWzZlHZ296SkbOWq7+b649mII5btjU+bJ03+mcdfT3nhlL5OHtB2Xao7s1d51rx9BJczXXmzs/rXcjbX56YqwthkDGEDDSljG8AnU0zvCknShQoICcPHkyUG23xgYTgcyStrQIRiz2Q3IIdIC8xeL6GbmmI20uECEj52b2WCNtwXy2rNWGAAgYaUvycbBu3To1kY4cOdIy9ie5rP3QvSCQNjRqaLwyS3qieZ6RNj+MWmuDIRAcBIy0BUdWmWrpzz//LHXq1FFt24kTJzJ1DTvJEDhXBIJA2qJJuiK91pY3PpEFO1/UlCCRXutczzdN27mOZjvOEPAfAkba/CeTqLdo3759WuCcnG2QOHsZArFCwC+kDR+57ecYTXmuZCdZjjPSFqvRb9c1BGKPgJG22GOc8DtQwJss/aQLGDBggNrEE94oa0BSIuAX0kZN0iuaXOsLE6jfyJ6RtqR89KxTWQQBI21ZRNC//PKLtGjRQjVuQ4cOlV9//TWL9Ny6GU8EEkXaVj/3jlDjk4hNSJKRttO551IjjEba4vlE2L0MgegiYKQtunj6+mpff/21XHHFFapx69Onj/zwww++bq81LngIJIK0EQ364JrHpWjxkpqqg4LqjrTteOtrzcXGMY7A7Dnxne4jH5rb595JUEskJyWtth/5Qn/nXOp+uv3klON49pFPzXtt9nMeyW8fP3H6OJICkwDYe9yO3/cRFME5VDsgJcmu49+e0SbXtmi9G2kL3nNlLTYEHAJG2hwSWeT9b3/7m7Ru3VqJ22WXXSbPPfdcFum5dTMeCCSCtEF0Kl5UQ3Kcl1PLYI1buE5JG3U+L63XSC4oWUbGLnxMyRAk6eZB9+pxdRo104LsXjLUolM36T5opJSucKFUrHaJkKMNstXi+pulz90T9T7kfZuwaKPWBL2oZh0ZNXuFXpvjRs9bLeUrV5NiJUrJosdf0eLztRs1lUrVLpUhk+boteZtOyg16jbQxMAUoIf4NWl3o35v262PkbZ4DFS7hyEQUASMtAVUcJE0G6FPmDBB8ufPL9mzZ9dyV88//7z85z//ieSydq4hIIkgbZAlCrYXLV5KHn3ubUGThqat8AUltOwVny+qebkSJggdhInEtdd06ia33Dk6BUmq07iZVK1ZRygZ1eL67lKvybV6Xt0rm0uxkqXlvrmrZM3Bd4TqCzPXP6lJbgsXK67VDZbue0MrJExetlW2H/lSdr19Ui6p21BGzl4uK54+qjVGH3vxL3J5k5YyaPxM/R2N210PPiK1GjXRJLxOu+clktH+bJo2e1ANgeAiYKQtuLKLqOUEJxw5ckTat28vuXLlkpw5c8qll14qo0aNkj179siHH34o33zzjfz973+3zTDI0BjA7E4y588++0yaN28uuXLnSUGMok1CuN6czc9oeau1L7yr94KoXX7V6WLyU1ZslwtKldFyWK1vulVu7DdUSz8NGjdTrmjWKkXbIG09h54mcpSIwuS65c1PBdLW4ZY79FjKXZWrfJGaQSGMJcpU0Pqotw4fK/WbtwmZRameAKFbtOdV1eiVrlBZZqzbJ41bXSdtuvYRTLe0HSJYplIVWfXs8RRtiQVOXNNIW0RTp51sCCQUASNtCYU/8Tf/73//K6+++qpGlZYoUUI1b0SZooErVKiQlCtXTsqXL2+bYZDhMcDYyZ07d8JIm4sefWDVTiVtlMiq1bCJlCxbUTVglWtcJo1bdUxBlCBtve8ar/sgW5AuitRD2noNH6v775zysFSpUSt0XtVL6wglpJp16CI39h0a2o8mLlfu3Fp4vkbdhlKqfCWZ9uguNZmWLFdRmna4STV++Lxd3eZ6KVe5mszf/nzofCNtiZ8frQWGgN8QMNLmN4kksD2YRw8dOiRLliyRESNGSK9evaRt27a2GQYZHgP4TV577bVSrFgxH5G2j7UIe997JqVJjLykbcGul7QQO3VOvaSNGqH4qLmABD7fM2OptLyhh1zXs3/o2vO2PCvFSpaRdS//JbTPETGiXC+67HLpNvBe/Q1TKr52ZStV0Xqn7rhYvJumLYGTrN3aEIgQASNtEQJopxsChsAfCCTCpw1iM3fLs+rThkmS7y56lM9O00YEJ8ToylYd0yRGkLYOt9yu14CcEVSw++2TKUjbw9sOquYOModvXL6ChbSqwaDxs5TMbT38uZ7Pe8EixdTfLjXyNRDzbNM/zLOPHjguefMXkI2vfajnp3ZONPYZaftjvNonQyBoCBhpC5rErL2GgI8RSBRpW/fS+xp40KZbHw1GSIu0Ldv/pppHO982TIZMnC2zNz2dgiBB2tCO3TzwtNZr4LgZoUAEZx4lPQem15bXd5e23frKla07CulDIFsVqlSXhi3ayy1D75PVB09I1/4jNFJ12NT50n/MdNl+9EvpN3KyDHtggZpNIW6Tlm6WgWNnaJ65yxpcnaI90SBp4dcw0ubjB8iaZgicBQEjbWcByH42BAyBc0cgUaQNYoIPGabPR589Lg9ve06I4mT/moMn5N6Zy5RY8R2H/wFjH5IBY2fIqgPHUpAkSFu3AffI4AmzZfKyLZo/jWADiJXX3wytHVGfIx5cpCk7HDFa99JfBJ+3QRNmyabXP9bcbrSj94gJMm7hetl1/BvV/N1231SZvHyravGWP3VE+o9+UEZMXyQbX/soRXvcdaP5bqTt3MezHWkI+A0BI21+k4i1xxAIMAKJJG3RIDZen7ZoXM+P1zDSFuAHzJqe5REw0pblh4ABYAhEDwEjbWmXj/ILgTPSFr3xblcyBOKNgJG2eCNu9zMEkhiBoJM2TKCrnklpMvUL2YpWO4y0JfEDaF1LegSMtCW9iK2DhkD8EAg6aYsWMfLzdYy0xe95sDsZAtFGwEhbtBG16xkCWRgBI21mHs3Cw9+6bgjEHAEjbTGH2G5gCGQdBIy0GWnLOqPdemoIxB8BI23xx9zuaAgkLQJG2oJD2saOHSsrVqyQvXv3yuHDh+XTTz+Vf/zjH/Lvf/9bKG+HLNnsZQgYAv5BwEibf2RhLTEEAo+AkbbgkLZx48bJqlWrZN++fXLkyBH57LPPjLQF/gm0DiQ7Akbakl3C1j9DII4IONL266+/yj//+U9p1aqVZMueXWo3amqbTzAofEEJyZs3r0ycOFHWrFkjTz31lLz11lvy+eefy48//ijUIDZNWxwfGruVIZABBIy0ZQAsO9QQMATSR8BL2n766ScZPny4FC1aVIoUKSKFChWSAgUKSP78+SVfvny2JRCDKlWqyLx582TTpk3y3HPPyTvvvCNffvmlEm0vaUtf2varIWAIxBsBI23xRtzuZwgkMQJe0vbzzz/LyZMn5S9/+Yu8+uqr8sQTT8i6detk8eLFMnfuXJk5c6Y89NBDMn36dNvigAFYg/mcOXNk0aJF8thjj8mePXtUNsjo22+/FYg2pO3//u//zJ8tiZ9T61pwETDSFlzZWcsNAd8h4Ejbb7/9Jv/617/khx9+kC+++EJOnDghL7/8sjz55JOybds2Wb9+vZrmVq9eLY8++qhtccAArDGHQpy3bt2qJPqFF16Q48ePaxDC999/L7/88ouwKBhp892jZQ0yBBQBI202EAwBQyCqCEDcIG1EIaK5OXXqlHzyySdqgjt06JBAFJ555hn1pYLE2RY/DPbv36/YHzx4UF577TU5duyYfPTRR6plw58NmSE7SJu9DAFDwH8IGGnzn0ysRYZAoBGAtOHITjAC2jbIAMQNR/e//vWv8u6778rbb7+thAEHeNvihwEkDc0aMnj//fdVw4ZZlFQfaNmQmQtCCPQgtMYbAkmKgJG2JBWsdcsQSBQCzkTqJW5EkmIqhbx9/fXX6vSO2RQiZ1v8MABzAg6++uor9TfEJAqphrDhy+a0bMjQXoaAIeA/BIy0+U8m1iJDINAIsOA74gYJQHuD2Q1iQHACJlNIHGTBtvhjAPZsyAKZIBtkhKycls1IW6AfQWt8EiNgpC2JhWtdMwQSiYAjbhABCAGTDeSADa2ObYnDwMkBmTiy5oIPjLAl8qmxexsC6SNgpC19fOxXQ8AQyCQCLP6OuEEI3AaJsy3xGDh5uHcnr0yK204zBAyBOCBgpC0OINstDIGsjIAjA/Z+msT6FYesPEat74ZAUBAw0hYUSVk7DQFDwBAwBAwBQyBLI2CkLUuL3zpvCBgChoAhYAgYAkFBwEhbUCRl7TQEDAFDwBAwBAyBLI2AkbYsLX7rvCFgCBgChoAhYAgEBQEjbUGRlLXTEDAEDAFDwBAwBLI0AkbasrT4rfOGgCFgCBgChoAhEBQEjLQFRVLWTkPAEDAEDAFDwBDI0ggYacvS4rfOGwKGgCFgCBgChkBQEDDSFhRJWTsNAUPAEDAEDAFDIEsjEBvS1rSZ/O37720zDGwM2BiwMWBjwMaAjQEbA1EaA6dOnZKLLqycLnH9U7q/hv347bffSvvWbaT+5fVsMwxsDNgYsDFgY8DGgI0BGwNRHAPdbuoSxrxSfs0QaUt5qn0zBAwBQ8AQMAQMAUPAEIgXAkba4oW03ccQMAQMAUPAEDAEDIEIEDDSFgF4dqohYAgYAoaAIWAIGALxQsBIW7yQtvsYAoaAIWAIGAKGgCEQAQJG2iIAz041BAwBQ8AQMAQMAUMgXggYaYsX0nYfQ8AQMAQMAUPAEDAEIkDg/wEbqhyL4l0rAQAAAABJRU5ErkJggg==)\n"
      ],
      "metadata": {
        "id": "TVsQND95cFdq"
      }
    },
    {
      "cell_type": "markdown",
      "source": [
        "#### Crawling with Scrapy\n",
        "Scrapy = python library which handles complexity of finding an evaluation links on a website, crawling domains or list of domains.  \n",
        "\n",
        "# TO BE CONTINUE "
      ],
      "metadata": {
        "id": "Uw_p_MYJe-PY"
      }
    },
    {
      "cell_type": "markdown",
      "source": [
        "#### CHAPTER 4  \n",
        "#### Using APIs\n",
        "web application API: request made to an API via HTTP; API returns data in XML/JSON form\n",
        "\n",
        "What's the difference between API and regular website?\n",
        "Both using same protocol to fetch data (HTTP). API is extremely regulated syntax and API present their data as JSON/XML rather than HTML.\n",
        "\n"
      ],
      "metadata": {
        "id": "Fw1fXwNapoHH"
      }
    },
    {
      "cell_type": "markdown",
      "source": [
        "#### Methods  \n",
        "* GET: ask info from server\n",
        "* POST: submit info to the server (username/password etc)\n",
        "* PUT: update something on the server\n",
        "* DELETE: remove something from the server\n",
        "\n",
        "#### Authentication\n",
        "* provide token to API\n",
        "* token can also be passed to server via cookie in request header"
      ],
      "metadata": {
        "id": "t-hxOrRUrwtk"
      }
    },
    {
      "cell_type": "code",
      "source": [
        "token=\"<your api key>\"\n",
        "webRequest = urllib.request.Request(\"http://myapi.com\", header={\"token\":token})\n",
        "html=urlopen(webRequest)"
      ],
      "metadata": {
        "id": "KOoEy79Zv8DJ"
      },
      "execution_count": null,
      "outputs": []
    },
    {
      "cell_type": "markdown",
      "source": [
        "#### Responses\n",
        "common types:\n",
        "1. eXtensible Markup Laungate (XML)\n",
        "2. JavaScript Object Notation (JSON)\n",
        "\n",
        "Why JSON?\n",
        "1. smaller compare to XML data\n",
        "2. shift in web technologies, framework such as Angular/Backbone find JSON easier to handle"
      ],
      "metadata": {
        "id": "G0owZhcBwMz5"
      }
    },
    {
      "cell_type": "markdown",
      "source": [
        "#### API Calls\n",
        "Example:\n",
        "1. http://socialmediasite.com/users/1234/posts?form=08012014&to=08312014\n",
        "\n",
        "    Explanation:  \n",
        "    retrieve all post by user with ID 1234 during month of August 2014\n",
        "\n",
        "2. http://socialmediasite.com/api/v4/json/users/1234/post?from=08012014&to=08312014\n",
        "\n",
        "    Explanation:  \n",
        "    path is used to specify API version and data type (for examplle json)\n",
        "\n",
        "3. http://socialmediasite.com/users/1234/posts?format=json&from=08122014&to=08312014\n",
        "\n",
        "    Explanation:  \n",
        "    formating and API version information as a request parameter\n",
        "\n",
        "\n"
      ],
      "metadata": {
        "id": "QJbYTs8-xaUb"
      }
    },
    {
      "cell_type": "markdown",
      "source": [
        "#### Echo Nest  \n",
        "http://developer.echonest.com/api/v4/artist/search?api_key=<your api key>&name=monty%20python"
      ],
      "metadata": {
        "id": "vpls6ygObf1c"
      }
    },
    {
      "cell_type": "markdown",
      "source": [
        "#### Twitter\n",
        "* Twitter rate limit depending on types of calls:\n",
        "    * 15 call per 15 minutes\n",
        "    * 180 calls per 15 minutes\n",
        "\n",
        "#### Getting started\n",
        "* Getting API key (consumer key):\n",
        "    * signup Twitter account\n",
        "    * register new application on developer site\n",
        "\n",
        "\n",
        "#### Example\n",
        "* Twitter authentication uses OAuth\n",
        "* Best to use available library to interact with the API instead of working with the API itself\n"
      ],
      "metadata": {
        "id": "iJIXNdTDRATO"
      }
    },
    {
      "cell_type": "code",
      "source": [
        "from twitter import Twitter\n",
        "t=Twitter(auth=Oauth(<Acces Token>,<Access Token Secret>,<Consumer Key>,<Consumer Secret>))\n",
        "pythonTweets= t.search.tweets(q='#python')\n",
        "print(pythonTweets)"
      ],
      "metadata": {
        "colab": {
          "base_uri": "https://localhost:8080/",
          "height": 129
        },
        "id": "XEubmM2vc98O",
        "outputId": "42d20e2b-f2cc-4956-9c93-6607d36217a2"
      },
      "execution_count": null,
      "outputs": [
        {
          "output_type": "error",
          "ename": "SyntaxError",
          "evalue": "ignored",
          "traceback": [
            "\u001b[0;36m  File \u001b[0;32m\"<ipython-input-1-7c078cd483f1>\"\u001b[0;36m, line \u001b[0;32m2\u001b[0m\n\u001b[0;31m    t=Twitter(auth=Oauth(<Acces Token>,<Access Token Secret>,<Consumer Key>,<Consumer Secret>))\u001b[0m\n\u001b[0m                         ^\u001b[0m\n\u001b[0;31mSyntaxError\u001b[0m\u001b[0;31m:\u001b[0m invalid syntax\n"
          ]
        }
      ]
    },
    {
      "cell_type": "code",
      "source": [
        "# output single tweet\n",
        "from twitter import *\n",
        "t=Twitter(auth=OAuth(<Access Token>,<Access Token Secret>,\n",
        "                     <Consumer key>,<consumer secret>))\n",
        "statusUpdate=t.statuses.update(status='Hello world!')\n",
        "print(statusUpdate)"
      ],
      "metadata": {
        "id": "hNPaioR1dSlj"
      },
      "execution_count": null,
      "outputs": []
    },
    {
      "cell_type": "code",
      "source": [
        "# limit number of tweets received\n",
        "pythonStatuses=t.statuses.user_timeline(screen_name='montypython',count=5)\n",
        "print(pythonStatuses)\n",
        "\n"
      ],
      "metadata": {
        "id": "F60DRKnNz9G5"
      },
      "execution_count": null,
      "outputs": []
    },
    {
      "cell_type": "markdown",
      "source": [
        "#### Google APIs\n",
        "* Covers multiple subjects; language translation, geolocation, calendars, or even genomics.\n",
        "\n",
        "#### Getting Started\n",
        "* create API using Google Developers Console\n",
        "* get API credentials\n",
        "\n",
        "#### Example\n",
        "* Map API:\n",
        "    * street address\n",
        "    * latitude/longitude coordinate\n",
        "    * elevation\n",
        "\n",
        "https://maps.googleapis.com/maps/api/geocode/json?address=1+Science+Park+Boston+MA+02114&key=<Your API key>\n",
        "\n",
        "https://maps.googleapis.com/maps/api/timezone/json?location=42.3677994,-71.070807&timestamp=1412649030&key=<your API key>\n",
        "\n",
        "https://maps.googleapis.com/maps/api/elevation/json?locaations=42.3677994,-71.07080788&key=<your API key>\n",
        "\n",
        "\n"
      ],
      "metadata": {
        "id": "vOMczvqJ0sPv"
      }
    },
    {
      "cell_type": "markdown",
      "source": [
        "#### Parsing JSON\n",
        "http://freegeoip.net/json/50.78.253.58\n",
        "\n",
        "## LOOKS LIKE THE WEBSITE IS SHUTDOWN, CARRY ON...\n"
      ],
      "metadata": {
        "id": "ir4A11LusGBK"
      }
    },
    {
      "cell_type": "code",
      "source": [
        "import json\n",
        "from urllib.request import urlopen\n",
        "\n",
        "def getCountry(ipAddress):\n",
        "    response=urlopen(\"http://freegeoip.net/json/\"+ipAddress).read().decode('utf-8')\n",
        "    responseJson=json.loads(response)\n",
        "    return responseJson.get('country_code')\n",
        "\n",
        "print(getCountry(\"50.78.253.58\"))"
      ],
      "metadata": {
        "colab": {
          "base_uri": "https://localhost:8080/",
          "height": 323
        },
        "id": "LBJsI9dxsd2H",
        "outputId": "78785221-3967-4609-afe1-ad178e755697"
      },
      "execution_count": null,
      "outputs": [
        {
          "output_type": "error",
          "ename": "JSONDecodeError",
          "evalue": "ignored",
          "traceback": [
            "\u001b[0;31m---------------------------------------------------------------------------\u001b[0m",
            "\u001b[0;31mJSONDecodeError\u001b[0m                           Traceback (most recent call last)",
            "\u001b[0;32m<ipython-input-3-ee29774d4e9f>\u001b[0m in \u001b[0;36m<module>\u001b[0;34m()\u001b[0m\n\u001b[1;32m      7\u001b[0m     \u001b[0;32mreturn\u001b[0m \u001b[0mresponseJson\u001b[0m\u001b[0;34m.\u001b[0m\u001b[0mget\u001b[0m\u001b[0;34m(\u001b[0m\u001b[0;34m'country_code'\u001b[0m\u001b[0;34m)\u001b[0m\u001b[0;34m\u001b[0m\u001b[0;34m\u001b[0m\u001b[0m\n\u001b[1;32m      8\u001b[0m \u001b[0;34m\u001b[0m\u001b[0m\n\u001b[0;32m----> 9\u001b[0;31m \u001b[0mprint\u001b[0m\u001b[0;34m(\u001b[0m\u001b[0mgetCountry\u001b[0m\u001b[0;34m(\u001b[0m\u001b[0;34m\"50.78.253.58\"\u001b[0m\u001b[0;34m)\u001b[0m\u001b[0;34m)\u001b[0m\u001b[0;34m\u001b[0m\u001b[0;34m\u001b[0m\u001b[0m\n\u001b[0m",
            "\u001b[0;32m<ipython-input-3-ee29774d4e9f>\u001b[0m in \u001b[0;36mgetCountry\u001b[0;34m(ipAddress)\u001b[0m\n\u001b[1;32m      4\u001b[0m \u001b[0;32mdef\u001b[0m \u001b[0mgetCountry\u001b[0m\u001b[0;34m(\u001b[0m\u001b[0mipAddress\u001b[0m\u001b[0;34m)\u001b[0m\u001b[0;34m:\u001b[0m\u001b[0;34m\u001b[0m\u001b[0;34m\u001b[0m\u001b[0m\n\u001b[1;32m      5\u001b[0m     \u001b[0mresponse\u001b[0m\u001b[0;34m=\u001b[0m\u001b[0murlopen\u001b[0m\u001b[0;34m(\u001b[0m\u001b[0;34m\"http://freegeoip.net/json/\"\u001b[0m\u001b[0;34m+\u001b[0m\u001b[0mipAddress\u001b[0m\u001b[0;34m)\u001b[0m\u001b[0;34m.\u001b[0m\u001b[0mread\u001b[0m\u001b[0;34m(\u001b[0m\u001b[0;34m)\u001b[0m\u001b[0;34m.\u001b[0m\u001b[0mdecode\u001b[0m\u001b[0;34m(\u001b[0m\u001b[0;34m'utf-8'\u001b[0m\u001b[0;34m)\u001b[0m\u001b[0;34m\u001b[0m\u001b[0;34m\u001b[0m\u001b[0m\n\u001b[0;32m----> 6\u001b[0;31m     \u001b[0mresponseJson\u001b[0m\u001b[0;34m=\u001b[0m\u001b[0mjson\u001b[0m\u001b[0;34m.\u001b[0m\u001b[0mloads\u001b[0m\u001b[0;34m(\u001b[0m\u001b[0mresponse\u001b[0m\u001b[0;34m)\u001b[0m\u001b[0;34m\u001b[0m\u001b[0;34m\u001b[0m\u001b[0m\n\u001b[0m\u001b[1;32m      7\u001b[0m     \u001b[0;32mreturn\u001b[0m \u001b[0mresponseJson\u001b[0m\u001b[0;34m.\u001b[0m\u001b[0mget\u001b[0m\u001b[0;34m(\u001b[0m\u001b[0;34m'country_code'\u001b[0m\u001b[0;34m)\u001b[0m\u001b[0;34m\u001b[0m\u001b[0;34m\u001b[0m\u001b[0m\n\u001b[1;32m      8\u001b[0m \u001b[0;34m\u001b[0m\u001b[0m\n",
            "\u001b[0;32m/usr/lib/python3.7/json/__init__.py\u001b[0m in \u001b[0;36mloads\u001b[0;34m(s, encoding, cls, object_hook, parse_float, parse_int, parse_constant, object_pairs_hook, **kw)\u001b[0m\n\u001b[1;32m    346\u001b[0m             \u001b[0mparse_int\u001b[0m \u001b[0;32mis\u001b[0m \u001b[0;32mNone\u001b[0m \u001b[0;32mand\u001b[0m \u001b[0mparse_float\u001b[0m \u001b[0;32mis\u001b[0m \u001b[0;32mNone\u001b[0m \u001b[0;32mand\u001b[0m\u001b[0;34m\u001b[0m\u001b[0;34m\u001b[0m\u001b[0m\n\u001b[1;32m    347\u001b[0m             parse_constant is None and object_pairs_hook is None and not kw):\n\u001b[0;32m--> 348\u001b[0;31m         \u001b[0;32mreturn\u001b[0m \u001b[0m_default_decoder\u001b[0m\u001b[0;34m.\u001b[0m\u001b[0mdecode\u001b[0m\u001b[0;34m(\u001b[0m\u001b[0ms\u001b[0m\u001b[0;34m)\u001b[0m\u001b[0;34m\u001b[0m\u001b[0;34m\u001b[0m\u001b[0m\n\u001b[0m\u001b[1;32m    349\u001b[0m     \u001b[0;32mif\u001b[0m \u001b[0mcls\u001b[0m \u001b[0;32mis\u001b[0m \u001b[0;32mNone\u001b[0m\u001b[0;34m:\u001b[0m\u001b[0;34m\u001b[0m\u001b[0;34m\u001b[0m\u001b[0m\n\u001b[1;32m    350\u001b[0m         \u001b[0mcls\u001b[0m \u001b[0;34m=\u001b[0m \u001b[0mJSONDecoder\u001b[0m\u001b[0;34m\u001b[0m\u001b[0;34m\u001b[0m\u001b[0m\n",
            "\u001b[0;32m/usr/lib/python3.7/json/decoder.py\u001b[0m in \u001b[0;36mdecode\u001b[0;34m(self, s, _w)\u001b[0m\n\u001b[1;32m    335\u001b[0m \u001b[0;34m\u001b[0m\u001b[0m\n\u001b[1;32m    336\u001b[0m         \"\"\"\n\u001b[0;32m--> 337\u001b[0;31m         \u001b[0mobj\u001b[0m\u001b[0;34m,\u001b[0m \u001b[0mend\u001b[0m \u001b[0;34m=\u001b[0m \u001b[0mself\u001b[0m\u001b[0;34m.\u001b[0m\u001b[0mraw_decode\u001b[0m\u001b[0;34m(\u001b[0m\u001b[0ms\u001b[0m\u001b[0;34m,\u001b[0m \u001b[0midx\u001b[0m\u001b[0;34m=\u001b[0m\u001b[0m_w\u001b[0m\u001b[0;34m(\u001b[0m\u001b[0ms\u001b[0m\u001b[0;34m,\u001b[0m \u001b[0;36m0\u001b[0m\u001b[0;34m)\u001b[0m\u001b[0;34m.\u001b[0m\u001b[0mend\u001b[0m\u001b[0;34m(\u001b[0m\u001b[0;34m)\u001b[0m\u001b[0;34m)\u001b[0m\u001b[0;34m\u001b[0m\u001b[0;34m\u001b[0m\u001b[0m\n\u001b[0m\u001b[1;32m    338\u001b[0m         \u001b[0mend\u001b[0m \u001b[0;34m=\u001b[0m \u001b[0m_w\u001b[0m\u001b[0;34m(\u001b[0m\u001b[0ms\u001b[0m\u001b[0;34m,\u001b[0m \u001b[0mend\u001b[0m\u001b[0;34m)\u001b[0m\u001b[0;34m.\u001b[0m\u001b[0mend\u001b[0m\u001b[0;34m(\u001b[0m\u001b[0;34m)\u001b[0m\u001b[0;34m\u001b[0m\u001b[0;34m\u001b[0m\u001b[0m\n\u001b[1;32m    339\u001b[0m         \u001b[0;32mif\u001b[0m \u001b[0mend\u001b[0m \u001b[0;34m!=\u001b[0m \u001b[0mlen\u001b[0m\u001b[0;34m(\u001b[0m\u001b[0ms\u001b[0m\u001b[0;34m)\u001b[0m\u001b[0;34m:\u001b[0m\u001b[0;34m\u001b[0m\u001b[0;34m\u001b[0m\u001b[0m\n",
            "\u001b[0;32m/usr/lib/python3.7/json/decoder.py\u001b[0m in \u001b[0;36mraw_decode\u001b[0;34m(self, s, idx)\u001b[0m\n\u001b[1;32m    353\u001b[0m             \u001b[0mobj\u001b[0m\u001b[0;34m,\u001b[0m \u001b[0mend\u001b[0m \u001b[0;34m=\u001b[0m \u001b[0mself\u001b[0m\u001b[0;34m.\u001b[0m\u001b[0mscan_once\u001b[0m\u001b[0;34m(\u001b[0m\u001b[0ms\u001b[0m\u001b[0;34m,\u001b[0m \u001b[0midx\u001b[0m\u001b[0;34m)\u001b[0m\u001b[0;34m\u001b[0m\u001b[0;34m\u001b[0m\u001b[0m\n\u001b[1;32m    354\u001b[0m         \u001b[0;32mexcept\u001b[0m \u001b[0mStopIteration\u001b[0m \u001b[0;32mas\u001b[0m \u001b[0merr\u001b[0m\u001b[0;34m:\u001b[0m\u001b[0;34m\u001b[0m\u001b[0;34m\u001b[0m\u001b[0m\n\u001b[0;32m--> 355\u001b[0;31m             \u001b[0;32mraise\u001b[0m \u001b[0mJSONDecodeError\u001b[0m\u001b[0;34m(\u001b[0m\u001b[0;34m\"Expecting value\"\u001b[0m\u001b[0;34m,\u001b[0m \u001b[0ms\u001b[0m\u001b[0;34m,\u001b[0m \u001b[0merr\u001b[0m\u001b[0;34m.\u001b[0m\u001b[0mvalue\u001b[0m\u001b[0;34m)\u001b[0m \u001b[0;32mfrom\u001b[0m \u001b[0;32mNone\u001b[0m\u001b[0;34m\u001b[0m\u001b[0;34m\u001b[0m\u001b[0m\n\u001b[0m\u001b[1;32m    356\u001b[0m         \u001b[0;32mreturn\u001b[0m \u001b[0mobj\u001b[0m\u001b[0;34m,\u001b[0m \u001b[0mend\u001b[0m\u001b[0;34m\u001b[0m\u001b[0;34m\u001b[0m\u001b[0m\n",
            "\u001b[0;31mJSONDecodeError\u001b[0m: Expecting value: line 1 column 1 (char 0)"
          ]
        }
      ]
    },
    {
      "cell_type": "code",
      "source": [
        "import json\n",
        "\n",
        "jsonString='{\"arrayOfNums\":[{\"number\":0},{\"number\":1},{\"number\":2}],\"arrayOfFruits\":[{\"fruit\":\"apple\"},{\"fruit\":\"banana\"},{\"fruit\":\"pear\"}]}'\n",
        "jsonObj=json.loads(jsonString)\n",
        "\n",
        "print(jsonObj.get(\"arrayOfNums\"))\n",
        "print(jsonObj.get(\"arrayOfNums\")[1])\n",
        "print(jsonObj.get(\"arrayOfNums\")[1].get(\"number\")+\n",
        "      jsonObj.get(\"arrayOfNums\")[2].get(\"number\"))\n",
        "print(jsonObj.get(\"arrayOfFruits\")[2].get(\"fruit\"))"
      ],
      "metadata": {
        "colab": {
          "base_uri": "https://localhost:8080/"
        },
        "id": "w6tdpvzFZP4t",
        "outputId": "6ae7af88-efd6-4440-c322-f4e38aec25b5"
      },
      "execution_count": null,
      "outputs": [
        {
          "output_type": "stream",
          "name": "stdout",
          "text": [
            "[{'number': 0}, {'number': 1}, {'number': 2}]\n",
            "{'number': 1}\n",
            "3\n",
            "pear\n"
          ]
        }
      ]
    },
    {
      "cell_type": "code",
      "source": [
        "from urllib.request import urlopen\n",
        "from bs4 import BeautifulSoup\n",
        "import datetime\n",
        "import random\n",
        "import re\n",
        "\n",
        "random.seed(datetime.datetime.now())\n",
        "def getLinks(articleUrl):\n",
        "    html=urlopen(\"http://en.wikipedia.org\"+articleUrl)\n",
        "    bsObj=BeautifulSoup(html)\n",
        "    return bsObj.find(\"div\",{\"id\":\"bodyContent\"}).findAll(\"a\",\n",
        "                      href=re.compile(\"^(/wiki/)((?!:).)*$\"))\n",
        "\n",
        "def getHistoryIPs(pageUrl):\n",
        "    pageUrl=pageUrl.replace(\"/wiki/\",\"\")\n",
        "    historyUrl=\"http://en.wikipedia.org/w/index.php?title=\"+pageUrl+\"&action=history\"\n",
        "    print(\"history url is: \"+historyUrl)\n",
        "    html=urlopen(historyUrl)\n",
        "    bsObj=BeautifulSoup(html)\n",
        "\n",
        "    ipAddresses=bsObj.findAll(\"a\",{\"class\":\"mw-anounserlink\"})\n",
        "    addressList=set()\n",
        "    for ipAddress in ipAddresses:\n",
        "        addressList.add(ipAddress.get_text())\n",
        "    return addressList\n",
        "\n",
        "links=getLinks(\"/wiki/Python_(programming_language)\")\n",
        "\n",
        "while(len(links)>0):\n",
        "    for link in links:\n",
        "        print(\"-------------\")\n",
        "        historyIPs=getHistoryIPs(link.attrs['href'])\n",
        "        for historyIP in historyIPs:\n",
        "            print(historyIP)\n",
        "    newLink=links[random.randint(0,len(links)-1)].attrs[\"href\"]\n",
        "    links=getLinks(newLink)"
      ],
      "metadata": {
        "colab": {
          "base_uri": "https://localhost:8080/",
          "height": 884
        },
        "id": "VgvgTKUca6_W",
        "outputId": "de9c3e31-e624-4e81-e3d8-482d231358ce"
      },
      "execution_count": null,
      "outputs": [
        {
          "output_type": "stream",
          "name": "stdout",
          "text": [
            "-------------\n",
            "history url is: http://en.wikipedia.org/w/index.php?title=Programming_paradigm&action=history\n",
            "-------------\n",
            "history url is: http://en.wikipedia.org/w/index.php?title=Multi-paradigm_programming_language&action=history\n",
            "-------------\n",
            "history url is: http://en.wikipedia.org/w/index.php?title=Object-oriented_programming&action=history\n",
            "-------------\n",
            "history url is: http://en.wikipedia.org/w/index.php?title=Procedural_programming&action=history\n",
            "-------------\n",
            "history url is: http://en.wikipedia.org/w/index.php?title=Imperative_programming&action=history\n",
            "-------------\n",
            "history url is: http://en.wikipedia.org/w/index.php?title=Functional_programming&action=history\n",
            "-------------\n",
            "history url is: http://en.wikipedia.org/w/index.php?title=Structured_programming&action=history\n",
            "-------------\n",
            "history url is: http://en.wikipedia.org/w/index.php?title=Reflective_programming&action=history\n",
            "-------------\n",
            "history url is: http://en.wikipedia.org/w/index.php?title=Software_design&action=history\n",
            "-------------\n",
            "history url is: http://en.wikipedia.org/w/index.php?title=Guido_van_Rossum&action=history\n",
            "-------------\n",
            "history url is: http://en.wikipedia.org/w/index.php?title=Software_developer&action=history\n",
            "-------------\n",
            "history url is: http://en.wikipedia.org/w/index.php?title=Python_Software_Foundation&action=history\n",
            "-------------\n",
            "history url is: http://en.wikipedia.org/w/index.php?title=Software_release_life_cycle&action=history\n",
            "-------------\n",
            "history url is: http://en.wikipedia.org/w/index.php?title=Software_release_life_cycle#BETA&action=history\n",
            "-------------\n",
            "history url is: http://en.wikipedia.org/w/index.php?title=Type_system&action=history\n"
          ]
        },
        {
          "output_type": "error",
          "ename": "KeyboardInterrupt",
          "evalue": "ignored",
          "traceback": [
            "\u001b[0;31m---------------------------------------------------------------------------\u001b[0m",
            "\u001b[0;31mKeyboardInterrupt\u001b[0m                         Traceback (most recent call last)",
            "\u001b[0;32m<ipython-input-20-80fcb452bb64>\u001b[0m in \u001b[0;36m<module>\u001b[0;34m()\u001b[0m\n\u001b[1;32m     30\u001b[0m     \u001b[0;32mfor\u001b[0m \u001b[0mlink\u001b[0m \u001b[0;32min\u001b[0m \u001b[0mlinks\u001b[0m\u001b[0;34m:\u001b[0m\u001b[0;34m\u001b[0m\u001b[0;34m\u001b[0m\u001b[0m\n\u001b[1;32m     31\u001b[0m         \u001b[0mprint\u001b[0m\u001b[0;34m(\u001b[0m\u001b[0;34m\"-------------\"\u001b[0m\u001b[0;34m)\u001b[0m\u001b[0;34m\u001b[0m\u001b[0;34m\u001b[0m\u001b[0m\n\u001b[0;32m---> 32\u001b[0;31m         \u001b[0mhistoryIPs\u001b[0m\u001b[0;34m=\u001b[0m\u001b[0mgetHistoryIPs\u001b[0m\u001b[0;34m(\u001b[0m\u001b[0mlink\u001b[0m\u001b[0;34m.\u001b[0m\u001b[0mattrs\u001b[0m\u001b[0;34m[\u001b[0m\u001b[0;34m'href'\u001b[0m\u001b[0;34m]\u001b[0m\u001b[0;34m)\u001b[0m\u001b[0;34m\u001b[0m\u001b[0;34m\u001b[0m\u001b[0m\n\u001b[0m\u001b[1;32m     33\u001b[0m         \u001b[0;32mfor\u001b[0m \u001b[0mhistoryIP\u001b[0m \u001b[0;32min\u001b[0m \u001b[0mhistoryIPs\u001b[0m\u001b[0;34m:\u001b[0m\u001b[0;34m\u001b[0m\u001b[0;34m\u001b[0m\u001b[0m\n\u001b[1;32m     34\u001b[0m             \u001b[0mprint\u001b[0m\u001b[0;34m(\u001b[0m\u001b[0mhistoryIP\u001b[0m\u001b[0;34m)\u001b[0m\u001b[0;34m\u001b[0m\u001b[0;34m\u001b[0m\u001b[0m\n",
            "\u001b[0;32m<ipython-input-20-80fcb452bb64>\u001b[0m in \u001b[0;36mgetHistoryIPs\u001b[0;34m(pageUrl)\u001b[0m\n\u001b[1;32m     16\u001b[0m     \u001b[0mhistoryUrl\u001b[0m\u001b[0;34m=\u001b[0m\u001b[0;34m\"http://en.wikipedia.org/w/index.php?title=\"\u001b[0m\u001b[0;34m+\u001b[0m\u001b[0mpageUrl\u001b[0m\u001b[0;34m+\u001b[0m\u001b[0;34m\"&action=history\"\u001b[0m\u001b[0;34m\u001b[0m\u001b[0;34m\u001b[0m\u001b[0m\n\u001b[1;32m     17\u001b[0m     \u001b[0mprint\u001b[0m\u001b[0;34m(\u001b[0m\u001b[0;34m\"history url is: \"\u001b[0m\u001b[0;34m+\u001b[0m\u001b[0mhistoryUrl\u001b[0m\u001b[0;34m)\u001b[0m\u001b[0;34m\u001b[0m\u001b[0;34m\u001b[0m\u001b[0m\n\u001b[0;32m---> 18\u001b[0;31m     \u001b[0mhtml\u001b[0m\u001b[0;34m=\u001b[0m\u001b[0murlopen\u001b[0m\u001b[0;34m(\u001b[0m\u001b[0mhistoryUrl\u001b[0m\u001b[0;34m)\u001b[0m\u001b[0;34m\u001b[0m\u001b[0;34m\u001b[0m\u001b[0m\n\u001b[0m\u001b[1;32m     19\u001b[0m     \u001b[0mbsObj\u001b[0m\u001b[0;34m=\u001b[0m\u001b[0mBeautifulSoup\u001b[0m\u001b[0;34m(\u001b[0m\u001b[0mhtml\u001b[0m\u001b[0;34m)\u001b[0m\u001b[0;34m\u001b[0m\u001b[0;34m\u001b[0m\u001b[0m\n\u001b[1;32m     20\u001b[0m \u001b[0;34m\u001b[0m\u001b[0m\n",
            "\u001b[0;32m/usr/lib/python3.7/urllib/request.py\u001b[0m in \u001b[0;36murlopen\u001b[0;34m(url, data, timeout, cafile, capath, cadefault, context)\u001b[0m\n\u001b[1;32m    220\u001b[0m     \u001b[0;32melse\u001b[0m\u001b[0;34m:\u001b[0m\u001b[0;34m\u001b[0m\u001b[0;34m\u001b[0m\u001b[0m\n\u001b[1;32m    221\u001b[0m         \u001b[0mopener\u001b[0m \u001b[0;34m=\u001b[0m \u001b[0m_opener\u001b[0m\u001b[0;34m\u001b[0m\u001b[0;34m\u001b[0m\u001b[0m\n\u001b[0;32m--> 222\u001b[0;31m     \u001b[0;32mreturn\u001b[0m \u001b[0mopener\u001b[0m\u001b[0;34m.\u001b[0m\u001b[0mopen\u001b[0m\u001b[0;34m(\u001b[0m\u001b[0murl\u001b[0m\u001b[0;34m,\u001b[0m \u001b[0mdata\u001b[0m\u001b[0;34m,\u001b[0m \u001b[0mtimeout\u001b[0m\u001b[0;34m)\u001b[0m\u001b[0;34m\u001b[0m\u001b[0;34m\u001b[0m\u001b[0m\n\u001b[0m\u001b[1;32m    223\u001b[0m \u001b[0;34m\u001b[0m\u001b[0m\n\u001b[1;32m    224\u001b[0m \u001b[0;32mdef\u001b[0m \u001b[0minstall_opener\u001b[0m\u001b[0;34m(\u001b[0m\u001b[0mopener\u001b[0m\u001b[0;34m)\u001b[0m\u001b[0;34m:\u001b[0m\u001b[0;34m\u001b[0m\u001b[0;34m\u001b[0m\u001b[0m\n",
            "\u001b[0;32m/usr/lib/python3.7/urllib/request.py\u001b[0m in \u001b[0;36mopen\u001b[0;34m(self, fullurl, data, timeout)\u001b[0m\n\u001b[1;32m    529\u001b[0m         \u001b[0;32mfor\u001b[0m \u001b[0mprocessor\u001b[0m \u001b[0;32min\u001b[0m \u001b[0mself\u001b[0m\u001b[0;34m.\u001b[0m\u001b[0mprocess_response\u001b[0m\u001b[0;34m.\u001b[0m\u001b[0mget\u001b[0m\u001b[0;34m(\u001b[0m\u001b[0mprotocol\u001b[0m\u001b[0;34m,\u001b[0m \u001b[0;34m[\u001b[0m\u001b[0;34m]\u001b[0m\u001b[0;34m)\u001b[0m\u001b[0;34m:\u001b[0m\u001b[0;34m\u001b[0m\u001b[0;34m\u001b[0m\u001b[0m\n\u001b[1;32m    530\u001b[0m             \u001b[0mmeth\u001b[0m \u001b[0;34m=\u001b[0m \u001b[0mgetattr\u001b[0m\u001b[0;34m(\u001b[0m\u001b[0mprocessor\u001b[0m\u001b[0;34m,\u001b[0m \u001b[0mmeth_name\u001b[0m\u001b[0;34m)\u001b[0m\u001b[0;34m\u001b[0m\u001b[0;34m\u001b[0m\u001b[0m\n\u001b[0;32m--> 531\u001b[0;31m             \u001b[0mresponse\u001b[0m \u001b[0;34m=\u001b[0m \u001b[0mmeth\u001b[0m\u001b[0;34m(\u001b[0m\u001b[0mreq\u001b[0m\u001b[0;34m,\u001b[0m \u001b[0mresponse\u001b[0m\u001b[0;34m)\u001b[0m\u001b[0;34m\u001b[0m\u001b[0;34m\u001b[0m\u001b[0m\n\u001b[0m\u001b[1;32m    532\u001b[0m \u001b[0;34m\u001b[0m\u001b[0m\n\u001b[1;32m    533\u001b[0m         \u001b[0;32mreturn\u001b[0m \u001b[0mresponse\u001b[0m\u001b[0;34m\u001b[0m\u001b[0;34m\u001b[0m\u001b[0m\n",
            "\u001b[0;32m/usr/lib/python3.7/urllib/request.py\u001b[0m in \u001b[0;36mhttp_response\u001b[0;34m(self, request, response)\u001b[0m\n\u001b[1;32m    639\u001b[0m         \u001b[0;32mif\u001b[0m \u001b[0;32mnot\u001b[0m \u001b[0;34m(\u001b[0m\u001b[0;36m200\u001b[0m \u001b[0;34m<=\u001b[0m \u001b[0mcode\u001b[0m \u001b[0;34m<\u001b[0m \u001b[0;36m300\u001b[0m\u001b[0;34m)\u001b[0m\u001b[0;34m:\u001b[0m\u001b[0;34m\u001b[0m\u001b[0;34m\u001b[0m\u001b[0m\n\u001b[1;32m    640\u001b[0m             response = self.parent.error(\n\u001b[0;32m--> 641\u001b[0;31m                 'http', request, response, code, msg, hdrs)\n\u001b[0m\u001b[1;32m    642\u001b[0m \u001b[0;34m\u001b[0m\u001b[0m\n\u001b[1;32m    643\u001b[0m         \u001b[0;32mreturn\u001b[0m \u001b[0mresponse\u001b[0m\u001b[0;34m\u001b[0m\u001b[0;34m\u001b[0m\u001b[0m\n",
            "\u001b[0;32m/usr/lib/python3.7/urllib/request.py\u001b[0m in \u001b[0;36merror\u001b[0;34m(self, proto, *args)\u001b[0m\n\u001b[1;32m    561\u001b[0m             \u001b[0mhttp_err\u001b[0m \u001b[0;34m=\u001b[0m \u001b[0;36m0\u001b[0m\u001b[0;34m\u001b[0m\u001b[0;34m\u001b[0m\u001b[0m\n\u001b[1;32m    562\u001b[0m         \u001b[0margs\u001b[0m \u001b[0;34m=\u001b[0m \u001b[0;34m(\u001b[0m\u001b[0mdict\u001b[0m\u001b[0;34m,\u001b[0m \u001b[0mproto\u001b[0m\u001b[0;34m,\u001b[0m \u001b[0mmeth_name\u001b[0m\u001b[0;34m)\u001b[0m \u001b[0;34m+\u001b[0m \u001b[0margs\u001b[0m\u001b[0;34m\u001b[0m\u001b[0;34m\u001b[0m\u001b[0m\n\u001b[0;32m--> 563\u001b[0;31m         \u001b[0mresult\u001b[0m \u001b[0;34m=\u001b[0m \u001b[0mself\u001b[0m\u001b[0;34m.\u001b[0m\u001b[0m_call_chain\u001b[0m\u001b[0;34m(\u001b[0m\u001b[0;34m*\u001b[0m\u001b[0margs\u001b[0m\u001b[0;34m)\u001b[0m\u001b[0;34m\u001b[0m\u001b[0;34m\u001b[0m\u001b[0m\n\u001b[0m\u001b[1;32m    564\u001b[0m         \u001b[0;32mif\u001b[0m \u001b[0mresult\u001b[0m\u001b[0;34m:\u001b[0m\u001b[0;34m\u001b[0m\u001b[0;34m\u001b[0m\u001b[0m\n\u001b[1;32m    565\u001b[0m             \u001b[0;32mreturn\u001b[0m \u001b[0mresult\u001b[0m\u001b[0;34m\u001b[0m\u001b[0;34m\u001b[0m\u001b[0m\n",
            "\u001b[0;32m/usr/lib/python3.7/urllib/request.py\u001b[0m in \u001b[0;36m_call_chain\u001b[0;34m(self, chain, kind, meth_name, *args)\u001b[0m\n\u001b[1;32m    501\u001b[0m         \u001b[0;32mfor\u001b[0m \u001b[0mhandler\u001b[0m \u001b[0;32min\u001b[0m \u001b[0mhandlers\u001b[0m\u001b[0;34m:\u001b[0m\u001b[0;34m\u001b[0m\u001b[0;34m\u001b[0m\u001b[0m\n\u001b[1;32m    502\u001b[0m             \u001b[0mfunc\u001b[0m \u001b[0;34m=\u001b[0m \u001b[0mgetattr\u001b[0m\u001b[0;34m(\u001b[0m\u001b[0mhandler\u001b[0m\u001b[0;34m,\u001b[0m \u001b[0mmeth_name\u001b[0m\u001b[0;34m)\u001b[0m\u001b[0;34m\u001b[0m\u001b[0;34m\u001b[0m\u001b[0m\n\u001b[0;32m--> 503\u001b[0;31m             \u001b[0mresult\u001b[0m \u001b[0;34m=\u001b[0m \u001b[0mfunc\u001b[0m\u001b[0;34m(\u001b[0m\u001b[0;34m*\u001b[0m\u001b[0margs\u001b[0m\u001b[0;34m)\u001b[0m\u001b[0;34m\u001b[0m\u001b[0;34m\u001b[0m\u001b[0m\n\u001b[0m\u001b[1;32m    504\u001b[0m             \u001b[0;32mif\u001b[0m \u001b[0mresult\u001b[0m \u001b[0;32mis\u001b[0m \u001b[0;32mnot\u001b[0m \u001b[0;32mNone\u001b[0m\u001b[0;34m:\u001b[0m\u001b[0;34m\u001b[0m\u001b[0;34m\u001b[0m\u001b[0m\n\u001b[1;32m    505\u001b[0m                 \u001b[0;32mreturn\u001b[0m \u001b[0mresult\u001b[0m\u001b[0;34m\u001b[0m\u001b[0;34m\u001b[0m\u001b[0m\n",
            "\u001b[0;32m/usr/lib/python3.7/urllib/request.py\u001b[0m in \u001b[0;36mhttp_error_302\u001b[0;34m(self, req, fp, code, msg, headers)\u001b[0m\n\u001b[1;32m    753\u001b[0m         \u001b[0mfp\u001b[0m\u001b[0;34m.\u001b[0m\u001b[0mclose\u001b[0m\u001b[0;34m(\u001b[0m\u001b[0;34m)\u001b[0m\u001b[0;34m\u001b[0m\u001b[0;34m\u001b[0m\u001b[0m\n\u001b[1;32m    754\u001b[0m \u001b[0;34m\u001b[0m\u001b[0m\n\u001b[0;32m--> 755\u001b[0;31m         \u001b[0;32mreturn\u001b[0m \u001b[0mself\u001b[0m\u001b[0;34m.\u001b[0m\u001b[0mparent\u001b[0m\u001b[0;34m.\u001b[0m\u001b[0mopen\u001b[0m\u001b[0;34m(\u001b[0m\u001b[0mnew\u001b[0m\u001b[0;34m,\u001b[0m \u001b[0mtimeout\u001b[0m\u001b[0;34m=\u001b[0m\u001b[0mreq\u001b[0m\u001b[0;34m.\u001b[0m\u001b[0mtimeout\u001b[0m\u001b[0;34m)\u001b[0m\u001b[0;34m\u001b[0m\u001b[0;34m\u001b[0m\u001b[0m\n\u001b[0m\u001b[1;32m    756\u001b[0m \u001b[0;34m\u001b[0m\u001b[0m\n\u001b[1;32m    757\u001b[0m     \u001b[0mhttp_error_301\u001b[0m \u001b[0;34m=\u001b[0m \u001b[0mhttp_error_303\u001b[0m \u001b[0;34m=\u001b[0m \u001b[0mhttp_error_307\u001b[0m \u001b[0;34m=\u001b[0m \u001b[0mhttp_error_302\u001b[0m\u001b[0;34m\u001b[0m\u001b[0;34m\u001b[0m\u001b[0m\n",
            "\u001b[0;32m/usr/lib/python3.7/urllib/request.py\u001b[0m in \u001b[0;36mopen\u001b[0;34m(self, fullurl, data, timeout)\u001b[0m\n\u001b[1;32m    523\u001b[0m             \u001b[0mreq\u001b[0m \u001b[0;34m=\u001b[0m \u001b[0mmeth\u001b[0m\u001b[0;34m(\u001b[0m\u001b[0mreq\u001b[0m\u001b[0;34m)\u001b[0m\u001b[0;34m\u001b[0m\u001b[0;34m\u001b[0m\u001b[0m\n\u001b[1;32m    524\u001b[0m \u001b[0;34m\u001b[0m\u001b[0m\n\u001b[0;32m--> 525\u001b[0;31m         \u001b[0mresponse\u001b[0m \u001b[0;34m=\u001b[0m \u001b[0mself\u001b[0m\u001b[0;34m.\u001b[0m\u001b[0m_open\u001b[0m\u001b[0;34m(\u001b[0m\u001b[0mreq\u001b[0m\u001b[0;34m,\u001b[0m \u001b[0mdata\u001b[0m\u001b[0;34m)\u001b[0m\u001b[0;34m\u001b[0m\u001b[0;34m\u001b[0m\u001b[0m\n\u001b[0m\u001b[1;32m    526\u001b[0m \u001b[0;34m\u001b[0m\u001b[0m\n\u001b[1;32m    527\u001b[0m         \u001b[0;31m# post-process response\u001b[0m\u001b[0;34m\u001b[0m\u001b[0;34m\u001b[0m\u001b[0;34m\u001b[0m\u001b[0m\n",
            "\u001b[0;32m/usr/lib/python3.7/urllib/request.py\u001b[0m in \u001b[0;36m_open\u001b[0;34m(self, req, data)\u001b[0m\n\u001b[1;32m    541\u001b[0m         \u001b[0mprotocol\u001b[0m \u001b[0;34m=\u001b[0m \u001b[0mreq\u001b[0m\u001b[0;34m.\u001b[0m\u001b[0mtype\u001b[0m\u001b[0;34m\u001b[0m\u001b[0;34m\u001b[0m\u001b[0m\n\u001b[1;32m    542\u001b[0m         result = self._call_chain(self.handle_open, protocol, protocol +\n\u001b[0;32m--> 543\u001b[0;31m                                   '_open', req)\n\u001b[0m\u001b[1;32m    544\u001b[0m         \u001b[0;32mif\u001b[0m \u001b[0mresult\u001b[0m\u001b[0;34m:\u001b[0m\u001b[0;34m\u001b[0m\u001b[0;34m\u001b[0m\u001b[0m\n\u001b[1;32m    545\u001b[0m             \u001b[0;32mreturn\u001b[0m \u001b[0mresult\u001b[0m\u001b[0;34m\u001b[0m\u001b[0;34m\u001b[0m\u001b[0m\n",
            "\u001b[0;32m/usr/lib/python3.7/urllib/request.py\u001b[0m in \u001b[0;36m_call_chain\u001b[0;34m(self, chain, kind, meth_name, *args)\u001b[0m\n\u001b[1;32m    501\u001b[0m         \u001b[0;32mfor\u001b[0m \u001b[0mhandler\u001b[0m \u001b[0;32min\u001b[0m \u001b[0mhandlers\u001b[0m\u001b[0;34m:\u001b[0m\u001b[0;34m\u001b[0m\u001b[0;34m\u001b[0m\u001b[0m\n\u001b[1;32m    502\u001b[0m             \u001b[0mfunc\u001b[0m \u001b[0;34m=\u001b[0m \u001b[0mgetattr\u001b[0m\u001b[0;34m(\u001b[0m\u001b[0mhandler\u001b[0m\u001b[0;34m,\u001b[0m \u001b[0mmeth_name\u001b[0m\u001b[0;34m)\u001b[0m\u001b[0;34m\u001b[0m\u001b[0;34m\u001b[0m\u001b[0m\n\u001b[0;32m--> 503\u001b[0;31m             \u001b[0mresult\u001b[0m \u001b[0;34m=\u001b[0m \u001b[0mfunc\u001b[0m\u001b[0;34m(\u001b[0m\u001b[0;34m*\u001b[0m\u001b[0margs\u001b[0m\u001b[0;34m)\u001b[0m\u001b[0;34m\u001b[0m\u001b[0;34m\u001b[0m\u001b[0m\n\u001b[0m\u001b[1;32m    504\u001b[0m             \u001b[0;32mif\u001b[0m \u001b[0mresult\u001b[0m \u001b[0;32mis\u001b[0m \u001b[0;32mnot\u001b[0m \u001b[0;32mNone\u001b[0m\u001b[0;34m:\u001b[0m\u001b[0;34m\u001b[0m\u001b[0;34m\u001b[0m\u001b[0m\n\u001b[1;32m    505\u001b[0m                 \u001b[0;32mreturn\u001b[0m \u001b[0mresult\u001b[0m\u001b[0;34m\u001b[0m\u001b[0;34m\u001b[0m\u001b[0m\n",
            "\u001b[0;32m/usr/lib/python3.7/urllib/request.py\u001b[0m in \u001b[0;36mhttps_open\u001b[0;34m(self, req)\u001b[0m\n\u001b[1;32m   1391\u001b[0m         \u001b[0;32mdef\u001b[0m \u001b[0mhttps_open\u001b[0m\u001b[0;34m(\u001b[0m\u001b[0mself\u001b[0m\u001b[0;34m,\u001b[0m \u001b[0mreq\u001b[0m\u001b[0;34m)\u001b[0m\u001b[0;34m:\u001b[0m\u001b[0;34m\u001b[0m\u001b[0;34m\u001b[0m\u001b[0m\n\u001b[1;32m   1392\u001b[0m             return self.do_open(http.client.HTTPSConnection, req,\n\u001b[0;32m-> 1393\u001b[0;31m                 context=self._context, check_hostname=self._check_hostname)\n\u001b[0m\u001b[1;32m   1394\u001b[0m \u001b[0;34m\u001b[0m\u001b[0m\n\u001b[1;32m   1395\u001b[0m         \u001b[0mhttps_request\u001b[0m \u001b[0;34m=\u001b[0m \u001b[0mAbstractHTTPHandler\u001b[0m\u001b[0;34m.\u001b[0m\u001b[0mdo_request_\u001b[0m\u001b[0;34m\u001b[0m\u001b[0;34m\u001b[0m\u001b[0m\n",
            "\u001b[0;32m/usr/lib/python3.7/urllib/request.py\u001b[0m in \u001b[0;36mdo_open\u001b[0;34m(self, http_class, req, **http_conn_args)\u001b[0m\n\u001b[1;32m   1351\u001b[0m             \u001b[0;32mexcept\u001b[0m \u001b[0mOSError\u001b[0m \u001b[0;32mas\u001b[0m \u001b[0merr\u001b[0m\u001b[0;34m:\u001b[0m \u001b[0;31m# timeout error\u001b[0m\u001b[0;34m\u001b[0m\u001b[0;34m\u001b[0m\u001b[0m\n\u001b[1;32m   1352\u001b[0m                 \u001b[0;32mraise\u001b[0m \u001b[0mURLError\u001b[0m\u001b[0;34m(\u001b[0m\u001b[0merr\u001b[0m\u001b[0;34m)\u001b[0m\u001b[0;34m\u001b[0m\u001b[0;34m\u001b[0m\u001b[0m\n\u001b[0;32m-> 1353\u001b[0;31m             \u001b[0mr\u001b[0m \u001b[0;34m=\u001b[0m \u001b[0mh\u001b[0m\u001b[0;34m.\u001b[0m\u001b[0mgetresponse\u001b[0m\u001b[0;34m(\u001b[0m\u001b[0;34m)\u001b[0m\u001b[0;34m\u001b[0m\u001b[0;34m\u001b[0m\u001b[0m\n\u001b[0m\u001b[1;32m   1354\u001b[0m         \u001b[0;32mexcept\u001b[0m\u001b[0;34m:\u001b[0m\u001b[0;34m\u001b[0m\u001b[0;34m\u001b[0m\u001b[0m\n\u001b[1;32m   1355\u001b[0m             \u001b[0mh\u001b[0m\u001b[0;34m.\u001b[0m\u001b[0mclose\u001b[0m\u001b[0;34m(\u001b[0m\u001b[0;34m)\u001b[0m\u001b[0;34m\u001b[0m\u001b[0;34m\u001b[0m\u001b[0m\n",
            "\u001b[0;32m/usr/lib/python3.7/http/client.py\u001b[0m in \u001b[0;36mgetresponse\u001b[0;34m(self)\u001b[0m\n\u001b[1;32m   1371\u001b[0m         \u001b[0;32mtry\u001b[0m\u001b[0;34m:\u001b[0m\u001b[0;34m\u001b[0m\u001b[0;34m\u001b[0m\u001b[0m\n\u001b[1;32m   1372\u001b[0m             \u001b[0;32mtry\u001b[0m\u001b[0;34m:\u001b[0m\u001b[0;34m\u001b[0m\u001b[0;34m\u001b[0m\u001b[0m\n\u001b[0;32m-> 1373\u001b[0;31m                 \u001b[0mresponse\u001b[0m\u001b[0;34m.\u001b[0m\u001b[0mbegin\u001b[0m\u001b[0;34m(\u001b[0m\u001b[0;34m)\u001b[0m\u001b[0;34m\u001b[0m\u001b[0;34m\u001b[0m\u001b[0m\n\u001b[0m\u001b[1;32m   1374\u001b[0m             \u001b[0;32mexcept\u001b[0m \u001b[0mConnectionError\u001b[0m\u001b[0;34m:\u001b[0m\u001b[0;34m\u001b[0m\u001b[0;34m\u001b[0m\u001b[0m\n\u001b[1;32m   1375\u001b[0m                 \u001b[0mself\u001b[0m\u001b[0;34m.\u001b[0m\u001b[0mclose\u001b[0m\u001b[0;34m(\u001b[0m\u001b[0;34m)\u001b[0m\u001b[0;34m\u001b[0m\u001b[0;34m\u001b[0m\u001b[0m\n",
            "\u001b[0;32m/usr/lib/python3.7/http/client.py\u001b[0m in \u001b[0;36mbegin\u001b[0;34m(self)\u001b[0m\n\u001b[1;32m    317\u001b[0m         \u001b[0;31m# read until we get a non-100 response\u001b[0m\u001b[0;34m\u001b[0m\u001b[0;34m\u001b[0m\u001b[0;34m\u001b[0m\u001b[0m\n\u001b[1;32m    318\u001b[0m         \u001b[0;32mwhile\u001b[0m \u001b[0;32mTrue\u001b[0m\u001b[0;34m:\u001b[0m\u001b[0;34m\u001b[0m\u001b[0;34m\u001b[0m\u001b[0m\n\u001b[0;32m--> 319\u001b[0;31m             \u001b[0mversion\u001b[0m\u001b[0;34m,\u001b[0m \u001b[0mstatus\u001b[0m\u001b[0;34m,\u001b[0m \u001b[0mreason\u001b[0m \u001b[0;34m=\u001b[0m \u001b[0mself\u001b[0m\u001b[0;34m.\u001b[0m\u001b[0m_read_status\u001b[0m\u001b[0;34m(\u001b[0m\u001b[0;34m)\u001b[0m\u001b[0;34m\u001b[0m\u001b[0;34m\u001b[0m\u001b[0m\n\u001b[0m\u001b[1;32m    320\u001b[0m             \u001b[0;32mif\u001b[0m \u001b[0mstatus\u001b[0m \u001b[0;34m!=\u001b[0m \u001b[0mCONTINUE\u001b[0m\u001b[0;34m:\u001b[0m\u001b[0;34m\u001b[0m\u001b[0;34m\u001b[0m\u001b[0m\n\u001b[1;32m    321\u001b[0m                 \u001b[0;32mbreak\u001b[0m\u001b[0;34m\u001b[0m\u001b[0;34m\u001b[0m\u001b[0m\n",
            "\u001b[0;32m/usr/lib/python3.7/http/client.py\u001b[0m in \u001b[0;36m_read_status\u001b[0;34m(self)\u001b[0m\n\u001b[1;32m    278\u001b[0m \u001b[0;34m\u001b[0m\u001b[0m\n\u001b[1;32m    279\u001b[0m     \u001b[0;32mdef\u001b[0m \u001b[0m_read_status\u001b[0m\u001b[0;34m(\u001b[0m\u001b[0mself\u001b[0m\u001b[0;34m)\u001b[0m\u001b[0;34m:\u001b[0m\u001b[0;34m\u001b[0m\u001b[0;34m\u001b[0m\u001b[0m\n\u001b[0;32m--> 280\u001b[0;31m         \u001b[0mline\u001b[0m \u001b[0;34m=\u001b[0m \u001b[0mstr\u001b[0m\u001b[0;34m(\u001b[0m\u001b[0mself\u001b[0m\u001b[0;34m.\u001b[0m\u001b[0mfp\u001b[0m\u001b[0;34m.\u001b[0m\u001b[0mreadline\u001b[0m\u001b[0;34m(\u001b[0m\u001b[0m_MAXLINE\u001b[0m \u001b[0;34m+\u001b[0m \u001b[0;36m1\u001b[0m\u001b[0;34m)\u001b[0m\u001b[0;34m,\u001b[0m \u001b[0;34m\"iso-8859-1\"\u001b[0m\u001b[0;34m)\u001b[0m\u001b[0;34m\u001b[0m\u001b[0;34m\u001b[0m\u001b[0m\n\u001b[0m\u001b[1;32m    281\u001b[0m         \u001b[0;32mif\u001b[0m \u001b[0mlen\u001b[0m\u001b[0;34m(\u001b[0m\u001b[0mline\u001b[0m\u001b[0;34m)\u001b[0m \u001b[0;34m>\u001b[0m \u001b[0m_MAXLINE\u001b[0m\u001b[0;34m:\u001b[0m\u001b[0;34m\u001b[0m\u001b[0;34m\u001b[0m\u001b[0m\n\u001b[1;32m    282\u001b[0m             \u001b[0;32mraise\u001b[0m \u001b[0mLineTooLong\u001b[0m\u001b[0;34m(\u001b[0m\u001b[0;34m\"status line\"\u001b[0m\u001b[0;34m)\u001b[0m\u001b[0;34m\u001b[0m\u001b[0;34m\u001b[0m\u001b[0m\n",
            "\u001b[0;32m/usr/lib/python3.7/socket.py\u001b[0m in \u001b[0;36mreadinto\u001b[0;34m(self, b)\u001b[0m\n\u001b[1;32m    587\u001b[0m         \u001b[0;32mwhile\u001b[0m \u001b[0;32mTrue\u001b[0m\u001b[0;34m:\u001b[0m\u001b[0;34m\u001b[0m\u001b[0;34m\u001b[0m\u001b[0m\n\u001b[1;32m    588\u001b[0m             \u001b[0;32mtry\u001b[0m\u001b[0;34m:\u001b[0m\u001b[0;34m\u001b[0m\u001b[0;34m\u001b[0m\u001b[0m\n\u001b[0;32m--> 589\u001b[0;31m                 \u001b[0;32mreturn\u001b[0m \u001b[0mself\u001b[0m\u001b[0;34m.\u001b[0m\u001b[0m_sock\u001b[0m\u001b[0;34m.\u001b[0m\u001b[0mrecv_into\u001b[0m\u001b[0;34m(\u001b[0m\u001b[0mb\u001b[0m\u001b[0;34m)\u001b[0m\u001b[0;34m\u001b[0m\u001b[0;34m\u001b[0m\u001b[0m\n\u001b[0m\u001b[1;32m    590\u001b[0m             \u001b[0;32mexcept\u001b[0m \u001b[0mtimeout\u001b[0m\u001b[0;34m:\u001b[0m\u001b[0;34m\u001b[0m\u001b[0;34m\u001b[0m\u001b[0m\n\u001b[1;32m    591\u001b[0m                 \u001b[0mself\u001b[0m\u001b[0;34m.\u001b[0m\u001b[0m_timeout_occurred\u001b[0m \u001b[0;34m=\u001b[0m \u001b[0;32mTrue\u001b[0m\u001b[0;34m\u001b[0m\u001b[0;34m\u001b[0m\u001b[0m\n",
            "\u001b[0;32m/usr/lib/python3.7/ssl.py\u001b[0m in \u001b[0;36mrecv_into\u001b[0;34m(self, buffer, nbytes, flags)\u001b[0m\n\u001b[1;32m   1069\u001b[0m                   \u001b[0;34m\"non-zero flags not allowed in calls to recv_into() on %s\"\u001b[0m \u001b[0;34m%\u001b[0m\u001b[0;34m\u001b[0m\u001b[0;34m\u001b[0m\u001b[0m\n\u001b[1;32m   1070\u001b[0m                   self.__class__)\n\u001b[0;32m-> 1071\u001b[0;31m             \u001b[0;32mreturn\u001b[0m \u001b[0mself\u001b[0m\u001b[0;34m.\u001b[0m\u001b[0mread\u001b[0m\u001b[0;34m(\u001b[0m\u001b[0mnbytes\u001b[0m\u001b[0;34m,\u001b[0m \u001b[0mbuffer\u001b[0m\u001b[0;34m)\u001b[0m\u001b[0;34m\u001b[0m\u001b[0;34m\u001b[0m\u001b[0m\n\u001b[0m\u001b[1;32m   1072\u001b[0m         \u001b[0;32melse\u001b[0m\u001b[0;34m:\u001b[0m\u001b[0;34m\u001b[0m\u001b[0;34m\u001b[0m\u001b[0m\n\u001b[1;32m   1073\u001b[0m             \u001b[0;32mreturn\u001b[0m \u001b[0msuper\u001b[0m\u001b[0;34m(\u001b[0m\u001b[0;34m)\u001b[0m\u001b[0;34m.\u001b[0m\u001b[0mrecv_into\u001b[0m\u001b[0;34m(\u001b[0m\u001b[0mbuffer\u001b[0m\u001b[0;34m,\u001b[0m \u001b[0mnbytes\u001b[0m\u001b[0;34m,\u001b[0m \u001b[0mflags\u001b[0m\u001b[0;34m)\u001b[0m\u001b[0;34m\u001b[0m\u001b[0;34m\u001b[0m\u001b[0m\n",
            "\u001b[0;32m/usr/lib/python3.7/ssl.py\u001b[0m in \u001b[0;36mread\u001b[0;34m(self, len, buffer)\u001b[0m\n\u001b[1;32m    927\u001b[0m         \u001b[0;32mtry\u001b[0m\u001b[0;34m:\u001b[0m\u001b[0;34m\u001b[0m\u001b[0;34m\u001b[0m\u001b[0m\n\u001b[1;32m    928\u001b[0m             \u001b[0;32mif\u001b[0m \u001b[0mbuffer\u001b[0m \u001b[0;32mis\u001b[0m \u001b[0;32mnot\u001b[0m \u001b[0;32mNone\u001b[0m\u001b[0;34m:\u001b[0m\u001b[0;34m\u001b[0m\u001b[0;34m\u001b[0m\u001b[0m\n\u001b[0;32m--> 929\u001b[0;31m                 \u001b[0;32mreturn\u001b[0m \u001b[0mself\u001b[0m\u001b[0;34m.\u001b[0m\u001b[0m_sslobj\u001b[0m\u001b[0;34m.\u001b[0m\u001b[0mread\u001b[0m\u001b[0;34m(\u001b[0m\u001b[0mlen\u001b[0m\u001b[0;34m,\u001b[0m \u001b[0mbuffer\u001b[0m\u001b[0;34m)\u001b[0m\u001b[0;34m\u001b[0m\u001b[0;34m\u001b[0m\u001b[0m\n\u001b[0m\u001b[1;32m    930\u001b[0m             \u001b[0;32melse\u001b[0m\u001b[0;34m:\u001b[0m\u001b[0;34m\u001b[0m\u001b[0;34m\u001b[0m\u001b[0m\n\u001b[1;32m    931\u001b[0m                 \u001b[0;32mreturn\u001b[0m \u001b[0mself\u001b[0m\u001b[0;34m.\u001b[0m\u001b[0m_sslobj\u001b[0m\u001b[0;34m.\u001b[0m\u001b[0mread\u001b[0m\u001b[0;34m(\u001b[0m\u001b[0mlen\u001b[0m\u001b[0;34m)\u001b[0m\u001b[0;34m\u001b[0m\u001b[0;34m\u001b[0m\u001b[0m\n",
            "\u001b[0;31mKeyboardInterrupt\u001b[0m: "
          ]
        }
      ]
    },
    {
      "cell_type": "markdown",
      "source": [
        "## CAN'T CONTINUE BECAUSE freegeoip.net WEBSITE IS DOWN"
      ],
      "metadata": {
        "id": "VF2G9qxwk5ff"
      }
    },
    {
      "cell_type": "markdown",
      "source": [
        "#### CHAPTER 5\n",
        "#### Storing Data\n",
        "* Save the information that you scrap\n",
        "* Three main methods of data management:\n",
        "    * write to a database\n",
        "    * create a file stream\n",
        "    * Alerts through email for notification\n",
        "\n",
        "#### Media Files\n",
        "* Two main ways to store media files:\n",
        "    * storing URL\n",
        "    * download and store the file\n"
      ],
      "metadata": {
        "id": "TKjLeHJOmon2"
      }
    },
    {
      "cell_type": "code",
      "source": [
        "from urllib.request import urlretrieve\n",
        "from urllib.request import urlopen\n",
        "from bs4 import BeautifulSoup\n",
        "\n",
        "html=urlopen(\"http://www.pythonscraping.com\")\n",
        "bsObj=BeautifulSoup(html)\n",
        "imageLocation=bsObj.find(\"img\",{\"class\":\"pagelayer-img pagelayer-wp-title-img\"})[\"src\"]\n",
        "urlretrieve(imageLocation,\"logo.jpg\")"
      ],
      "metadata": {
        "id": "Hftskuwqql7v",
        "outputId": "d23ddfd6-44e6-4936-90d2-e87bcd51595a",
        "colab": {
          "base_uri": "https://localhost:8080/"
        }
      },
      "execution_count": 5,
      "outputs": [
        {
          "output_type": "execute_result",
          "data": {
            "text/plain": [
              "('logo.jpg', <http.client.HTTPMessage at 0x7f117b8b8950>)"
            ]
          },
          "metadata": {},
          "execution_count": 5
        }
      ]
    },
    {
      "cell_type": "code",
      "source": [
        "import os\n",
        "from urllib.request import urlopen\n",
        "from urllib.request import urlretrieve\n",
        "from bs4 import BeautifulSoup\n",
        "downloadDirectory=\"downloaded\"\n",
        "baseUrl=\"http://python.scraping.com\"\n",
        "\n",
        "def getAbsoluteURL(baseUrl, source):\n",
        "    if source.startswith(\"https://wwww.\"):\n",
        "        url=\"https://\"+source[11:]\n",
        "    elif source.startswith(\"https://\"):\n",
        "        url=source\n",
        "    elif source.startswith(\"www.\"):\n",
        "        url=source[4:]\n",
        "        url=\"https://\"+source\n",
        "    else:\n",
        "        url=baseUrl+\"/\"+source\n",
        "    if baseUrl not in url:\n",
        "        return None\n",
        "    return url\n",
        "\n",
        "def getDownloadPath(baseUrl, absoluteUrl, downloadDirectory):\n",
        "    path=absoluteUrl.replace(\"www.\",\"\")\n",
        "    path=path.replace(baseUrl,\"\")\n",
        "    path=downloadDirectory+path\n",
        "    directory=os.path.dirname(path)\n",
        "\n",
        "    if not os.path.exists(directory):\n",
        "        os.makedirs(directory)\n",
        "    \n",
        "    return path\n",
        "\n",
        "html=urlopen(\"http://www.pythonscraping.com\")\n",
        "bsObj=BeautifulSoup(html)\n",
        "downloadList=bsObj.findAll(src=True)\n",
        "\n",
        "for download in downloadList:\n",
        "    fileUrl=getAbsoluteURL(baseUrl, download[\"src\"])\n",
        "    if fileUrl is not None:\n",
        "        print(fileUrl)\n",
        "\n",
        "urlretrieve(fileUrl, getDownloadPath(baseUrl, fileUrl, downloadDirectory))"
      ],
      "metadata": {
        "id": "91pY0oM154vQ",
        "outputId": "3f47a211-ec4c-4817-9b39-c3295677c00e",
        "colab": {
          "base_uri": "https://localhost:8080/",
          "height": 316
        }
      },
      "execution_count": 15,
      "outputs": [
        {
          "output_type": "error",
          "ename": "AttributeError",
          "evalue": "ignored",
          "traceback": [
            "\u001b[0;31m---------------------------------------------------------------------------\u001b[0m",
            "\u001b[0;31mAttributeError\u001b[0m                            Traceback (most recent call last)",
            "\u001b[0;32m<ipython-input-15-ef18fcf76d93>\u001b[0m in \u001b[0;36m<module>\u001b[0;34m()\u001b[0m\n\u001b[1;32m     40\u001b[0m         \u001b[0mprint\u001b[0m\u001b[0;34m(\u001b[0m\u001b[0mfileUrl\u001b[0m\u001b[0;34m)\u001b[0m\u001b[0;34m\u001b[0m\u001b[0;34m\u001b[0m\u001b[0m\n\u001b[1;32m     41\u001b[0m \u001b[0;34m\u001b[0m\u001b[0m\n\u001b[0;32m---> 42\u001b[0;31m \u001b[0murlretrieve\u001b[0m\u001b[0;34m(\u001b[0m\u001b[0mfileUrl\u001b[0m\u001b[0;34m,\u001b[0m \u001b[0mgetDownloadPath\u001b[0m\u001b[0;34m(\u001b[0m\u001b[0mbaseUrl\u001b[0m\u001b[0;34m,\u001b[0m \u001b[0mfileUrl\u001b[0m\u001b[0;34m,\u001b[0m \u001b[0mdownloadDirectory\u001b[0m\u001b[0;34m)\u001b[0m\u001b[0;34m)\u001b[0m\u001b[0;34m\u001b[0m\u001b[0;34m\u001b[0m\u001b[0m\n\u001b[0m",
            "\u001b[0;32m<ipython-input-15-ef18fcf76d93>\u001b[0m in \u001b[0;36mgetDownloadPath\u001b[0;34m(baseUrl, absoluteUrl, downloadDirectory)\u001b[0m\n\u001b[1;32m     21\u001b[0m \u001b[0;34m\u001b[0m\u001b[0m\n\u001b[1;32m     22\u001b[0m \u001b[0;32mdef\u001b[0m \u001b[0mgetDownloadPath\u001b[0m\u001b[0;34m(\u001b[0m\u001b[0mbaseUrl\u001b[0m\u001b[0;34m,\u001b[0m \u001b[0mabsoluteUrl\u001b[0m\u001b[0;34m,\u001b[0m \u001b[0mdownloadDirectory\u001b[0m\u001b[0;34m)\u001b[0m\u001b[0;34m:\u001b[0m\u001b[0;34m\u001b[0m\u001b[0;34m\u001b[0m\u001b[0m\n\u001b[0;32m---> 23\u001b[0;31m     \u001b[0mpath\u001b[0m\u001b[0;34m=\u001b[0m\u001b[0mabsoluteUrl\u001b[0m\u001b[0;34m.\u001b[0m\u001b[0mreplace\u001b[0m\u001b[0;34m(\u001b[0m\u001b[0;34m\"www.\"\u001b[0m\u001b[0;34m,\u001b[0m\u001b[0;34m\"\"\u001b[0m\u001b[0;34m)\u001b[0m\u001b[0;34m\u001b[0m\u001b[0;34m\u001b[0m\u001b[0m\n\u001b[0m\u001b[1;32m     24\u001b[0m     \u001b[0mpath\u001b[0m\u001b[0;34m=\u001b[0m\u001b[0mpath\u001b[0m\u001b[0;34m.\u001b[0m\u001b[0mreplace\u001b[0m\u001b[0;34m(\u001b[0m\u001b[0mbaseUrl\u001b[0m\u001b[0;34m,\u001b[0m\u001b[0;34m\"\"\u001b[0m\u001b[0;34m)\u001b[0m\u001b[0;34m\u001b[0m\u001b[0;34m\u001b[0m\u001b[0m\n\u001b[1;32m     25\u001b[0m     \u001b[0mpath\u001b[0m\u001b[0;34m=\u001b[0m\u001b[0mdownloadDirectory\u001b[0m\u001b[0;34m+\u001b[0m\u001b[0mpath\u001b[0m\u001b[0;34m\u001b[0m\u001b[0;34m\u001b[0m\u001b[0m\n",
            "\u001b[0;31mAttributeError\u001b[0m: 'NoneType' object has no attribute 'replace'"
          ]
        }
      ]
    },
    {
      "cell_type": "markdown",
      "source": [
        "#### Storing Data to CSV"
      ],
      "metadata": {
        "id": "lD1drKoS7wVI"
      }
    },
    {
      "cell_type": "code",
      "source": [
        "import csv\n",
        "\n",
        "csvFile=open(\"../files/test.csv\",\"w+\")\n",
        "try:\n",
        "    writer=csv.writer(csvFile)\n",
        "    writer.writerow((\"number\",\"number plus 2\",\"number times 2\"))\n",
        "    for i in range(10):\n",
        "        writer.writerow((i,i+2,i*2))\n",
        "finally:\n",
        "    csvFile.close()"
      ],
      "metadata": {
        "id": "YSZ7w4zm8Q8R",
        "outputId": "c2d81bf7-6e5c-4b40-d5da-10f7fb87e93f",
        "colab": {
          "base_uri": "https://localhost:8080/",
          "height": 231
        }
      },
      "execution_count": 11,
      "outputs": [
        {
          "output_type": "error",
          "ename": "FileNotFoundError",
          "evalue": "ignored",
          "traceback": [
            "\u001b[0;31m---------------------------------------------------------------------------\u001b[0m",
            "\u001b[0;31mFileNotFoundError\u001b[0m                         Traceback (most recent call last)",
            "\u001b[0;32m<ipython-input-11-34378a39c004>\u001b[0m in \u001b[0;36m<module>\u001b[0;34m()\u001b[0m\n\u001b[1;32m      1\u001b[0m \u001b[0;32mimport\u001b[0m \u001b[0mcsv\u001b[0m\u001b[0;34m\u001b[0m\u001b[0;34m\u001b[0m\u001b[0m\n\u001b[1;32m      2\u001b[0m \u001b[0;34m\u001b[0m\u001b[0m\n\u001b[0;32m----> 3\u001b[0;31m \u001b[0mcsvFile\u001b[0m\u001b[0;34m=\u001b[0m\u001b[0mopen\u001b[0m\u001b[0;34m(\u001b[0m\u001b[0;34m\"../files/test.csv\"\u001b[0m\u001b[0;34m,\u001b[0m\u001b[0;34m\"w+\"\u001b[0m\u001b[0;34m)\u001b[0m\u001b[0;34m\u001b[0m\u001b[0;34m\u001b[0m\u001b[0m\n\u001b[0m\u001b[1;32m      4\u001b[0m \u001b[0;32mtry\u001b[0m\u001b[0;34m:\u001b[0m\u001b[0;34m\u001b[0m\u001b[0;34m\u001b[0m\u001b[0m\n\u001b[1;32m      5\u001b[0m     \u001b[0mwriter\u001b[0m\u001b[0;34m=\u001b[0m\u001b[0mcsv\u001b[0m\u001b[0;34m.\u001b[0m\u001b[0mwriter\u001b[0m\u001b[0;34m(\u001b[0m\u001b[0mcsvFile\u001b[0m\u001b[0;34m)\u001b[0m\u001b[0;34m\u001b[0m\u001b[0;34m\u001b[0m\u001b[0m\n",
            "\u001b[0;31mFileNotFoundError\u001b[0m: [Errno 2] No such file or directory: '../files/test.csv'"
          ]
        }
      ]
    },
    {
      "cell_type": "code",
      "source": [
        "import csv\n",
        "from urllib.request import urlopen\n",
        "from bs4 import BeautifulSoup\n",
        "\n",
        "html=urlopen(\"http://en.wikipedia.org/wiki/Comparison_of_text_editors\")\n",
        "bsObj=BeautifulSoup(html)\n",
        "\n",
        "table=bsObj.findAll(\"table\",{\"class\":\"wikitable\"})[0]\n",
        "rows=table.findAll(\"tr\")\n",
        "\n",
        "csvFile=open(\"../files/editors.csv\",'wt')\n",
        "writer=csv.writer(csvFile)"
      ],
      "metadata": {
        "id": "EJuUvl498sJW",
        "outputId": "309c8fb2-8ad1-457e-9432-fe8c3ff2f80a",
        "colab": {
          "base_uri": "https://localhost:8080/",
          "height": 214
        }
      },
      "execution_count": 14,
      "outputs": [
        {
          "output_type": "error",
          "ename": "FileNotFoundError",
          "evalue": "ignored",
          "traceback": [
            "\u001b[0;31m---------------------------------------------------------------------------\u001b[0m",
            "\u001b[0;31mFileNotFoundError\u001b[0m                         Traceback (most recent call last)",
            "\u001b[0;32m<ipython-input-14-abc45d4d848c>\u001b[0m in \u001b[0;36m<module>\u001b[0;34m()\u001b[0m\n\u001b[1;32m      9\u001b[0m \u001b[0mrows\u001b[0m\u001b[0;34m=\u001b[0m\u001b[0mtable\u001b[0m\u001b[0;34m.\u001b[0m\u001b[0mfindAll\u001b[0m\u001b[0;34m(\u001b[0m\u001b[0;34m\"tr\"\u001b[0m\u001b[0;34m)\u001b[0m\u001b[0;34m\u001b[0m\u001b[0;34m\u001b[0m\u001b[0m\n\u001b[1;32m     10\u001b[0m \u001b[0;34m\u001b[0m\u001b[0m\n\u001b[0;32m---> 11\u001b[0;31m \u001b[0mcsvFile\u001b[0m\u001b[0;34m=\u001b[0m\u001b[0mopen\u001b[0m\u001b[0;34m(\u001b[0m\u001b[0;34m\"../files/editors.csv\"\u001b[0m\u001b[0;34m,\u001b[0m\u001b[0;34m'wt'\u001b[0m\u001b[0;34m)\u001b[0m\u001b[0;34m\u001b[0m\u001b[0;34m\u001b[0m\u001b[0m\n\u001b[0m\u001b[1;32m     12\u001b[0m \u001b[0mwriter\u001b[0m\u001b[0;34m=\u001b[0m\u001b[0mcsv\u001b[0m\u001b[0;34m.\u001b[0m\u001b[0mwriter\u001b[0m\u001b[0;34m(\u001b[0m\u001b[0mcsvFile\u001b[0m\u001b[0;34m)\u001b[0m\u001b[0;34m\u001b[0m\u001b[0;34m\u001b[0m\u001b[0m\n",
            "\u001b[0;31mFileNotFoundError\u001b[0m: [Errno 2] No such file or directory: '../files/editors.csv'"
          ]
        }
      ]
    },
    {
      "cell_type": "code",
      "source": [
        ""
      ],
      "metadata": {
        "id": "nndvgAAE9U5v"
      },
      "execution_count": null,
      "outputs": []
    }
  ],
  "metadata": {
    "language_info": {
      "name": "python"
    },
    "orig_nbformat": 4,
    "colab": {
      "name": "web scraping.ipynb",
      "provenance": []
    },
    "kernelspec": {
      "name": "python3",
      "display_name": "Python 3"
    }
  },
  "nbformat": 4,
  "nbformat_minor": 0
}