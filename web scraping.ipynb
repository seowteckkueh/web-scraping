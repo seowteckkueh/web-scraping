{
  "cells": [
    {
      "cell_type": "markdown",
      "source": [
        "## PART 1\n",
        "#### Building Scrapers\n",
        "#### CHAPTER 1\n",
        "#### Your First Web Scraper\n",
        "\n",
        "\n",
        "*   Basics of sending GET request to web server\n",
        "*   Reading HTML output from the page\n",
        "*   Data extraction to isolate content we are looking for\n",
        "\n"
      ],
      "metadata": {
        "id": "wgOwi9sHGzDg"
      }
    },
    {
      "cell_type": "markdown",
      "source": [
        "#### Connecting"
      ],
      "metadata": {
        "id": "KHasbyPaZ966"
      }
    },
    {
      "cell_type": "code",
      "source": [
        "# text-wrap for notebook output\n",
        "from IPython.display import HTML, display\n",
        "\n",
        "def set_css():\n",
        "  display(HTML('''\n",
        "  <style>\n",
        "    pre {\n",
        "        white-space: pre-wrap;\n",
        "    }\n",
        "  </style>\n",
        "  '''))\n",
        "get_ipython().events.register('pre_run_cell', set_css)"
      ],
      "metadata": {
        "id": "xg-qwb0cY5qD"
      },
      "execution_count": 5,
      "outputs": []
    },
    {
      "cell_type": "code",
      "execution_count": 6,
      "metadata": {
        "id": "DCtzBEv9Cd_P",
        "outputId": "c2260de2-f0b6-46cd-a4ad-8953cf984d59",
        "colab": {
          "base_uri": "https://localhost:8080/",
          "height": 119
        }
      },
      "outputs": [
        {
          "output_type": "display_data",
          "data": {
            "text/html": [
              "\n",
              "  <style>\n",
              "    pre {\n",
              "        white-space: pre-wrap;\n",
              "    }\n",
              "  </style>\n",
              "  "
            ],
            "text/plain": [
              "<IPython.core.display.HTML object>"
            ]
          },
          "metadata": {}
        },
        {
          "output_type": "stream",
          "name": "stdout",
          "text": [
            "b'<html>\\n<head>\\n<title>A Useful Page</title>\\n</head>\\n<body>\\n<h1>An Interesting Title</h1>\\n<div>\\nLorem ipsum dolor sit amet, consectetur adipisicing elit, sed do eiusmod tempor incididunt ut labore et dolore magna aliqua. Ut enim ad minim veniam, quis nostrud exercitation ullamco laboris nisi ut aliquip ex ea commodo consequat. Duis aute irure dolor in reprehenderit in voluptate velit esse cillum dolore eu fugiat nulla pariatur. Excepteur sint occaecat cupidatat non proident, sunt in culpa qui officia deserunt mollit anim id est laborum.\\n</div>\\n</body>\\n</html>\\n'\n"
          ]
        }
      ],
      "source": [
        "from urllib.request import urlopen\n",
        "html=urlopen('https://pythonscraping.com/pages/page1.html')\n",
        "print(html.read())"
      ]
    },
    {
      "cell_type": "markdown",
      "source": [
        "#### An Introduction to BeautifulSoup"
      ],
      "metadata": {
        "id": "qFJQXSNkCd_R"
      }
    },
    {
      "cell_type": "markdown",
      "source": [
        "*  from request module from urllib library import urlopen\n",
        "*  Get HTML content by calling html.read()\n",
        "*  Transform HTML content to BeautifulSoup object"
      ],
      "metadata": {
        "id": "wAspotMNg8Db"
      }
    },
    {
      "cell_type": "code",
      "source": [
        "from urllib.request import urlopen\n",
        "from bs4 import BeautifulSoup\n",
        "html=urlopen(\"http://www.pythonscraping.com/pages/page1.html\")\n",
        "bsObj=BeautifulSoup(html.read())\n",
        "print(bsObj.h1)\n",
        "\n",
        "# query below also creates the same output\n",
        "'''\n",
        "bsObj.html.body.h1\n",
        "bsObj.body.h1\n",
        "bsObj.html.h1\n",
        "'''"
      ],
      "metadata": {
        "id": "ldu2ZxOnaTRy",
        "outputId": "e9d40fa5-0775-400a-826d-ebfc690e9c01",
        "colab": {
          "base_uri": "https://localhost:8080/",
          "height": 34
        }
      },
      "execution_count": 9,
      "outputs": [
        {
          "output_type": "display_data",
          "data": {
            "text/html": [
              "\n",
              "  <style>\n",
              "    pre {\n",
              "        white-space: pre-wrap;\n",
              "    }\n",
              "  </style>\n",
              "  "
            ],
            "text/plain": [
              "<IPython.core.display.HTML object>"
            ]
          },
          "metadata": {}
        },
        {
          "output_type": "stream",
          "name": "stdout",
          "text": [
            "<h1>An Interesting Title</h1>\n"
          ]
        }
      ]
    },
    {
      "cell_type": "code",
      "source": [
        "print(bsObj)"
      ],
      "metadata": {
        "id": "kQG5zLUiglG4",
        "outputId": "ee3edc4e-2283-4326-cf8d-9203c7172b4c",
        "colab": {
          "base_uri": "https://localhost:8080/",
          "height": 289
        }
      },
      "execution_count": 10,
      "outputs": [
        {
          "output_type": "display_data",
          "data": {
            "text/html": [
              "\n",
              "  <style>\n",
              "    pre {\n",
              "        white-space: pre-wrap;\n",
              "    }\n",
              "  </style>\n",
              "  "
            ],
            "text/plain": [
              "<IPython.core.display.HTML object>"
            ]
          },
          "metadata": {}
        },
        {
          "output_type": "stream",
          "name": "stdout",
          "text": [
            "<html>\n",
            "<head>\n",
            "<title>A Useful Page</title>\n",
            "</head>\n",
            "<body>\n",
            "<h1>An Interesting Title</h1>\n",
            "<div>\n",
            "Lorem ipsum dolor sit amet, consectetur adipisicing elit, sed do eiusmod tempor incididunt ut labore et dolore magna aliqua. Ut enim ad minim veniam, quis nostrud exercitation ullamco laboris nisi ut aliquip ex ea commodo consequat. Duis aute irure dolor in reprehenderit in voluptate velit esse cillum dolore eu fugiat nulla pariatur. Excepteur sint occaecat cupidatat non proident, sunt in culpa qui officia deserunt mollit anim id est laborum.\n",
            "</div>\n",
            "</body>\n",
            "</html>\n",
            "\n"
          ]
        }
      ]
    },
    {
      "cell_type": "code",
      "source": [
        ""
      ],
      "metadata": {
        "id": "Dx0lxEVDhta_"
      },
      "execution_count": null,
      "outputs": []
    }
  ],
  "metadata": {
    "language_info": {
      "name": "python"
    },
    "orig_nbformat": 4,
    "colab": {
      "name": "web scraping.ipynb",
      "provenance": []
    },
    "kernelspec": {
      "name": "python3",
      "display_name": "Python 3"
    }
  },
  "nbformat": 4,
  "nbformat_minor": 0
}